{
  "nbformat": 4,
  "nbformat_minor": 0,
  "metadata": {
    "colab": {
      "name": "PythonCompleteChap5_3.ipynb",
      "provenance": [],
      "authorship_tag": "ABX9TyOPcv3sPLDApdHigsxX+WBW",
      "include_colab_link": true
    },
    "kernelspec": {
      "name": "python3",
      "display_name": "Python 3"
    },
    "language_info": {
      "name": "python"
    }
  },
  "cells": [
    {
      "cell_type": "markdown",
      "metadata": {
        "id": "view-in-github",
        "colab_type": "text"
      },
      "source": [
        "<a href=\"https://colab.research.google.com/github/inoueshinji8/PythonStudy/blob/main/PythonCompleteChap5_3.ipynb\" target=\"_parent\"><img src=\"https://colab.research.google.com/assets/colab-badge.svg\" alt=\"Open In Colab\"/></a>"
      ]
    },
    {
      "cell_type": "markdown",
      "source": [
        "## section3 大部分の繰り返しはfor文で書ける\n",
        "他言語ならforeachとか、範囲ベースのfor文と呼ばれるものが<br>\n",
        "Pythonのfor文となる<br>\n",
        "for(i=0;i<10;i++)これに慣れていたのでrange(len(配列))に必死で慣れた<br>"
      ],
      "metadata": {
        "id": "53VHi7IUD3e-"
      }
    },
    {
      "cell_type": "markdown",
      "source": [
        "### for文の書き方\n",
        "for 変数 in イテラブル:(コロンが大事)<br>\n",
        "　　文\n",
        "\n",
        "文(for文の外側)\n",
        "\n",
        "例えば、イテラブルが[1,3,8,14,19]などとすると<br>\n",
        "その前の「変数」は、イテラブルの個々の要素、つまり<br>\n",
        "1とか3とか8とかとなり、それが順々に出て来る<br>\n",
        "\n",
        "分かりにくいので具体的に"
      ],
      "metadata": {
        "id": "XgC81CYIEud1"
      }
    },
    {
      "cell_type": "code",
      "execution_count": null,
      "metadata": {
        "colab": {
          "base_uri": "https://localhost:8080/"
        },
        "id": "0BSbK9NwDyHe",
        "outputId": "1b11ac9f-402e-42b2-af72-51927cb7c76d"
      },
      "outputs": [
        {
          "output_type": "stream",
          "name": "stdout",
          "text": [
            "Good Morning\n",
            "Good Afternoon\n",
            "Good Evening\n",
            "Good Night\n"
          ]
        }
      ],
      "source": [
        "for x in ['Morning','Afternoon','Evening','Night']:\n",
        "  print('Good',x)"
      ]
    },
    {
      "cell_type": "markdown",
      "source": [
        "### 繰り返しの対象になるイテラブル\n",
        "\n",
        "簡単な英語の授業で、~ableって単語は形容詞だと習ってたんだが<br>\n",
        "実際には~ableって名の付く「～っていう形容詞の特徴をよく示しているもの」<br>\n",
        "っていう名詞として使われることが少なくない<br>\n",
        "\n",
        "そういうわけてイテラブルという単語についても「連続的に数えられるように繋がってるもの」とか考えることにしておく<br>\n",
        "リストとか辞書とかみんなこれだ\n",
        "\n",
        "文字列はfor文のイテラブルになる\n"
      ],
      "metadata": {
        "id": "JM49XcdBF-gP"
      }
    },
    {
      "cell_type": "code",
      "source": [
        "for c in 'Python':\n",
        "  print(c)"
      ],
      "metadata": {
        "colab": {
          "base_uri": "https://localhost:8080/"
        },
        "id": "nvcUp7z_Go5e",
        "outputId": "fd79112a-cec7-4664-ed8f-3af290db7cbf"
      },
      "execution_count": null,
      "outputs": [
        {
          "output_type": "stream",
          "name": "stdout",
          "text": [
            "P\n",
            "y\n",
            "t\n",
            "h\n",
            "o\n",
            "n\n"
          ]
        }
      ]
    },
    {
      "cell_type": "code",
      "source": [
        "#リスト\n",
        "meat = ['beef','pork','chicken']\n",
        "for x in meat:\n",
        "  print(x)"
      ],
      "metadata": {
        "colab": {
          "base_uri": "https://localhost:8080/"
        },
        "id": "YFRUuUfnGvFW",
        "outputId": "dec589c3-d3c3-40be-db11-0a4d8aafc5ef"
      },
      "execution_count": null,
      "outputs": [
        {
          "output_type": "stream",
          "name": "stdout",
          "text": [
            "beef\n",
            "pork\n",
            "chicken\n"
          ]
        }
      ]
    },
    {
      "cell_type": "markdown",
      "source": [
        "### リストはミュータブルだが、for文の途中でそのイテラブルを無理やり動かすと挙動が乱れる！！！\n",
        "\n",
        "meatがporkのとき、リストから除くようにしてみよう<br>\n",
        "様々な国の人に配慮"
      ],
      "metadata": {
        "id": "h0V-hWBxHH2p"
      }
    },
    {
      "cell_type": "code",
      "source": [
        "meat = ['beef','pork','chicken']\n",
        "for x in meat:\n",
        "  if (x == 'pork'):\n",
        "    meat.remove(x)\n",
        "  else:\n",
        "    print(x)\n",
        "  \n",
        "print(meat)\n",
        "#実際のリストとの位置情報が食い違い、想定外のリスト長さになったので\n",
        "表示を止めてしまった\n",
        "別リストに条件の合うものだけappendした方が安全だな"
      ],
      "metadata": {
        "colab": {
          "base_uri": "https://localhost:8080/"
        },
        "id": "2LFHznRJG-2G",
        "outputId": "15294e5b-ea3c-4b36-9302-daf0b1041ef5"
      },
      "execution_count": null,
      "outputs": [
        {
          "output_type": "stream",
          "name": "stdout",
          "text": [
            "beef\n",
            "['beef', 'chicken']\n"
          ]
        }
      ]
    },
    {
      "cell_type": "code",
      "source": [
        "#P.136のリストのスライス[:]またはリスト.copy()を使うと良いという\n",
        "meat = ['beef','pork','chicken']\n",
        "for x in meat[:]:\n",
        "  if (x == 'pork'):\n",
        "    meat.remove(x)\n",
        "  else:\n",
        "    print(x)\n"
      ],
      "metadata": {
        "colab": {
          "base_uri": "https://localhost:8080/"
        },
        "id": "wnQXJ170IQFY",
        "outputId": "28fb0804-fed7-4ebc-eec9-b8c7e21ca9e2"
      },
      "execution_count": null,
      "outputs": [
        {
          "output_type": "stream",
          "name": "stdout",
          "text": [
            "beef\n",
            "chicken\n"
          ]
        }
      ]
    },
    {
      "cell_type": "code",
      "source": [
        "#P.136のリストのスライス[:]またはリスト.copy()を使うと良いという\n",
        "meat = ['beef','pork','chicken']\n",
        "for x in meat.copy():\n",
        "  if (x == 'pork'):\n",
        "    meat.remove(x)\n",
        "  else:\n",
        "    print(x)"
      ],
      "metadata": {
        "colab": {
          "base_uri": "https://localhost:8080/"
        },
        "id": "yu6rEFpJIeXv",
        "outputId": "49edbcf7-c48b-40a6-80f0-7b2497c52c15"
      },
      "execution_count": null,
      "outputs": [
        {
          "output_type": "stream",
          "name": "stdout",
          "text": [
            "beef\n",
            "chicken\n"
          ]
        }
      ]
    },
    {
      "cell_type": "markdown",
      "source": [
        "#### タプル、集合、辞書でも試してみよう！"
      ],
      "metadata": {
        "id": "QwVrxe2yJDUA"
      }
    },
    {
      "cell_type": "code",
      "source": [
        "#タプル\n",
        "meat = ('beef','pork','chicken')\n",
        "for x in meat:\n",
        "  print(x)"
      ],
      "metadata": {
        "colab": {
          "base_uri": "https://localhost:8080/"
        },
        "id": "xkxf5gWjJGqZ",
        "outputId": "ea424392-34e5-4d4c-c9c0-6d62eaa53503"
      },
      "execution_count": null,
      "outputs": [
        {
          "output_type": "stream",
          "name": "stdout",
          "text": [
            "beef\n",
            "pork\n",
            "chicken\n"
          ]
        }
      ]
    },
    {
      "cell_type": "markdown",
      "source": [
        "#### 集合では順番がどんどん変わってしまうので注意！"
      ],
      "metadata": {
        "id": "sOOdNe79JgTx"
      }
    },
    {
      "cell_type": "code",
      "source": [
        "#集合\n",
        "meat = {'beef','pork','chicken'}\n",
        "for x in meat:\n",
        "  print(x)\n",
        "#集合は順序を保持しないのでバラバラになってしまう！注意"
      ],
      "metadata": {
        "colab": {
          "base_uri": "https://localhost:8080/"
        },
        "id": "dcxWjLfvJRog",
        "outputId": "1a07ee54-e07f-4135-f52e-8b74c4ad88bb"
      },
      "execution_count": null,
      "outputs": [
        {
          "output_type": "stream",
          "name": "stdout",
          "text": [
            "pork\n",
            "beef\n",
            "chicken\n"
          ]
        }
      ]
    },
    {
      "cell_type": "markdown",
      "source": [
        "辞書にfor文を入れると、keyだけ出て来る！<br>\n",
        "この前、これで嵌っていた"
      ],
      "metadata": {
        "id": "LoOPeSmhJmpg"
      }
    },
    {
      "cell_type": "code",
      "source": [
        "#辞書\n",
        "meat = {'beef':199,'pork':99,'chicken':49}#100gあたりお値段\n",
        "for x in meat:\n",
        "  print(x)\n",
        "#キーしか出て来ない！"
      ],
      "metadata": {
        "colab": {
          "base_uri": "https://localhost:8080/"
        },
        "id": "ZgPk9g9vJxTf",
        "outputId": "07881f5d-36ef-45a5-b646-64a2cefbf492"
      },
      "execution_count": null,
      "outputs": [
        {
          "output_type": "stream",
          "name": "stdout",
          "text": [
            "beef\n",
            "pork\n",
            "chicken\n"
          ]
        }
      ]
    },
    {
      "cell_type": "markdown",
      "source": [
        "値も取り出したり、辞書ぜんぶを取り出したりしたい\n",
        "\n"
      ],
      "metadata": {
        "id": "TUD0Wu_jKE33"
      }
    },
    {
      "cell_type": "code",
      "source": [
        "meat = {'beef':199,'pork':99,'chicken':49}\n",
        "for x in meat:\n",
        "  print(x + ' is ' + str(meat[x])+'yen/100g')"
      ],
      "metadata": {
        "colab": {
          "base_uri": "https://localhost:8080/"
        },
        "id": "i3ThTWC6KP7Q",
        "outputId": "f5738ead-1392-4c7f-bb96-8ed73509e129"
      },
      "execution_count": null,
      "outputs": [
        {
          "output_type": "stream",
          "name": "stdout",
          "text": [
            "beef is 199yen/100g\n",
            "pork is 99yen/100g\n",
            "chicken is 49yen/100g\n"
          ]
        }
      ]
    },
    {
      "cell_type": "markdown",
      "source": [
        "### for文とアンパッキング\n",
        "\n",
        "辞書のitemsメソッドで、キーも値も取れた<br>\n",
        "P191にあった内容だ<br>\n",
        "これで上記のプログラムを書いてみよう"
      ],
      "metadata": {
        "id": "jaav2jiFRdI0"
      }
    },
    {
      "cell_type": "code",
      "source": [
        "meat = {'beef':199,'pork':99,'chicken':49}\n",
        "for x in meat.items():\n",
        "  print(x)\n",
        "  #print(x + ' is ' + str(meat[x])+'yen/100g')"
      ],
      "metadata": {
        "id": "e8Y6I8-KR1cM",
        "outputId": "9af6a8fe-8c9f-4d3c-cb1a-79d02a5c06e9",
        "colab": {
          "base_uri": "https://localhost:8080/"
        }
      },
      "execution_count": null,
      "outputs": [
        {
          "output_type": "stream",
          "name": "stdout",
          "text": [
            "('beef', 199)\n",
            "('pork', 99)\n",
            "('chicken', 49)\n"
          ]
        }
      ]
    },
    {
      "cell_type": "markdown",
      "source": [
        "#### for文とアンパッキングの組み合わせ\n",
        "\n",
        "for x1,x2, ... in イテラブル:<br>\n",
        "　　文"
      ],
      "metadata": {
        "id": "_hRm4e0gSHbr"
      }
    },
    {
      "cell_type": "code",
      "source": [
        "meat = {'beef':199,'pork':99,'chicken':49}\n",
        "for meat_name, price in meat.items():\n",
        "  print(meat_name + ' is ' + str(price)+'yen/100g')"
      ],
      "metadata": {
        "id": "_dfXZ_4OSV-z",
        "outputId": "dbf7d19c-2b1e-4d90-b134-1d8aa6ffdaab",
        "colab": {
          "base_uri": "https://localhost:8080/"
        }
      },
      "execution_count": null,
      "outputs": [
        {
          "output_type": "stream",
          "name": "stdout",
          "text": [
            "beef is 199yen/100g\n",
            "pork is 99yen/100g\n",
            "chicken is 49yen/100g\n"
          ]
        }
      ]
    },
    {
      "cell_type": "markdown",
      "source": [
        "for文でキーだけ取り出して、辞書[キー]で値を取る\n",
        "\n",
        "for文とitems()メソッドでキーと値の組を取り出し、アンパッキングして使う\n",
        "\n",
        "お好きな方を選ぶ"
      ],
      "metadata": {
        "id": "TerOKhHLSkZz"
      }
    },
    {
      "cell_type": "code",
      "source": [
        "import time\n",
        " \n",
        "# 開始\n",
        "start_time = time.perf_counter()\n",
        "\n",
        "# ダミー処理\n",
        "time.sleep(1)\n",
        "\n",
        "meat = {'beef':199,'pork':99,'chicken':49}\n",
        "for x in meat:\n",
        "  print(x + ' is ' + str(meat[x])+'yen/100g')\n",
        " \n",
        "# 修了\n",
        "end_time = time.perf_counter()\n",
        " \n",
        "# 経過時間を出力(秒)\n",
        "elapsed_time = end_time - start_time\n",
        "print(elapsed_time)"
      ],
      "metadata": {
        "id": "upitW7GTTIpc",
        "outputId": "175648ac-a489-438e-cea3-2eda7ca9a987",
        "colab": {
          "base_uri": "https://localhost:8080/"
        }
      },
      "execution_count": null,
      "outputs": [
        {
          "output_type": "stream",
          "name": "stdout",
          "text": [
            "beef is 199yen/100g\n",
            "pork is 99yen/100g\n",
            "chicken is 49yen/100g\n",
            "1.0038308109999434\n"
          ]
        }
      ]
    },
    {
      "cell_type": "code",
      "source": [
        "import time\n",
        " \n",
        "# 開始\n",
        "start_time = time.perf_counter()\n",
        "\n",
        "# ダミー処理\n",
        "time.sleep(1)\n",
        "\n",
        "meat = {'beef':199,'pork':99,'chicken':49}\n",
        "for meat_name, price in meat.items():\n",
        "  print(meat_name + ' is ' + str(price)+'yen/100g')\n",
        " \n",
        "# 修了\n",
        "end_time = time.perf_counter()\n",
        " \n",
        "# 経過時間を出力(秒)\n",
        "elapsed_time = end_time - start_time\n",
        "print(elapsed_time)\n",
        "\n",
        "#あれれ本の環境とは対照的に.items()使った方が速かったぞ！！！"
      ],
      "metadata": {
        "id": "rJbMJv5PTRDT",
        "outputId": "4296a497-79cf-4e69-9191-9fde77139b6f",
        "colab": {
          "base_uri": "https://localhost:8080/"
        }
      },
      "execution_count": null,
      "outputs": [
        {
          "output_type": "stream",
          "name": "stdout",
          "text": [
            "beef is 199yen/100g\n",
            "pork is 99yen/100g\n",
            "chicken is 49yen/100g\n",
            "1.0017206480000596\n"
          ]
        }
      ]
    },
    {
      "cell_type": "code",
      "source": [
        "import time\n",
        " \n",
        "# 開始\n",
        "start_time = time.perf_counter()\n",
        "\n",
        "# ダミー処理\n",
        "time.sleep(1)\n",
        "\n",
        "meat = [('beef',199),('pork',99),('chicken',49)]\n",
        "for meat_name, price in meat:\n",
        "  print(meat_name + ' is ' + str(price)+'yen/100g')\n",
        " \n",
        "# 修了\n",
        "end_time = time.perf_counter()\n",
        " \n",
        "# 経過時間を出力(秒)\n",
        "elapsed_time = end_time - start_time\n",
        "print(elapsed_time)\n",
        "\n",
        "#リストとタプルによる疑似辞書だが辞書をfor文で見てkeyから出すより少しだけ早い\n",
        "\n",
        "#現在、p.216"
      ],
      "metadata": {
        "id": "MBdjEPoOUyo1",
        "outputId": "c4ae8e53-befc-4177-885a-69ccdf6c1ff2",
        "colab": {
          "base_uri": "https://localhost:8080/"
        }
      },
      "execution_count": null,
      "outputs": [
        {
          "output_type": "stream",
          "name": "stdout",
          "text": [
            "beef is 199yen/100g\n",
            "pork is 99yen/100g\n",
            "chicken is 49yen/100g\n",
            "1.0031713019999415\n"
          ]
        }
      ]
    },
    {
      "cell_type": "markdown",
      "source": [
        "#### 何回繰り返すかを決めるrange関数\n",
        "\n",
        "range(終了値)<br>\n",
        "range(開始値, 終了値)<br>\n",
        "range(開始値, 終了値, ステップ)<br>\n",
        "\n",
        "for 変数 in range(...):\n",
        "　　文..."
      ],
      "metadata": {
        "id": "EM8G2PbnsH3T"
      }
    },
    {
      "cell_type": "code",
      "source": [
        "#0から9までの整数\n",
        "for x in range(10):\n",
        "  print(x, end = ' ')#p.54参照"
      ],
      "metadata": {
        "id": "dxd2ZrYKsgKs",
        "outputId": "bc266ead-673e-478d-8f04-7c3480294048",
        "colab": {
          "base_uri": "https://localhost:8080/"
        }
      },
      "execution_count": 2,
      "outputs": [
        {
          "output_type": "stream",
          "name": "stdout",
          "text": [
            "0 1 2 3 4 5 6 7 8 9 "
          ]
        }
      ]
    },
    {
      "cell_type": "code",
      "source": [
        "#10から20までの整数\n",
        "for x in range(10, 21):#範囲、特に最後に注意\n",
        "  print(x, end = ' ')#p.54参照"
      ],
      "metadata": {
        "id": "OmSGBx43tOyk",
        "outputId": "41e18264-e2fe-43ef-c860-67246b09f811",
        "colab": {
          "base_uri": "https://localhost:8080/"
        }
      },
      "execution_count": 3,
      "outputs": [
        {
          "output_type": "stream",
          "name": "stdout",
          "text": [
            "10 11 12 13 14 15 16 17 18 19 20 "
          ]
        }
      ]
    },
    {
      "cell_type": "code",
      "source": [
        "#引数のうち「ステップ」を使う\n",
        "#21から39までの整数のうち、3の倍数だけ表示\n",
        "for x in range(21, 40, 3):\n",
        "  print(x, end = ' ')"
      ],
      "metadata": {
        "id": "0NodczvNtfWC",
        "outputId": "c85678aa-8f58-4aa0-aba8-ad1db41b854f",
        "colab": {
          "base_uri": "https://localhost:8080/"
        }
      },
      "execution_count": 4,
      "outputs": [
        {
          "output_type": "stream",
          "name": "stdout",
          "text": [
            "21 24 27 30 33 36 39 "
          ]
        }
      ]
    },
    {
      "cell_type": "code",
      "source": [
        "#負の数のステップ\n",
        "for x in range(10, -1, -1):\n",
        "  print(x, end = ' ')"
      ],
      "metadata": {
        "id": "n0eNbdsMt3BM",
        "outputId": "7749d45c-de0f-429c-e325-a1653120e3dd",
        "colab": {
          "base_uri": "https://localhost:8080/"
        }
      },
      "execution_count": 5,
      "outputs": [
        {
          "output_type": "stream",
          "name": "stdout",
          "text": [
            "10 9 8 7 6 5 4 3 2 1 0 "
          ]
        }
      ]
    },
    {
      "cell_type": "markdown",
      "source": [
        "#### ネストした、つまりfor文が複数回入れ子になったプログラム\n",
        "\n",
        "数学頭のΣを素早くfor文と相互に切り替えるにはやっぱり訓練が必要だと思う\n",
        "\n",
        "二重のfor文には慣れが必要\n",
        "\n",
        "for 変数a in イテラブルA:<br>\n",
        "　　文...<br>\n",
        "　　for 変数b in イテラブルB:<br>\n",
        "　　　　文...<br>\n",
        "　　文...<br>"
      ],
      "metadata": {
        "id": "yQ3KgdHRuEF7"
      }
    },
    {
      "cell_type": "code",
      "source": [
        "for i in range(1, 10):\n",
        "  for j in range(1, 10):\n",
        "    print(i*j, end = \" \")  \n",
        "  print('\\n')"
      ],
      "metadata": {
        "id": "K8fTNQkKuulT",
        "outputId": "0cb875d0-a540-4161-a4cb-1283de2a523b",
        "colab": {
          "base_uri": "https://localhost:8080/"
        }
      },
      "execution_count": 6,
      "outputs": [
        {
          "output_type": "stream",
          "name": "stdout",
          "text": [
            "1 2 3 4 5 6 7 8 9 \n",
            "\n",
            "2 4 6 8 10 12 14 16 18 \n",
            "\n",
            "3 6 9 12 15 18 21 24 27 \n",
            "\n",
            "4 8 12 16 20 24 28 32 36 \n",
            "\n",
            "5 10 15 20 25 30 35 40 45 \n",
            "\n",
            "6 12 18 24 30 36 42 48 54 \n",
            "\n",
            "7 14 21 28 35 42 49 56 63 \n",
            "\n",
            "8 16 24 32 40 48 56 64 72 \n",
            "\n",
            "9 18 27 36 45 54 63 72 81 \n",
            "\n"
          ]
        }
      ]
    },
    {
      "cell_type": "code",
      "source": [
        "#フォーマット済み文字列を使うと揃う\n",
        "for x in range(1, 10):\n",
        "  for y in range(1, 10):\n",
        "    print(f\"{x*y:2}\", end = \" \")#f\"{x*y:2}\"桁を2桁で出力するという意味\n",
        "  print('\\n')"
      ],
      "metadata": {
        "id": "iRhc3gzqvRwF",
        "outputId": "96f2f9ae-2787-4e1c-baaa-7a25e0efe2e8",
        "colab": {
          "base_uri": "https://localhost:8080/"
        }
      },
      "execution_count": 7,
      "outputs": [
        {
          "output_type": "stream",
          "name": "stdout",
          "text": [
            " 1  2  3  4  5  6  7  8  9 \n",
            "\n",
            " 2  4  6  8 10 12 14 16 18 \n",
            "\n",
            " 3  6  9 12 15 18 21 24 27 \n",
            "\n",
            " 4  8 12 16 20 24 28 32 36 \n",
            "\n",
            " 5 10 15 20 25 30 35 40 45 \n",
            "\n",
            " 6 12 18 24 30 36 42 48 54 \n",
            "\n",
            " 7 14 21 28 35 42 49 56 63 \n",
            "\n",
            " 8 16 24 32 40 48 56 64 72 \n",
            "\n",
            " 9 18 27 36 45 54 63 72 81 \n",
            "\n"
          ]
        }
      ]
    },
    {
      "cell_type": "markdown",
      "source": [
        "#### 繰り返しの回数が分かるenumerate関数\n",
        "\n",
        "自分はこれをほとんど使わないので苦労している！この際しっかり覚えよう<br>\n",
        "辞書を使う時にいいんだよな\n",
        "\n",
        "イニュームレイト、イニューメリット<br>\n",
        "CやJavaに列挙型という型があってPythonの辞書型に似ている<br>\n",
        "これはenumで宣言する<br>\n",
        "実はPythonでもenumクラスがあって辞書に似た使い方ができるとの事<br>\n",
        "https://yu-nix.com/blog/2021/1/22/python-enum/\n",
        "\n",
        "for 変数A, 変数B in enumerate(イテラブル):<br>\n",
        "　　文...<br>\n",
        "\n",
        "戻り値が カウント と 要素の値 のタプルとなる\n",
        "\n",
        "開始値を定める時<br>\n",
        "for 変数A, 変数B in enumerate(イテラブル, 開始値):<br>\n",
        "　　文...<br>\n",
        "\n",
        "具体例で説明した方が良い"
      ],
      "metadata": {
        "id": "2LQ9vfJnvwMb"
      }
    },
    {
      "cell_type": "code",
      "source": [
        "#まずは普通のfor文で\n",
        "drink = ['coffee','tea','juice']\n",
        "\n",
        "for x in drink:\n",
        "  print(x)\n",
        "\n",
        "print(\"\\n\")\n",
        "\n",
        "for i,x in enumerate(drink, 1):\n",
        "  print(i,x)\n",
        "\n",
        "print(\"\\n\")\n",
        "\n",
        "for i,x in enumerate(drink, 0):\n",
        "  print(i,x)"
      ],
      "metadata": {
        "id": "nnGmJ99FxtNV",
        "outputId": "499470e8-b6cb-4631-e4ad-a10c9319adff",
        "colab": {
          "base_uri": "https://localhost:8080/"
        }
      },
      "execution_count": 12,
      "outputs": [
        {
          "output_type": "stream",
          "name": "stdout",
          "text": [
            "coffee\n",
            "tea\n",
            "juice\n",
            "\n",
            "\n",
            "1 coffee\n",
            "2 tea\n",
            "3 juice\n",
            "\n",
            "\n",
            "0 coffee\n",
            "1 tea\n",
            "2 juice\n"
          ]
        }
      ]
    },
    {
      "cell_type": "code",
      "source": [
        "#普通のfor文だけで同じことをやる\n",
        "drink = ['coffee','tea','juice']\n",
        "\n",
        "for i in range(len(drink)):\n",
        "  print(i+1, drink[i])"
      ],
      "metadata": {
        "id": "Wcf-ajSMyo7t",
        "outputId": "f7d3549c-25d0-47be-86b8-2e55a96255cd",
        "colab": {
          "base_uri": "https://localhost:8080/"
        }
      },
      "execution_count": 13,
      "outputs": [
        {
          "output_type": "stream",
          "name": "stdout",
          "text": [
            "1 coffee\n",
            "2 tea\n",
            "3 juice\n"
          ]
        }
      ]
    },
    {
      "cell_type": "markdown",
      "source": [
        "#### 集合だと、何が出て来るか分からん！\n",
        "\n",
        "こういう時はenumerateでとにかく出そう"
      ],
      "metadata": {
        "id": "MIhwRxchzDoL"
      }
    },
    {
      "cell_type": "code",
      "source": [
        "drink = {'coffee','tea','juice'}\n",
        "for i,x in enumerate(drink, 1):\n",
        "  print(i,x)"
      ],
      "metadata": {
        "id": "2ZUQccdnzWik",
        "outputId": "1f6bb730-475b-4556-a10a-9963044d2d5d",
        "colab": {
          "base_uri": "https://localhost:8080/"
        }
      },
      "execution_count": 14,
      "outputs": [
        {
          "output_type": "stream",
          "name": "stdout",
          "text": [
            "1 coffee\n",
            "2 juice\n",
            "3 tea\n"
          ]
        }
      ]
    },
    {
      "cell_type": "code",
      "source": [
        "#for文でやってみる\n",
        "drink = {'coffee','tea','juice'}\n",
        "i = 1\n",
        "for x in drink:\n",
        "  print(i, x)\n",
        "  i += 1#ややこしくなる"
      ],
      "metadata": {
        "id": "1BbgzLcAzpwV",
        "outputId": "145e4333-4a23-43b7-cb67-2e7fa3a63b27",
        "colab": {
          "base_uri": "https://localhost:8080/"
        }
      },
      "execution_count": 15,
      "outputs": [
        {
          "output_type": "stream",
          "name": "stdout",
          "text": [
            "1 coffee\n",
            "2 juice\n",
            "3 tea\n"
          ]
        }
      ]
    },
    {
      "cell_type": "code",
      "source": [
        "drink = {'coffee': '350','tea': '200','juice': '250'}\n",
        "keystr = []\n",
        "valstr = []\n",
        "for i,x in enumerate(drink, 1):\n",
        "  print(x)\n",
        "  keystr.append(x)\n",
        "  valstr.append(drink[x])\n",
        "\n",
        "print(keystr)#keyだけ配列\n",
        "print(valstr)#valueだけ配列\n",
        "#この前、これを作るのに散々苦労した。メモ代わりに"
      ],
      "metadata": {
        "id": "Vb0tV_PDz7ek",
        "outputId": "857994b2-4b35-445f-e124-1f4cabec6b23",
        "colab": {
          "base_uri": "https://localhost:8080/"
        }
      },
      "execution_count": 22,
      "outputs": [
        {
          "output_type": "stream",
          "name": "stdout",
          "text": [
            "coffee\n",
            "tea\n",
            "juice\n",
            "['coffee', 'tea', 'juice']\n",
            "['350', '200', '250']\n"
          ]
        }
      ]
    },
    {
      "cell_type": "markdown",
      "source": [
        "#### 逆順に取り出すreversed関数\n",
        "\n",
        "イテラブルの要素を逆順に取り出す\n",
        "\n",
        "for 変数 in reversed(イテラブル):<br>\n",
        "　　文...<br>"
      ],
      "metadata": {
        "id": "99CWKN861XUN"
      }
    },
    {
      "cell_type": "code",
      "source": [
        "drink = ['coffee','tea','juice']\n",
        "\n",
        "for x in reversed(drink):\n",
        "  print(x)"
      ],
      "metadata": {
        "id": "JREAmHBO1vcM",
        "outputId": "595027e0-6fb1-4dba-9046-d67a33f76ea7",
        "colab": {
          "base_uri": "https://localhost:8080/"
        }
      },
      "execution_count": 23,
      "outputs": [
        {
          "output_type": "stream",
          "name": "stdout",
          "text": [
            "juice\n",
            "tea\n",
            "coffee\n"
          ]
        }
      ]
    },
    {
      "cell_type": "code",
      "source": [
        "#10から0までカウントダウンする関数\n",
        "for x in reversed(range(11)):#rangeだとその数値未満というルールがここも適用\n",
        "  print(x, end = ' ')"
      ],
      "metadata": {
        "id": "C7djCahc18Bn",
        "outputId": "254476cf-d12e-449f-a072-f6d26161d574",
        "colab": {
          "base_uri": "https://localhost:8080/"
        }
      },
      "execution_count": 24,
      "outputs": [
        {
          "output_type": "stream",
          "name": "stdout",
          "text": [
            "10 9 8 7 6 5 4 3 2 1 0 "
          ]
        }
      ]
    },
    {
      "cell_type": "code",
      "source": [
        "#enumerateは何をしているか\n",
        "valenumerate = \"\"\n",
        "drink = ['coffee','tea','juice']\n",
        "valenumerate = enumerate(drink)\n",
        "print(valenumerate)\n",
        "print(type(valenumerate))\n",
        "#enumerate型のオブジェクトでしかない。これでは使えない"
      ],
      "metadata": {
        "id": "tq1XLmKa2bqH",
        "outputId": "c1b21077-03b4-4356-a91f-68a9db7fa477",
        "colab": {
          "base_uri": "https://localhost:8080/"
        }
      },
      "execution_count": 26,
      "outputs": [
        {
          "output_type": "stream",
          "name": "stdout",
          "text": [
            "<enumerate object at 0x7f183058e280>\n",
            "<class 'enumerate'>\n"
          ]
        }
      ]
    },
    {
      "cell_type": "markdown",
      "source": [
        "#### reversed関数とenumerate関数を組み合わせるのはそれゆえ大変だ\n",
        "\n",
        "最初にlistにしてからreversedする\n",
        "\n",
        "for 変数 in reversed(list(enumerate(イテラブル))):\n",
        "　　文..."
      ],
      "metadata": {
        "id": "WAxS_iNq23z2"
      }
    },
    {
      "cell_type": "code",
      "source": [
        "drink = ['coffee','tea','juice']\n",
        "for i,x in reversed(list(enumerate(drink, 1))):\n",
        "  print(i,x)\n",
        "  \n",
        "print('\\n')\n",
        "drink = ['coffee','tea','juice']\n",
        "for i,x in reversed(list(enumerate(drink, 3))):#勘違いした\n",
        "  print(i,x)"
      ],
      "metadata": {
        "id": "p3ReC0gG22Ss",
        "outputId": "4a121d85-06e9-45c0-ec62-f1e06789187f",
        "colab": {
          "base_uri": "https://localhost:8080/"
        }
      },
      "execution_count": 32,
      "outputs": [
        {
          "output_type": "stream",
          "name": "stdout",
          "text": [
            "3 juice\n",
            "2 tea\n",
            "1 coffee\n",
            "\n",
            "\n",
            "5 juice\n",
            "4 tea\n",
            "3 coffee\n"
          ]
        }
      ]
    }
  ]
}