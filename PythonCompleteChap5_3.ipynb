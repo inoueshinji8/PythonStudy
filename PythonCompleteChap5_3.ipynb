{
  "nbformat": 4,
  "nbformat_minor": 0,
  "metadata": {
    "colab": {
      "name": "PythonCompleteChap5_3.ipynb",
      "provenance": [],
      "authorship_tag": "ABX9TyNVAW0ltGjjNLd7DefhS9nM",
      "include_colab_link": true
    },
    "kernelspec": {
      "name": "python3",
      "display_name": "Python 3"
    },
    "language_info": {
      "name": "python"
    }
  },
  "cells": [
    {
      "cell_type": "markdown",
      "metadata": {
        "id": "view-in-github",
        "colab_type": "text"
      },
      "source": [
        "<a href=\"https://colab.research.google.com/github/inoueshinji8/PythonStudy/blob/main/PythonCompleteChap5_3.ipynb\" target=\"_parent\"><img src=\"https://colab.research.google.com/assets/colab-badge.svg\" alt=\"Open In Colab\"/></a>"
      ]
    },
    {
      "cell_type": "markdown",
      "source": [
        "## section3 大部分の繰り返しはfor文で書ける\n",
        "他言語ならforeachとか、範囲ベースのfor文と呼ばれるものが<br>\n",
        "Pythonのfor文となる<br>\n",
        "for(i=0;i<10;i++)これに慣れていたのでrange(len(配列))に必死で慣れた<br>"
      ],
      "metadata": {
        "id": "53VHi7IUD3e-"
      }
    },
    {
      "cell_type": "markdown",
      "source": [
        "### for文の書き方\n",
        "for 変数 in イテラブル:(コロンが大事)<br>\n",
        "　　文\n",
        "\n",
        "文(for文の外側)\n",
        "\n",
        "例えば、イテラブルが[1,3,8,14,19]などとすると<br>\n",
        "その前の「変数」は、イテラブルの個々の要素、つまり<br>\n",
        "1とか3とか8とかとなり、それが順々に出て来る<br>\n",
        "\n",
        "分かりにくいので具体的に"
      ],
      "metadata": {
        "id": "XgC81CYIEud1"
      }
    },
    {
      "cell_type": "code",
      "execution_count": 2,
      "metadata": {
        "colab": {
          "base_uri": "https://localhost:8080/"
        },
        "id": "0BSbK9NwDyHe",
        "outputId": "1b11ac9f-402e-42b2-af72-51927cb7c76d"
      },
      "outputs": [
        {
          "output_type": "stream",
          "name": "stdout",
          "text": [
            "Good Morning\n",
            "Good Afternoon\n",
            "Good Evening\n",
            "Good Night\n"
          ]
        }
      ],
      "source": [
        "for x in ['Morning','Afternoon','Evening','Night']:\n",
        "  print('Good',x)"
      ]
    },
    {
      "cell_type": "markdown",
      "source": [
        "### 繰り返しの対象になるイテラブル\n",
        "\n",
        "簡単な英語の授業で、~ableって単語は形容詞だと習ってたんだが<br>\n",
        "実際には~ableって名の付く「～っていう形容詞の特徴をよく示しているもの」<br>\n",
        "っていう名詞として使われることが少なくない<br>\n",
        "\n",
        "そういうわけてイテラブルという単語についても「連続的に数えられるように繋がってるもの」とか考えることにしておく<br>\n",
        "リストとか辞書とかみんなこれだ\n",
        "\n",
        "文字列はfor文のイテラブルになる\n"
      ],
      "metadata": {
        "id": "JM49XcdBF-gP"
      }
    },
    {
      "cell_type": "code",
      "source": [
        "for c in 'Python':\n",
        "  print(c)"
      ],
      "metadata": {
        "colab": {
          "base_uri": "https://localhost:8080/"
        },
        "id": "nvcUp7z_Go5e",
        "outputId": "fd79112a-cec7-4664-ed8f-3af290db7cbf"
      },
      "execution_count": 3,
      "outputs": [
        {
          "output_type": "stream",
          "name": "stdout",
          "text": [
            "P\n",
            "y\n",
            "t\n",
            "h\n",
            "o\n",
            "n\n"
          ]
        }
      ]
    },
    {
      "cell_type": "code",
      "source": [
        "#リスト\n",
        "meat = ['beef','pork','chicken']\n",
        "for x in meat:\n",
        "  print(x)"
      ],
      "metadata": {
        "colab": {
          "base_uri": "https://localhost:8080/"
        },
        "id": "YFRUuUfnGvFW",
        "outputId": "dec589c3-d3c3-40be-db11-0a4d8aafc5ef"
      },
      "execution_count": 4,
      "outputs": [
        {
          "output_type": "stream",
          "name": "stdout",
          "text": [
            "beef\n",
            "pork\n",
            "chicken\n"
          ]
        }
      ]
    },
    {
      "cell_type": "markdown",
      "source": [
        "### リストはミュータブルだが、for文の途中でそのイテラブルを無理やり動かすと挙動が乱れる！！！\n",
        "\n",
        "meatがporkのとき、リストから除くようにしてみよう<br>\n",
        "様々な国の人に配慮"
      ],
      "metadata": {
        "id": "h0V-hWBxHH2p"
      }
    },
    {
      "cell_type": "code",
      "source": [
        "meat = ['beef','pork','chicken']\n",
        "for x in meat:\n",
        "  if (x == 'pork'):\n",
        "    meat.remove(x)\n",
        "  else:\n",
        "    print(x)\n",
        "  \n",
        "print(meat)\n",
        "#実際のリストとの位置情報が食い違い、想定外のリスト長さになったので\n",
        "表示を止めてしまった\n",
        "別リストに条件の合うものだけappendした方が安全だな"
      ],
      "metadata": {
        "colab": {
          "base_uri": "https://localhost:8080/"
        },
        "id": "2LFHznRJG-2G",
        "outputId": "15294e5b-ea3c-4b36-9302-daf0b1041ef5"
      },
      "execution_count": 5,
      "outputs": [
        {
          "output_type": "stream",
          "name": "stdout",
          "text": [
            "beef\n",
            "['beef', 'chicken']\n"
          ]
        }
      ]
    },
    {
      "cell_type": "code",
      "source": [
        "#P.136のリストのスライス[:]またはリスト.copy()を使うと良いという\n",
        "meat = ['beef','pork','chicken']\n",
        "for x in meat[:]:\n",
        "  if (x == 'pork'):\n",
        "    meat.remove(x)\n",
        "  else:\n",
        "    print(x)\n"
      ],
      "metadata": {
        "colab": {
          "base_uri": "https://localhost:8080/"
        },
        "id": "wnQXJ170IQFY",
        "outputId": "28fb0804-fed7-4ebc-eec9-b8c7e21ca9e2"
      },
      "execution_count": 6,
      "outputs": [
        {
          "output_type": "stream",
          "name": "stdout",
          "text": [
            "beef\n",
            "chicken\n"
          ]
        }
      ]
    },
    {
      "cell_type": "code",
      "source": [
        "#P.136のリストのスライス[:]またはリスト.copy()を使うと良いという\n",
        "meat = ['beef','pork','chicken']\n",
        "for x in meat.copy():\n",
        "  if (x == 'pork'):\n",
        "    meat.remove(x)\n",
        "  else:\n",
        "    print(x)"
      ],
      "metadata": {
        "colab": {
          "base_uri": "https://localhost:8080/"
        },
        "id": "yu6rEFpJIeXv",
        "outputId": "49edbcf7-c48b-40a6-80f0-7b2497c52c15"
      },
      "execution_count": 8,
      "outputs": [
        {
          "output_type": "stream",
          "name": "stdout",
          "text": [
            "beef\n",
            "chicken\n"
          ]
        }
      ]
    },
    {
      "cell_type": "markdown",
      "source": [
        "#### タプル、集合、辞書でも試してみよう！"
      ],
      "metadata": {
        "id": "QwVrxe2yJDUA"
      }
    },
    {
      "cell_type": "code",
      "source": [
        "#タプル\n",
        "meat = ('beef','pork','chicken')\n",
        "for x in meat:\n",
        "  print(x)"
      ],
      "metadata": {
        "colab": {
          "base_uri": "https://localhost:8080/"
        },
        "id": "xkxf5gWjJGqZ",
        "outputId": "ea424392-34e5-4d4c-c9c0-6d62eaa53503"
      },
      "execution_count": 9,
      "outputs": [
        {
          "output_type": "stream",
          "name": "stdout",
          "text": [
            "beef\n",
            "pork\n",
            "chicken\n"
          ]
        }
      ]
    },
    {
      "cell_type": "markdown",
      "source": [
        "#### 集合では順番がどんどん変わってしまうので注意！"
      ],
      "metadata": {
        "id": "sOOdNe79JgTx"
      }
    },
    {
      "cell_type": "code",
      "source": [
        "#集合\n",
        "meat = {'beef','pork','chicken'}\n",
        "for x in meat:\n",
        "  print(x)\n",
        "#集合は順序を保持しないのでバラバラになってしまう！注意"
      ],
      "metadata": {
        "colab": {
          "base_uri": "https://localhost:8080/"
        },
        "id": "dcxWjLfvJRog",
        "outputId": "1a07ee54-e07f-4135-f52e-8b74c4ad88bb"
      },
      "execution_count": 10,
      "outputs": [
        {
          "output_type": "stream",
          "name": "stdout",
          "text": [
            "pork\n",
            "beef\n",
            "chicken\n"
          ]
        }
      ]
    },
    {
      "cell_type": "markdown",
      "source": [
        "辞書にfor文を入れると、keyだけ出て来る！<br>\n",
        "この前、これで嵌っていた"
      ],
      "metadata": {
        "id": "LoOPeSmhJmpg"
      }
    },
    {
      "cell_type": "code",
      "source": [
        "#辞書\n",
        "meat = {'beef':199,'pork':99,'chicken':49}#100gあたりお値段\n",
        "for x in meat:\n",
        "  print(x)\n",
        "#キーしか出て来ない！"
      ],
      "metadata": {
        "colab": {
          "base_uri": "https://localhost:8080/"
        },
        "id": "ZgPk9g9vJxTf",
        "outputId": "07881f5d-36ef-45a5-b646-64a2cefbf492"
      },
      "execution_count": 11,
      "outputs": [
        {
          "output_type": "stream",
          "name": "stdout",
          "text": [
            "beef\n",
            "pork\n",
            "chicken\n"
          ]
        }
      ]
    },
    {
      "cell_type": "markdown",
      "source": [
        "値も取り出したり、辞書ぜんぶを取り出したりしたい\n",
        "\n"
      ],
      "metadata": {
        "id": "TUD0Wu_jKE33"
      }
    },
    {
      "cell_type": "code",
      "source": [
        "meat = {'beef':199,'pork':99,'chicken':49}\n",
        "for x in meat:\n",
        "  print(x + ' is ' + str(meat[x])+'yen/100g')"
      ],
      "metadata": {
        "colab": {
          "base_uri": "https://localhost:8080/"
        },
        "id": "i3ThTWC6KP7Q",
        "outputId": "f5738ead-1392-4c7f-bb96-8ed73509e129"
      },
      "execution_count": 15,
      "outputs": [
        {
          "output_type": "stream",
          "name": "stdout",
          "text": [
            "beef is 199yen/100g\n",
            "pork is 99yen/100g\n",
            "chicken is 49yen/100g\n"
          ]
        }
      ]
    }
  ]
}