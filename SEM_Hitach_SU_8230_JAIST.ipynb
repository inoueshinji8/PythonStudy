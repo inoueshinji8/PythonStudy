{
  "nbformat": 4,
  "nbformat_minor": 0,
  "metadata": {
    "colab": {
      "name": "SEM_Hitach_SU-8230_JAIST.ipynb",
      "provenance": [],
      "authorship_tag": "ABX9TyPtrQHs5lWMcGRzLhRfpGRf",
      "include_colab_link": true
    },
    "kernelspec": {
      "name": "python3",
      "display_name": "Python 3"
    },
    "language_info": {
      "name": "python"
    }
  },
  "cells": [
    {
      "cell_type": "markdown",
      "metadata": {
        "id": "view-in-github",
        "colab_type": "text"
      },
      "source": [
        "<a href=\"https://colab.research.google.com/github/inoueshinji8/PythonStudy/blob/main/SEM_Hitach_SU_8230_JAIST.ipynb\" target=\"_parent\"><img src=\"https://colab.research.google.com/assets/colab-badge.svg\" alt=\"Open In Colab\"/></a>"
      ]
    },
    {
      "cell_type": "code",
      "execution_count": 1,
      "metadata": {
        "colab": {
          "base_uri": "https://localhost:8080/"
        },
        "id": "zgLfb73NclAY",
        "outputId": "57b128d3-5bf5-4f28-f1ef-7c384ca90ca2"
      },
      "outputs": [
        {
          "output_type": "stream",
          "name": "stdout",
          "text": [
            "Archive:  code.zip\n",
            "   creating: code/\n",
            "   creating: code/data/\n",
            "  inflating: code/data/20210624_1_0003.bmp  \n",
            "  inflating: code/data/20210624_1_0003.txt  \n",
            "  inflating: code/keypara.csv        \n",
            "  inflating: code/metadata_schema.xml  \n",
            "   creating: code/output/\n",
            "  inflating: code/output/20210624_1_0003.xml  \n",
            "  inflating: code/output/metalist.csv  \n",
            "  inflating: code/SEM_Hitachi_SU-8230.py  \n",
            "  inflating: code/SEM_Hitachi_SU-8230_xml.py  \n"
          ]
        }
      ],
      "source": [
        "!unzip code.zip"
      ]
    },
    {
      "cell_type": "code",
      "source": [
        "%cd code/\n",
        "!ls"
      ],
      "metadata": {
        "colab": {
          "base_uri": "https://localhost:8080/"
        },
        "id": "BSQPjdcXc7Np",
        "outputId": "96ff68a4-d1bf-4356-aa22-e5e58c9ead2f"
      },
      "execution_count": 2,
      "outputs": [
        {
          "output_type": "stream",
          "name": "stdout",
          "text": [
            "/content/code\n",
            "data\t     metadata_schema.xml  SEM_Hitachi_SU-8230.py\n",
            "keypara.csv  output\t\t  SEM_Hitachi_SU-8230_xml.py\n"
          ]
        }
      ]
    },
    {
      "cell_type": "code",
      "source": [
        "!python SEM_Hitachi_SU-8230_xml.py"
      ],
      "metadata": {
        "id": "zXcruShjdHR0"
      },
      "execution_count": 3,
      "outputs": []
    },
    {
      "cell_type": "code",
      "source": [
        "!python SEM_Hitachi_SU-8230.py"
      ],
      "metadata": {
        "colab": {
          "base_uri": "https://localhost:8080/"
        },
        "id": "HREtGasYdRZQ",
        "outputId": "3377525e-0f7b-4608-b687-b8a3fd3c9520"
      },
      "execution_count": 4,
      "outputs": [
        {
          "output_type": "stream",
          "name": "stdout",
          "text": [
            "['data/20210624_1_0003.txt']\n",
            "make meta-list file\n"
          ]
        }
      ]
    }
  ]
}