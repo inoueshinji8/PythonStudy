{
  "nbformat": 4,
  "nbformat_minor": 0,
  "metadata": {
    "colab": {
      "name": "Word2Vec__Tochigi_Gumma.ipynb",
      "provenance": [],
      "authorship_tag": "ABX9TyPbUQ6o1IBqUFyxfJv3m5q5",
      "include_colab_link": true
    },
    "kernelspec": {
      "name": "python3",
      "display_name": "Python 3"
    },
    "language_info": {
      "name": "python"
    }
  },
  "cells": [
    {
      "cell_type": "markdown",
      "metadata": {
        "id": "view-in-github",
        "colab_type": "text"
      },
      "source": [
        "<a href=\"https://colab.research.google.com/github/inoueshinji8/PythonStudy/blob/main/Word2Vec__Tochigi_Gumma.ipynb\" target=\"_parent\"><img src=\"https://colab.research.google.com/assets/colab-badge.svg\" alt=\"Open In Colab\"/></a>"
      ]
    },
    {
      "cell_type": "markdown",
      "source": [
        "https://codezine.jp/article/detail/15253<br>\n",
        "に、自然言語処理とPythonで「群馬」と「栃木」の違いをコンピューターに見分けさせるには？<br>\n",
        "というヲタク好みのネタがあった"
      ],
      "metadata": {
        "id": "CsOV4ZpzkLWG"
      }
    },
    {
      "cell_type": "code",
      "execution_count": 2,
      "metadata": {
        "colab": {
          "base_uri": "https://localhost:8080/"
        },
        "id": "YcvBg2nXgMj-",
        "outputId": "57cbffe4-83d7-4ddb-fe2c-008da4e30a2d"
      },
      "outputs": [
        {
          "output_type": "stream",
          "name": "stdout",
          "text": [
            "Mounted at /content/drive\n"
          ]
        }
      ],
      "source": [
        "from google.colab import drive\n",
        "drive.mount('/content/drive')"
      ]
    },
    {
      "cell_type": "code",
      "source": [
        "# KITERETUフォルダをマウントしたGoogle Driveフォルダ（MyDrive）内に作成する\n",
        "!mkdir -p /content/drive/MyDrive/KITERETU"
      ],
      "metadata": {
        "id": "UXGbxiQWijlQ"
      },
      "execution_count": 3,
      "outputs": []
    },
    {
      "cell_type": "code",
      "source": [
        "# Word2Vecの学習済みモデルをそのフォルダにダウンロードする（3ファイルで1セット:400MB弱ほど）\n",
        "# !curlコマンドに慣れよう\n",
        "!curl -o /content/drive/MyDrive/KITERETU/gw2v160.model https://storage.googleapis.com/nlp_youwht/w2v/gw2v160.model"
      ],
      "metadata": {
        "colab": {
          "base_uri": "https://localhost:8080/"
        },
        "id": "bsD3FoF9i2Re",
        "outputId": "0a7cb5a6-4a72-4f08-9d20-6afdb2ff1820"
      },
      "execution_count": 4,
      "outputs": [
        {
          "output_type": "stream",
          "name": "stdout",
          "text": [
            "  % Total    % Received % Xferd  Average Speed   Time    Time     Time  Current\n",
            "                                 Dload  Upload   Total   Spent    Left  Speed\n",
            "100 19.1M  100 19.1M    0     0  24.8M      0 --:--:-- --:--:-- --:--:-- 24.7M\n"
          ]
        }
      ]
    },
    {
      "cell_type": "code",
      "source": [
        "!curl -o /content/drive/MyDrive/KITERETU/gw2v160.model.trainables.syn1neg.npy https://storage.googleapis.com/nlp_youwht/w2v/gw2v160.model.trainables.syn1neg.npy"
      ],
      "metadata": {
        "colab": {
          "base_uri": "https://localhost:8080/"
        },
        "id": "qR9mGwYOi_-c",
        "outputId": "ac5146d1-966d-489b-93c2-b212c3cfd47e"
      },
      "execution_count": 5,
      "outputs": [
        {
          "output_type": "stream",
          "name": "stdout",
          "text": [
            "  % Total    % Received % Xferd  Average Speed   Time    Time     Time  Current\n",
            "                                 Dload  Upload   Total   Spent    Left  Speed\n",
            "100  179M  100  179M    0     0  44.7M      0  0:00:04  0:00:04 --:--:-- 44.7M\n"
          ]
        }
      ]
    },
    {
      "cell_type": "code",
      "source": [
        "!curl -o /content/drive/MyDrive/KITERETU/gw2v160.model.wv.vectors.npy https://storage.googleapis.com/nlp_youwht/w2v/gw2v160.model.wv.vectors.npy"
      ],
      "metadata": {
        "colab": {
          "base_uri": "https://localhost:8080/"
        },
        "id": "r4owtIW_jFWo",
        "outputId": "3e3f5b10-8728-4d0a-a124-d2fb520af804"
      },
      "execution_count": 6,
      "outputs": [
        {
          "output_type": "stream",
          "name": "stdout",
          "text": [
            "  % Total    % Received % Xferd  Average Speed   Time    Time     Time  Current\n",
            "                                 Dload  Upload   Total   Spent    Left  Speed\n",
            "100  179M  100  179M    0     0  45.2M      0  0:00:03  0:00:03 --:--:-- 45.2M\n"
          ]
        }
      ]
    },
    {
      "cell_type": "code",
      "source": [
        "from gensim.models.word2vec import Word2Vec\n",
        "#このgensimというライブラリはどこにあるんだろう？\n",
        "# condaでは使えないらしい！pipも大事だなあ。あとcolaboがあって良かった\n",
        "# http://www.toshioblog.com/archives/14926087.html\n",
        "#こんなサイトで使い方を学ぼう"
      ],
      "metadata": {
        "id": "RYGyTsWSjN5E"
      },
      "execution_count": 7,
      "outputs": []
    },
    {
      "cell_type": "code",
      "source": [
        "# 学習済みモデルのロード\n",
        "model_file_path = '/content/drive/MyDrive/KITERETU/gw2v160.model'\n",
        "model = Word2Vec.load(model_file_path)"
      ],
      "metadata": {
        "id": "34BV5wS3jUTO"
      },
      "execution_count": 8,
      "outputs": []
    },
    {
      "cell_type": "code",
      "source": [
        "# モデル内に登録されている単語リストの長さをlen関数で見る（＝単語数）\n",
        "print(len(model.wv.vocab.keys()))\n",
        "#すごい単語数だが固有名詞とかはまだまだ足りないだろうなあ"
      ],
      "metadata": {
        "colab": {
          "base_uri": "https://localhost:8080/"
        },
        "id": "6d9pk1o7jamD",
        "outputId": "490204e3-1eec-46d6-ddad-fe40f6d5497d"
      },
      "execution_count": 9,
      "outputs": [
        {
          "output_type": "stream",
          "name": "stdout",
          "text": [
            "293753\n"
          ]
        }
      ]
    },
    {
      "cell_type": "code",
      "source": [
        "# 「群馬」に似ている単語TOP7を書き出す\n",
        "out = model.wv.most_similar(positive=[u'群馬'], topn=7)\n",
        "print(out)\n",
        "# https://medium.com/lsc-psd/python%E3%81%AE%E6%96%87%E5%AD%97%E5%88%97-string-%E3%82%92%E6%8B%A1%E5%BC%B5%E3%81%99%E3%82%8Bf-r-u-b%E3%81%AB%E3%81%A4%E3%81%84%E3%81%A6-1b56eb260aaa\n",
        "# rはraw文字列だったが、uはユニコード変換、fはフォーマット、bはバイトコード変換"
      ],
      "metadata": {
        "colab": {
          "base_uri": "https://localhost:8080/"
        },
        "id": "TZ7YVPB5jezk",
        "outputId": "d526aa82-200f-40ec-860b-13147d8e4b16"
      },
      "execution_count": 10,
      "outputs": [
        {
          "output_type": "stream",
          "name": "stdout",
          "text": [
            "[('群馬県', 0.7760873436927795), ('栃木', 0.74561607837677), ('前橋', 0.7389767169952393), ('埼玉', 0.7216979265213013), ('高崎', 0.6891007423400879), ('伊勢崎', 0.6693984866142273), ('茨城', 0.6651454567909241)]\n"
          ]
        }
      ]
    },
    {
      "cell_type": "code",
      "source": [
        "out = model.wv.most_similar(positive=[u'宇都宮', u'群馬'], negative=[u'栃木'], topn=7)\n",
        "print(out)"
      ],
      "metadata": {
        "colab": {
          "base_uri": "https://localhost:8080/"
        },
        "id": "iH-5urOUjqUr",
        "outputId": "53c70970-e495-4005-d4b5-2e09a13434bc"
      },
      "execution_count": 11,
      "outputs": [
        {
          "output_type": "stream",
          "name": "stdout",
          "text": [
            "[('前橋', 0.7003206014633179), ('高崎', 0.6781094074249268), ('上野', 0.6506083607673645), ('伊勢崎', 0.6436746120452881), ('館林', 0.6416027545928955), ('群馬県', 0.5982699990272522), ('川越', 0.5848405361175537)]\n"
          ]
        }
      ]
    },
    {
      "cell_type": "code",
      "source": [
        ""
      ],
      "metadata": {
        "id": "b3v3gEXbj2Xq"
      },
      "execution_count": null,
      "outputs": []
    }
  ]
}