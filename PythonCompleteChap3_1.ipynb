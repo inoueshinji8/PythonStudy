{
  "nbformat": 4,
  "nbformat_minor": 0,
  "metadata": {
    "colab": {
      "name": "PythonCompleteChap3-1.ipynb",
      "provenance": [],
      "authorship_tag": "ABX9TyN0li4kQKmfqSTNJfXTd97j",
      "include_colab_link": true
    },
    "kernelspec": {
      "name": "python3",
      "display_name": "Python 3"
    },
    "language_info": {
      "name": "python"
    }
  },
  "cells": [
    {
      "cell_type": "markdown",
      "metadata": {
        "id": "view-in-github",
        "colab_type": "text"
      },
      "source": [
        "<a href=\"https://colab.research.google.com/github/inoueshinji8/PythonStudy/blob/main/PythonCompleteChap3_1.ipynb\" target=\"_parent\"><img src=\"https://colab.research.google.com/assets/colab-badge.svg\" alt=\"Open In Colab\"/></a>"
      ]
    },
    {
      "cell_type": "markdown",
      "source": [
        "# Section01\n",
        "## 扱っている値の型を意識する\n",
        "PythonはCやJavaやVisual Basicなどと違って型を明記しなくてもプログラムを書ける。しかしいきなり型が違うとエラーになることがある。<br>\n",
        "この変数の型はintか？floatか、stringか？配列か？辞書型か？特定のクラスのオブジェクトか？などを、「常に」ではなくても、作っていて問題が出たときにはすぐに意識してみることが、エラー時にすぐに問題点を見つけられるための秘訣だと個人的には考える。<br>"
      ],
      "metadata": {
        "id": "9mEpVGsjYCIp"
      }
    },
    {
      "cell_type": "code",
      "execution_count": null,
      "metadata": {
        "id": "2Cc4Rms-X0D7"
      },
      "outputs": [],
      "source": [
        "PythonCompleteChap3"
      ]
    }
  ]
}