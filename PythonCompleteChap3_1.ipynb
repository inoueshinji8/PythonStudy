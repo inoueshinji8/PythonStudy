{
  "nbformat": 4,
  "nbformat_minor": 0,
  "metadata": {
    "colab": {
      "name": "PythonCompleteChap3-1.ipynb",
      "provenance": [],
      "authorship_tag": "ABX9TyN3SWhDa5PQ0XTDcodFRU1L",
      "include_colab_link": true
    },
    "kernelspec": {
      "name": "python3",
      "display_name": "Python 3"
    },
    "language_info": {
      "name": "python"
    }
  },
  "cells": [
    {
      "cell_type": "markdown",
      "metadata": {
        "id": "view-in-github",
        "colab_type": "text"
      },
      "source": [
        "<a href=\"https://colab.research.google.com/github/inoueshinji8/PythonStudy/blob/main/PythonCompleteChap3_1.ipynb\" target=\"_parent\"><img src=\"https://colab.research.google.com/assets/colab-badge.svg\" alt=\"Open In Colab\"/></a>"
      ]
    },
    {
      "cell_type": "markdown",
      "source": [
        "# Section01\n",
        "## 扱っている値の型を意識する\n",
        "PythonはCやJavaやVisual Basicなどと違って型を明記しなくてもプログラムを書ける。しかしいきなり型が違うとエラーになることがある。<br>\n",
        "この変数の型はintか？floatか、stringか？配列か？辞書型か？特定のクラスのオブジェクトか？などを、「常に」ではなくても、作っていて問題が出たときにはすぐに意識してみることが、エラー時にすぐに問題点を見つけられるための秘訣だと個人的には考える。<br>"
      ],
      "metadata": {
        "id": "9mEpVGsjYCIp"
      }
    },
    {
      "cell_type": "markdown",
      "source": [
        "Pythonの数値型は<br>\n",
        "整数型のintと<br>\n",
        "浮動小数点型のfloatだけ<br>\n",
        "<br>\n",
        "以下、断りが無い限りPython<br><br>\n",
        "intはビット数が可変。C言語なら32ビットはint、64ビットはlongだが<br>\n",
        "Pythonでは全てint<br>\n",
        "JITによる高速化ではこれらを区別するので注意\n"
      ],
      "metadata": {
        "id": "fWOQLFUBbxMg"
      }
    },
    {
      "cell_type": "code",
      "execution_count": null,
      "metadata": {
        "id": "2Cc4Rms-X0D7",
        "outputId": "b642fde7-479b-484d-eeee-bd8fb87c6d92",
        "colab": {
          "base_uri": "https://localhost:8080/"
        }
      },
      "outputs": [
        {
          "output_type": "stream",
          "name": "stdout",
          "text": [
            "4\n",
            "1024\n"
          ]
        }
      ],
      "source": [
        "#2^2と2^10を試す\n",
        "print(2**2)\n",
        "print(2**10)"
      ]
    },
    {
      "cell_type": "code",
      "source": [
        "#Javaでは2^31-1までしかintで扱えず次はlongになる\n",
        "#Pythonなら大丈夫\n",
        "print(2**31)\n",
        "print(2**32)"
      ],
      "metadata": {
        "id": "kAoObmaldOCO",
        "outputId": "e7042fe3-2252-4609-8490-5b4ea4095e7a",
        "colab": {
          "base_uri": "https://localhost:8080/"
        }
      },
      "execution_count": null,
      "outputs": [
        {
          "output_type": "stream",
          "name": "stdout",
          "text": [
            "2147483648\n",
            "4294967296\n"
          ]
        }
      ]
    },
    {
      "cell_type": "code",
      "source": [
        "print(\"2の100乗は\",2**100)\n",
        "print(\"2の1000乗は\",2**1000)"
      ],
      "metadata": {
        "id": "cP6DeIdWdhEf",
        "outputId": "8f0ce859-4e88-483e-e1fd-1433014b9c54",
        "colab": {
          "base_uri": "https://localhost:8080/"
        }
      },
      "execution_count": null,
      "outputs": [
        {
          "output_type": "stream",
          "name": "stdout",
          "text": [
            "2の100乗は 1267650600228229401496703205376\n",
            "2の1000乗は 10715086071862673209484250490600018105614048117055336074437503883703510511249361224931983788156958581275946729175531468251871452856923140435984577574698574803934567774824230985421074605062371141877954182153046474983581941267398767559165543946077062914571196477686542167660429831652624386837205668069376\n"
          ]
        }
      ]
    },
    {
      "cell_type": "code",
      "source": [
        "#n進数を扱う\n",
        "print(123)#10進数\n",
        "print(0b1111011)#2進数\n",
        "print(0o173)#8進数\n",
        "print(0X7b)#16進数\n",
        "#全て10進数の123"
      ],
      "metadata": {
        "id": "bdOnxCsYyHQ6",
        "outputId": "8e1c9381-c55b-45bc-881d-c452f9d6b3f5",
        "colab": {
          "base_uri": "https://localhost:8080/"
        }
      },
      "execution_count": null,
      "outputs": [
        {
          "output_type": "stream",
          "name": "stdout",
          "text": [
            "123\n",
            "123\n",
            "123\n",
            "123\n"
          ]
        }
      ]
    },
    {
      "cell_type": "code",
      "source": [
        "#整数の数値は、_で区切っても1つの数になる\n",
        "print(1000000000000)#1兆\n",
        "print(1_000_000_000_000)#英語式3桁区切り\n",
        "print(1_0000_0000_0000)#日本語式4桁区切り"
      ],
      "metadata": {
        "id": "XTMoLunrzCRy",
        "outputId": "90e6ad04-48e5-44ed-cd90-03b067c9838d",
        "colab": {
          "base_uri": "https://localhost:8080/"
        }
      },
      "execution_count": null,
      "outputs": [
        {
          "output_type": "stream",
          "name": "stdout",
          "text": [
            "1000000000000\n",
            "1000000000000\n",
            "1000000000000\n"
          ]
        }
      ]
    },
    {
      "cell_type": "markdown",
      "source": [
        "### floatは単精度でなく倍精度\n",
        "CやJavaではfloatはIEEE754の単精度<br>\n",
        "しかしPythonではfloatでもIEEE754の倍精度<br>\n",
        "CやJavaでは倍精度のdoubleがある<br>\n",
        "<br>\n",
        "intと違いfloatは15桁まで。これを実験する"
      ],
      "metadata": {
        "id": "ryuRNznYzqUa"
      }
    },
    {
      "cell_type": "code",
      "source": [
        "print(9.99999999999999)#15桁\n",
        "print(9.999999999999999)#16桁は異常が出る"
      ],
      "metadata": {
        "id": "4932H7t10hBi",
        "outputId": "a6093b88-66d5-45f8-8c79-fb18404b1ce6",
        "colab": {
          "base_uri": "https://localhost:8080/"
        }
      },
      "execution_count": null,
      "outputs": [
        {
          "output_type": "stream",
          "name": "stdout",
          "text": [
            "9.99999999999999\n",
            "9.999999999999998\n"
          ]
        }
      ]
    },
    {
      "cell_type": "markdown",
      "source": [
        "floatで足りない時はdecimalを使う<br>\n",
        "<br>\n",
        "また浮動小数点リテラルを使える<br>\n",
        "0.0123を1.23e-2と書く方法である<br>\n",
        "これも実験しよう"
      ],
      "metadata": {
        "id": "ZSfvu9Ad1AdR"
      }
    },
    {
      "cell_type": "code",
      "source": [
        "print(1234.5678)\n",
        "print(1.2345678e3)\n",
        "print(1234567.8e-3)\n",
        "#全て同じ結果"
      ],
      "metadata": {
        "id": "fx6tkTYZ1hh6",
        "outputId": "deebb525-245d-4d41-cda0-2e08e956641f",
        "colab": {
          "base_uri": "https://localhost:8080/"
        }
      },
      "execution_count": null,
      "outputs": [
        {
          "output_type": "stream",
          "name": "stdout",
          "text": [
            "1234.5678\n",
            "1234.5678\n",
            "1234.5678\n"
          ]
        }
      ]
    },
    {
      "cell_type": "markdown",
      "source": [
        "虚数はiでなくjを使う<br>\n",
        "ただしPythonでは虚数の時は勝手に浮動小数点扱いになり有効桁数で15桁までとなる"
      ],
      "metadata": {
        "id": "X2Km_llx11Gj"
      }
    },
    {
      "cell_type": "code",
      "source": [
        "#複素数を計算しよう\n",
        "print((1+2j)*(3+4j))\n",
        "#Pythonでフーリエ変換を扱っていた時、ゼロを0と書いていたらフーリエ逆変換で元に戻らなかった\n",
        "#numpyで複素数を扱っている時は0は0+0jと書かないといけないとの事\n",
        "#一方でscipyだと0でも複素数扱いに自動的にしてくれる"
      ],
      "metadata": {
        "id": "nphi4FZ_2PHa",
        "outputId": "50c45aee-5e94-4cf0-f720-6c0349bbcce7",
        "colab": {
          "base_uri": "https://localhost:8080/"
        }
      },
      "execution_count": null,
      "outputs": [
        {
          "output_type": "stream",
          "name": "stdout",
          "text": [
            "(-5+10j)\n"
          ]
        }
      ]
    },
    {
      "cell_type": "markdown",
      "source": [
        "### 文字列はシングルクォーテーション''で括ってもダブルクォーテーション\"\"で括ってもいい"
      ],
      "metadata": {
        "id": "VeqE9-egX2II"
      }
    },
    {
      "cell_type": "code",
      "source": [
        "print('Python')\n",
        "print(\"Python\")"
      ],
      "metadata": {
        "id": "i_RftEqK03xJ",
        "outputId": "08bba93b-136d-4120-ec6f-30662d8b6802",
        "colab": {
          "base_uri": "https://localhost:8080/"
        }
      },
      "execution_count": null,
      "outputs": [
        {
          "output_type": "stream",
          "name": "stdout",
          "text": [
            "Python\n",
            "Python\n"
          ]
        }
      ]
    },
    {
      "cell_type": "markdown",
      "source": [
        "シングルクォーテーション、ではなくアポストロフィーを含んだ文章では実質シングルクォーテーションと区別がつかない<br>\n",
        "ダブルクォーテーションで括る<br>\n",
        "逆にダブルクォーテーションを含む文章はシングルクォーテーションで括る"
      ],
      "metadata": {
        "id": "bUHnGzecYYA_"
      }
    },
    {
      "cell_type": "code",
      "source": [
        "print(\"Can't open the file.\")\n",
        "print('Loading \"Hello.py\"')"
      ],
      "metadata": {
        "id": "6Ff64Le2YtJI",
        "outputId": "2b0edd06-c6bd-4c08-8c72-27220d1869b0",
        "colab": {
          "base_uri": "https://localhost:8080/"
        }
      },
      "execution_count": null,
      "outputs": [
        {
          "output_type": "stream",
          "name": "stdout",
          "text": [
            "Can't open the file.\n",
            "Loading \"Hello.py\"\n"
          ]
        }
      ]
    },
    {
      "cell_type": "code",
      "source": [
        "#しかし混ざっているとどっちもダメ\n",
        "print(\"Can't run \"hello.py\"\")\n",
        "print('Can't run \"hello.py\"')"
      ],
      "metadata": {
        "id": "bvWEOJFBY9sB",
        "outputId": "d944d0bd-0f03-4bc3-e509-910c2e29292f",
        "colab": {
          "base_uri": "https://localhost:8080/",
          "height": 135
        }
      },
      "execution_count": null,
      "outputs": [
        {
          "output_type": "error",
          "ename": "SyntaxError",
          "evalue": "ignored",
          "traceback": [
            "\u001b[0;36m  File \u001b[0;32m\"<ipython-input-3-ad2923664f65>\"\u001b[0;36m, line \u001b[0;32m2\u001b[0m\n\u001b[0;31m    print(\"Can't run \"hello.py\"\")\u001b[0m\n\u001b[0m                          ^\u001b[0m\n\u001b[0;31mSyntaxError\u001b[0m\u001b[0;31m:\u001b[0m invalid syntax\n"
          ]
        }
      ]
    },
    {
      "cell_type": "markdown",
      "source": [
        "こういう時は\\記号を厄介な文字の前に書く。<br>\n",
        "￥記号、あるいは\\(バックスラッシュ)<br>\n",
        "これを中のクォーテーション各種の前に書く"
      ],
      "metadata": {
        "id": "P2fNlfxDZVwP"
      }
    },
    {
      "cell_type": "code",
      "source": [
        "print(\"Can't run \\\"hello.py\\\"\")\n",
        "print('Can\\'t run \"hello.py\"')"
      ],
      "metadata": {
        "id": "X5owp6qDZvfY",
        "outputId": "59aa09d5-955e-4ed5-c859-0722efb83a00",
        "colab": {
          "base_uri": "https://localhost:8080/"
        }
      },
      "execution_count": null,
      "outputs": [
        {
          "output_type": "stream",
          "name": "stdout",
          "text": [
            "Can't run \"hello.py\"\n",
            "Can't run \"hello.py\"\n"
          ]
        }
      ]
    },
    {
      "cell_type": "markdown",
      "source": [
        "円記号またはバックスラッシュを使って、そのままでは表記できない、あるいは特殊な意味を持つ文字を書く記法を<br>\n",
        "エスケープシーケンスと呼ぶ"
      ],
      "metadata": {
        "id": "M5shVoyhaJRR"
      }
    },
    {
      "cell_type": "code",
      "source": [
        "print(\"\\\\\")#\\\n",
        "print(\"\\'\")#'\n",
        "print(\"\\\"\")#\"\"\n",
        "print(\"\\n\")#改行。\n",
        "print(\"\\t\")#タブ\n",
        "#読めないなら、クリックしたまま選択してみましょう"
      ],
      "metadata": {
        "id": "z049CJbxaaOv",
        "outputId": "d336688c-7991-4997-c449-59fbfddde35b",
        "colab": {
          "base_uri": "https://localhost:8080/"
        }
      },
      "execution_count": null,
      "outputs": [
        {
          "output_type": "stream",
          "name": "stdout",
          "text": [
            "\\\n",
            "'\n",
            "\"\n",
            "\n",
            "\n",
            "\t\n"
          ]
        }
      ]
    },
    {
      "cell_type": "markdown",
      "source": [
        "###文字列リテラルの連結\n",
        "\n",
        "複数の文字列は自動的に連結される"
      ],
      "metadata": {
        "id": "7jEQ_aFLa8hw"
      }
    },
    {
      "cell_type": "code",
      "source": [
        "'Hello,' \"Python\""
      ],
      "metadata": {
        "id": "8mKEuf7PbFnx",
        "outputId": "7b9dfd2a-3d37-443b-cabd-f7a70bfb3350",
        "colab": {
          "base_uri": "https://localhost:8080/",
          "height": 35
        }
      },
      "execution_count": null,
      "outputs": [
        {
          "output_type": "execute_result",
          "data": {
            "application/vnd.google.colaboratory.intrinsic+json": {
              "type": "string"
            },
            "text/plain": [
              "'Hello,Python'"
            ]
          },
          "metadata": {},
          "execution_count": 7
        }
      ]
    },
    {
      "cell_type": "markdown",
      "source": [
        "1行に入らない文字列をあえて区切って入力する"
      ],
      "metadata": {
        "id": "umWN1VdhbU2Y"
      }
    },
    {
      "cell_type": "code",
      "source": [
        "print(\n",
        "'1行に入らない長いテキストを書くとき、'\n",
        "'複数の文字列リテラルを並べると良い'\n",
        ")"
      ],
      "metadata": {
        "id": "odGdD_hHbctI",
        "outputId": "116ad820-a672-4fd3-aaa8-526c221e25f4",
        "colab": {
          "base_uri": "https://localhost:8080/"
        }
      },
      "execution_count": null,
      "outputs": [
        {
          "output_type": "stream",
          "name": "stdout",
          "text": [
            "1行に入らない長いテキストを書くとき、複数の文字列リテラルを並べると良い\n"
          ]
        }
      ]
    },
    {
      "cell_type": "code",
      "source": [
        "#あるいは自分は+で結合するのが好き\n",
        "'Hello,'+\"Python\"\n",
        "#ただし文字列と変数だと、特に数値型ならstr()で囲むなどする"
      ],
      "metadata": {
        "id": "fnTcXoGTbueQ",
        "outputId": "f09b59b7-8c28-439c-d8f1-903fbd1b43f9",
        "colab": {
          "base_uri": "https://localhost:8080/",
          "height": 35
        }
      },
      "execution_count": null,
      "outputs": [
        {
          "output_type": "execute_result",
          "data": {
            "application/vnd.google.colaboratory.intrinsic+json": {
              "type": "string"
            },
            "text/plain": [
              "'Hello,Python'"
            ]
          },
          "metadata": {},
          "execution_count": 10
        }
      ]
    },
    {
      "cell_type": "markdown",
      "source": [
        "###複数行のテキスト\n",
        "3個のシングルクォートか3個のダブルクォートで囲む"
      ],
      "metadata": {
        "id": "VKiEVo6toa3_"
      }
    },
    {
      "cell_type": "code",
      "source": [
        "print('''\n",
        "複数行でテキストを書くときは\n",
        "30クォート文字列を使う\n",
        "''')"
      ],
      "metadata": {
        "id": "XEMYCQ9Uoo8a",
        "outputId": "c1f7c7d2-1c79-48ad-ea7f-fb21f92634b2",
        "colab": {
          "base_uri": "https://localhost:8080/"
        }
      },
      "execution_count": 1,
      "outputs": [
        {
          "output_type": "stream",
          "name": "stdout",
          "text": [
            "\n",
            "複数行でテキストを書くときは\n",
            "30クォート文字列を使う\n",
            "\n"
          ]
        }
      ]
    },
    {
      "cell_type": "markdown",
      "source": [
        "これだと上下に空白が入る<br>\n",
        "だから￥マークを入れると良い"
      ],
      "metadata": {
        "id": "TXIP5mfzpCA2"
      }
    },
    {
      "cell_type": "code",
      "source": [
        "print('''\\\n",
        "複数行でテキストを書くときは\n",
        "30クォート文字列を使う\\\n",
        "''')"
      ],
      "metadata": {
        "id": "6i_GmERppK-u",
        "outputId": "ddf84ec4-e7b6-46e8-8468-11e57f72c225",
        "colab": {
          "base_uri": "https://localhost:8080/"
        }
      },
      "execution_count": 2,
      "outputs": [
        {
          "output_type": "stream",
          "name": "stdout",
          "text": [
            "複数行でテキストを書くときは\n",
            "30クォート文字列を使う\n"
          ]
        }
      ]
    },
    {
      "cell_type": "markdown",
      "source": [
        "###パスの文字列リテラル\n",
        "Windowsのパス、というかファイルやフォルダの所在を表す文字列は<br>\n",
        "ファイル階層間の仕切りを\\\\\\とバックスラッシュ2回にする<br>\n",
        "(なおこれをテキストに書くのに、エスケープシーケンスのため￥￥￥と3回書きました)"
      ],
      "metadata": {
        "id": "ppw2GTChpS31"
      }
    },
    {
      "cell_type": "code",
      "source": [
        "print(\"C:\\\\Users\\\\myname\\\\desktop\")"
      ],
      "metadata": {
        "id": "xq4lzUhupSFz",
        "outputId": "73f48367-5d56-43cc-c5c7-81455079ae77",
        "colab": {
          "base_uri": "https://localhost:8080/"
        }
      },
      "execution_count": 3,
      "outputs": [
        {
          "output_type": "stream",
          "name": "stdout",
          "text": [
            "C:\\Users\\myname\\desktop\n"
          ]
        }
      ]
    },
    {
      "cell_type": "markdown",
      "source": [
        "これは面倒なのでraw文字列という方法がある<br>\n",
        "r'文字列A'<br>\n",
        "r\"文字列B\"<br>\n",
        "r'''文字列C'''<br>"
      ],
      "metadata": {
        "id": "zT-Q8FxIqEIr"
      }
    },
    {
      "cell_type": "code",
      "source": [
        "print(r'C:\\Users\\myname\\desktop')\n"
      ],
      "metadata": {
        "id": "5TtP59wRqc11",
        "outputId": "27e4cce6-5550-4f83-ee8a-dd47ca4c5ad9",
        "colab": {
          "base_uri": "https://localhost:8080/"
        }
      },
      "execution_count": 4,
      "outputs": [
        {
          "output_type": "stream",
          "name": "stdout",
          "text": [
            "C:\\Users\\myname\\desktop\n"
          ]
        }
      ]
    },
    {
      "cell_type": "markdown",
      "source": [
        "###比較、真偽値、true/false\n",
        "Boolean型<br>\n",
        "A == B 等しい<br>\n",
        "A != B 等しくない<br>\n",
        "A < B Bが大きい<br>\n",
        "A > B Aが大きい<br>\n",
        "A <= B 以下 <br>\n",
        "A >= B 以上"
      ],
      "metadata": {
        "id": "DjtbkatxrBBg"
      }
    },
    {
      "cell_type": "code",
      "source": [
        "print(123 == 456)\n",
        "print(123 != 456)\n",
        "print(123 < 456)\n",
        "print(123 > 456)\n",
        "print(123 <= 456)\n",
        "print(123 >= 456)"
      ],
      "metadata": {
        "id": "xZ6Xk9iCrwd9",
        "outputId": "b8fc0242-9b3b-4ad4-a65a-ab898b7ac9dd",
        "colab": {
          "base_uri": "https://localhost:8080/"
        }
      },
      "execution_count": 5,
      "outputs": [
        {
          "output_type": "stream",
          "name": "stdout",
          "text": [
            "False\n",
            "True\n",
            "True\n",
            "False\n",
            "True\n",
            "False\n"
          ]
        }
      ]
    },
    {
      "cell_type": "code",
      "source": [
        "#文字列で比較\n",
        "print('apple' == 'banana')\n",
        "print('apple' != 'banana')\n",
        "print('apple' < 'banana')\n",
        "print('apple' > 'banana')\n",
        "print('apple' <= 'banana')\n",
        "print('apple' >= 'banana')\n",
        "#ユニコード表で後ろにある方が大きい"
      ],
      "metadata": {
        "id": "tbT8mzymsDDW",
        "outputId": "16ad2ae8-7b0f-4662-db55-ff73d39e7f63",
        "colab": {
          "base_uri": "https://localhost:8080/"
        }
      },
      "execution_count": 6,
      "outputs": [
        {
          "output_type": "stream",
          "name": "stdout",
          "text": [
            "False\n",
            "True\n",
            "True\n",
            "False\n",
            "True\n",
            "False\n"
          ]
        }
      ]
    },
    {
      "cell_type": "markdown",
      "source": [
        "ブール演算子を使った比較<br>\n",
        "and: A and B<br>\n",
        "or: A or B<br>\n",
        "not: not A AがFalse"
      ],
      "metadata": {
        "id": "raHWiOPQsgXE"
      }
    },
    {
      "cell_type": "code",
      "source": [
        "print(123<456 and 456<789)\n",
        "print(123<456 or 456<789)\n",
        "print(not 123 < 456)#123より456が大きい、のは間違いだ。真か偽か？"
      ],
      "metadata": {
        "id": "XnBFMjoTsyV2",
        "outputId": "e824cf85-c034-434d-ae7f-a97ce418ae66",
        "colab": {
          "base_uri": "https://localhost:8080/"
        }
      },
      "execution_count": 7,
      "outputs": [
        {
          "output_type": "stream",
          "name": "stdout",
          "text": [
            "True\n",
            "True\n",
            "False\n"
          ]
        }
      ]
    },
    {
      "cell_type": "code",
      "source": [
        "123 < 456 < 789"
      ],
      "metadata": {
        "id": "7AGrRpLwtv0Q",
        "outputId": "cc08c562-578e-4cc4-87c2-5026456eb352",
        "colab": {
          "base_uri": "https://localhost:8080/"
        }
      },
      "execution_count": 9,
      "outputs": [
        {
          "output_type": "execute_result",
          "data": {
            "text/plain": [
              "True"
            ]
          },
          "metadata": {},
          "execution_count": 9
        }
      ]
    },
    {
      "cell_type": "markdown",
      "source": [
        "CやJavaなら123 < 456 && 456 < 789なんて書く<br>\n",
        "分けて書かないといけない<br>\n",
        "ついでに\\&単独だとビット演算の積集合になる<br>\n",
        "和集合は|だけ"
      ],
      "metadata": {
        "id": "YsEPeyp2t1BK"
      }
    },
    {
      "cell_type": "markdown",
      "source": [
        "###ショートサーキット\n",
        "123 < 456 and print('b')だけでいい"
      ],
      "metadata": {
        "id": "6_UE1HiNugB1"
      }
    },
    {
      "cell_type": "code",
      "source": [
        "123 < 456 and print('b')\n",
        "123 > 456 and print('b')\n",
        "#これだけで真偽判定かつ結果出力"
      ],
      "metadata": {
        "id": "mU-cnUhFucm8",
        "outputId": "3fcd4f5f-414a-42ff-bd51-1b34fffe8288",
        "colab": {
          "base_uri": "https://localhost:8080/"
        }
      },
      "execution_count": 10,
      "outputs": [
        {
          "output_type": "stream",
          "name": "stdout",
          "text": [
            "b\n"
          ]
        },
        {
          "output_type": "execute_result",
          "data": {
            "text/plain": [
              "False"
            ]
          },
          "metadata": {},
          "execution_count": 10
        }
      ]
    },
    {
      "cell_type": "markdown",
      "source": [
        "123 < 456 がTrue<br>\n",
        "そして右側を処理する<br>\n",
        "<br>\n",
        "123 > 456 がFalse<br>\n",
        "プログラムはこれで処理が1つ間違ってた、なら<br>\n",
        "true and true なら処理するものなので<br>\n",
        "false and false だと処理してくれない"
      ],
      "metadata": {
        "id": "jeTPsOoMvNdN"
      }
    },
    {
      "cell_type": "code",
      "source": [
        "#一方でor だと、一方がfalseでももう一方が正しいなら！と処理してくれる\n",
        "print(123 < 456 or print('b'))#trueは省略されがちだな\n",
        "123 > 456 or print('b')"
      ],
      "metadata": {
        "id": "nGE0yXsfvwov",
        "outputId": "52aa8e32-8e09-4221-915a-102de7492db9",
        "colab": {
          "base_uri": "https://localhost:8080/"
        }
      },
      "execution_count": 13,
      "outputs": [
        {
          "output_type": "stream",
          "name": "stdout",
          "text": [
            "True\n",
            "b\n"
          ]
        }
      ]
    },
    {
      "cell_type": "markdown",
      "source": [
        "##型の間を行き来する\n",
        "int,float,string,boolを行き来できるようにしよう"
      ],
      "metadata": {
        "id": "3UYJ74IBwRI8"
      }
    }
  ]
}