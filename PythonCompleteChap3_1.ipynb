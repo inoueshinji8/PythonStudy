{
  "nbformat": 4,
  "nbformat_minor": 0,
  "metadata": {
    "colab": {
      "name": "PythonCompleteChap3-1.ipynb",
      "provenance": [],
      "authorship_tag": "ABX9TyPlTIl+l3pwwTyXrLoNo5xP",
      "include_colab_link": true
    },
    "kernelspec": {
      "name": "python3",
      "display_name": "Python 3"
    },
    "language_info": {
      "name": "python"
    }
  },
  "cells": [
    {
      "cell_type": "markdown",
      "metadata": {
        "id": "view-in-github",
        "colab_type": "text"
      },
      "source": [
        "<a href=\"https://colab.research.google.com/github/inoueshinji8/PythonStudy/blob/main/PythonCompleteChap3_1.ipynb\" target=\"_parent\"><img src=\"https://colab.research.google.com/assets/colab-badge.svg\" alt=\"Open In Colab\"/></a>"
      ]
    },
    {
      "cell_type": "markdown",
      "source": [
        "# Section01\n",
        "## 扱っている値の型を意識する\n",
        "PythonはCやJavaやVisual Basicなどと違って型を明記しなくてもプログラムを書ける。しかしいきなり型が違うとエラーになることがある。<br>\n",
        "この変数の型はintか？floatか、stringか？配列か？辞書型か？特定のクラスのオブジェクトか？などを、「常に」ではなくても、作っていて問題が出たときにはすぐに意識してみることが、エラー時にすぐに問題点を見つけられるための秘訣だと個人的には考える。<br>"
      ],
      "metadata": {
        "id": "9mEpVGsjYCIp"
      }
    },
    {
      "cell_type": "markdown",
      "source": [
        "Pythonの数値型は<br>\n",
        "整数型のintと<br>\n",
        "浮動小数点型のfloatだけ<br>\n",
        "<br>\n",
        "以下、断りが無い限りPython<br><br>\n",
        "intはビット数が可変。C言語なら32ビットはint、64ビットはlongだが<br>\n",
        "Pythonでは全てint<br>\n",
        "JITによる高速化ではこれらを区別するので注意\n"
      ],
      "metadata": {
        "id": "fWOQLFUBbxMg"
      }
    },
    {
      "cell_type": "code",
      "execution_count": null,
      "metadata": {
        "id": "2Cc4Rms-X0D7",
        "outputId": "b642fde7-479b-484d-eeee-bd8fb87c6d92",
        "colab": {
          "base_uri": "https://localhost:8080/"
        }
      },
      "outputs": [
        {
          "output_type": "stream",
          "name": "stdout",
          "text": [
            "4\n",
            "1024\n"
          ]
        }
      ],
      "source": [
        "#2^2と2^10を試す\n",
        "print(2**2)\n",
        "print(2**10)"
      ]
    },
    {
      "cell_type": "code",
      "source": [
        "#Javaでは2^31-1までしかintで扱えず次はlongになる\n",
        "#Pythonなら大丈夫\n",
        "print(2**31)\n",
        "print(2**32)"
      ],
      "metadata": {
        "id": "kAoObmaldOCO",
        "outputId": "e7042fe3-2252-4609-8490-5b4ea4095e7a",
        "colab": {
          "base_uri": "https://localhost:8080/"
        }
      },
      "execution_count": null,
      "outputs": [
        {
          "output_type": "stream",
          "name": "stdout",
          "text": [
            "2147483648\n",
            "4294967296\n"
          ]
        }
      ]
    },
    {
      "cell_type": "code",
      "source": [
        "print(\"2の100乗は\",2**100)\n",
        "print(\"2の1000乗は\",2**1000)"
      ],
      "metadata": {
        "id": "cP6DeIdWdhEf",
        "outputId": "8f0ce859-4e88-483e-e1fd-1433014b9c54",
        "colab": {
          "base_uri": "https://localhost:8080/"
        }
      },
      "execution_count": null,
      "outputs": [
        {
          "output_type": "stream",
          "name": "stdout",
          "text": [
            "2の100乗は 1267650600228229401496703205376\n",
            "2の1000乗は 10715086071862673209484250490600018105614048117055336074437503883703510511249361224931983788156958581275946729175531468251871452856923140435984577574698574803934567774824230985421074605062371141877954182153046474983581941267398767559165543946077062914571196477686542167660429831652624386837205668069376\n"
          ]
        }
      ]
    },
    {
      "cell_type": "code",
      "source": [
        "#n進数を扱う\n",
        "print(123)#10進数\n",
        "print(0b1111011)#2進数\n",
        "print(0o173)#8進数\n",
        "print(0X7b)#16進数\n",
        "#全て10進数の123"
      ],
      "metadata": {
        "id": "bdOnxCsYyHQ6",
        "outputId": "8e1c9381-c55b-45bc-881d-c452f9d6b3f5",
        "colab": {
          "base_uri": "https://localhost:8080/"
        }
      },
      "execution_count": 1,
      "outputs": [
        {
          "output_type": "stream",
          "name": "stdout",
          "text": [
            "123\n",
            "123\n",
            "123\n",
            "123\n"
          ]
        }
      ]
    },
    {
      "cell_type": "code",
      "source": [
        "#整数の数値は、_で区切っても1つの数になる\n",
        "print(1000000000000)#1兆\n",
        "print(1_000_000_000_000)#英語式3桁区切り\n",
        "print(1_0000_0000_0000)#日本語式4桁区切り"
      ],
      "metadata": {
        "id": "XTMoLunrzCRy",
        "outputId": "90e6ad04-48e5-44ed-cd90-03b067c9838d",
        "colab": {
          "base_uri": "https://localhost:8080/"
        }
      },
      "execution_count": 2,
      "outputs": [
        {
          "output_type": "stream",
          "name": "stdout",
          "text": [
            "1000000000000\n",
            "1000000000000\n",
            "1000000000000\n"
          ]
        }
      ]
    },
    {
      "cell_type": "markdown",
      "source": [
        "### floatは単精度でなく倍精度\n",
        "CやJavaではfloatはIEEE754の単精度<br>\n",
        "しかしPythonではfloatでもIEEE754の倍精度<br>\n",
        "CやJavaでは倍精度のdoubleがある<br>\n",
        "<br>\n",
        "intと違いfloatは15桁まで。これを実験する"
      ],
      "metadata": {
        "id": "ryuRNznYzqUa"
      }
    },
    {
      "cell_type": "code",
      "source": [
        "print(9.99999999999999)#15桁\n",
        "print(9.999999999999999)#16桁は異常が出る"
      ],
      "metadata": {
        "id": "4932H7t10hBi",
        "outputId": "a6093b88-66d5-45f8-8c79-fb18404b1ce6",
        "colab": {
          "base_uri": "https://localhost:8080/"
        }
      },
      "execution_count": 3,
      "outputs": [
        {
          "output_type": "stream",
          "name": "stdout",
          "text": [
            "9.99999999999999\n",
            "9.999999999999998\n"
          ]
        }
      ]
    },
    {
      "cell_type": "markdown",
      "source": [
        "floatで足りない時はdecimalを使う<br>\n",
        "<br>\n",
        "また浮動小数点リテラルを使える<br>\n",
        "0.0123を1.23e-2と書く方法である<br>\n",
        "これも実験しよう"
      ],
      "metadata": {
        "id": "ZSfvu9Ad1AdR"
      }
    },
    {
      "cell_type": "code",
      "source": [
        "print(1234.5678)\n",
        "print(1.2345678e3)\n",
        "print(1234567.8e-3)\n",
        "#全て同じ結果"
      ],
      "metadata": {
        "id": "fx6tkTYZ1hh6",
        "outputId": "deebb525-245d-4d41-cda0-2e08e956641f",
        "colab": {
          "base_uri": "https://localhost:8080/"
        }
      },
      "execution_count": 4,
      "outputs": [
        {
          "output_type": "stream",
          "name": "stdout",
          "text": [
            "1234.5678\n",
            "1234.5678\n",
            "1234.5678\n"
          ]
        }
      ]
    },
    {
      "cell_type": "markdown",
      "source": [
        "虚数はiでなくjを使う<br>\n",
        "ただしPythonでは虚数の時は勝手に浮動小数点扱いになり有効桁数で15桁までとなる"
      ],
      "metadata": {
        "id": "X2Km_llx11Gj"
      }
    },
    {
      "cell_type": "code",
      "source": [
        "#複素数を計算しよう\n",
        "print((1+2j)*(3+4j))\n",
        "#Pythonでフーリエ変換を扱っていた時、ゼロを0と書いていたらフーリエ逆変換で元に戻らなかった\n",
        "#numpyで複素数を扱っている時は0は0+0jと書かないといけないとの事\n",
        "#一方でscipyだと0でも複素数扱いに自動的にしてくれる"
      ],
      "metadata": {
        "id": "nphi4FZ_2PHa",
        "outputId": "50c45aee-5e94-4cf0-f720-6c0349bbcce7",
        "colab": {
          "base_uri": "https://localhost:8080/"
        }
      },
      "execution_count": 5,
      "outputs": [
        {
          "output_type": "stream",
          "name": "stdout",
          "text": [
            "(-5+10j)\n"
          ]
        }
      ]
    },
    {
      "cell_type": "code",
      "source": [
        ""
      ],
      "metadata": {
        "id": "i_RftEqK03xJ"
      },
      "execution_count": null,
      "outputs": []
    }
  ]
}