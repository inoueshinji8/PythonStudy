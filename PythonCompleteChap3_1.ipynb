{
  "nbformat": 4,
  "nbformat_minor": 0,
  "metadata": {
    "colab": {
      "name": "PythonCompleteChap3-1.ipynb",
      "provenance": [],
      "authorship_tag": "ABX9TyPVadA4VVZSW/6c0NSWfW6H",
      "include_colab_link": true
    },
    "kernelspec": {
      "name": "python3",
      "display_name": "Python 3"
    },
    "language_info": {
      "name": "python"
    }
  },
  "cells": [
    {
      "cell_type": "markdown",
      "metadata": {
        "id": "view-in-github",
        "colab_type": "text"
      },
      "source": [
        "<a href=\"https://colab.research.google.com/github/inoueshinji8/PythonStudy/blob/main/PythonCompleteChap3_1.ipynb\" target=\"_parent\"><img src=\"https://colab.research.google.com/assets/colab-badge.svg\" alt=\"Open In Colab\"/></a>"
      ]
    },
    {
      "cell_type": "markdown",
      "source": [
        "# Section01\n",
        "## 扱っている値の型を意識する\n",
        "PythonはCやJavaやVisual Basicなどと違って型を明記しなくてもプログラムを書ける。しかしいきなり型が違うとエラーになることがある。<br>\n",
        "この変数の型はintか？floatか、stringか？配列か？辞書型か？特定のクラスのオブジェクトか？などを、「常に」ではなくても、作っていて問題が出たときにはすぐに意識してみることが、エラー時にすぐに問題点を見つけられるための秘訣だと個人的には考える。<br>"
      ],
      "metadata": {
        "id": "9mEpVGsjYCIp"
      }
    },
    {
      "cell_type": "markdown",
      "source": [
        "Pythonの数値型は<br>\n",
        "整数型のintと<br>\n",
        "浮動小数点型のfloatだけ<br>\n",
        "<br>\n",
        "以下、断りが無い限りPython<br><br>\n",
        "intはビット数が可変。C言語なら32ビットはint、64ビットはlongだが<br>\n",
        "Pythonでは全てint<br>\n",
        "JITによる高速化ではこれらを区別するので注意\n"
      ],
      "metadata": {
        "id": "fWOQLFUBbxMg"
      }
    },
    {
      "cell_type": "code",
      "execution_count": 1,
      "metadata": {
        "id": "2Cc4Rms-X0D7",
        "outputId": "4bdde40a-5dd7-4875-f142-71b5f16ffb67",
        "colab": {
          "base_uri": "https://localhost:8080/"
        }
      },
      "outputs": [
        {
          "output_type": "stream",
          "name": "stdout",
          "text": [
            "4\n",
            "1024\n"
          ]
        }
      ],
      "source": [
        "#2^2と2^10を試す\n",
        "print(2**2)\n",
        "print(2**10)"
      ]
    },
    {
      "cell_type": "code",
      "source": [
        "#Javaでは2^31-1までしかintで扱えず次はlongになる\n",
        "#Pythonなら大丈夫\n",
        "print(2**31)\n",
        "print(2**32)"
      ],
      "metadata": {
        "id": "kAoObmaldOCO",
        "outputId": "7d4a0bc2-1b0f-4892-b8b0-4808105325f9",
        "colab": {
          "base_uri": "https://localhost:8080/"
        }
      },
      "execution_count": 2,
      "outputs": [
        {
          "output_type": "stream",
          "name": "stdout",
          "text": [
            "2147483648\n",
            "4294967296\n"
          ]
        }
      ]
    },
    {
      "cell_type": "code",
      "source": [
        "print(\"2の100乗は\",2**100)\n",
        "print(\"2の1000乗は\",2**1000)"
      ],
      "metadata": {
        "id": "cP6DeIdWdhEf",
        "outputId": "0b5bb524-bfe5-4a13-ac09-d3f758db25e1",
        "colab": {
          "base_uri": "https://localhost:8080/"
        }
      },
      "execution_count": 3,
      "outputs": [
        {
          "output_type": "stream",
          "name": "stdout",
          "text": [
            "2の100乗は 1267650600228229401496703205376\n",
            "2の1000乗は 10715086071862673209484250490600018105614048117055336074437503883703510511249361224931983788156958581275946729175531468251871452856923140435984577574698574803934567774824230985421074605062371141877954182153046474983581941267398767559165543946077062914571196477686542167660429831652624386837205668069376\n"
          ]
        }
      ]
    },
    {
      "cell_type": "code",
      "source": [
        "#n進数を扱う\n",
        "print(123)#10進数\n",
        "print(0b1111011)#2進数\n",
        "print(0o173)#8進数\n",
        "print(0X7b)#16進数\n",
        "#全て10進数の123"
      ],
      "metadata": {
        "id": "bdOnxCsYyHQ6",
        "outputId": "be303323-d945-4f91-c391-6f2eedfa4d7e",
        "colab": {
          "base_uri": "https://localhost:8080/"
        }
      },
      "execution_count": 4,
      "outputs": [
        {
          "output_type": "stream",
          "name": "stdout",
          "text": [
            "123\n",
            "123\n",
            "123\n",
            "123\n"
          ]
        }
      ]
    },
    {
      "cell_type": "code",
      "source": [
        "#整数の数値は、_で区切っても1つの数になる\n",
        "print(1000000000000)#1兆\n",
        "print(1_000_000_000_000)#英語式3桁区切り\n",
        "print(1_0000_0000_0000)#日本語式4桁区切り"
      ],
      "metadata": {
        "id": "XTMoLunrzCRy",
        "outputId": "578e6858-1b02-46a3-892f-221a9ff1ee31",
        "colab": {
          "base_uri": "https://localhost:8080/"
        }
      },
      "execution_count": 5,
      "outputs": [
        {
          "output_type": "stream",
          "name": "stdout",
          "text": [
            "1000000000000\n",
            "1000000000000\n",
            "1000000000000\n"
          ]
        }
      ]
    },
    {
      "cell_type": "markdown",
      "source": [
        "### floatは単精度でなく倍精度\n",
        "CやJavaではfloatはIEEE754の単精度<br>\n",
        "しかしPythonではfloatでもIEEE754の倍精度<br>\n",
        "CやJavaでは倍精度のdoubleがある<br>\n",
        "<br>\n",
        "intと違いfloatは15桁まで。これを実験する"
      ],
      "metadata": {
        "id": "ryuRNznYzqUa"
      }
    },
    {
      "cell_type": "code",
      "source": [
        "print(9.99999999999999)#15桁\n",
        "print(9.999999999999999)#16桁は異常が出る"
      ],
      "metadata": {
        "id": "4932H7t10hBi",
        "outputId": "438233ce-9206-4ac2-ac92-bc5c821682ea",
        "colab": {
          "base_uri": "https://localhost:8080/"
        }
      },
      "execution_count": 6,
      "outputs": [
        {
          "output_type": "stream",
          "name": "stdout",
          "text": [
            "9.99999999999999\n",
            "9.999999999999998\n"
          ]
        }
      ]
    },
    {
      "cell_type": "markdown",
      "source": [
        "floatで足りない時はdecimalを使う<br>\n",
        "<br>\n",
        "また浮動小数点リテラルを使える<br>\n",
        "0.0123を1.23e-2と書く方法である<br>\n",
        "これも実験しよう"
      ],
      "metadata": {
        "id": "ZSfvu9Ad1AdR"
      }
    },
    {
      "cell_type": "code",
      "source": [
        "print(1234.5678)\n",
        "print(1.2345678e3)\n",
        "print(1234567.8e-3)\n",
        "#全て同じ結果"
      ],
      "metadata": {
        "id": "fx6tkTYZ1hh6",
        "outputId": "e03b0cd8-e122-4f44-d530-ba591d0eb88e",
        "colab": {
          "base_uri": "https://localhost:8080/"
        }
      },
      "execution_count": 7,
      "outputs": [
        {
          "output_type": "stream",
          "name": "stdout",
          "text": [
            "1234.5678\n",
            "1234.5678\n",
            "1234.5678\n"
          ]
        }
      ]
    },
    {
      "cell_type": "markdown",
      "source": [
        "虚数はiでなくjを使う<br>\n",
        "ただしPythonでは虚数の時は勝手に浮動小数点扱いになり有効桁数で15桁までとなる"
      ],
      "metadata": {
        "id": "X2Km_llx11Gj"
      }
    },
    {
      "cell_type": "code",
      "source": [
        "#複素数を計算しよう\n",
        "print((1+2j)*(3+4j))\n",
        "#Pythonでフーリエ変換を扱っていた時、ゼロを0と書いていたらフーリエ逆変換で元に戻らなかった\n",
        "#numpyで複素数を扱っている時は0は0+0jと書かないといけないとの事\n",
        "#一方でscipyだと0でも複素数扱いに自動的にしてくれる"
      ],
      "metadata": {
        "id": "nphi4FZ_2PHa",
        "outputId": "cc352726-f53b-46eb-8e54-f8e65de5d20e",
        "colab": {
          "base_uri": "https://localhost:8080/"
        }
      },
      "execution_count": 8,
      "outputs": [
        {
          "output_type": "stream",
          "name": "stdout",
          "text": [
            "(-5+10j)\n"
          ]
        }
      ]
    },
    {
      "cell_type": "markdown",
      "source": [
        "### 文字列はシングルクォーテーション''で括ってもダブルクォーテーション\"\"で括ってもいい\n",
        "strで表す"
      ],
      "metadata": {
        "id": "VeqE9-egX2II"
      }
    },
    {
      "cell_type": "code",
      "source": [
        "print('Python')\n",
        "print(\"Python\")"
      ],
      "metadata": {
        "id": "i_RftEqK03xJ",
        "outputId": "1b3a417d-009c-44ae-f589-cd31561ca1c8",
        "colab": {
          "base_uri": "https://localhost:8080/"
        }
      },
      "execution_count": 9,
      "outputs": [
        {
          "output_type": "stream",
          "name": "stdout",
          "text": [
            "Python\n",
            "Python\n"
          ]
        }
      ]
    },
    {
      "cell_type": "markdown",
      "source": [
        "シングルクォーテーション、ではなくアポストロフィーを含んだ文章では実質シングルクォーテーションと区別がつかない<br>\n",
        "ダブルクォーテーションで括る<br>\n",
        "逆にダブルクォーテーションを含む文章はシングルクォーテーションで括る"
      ],
      "metadata": {
        "id": "bUHnGzecYYA_"
      }
    },
    {
      "cell_type": "code",
      "source": [
        "print(\"Can't open the file.\")\n",
        "print('Loading \"Hello.py\"')"
      ],
      "metadata": {
        "id": "6Ff64Le2YtJI",
        "outputId": "738fc6dd-71ad-4a9e-9c40-06e6677bb178",
        "colab": {
          "base_uri": "https://localhost:8080/"
        }
      },
      "execution_count": 10,
      "outputs": [
        {
          "output_type": "stream",
          "name": "stdout",
          "text": [
            "Can't open the file.\n",
            "Loading \"Hello.py\"\n"
          ]
        }
      ]
    },
    {
      "cell_type": "code",
      "source": [
        "#しかし混ざっているとどっちもダメ\n",
        "print(\"Can't run \"hello.py\"\")\n",
        "print('Can't run \"hello.py\"')"
      ],
      "metadata": {
        "id": "bvWEOJFBY9sB",
        "outputId": "d0155342-435d-4781-c0b2-1538ef7e9ea5",
        "colab": {
          "base_uri": "https://localhost:8080/",
          "height": 138
        }
      },
      "execution_count": 11,
      "outputs": [
        {
          "output_type": "error",
          "ename": "SyntaxError",
          "evalue": "ignored",
          "traceback": [
            "\u001b[0;36m  File \u001b[0;32m\"<ipython-input-11-ad2923664f65>\"\u001b[0;36m, line \u001b[0;32m2\u001b[0m\n\u001b[0;31m    print(\"Can't run \"hello.py\"\")\u001b[0m\n\u001b[0m                          ^\u001b[0m\n\u001b[0;31mSyntaxError\u001b[0m\u001b[0;31m:\u001b[0m invalid syntax\n"
          ]
        }
      ]
    },
    {
      "cell_type": "markdown",
      "source": [
        "こういう時は\\記号を厄介な文字の前に書く。<br>\n",
        "￥記号、あるいは\\(バックスラッシュ)<br>\n",
        "これを中のクォーテーション各種の前に書く"
      ],
      "metadata": {
        "id": "P2fNlfxDZVwP"
      }
    },
    {
      "cell_type": "code",
      "source": [
        "print(\"Can't run \\\"hello.py\\\"\")\n",
        "print('Can\\'t run \"hello.py\"')"
      ],
      "metadata": {
        "id": "X5owp6qDZvfY",
        "outputId": "162508de-d8cc-44ce-e637-9627aa137170",
        "colab": {
          "base_uri": "https://localhost:8080/"
        }
      },
      "execution_count": 12,
      "outputs": [
        {
          "output_type": "stream",
          "name": "stdout",
          "text": [
            "Can't run \"hello.py\"\n",
            "Can't run \"hello.py\"\n"
          ]
        }
      ]
    },
    {
      "cell_type": "markdown",
      "source": [
        "円記号またはバックスラッシュを使って、そのままでは表記できない、あるいは特殊な意味を持つ文字を書く記法を<br>\n",
        "エスケープシーケンスと呼ぶ"
      ],
      "metadata": {
        "id": "M5shVoyhaJRR"
      }
    },
    {
      "cell_type": "code",
      "source": [
        "print(\"\\\\\")#\\\n",
        "print(\"\\'\")#'\n",
        "print(\"\\\"\")#\"\"\n",
        "print(\"\\n\")#改行。\n",
        "print(\"\\t\")#タブ\n",
        "#読めないなら、クリックしたまま選択してみましょう"
      ],
      "metadata": {
        "id": "z049CJbxaaOv",
        "outputId": "9cb5e758-4ff6-4b6b-f17f-9f9348a611c3",
        "colab": {
          "base_uri": "https://localhost:8080/"
        }
      },
      "execution_count": 13,
      "outputs": [
        {
          "output_type": "stream",
          "name": "stdout",
          "text": [
            "\\\n",
            "'\n",
            "\"\n",
            "\n",
            "\n",
            "\t\n"
          ]
        }
      ]
    },
    {
      "cell_type": "markdown",
      "source": [
        "###文字列リテラルの連結\n",
        "\n",
        "複数の文字列は自動的に連結される"
      ],
      "metadata": {
        "id": "7jEQ_aFLa8hw"
      }
    },
    {
      "cell_type": "code",
      "source": [
        "'Hello,' \"Python\""
      ],
      "metadata": {
        "id": "8mKEuf7PbFnx",
        "outputId": "e6090c5d-b208-4443-8596-6646fb946be1",
        "colab": {
          "base_uri": "https://localhost:8080/",
          "height": 35
        }
      },
      "execution_count": 14,
      "outputs": [
        {
          "output_type": "execute_result",
          "data": {
            "application/vnd.google.colaboratory.intrinsic+json": {
              "type": "string"
            },
            "text/plain": [
              "'Hello,Python'"
            ]
          },
          "metadata": {},
          "execution_count": 14
        }
      ]
    },
    {
      "cell_type": "markdown",
      "source": [
        "1行に入らない文字列をあえて区切って入力する"
      ],
      "metadata": {
        "id": "umWN1VdhbU2Y"
      }
    },
    {
      "cell_type": "code",
      "source": [
        "print(\n",
        "'1行に入らない長いテキストを書くとき、'\n",
        "'複数の文字列リテラルを並べると良い'\n",
        ")"
      ],
      "metadata": {
        "id": "odGdD_hHbctI",
        "outputId": "c197814c-8ad6-4d96-d030-7c15989bca1a",
        "colab": {
          "base_uri": "https://localhost:8080/"
        }
      },
      "execution_count": 17,
      "outputs": [
        {
          "output_type": "stream",
          "name": "stdout",
          "text": [
            "1行に入らない長いテキストを書くとき、複数の文字列リテラルを並べると良い\n"
          ]
        }
      ]
    },
    {
      "cell_type": "code",
      "source": [
        "#あるいは自分は+で結合するのが好き\n",
        "'Hello,' + \"Python\"\n",
        "#ただし文字列と変数だと、特に数値型ならstr()で囲むなどする"
      ],
      "metadata": {
        "id": "fnTcXoGTbueQ",
        "outputId": "51d75ffe-9367-421d-eaf8-7cc4ac212aec",
        "colab": {
          "base_uri": "https://localhost:8080/",
          "height": 35
        }
      },
      "execution_count": 18,
      "outputs": [
        {
          "output_type": "execute_result",
          "data": {
            "application/vnd.google.colaboratory.intrinsic+json": {
              "type": "string"
            },
            "text/plain": [
              "'Hello,Python'"
            ]
          },
          "metadata": {},
          "execution_count": 18
        }
      ]
    },
    {
      "cell_type": "markdown",
      "source": [
        "###複数行のテキスト\n",
        "3個のシングルクォートか3個のダブルクォートで囲む"
      ],
      "metadata": {
        "id": "VKiEVo6toa3_"
      }
    },
    {
      "cell_type": "code",
      "source": [
        "print('''\n",
        "複数行でテキストを書くときは\n",
        "三重クォート文字列を使う\n",
        "''')"
      ],
      "metadata": {
        "id": "XEMYCQ9Uoo8a",
        "outputId": "2d3e8700-175b-4444-81a3-93ff27ad6f7b",
        "colab": {
          "base_uri": "https://localhost:8080/"
        }
      },
      "execution_count": 19,
      "outputs": [
        {
          "output_type": "stream",
          "name": "stdout",
          "text": [
            "\n",
            "複数行でテキストを書くときは\n",
            "三重クォート文字列を使う\n",
            "\n"
          ]
        }
      ]
    },
    {
      "cell_type": "markdown",
      "source": [
        "これだと上下に空白が入る<br>\n",
        "だから￥マークを入れると良い"
      ],
      "metadata": {
        "id": "TXIP5mfzpCA2"
      }
    },
    {
      "cell_type": "code",
      "source": [
        "print('''\\\n",
        "複数行でテキストを書くときは\n",
        "30クォート文字列を使う\\\n",
        "''')"
      ],
      "metadata": {
        "id": "6i_GmERppK-u",
        "outputId": "c8fedf3a-613d-460c-f982-0998136263c9",
        "colab": {
          "base_uri": "https://localhost:8080/"
        }
      },
      "execution_count": 20,
      "outputs": [
        {
          "output_type": "stream",
          "name": "stdout",
          "text": [
            "複数行でテキストを書くときは\n",
            "30クォート文字列を使う\n"
          ]
        }
      ]
    },
    {
      "cell_type": "markdown",
      "source": [
        "###パスの文字列リテラル\n",
        "Windowsのパス、というかファイルやフォルダの所在を表す文字列は<br>\n",
        "ファイル階層間の仕切りを\\\\\\とバックスラッシュ2回にする<br>\n",
        "(なおこれをテキストに書くのに、エスケープシーケンスのため￥￥￥と3回書きました)"
      ],
      "metadata": {
        "id": "ppw2GTChpS31"
      }
    },
    {
      "cell_type": "code",
      "source": [
        "print(\"C:\\\\Users\\\\myname\\\\desktop\")"
      ],
      "metadata": {
        "id": "xq4lzUhupSFz",
        "outputId": "11bc12ef-1dcb-4319-cdbe-8b0f3b47f67b",
        "colab": {
          "base_uri": "https://localhost:8080/"
        }
      },
      "execution_count": 21,
      "outputs": [
        {
          "output_type": "stream",
          "name": "stdout",
          "text": [
            "C:\\Users\\myname\\desktop\n"
          ]
        }
      ]
    },
    {
      "cell_type": "markdown",
      "source": [
        "これは面倒なのでraw文字列という方法がある<br>\n",
        "r'文字列A'<br>\n",
        "r\"文字列B\"<br>\n",
        "r'''文字列C'''<br>"
      ],
      "metadata": {
        "id": "zT-Q8FxIqEIr"
      }
    },
    {
      "cell_type": "code",
      "source": [
        "print(r'C:\\Users\\myname\\desktop')\n"
      ],
      "metadata": {
        "id": "5TtP59wRqc11",
        "outputId": "6d1c26c9-08f6-47a3-f593-18008568c2b7",
        "colab": {
          "base_uri": "https://localhost:8080/"
        }
      },
      "execution_count": 22,
      "outputs": [
        {
          "output_type": "stream",
          "name": "stdout",
          "text": [
            "C:\\Users\\myname\\desktop\n"
          ]
        }
      ]
    },
    {
      "cell_type": "markdown",
      "source": [
        "###比較、真偽値、true/false\n",
        "Boolean型<br>\n",
        "A == B 等しい<br>\n",
        "A != B 等しくない<br>\n",
        "A < B Bが大きい<br>\n",
        "A > B Aが大きい<br>\n",
        "A <= B 以下 <br>\n",
        "A >= B 以上"
      ],
      "metadata": {
        "id": "DjtbkatxrBBg"
      }
    },
    {
      "cell_type": "code",
      "source": [
        "print(123 == 456)\n",
        "print(123 != 456)\n",
        "print(123 < 456)\n",
        "print(123 > 456)\n",
        "print(123 <= 456)\n",
        "print(123 >= 456)"
      ],
      "metadata": {
        "id": "xZ6Xk9iCrwd9",
        "outputId": "14857b5d-81f1-4bdc-efe0-55191104c60d",
        "colab": {
          "base_uri": "https://localhost:8080/"
        }
      },
      "execution_count": 23,
      "outputs": [
        {
          "output_type": "stream",
          "name": "stdout",
          "text": [
            "False\n",
            "True\n",
            "True\n",
            "False\n",
            "True\n",
            "False\n"
          ]
        }
      ]
    },
    {
      "cell_type": "code",
      "source": [
        "#文字列で比較\n",
        "print('apple' == 'banana')\n",
        "print('apple' != 'banana')\n",
        "print('apple' < 'banana')\n",
        "print('apple' > 'banana')\n",
        "print('apple' <= 'banana')\n",
        "print('apple' >= 'banana')\n",
        "#ユニコード表で後ろにある方が大きい"
      ],
      "metadata": {
        "id": "tbT8mzymsDDW",
        "outputId": "a68babf2-abe4-4ffc-ea9b-bdb46b32b9ab",
        "colab": {
          "base_uri": "https://localhost:8080/"
        }
      },
      "execution_count": 24,
      "outputs": [
        {
          "output_type": "stream",
          "name": "stdout",
          "text": [
            "False\n",
            "True\n",
            "True\n",
            "False\n",
            "True\n",
            "False\n"
          ]
        }
      ]
    },
    {
      "cell_type": "markdown",
      "source": [
        "ブール演算子を使った比較<br>\n",
        "and: A and B<br>\n",
        "or: A or B<br>\n",
        "not: not A AがFalse"
      ],
      "metadata": {
        "id": "raHWiOPQsgXE"
      }
    },
    {
      "cell_type": "code",
      "source": [
        "print(123<456 and 456<789)\n",
        "print(123<456 or 456<789)\n",
        "print(not 123 < 456)#123より456が大きい、のは間違いだ。真か偽か？"
      ],
      "metadata": {
        "id": "XnBFMjoTsyV2",
        "outputId": "0c005be3-6131-4f2e-f4d0-53f1c1ca2ad3",
        "colab": {
          "base_uri": "https://localhost:8080/"
        }
      },
      "execution_count": 25,
      "outputs": [
        {
          "output_type": "stream",
          "name": "stdout",
          "text": [
            "True\n",
            "True\n",
            "False\n"
          ]
        }
      ]
    },
    {
      "cell_type": "markdown",
      "source": [
        "A and (B or C)はできない<br>\n",
        "(A and B) or (A and C)"
      ],
      "metadata": {
        "id": "l6uZIn4_UoLD"
      }
    },
    {
      "cell_type": "code",
      "source": [
        "123 < 456 < 789"
      ],
      "metadata": {
        "id": "7AGrRpLwtv0Q",
        "outputId": "f40660f6-d792-4b21-d974-c910319715c0",
        "colab": {
          "base_uri": "https://localhost:8080/"
        }
      },
      "execution_count": 26,
      "outputs": [
        {
          "output_type": "execute_result",
          "data": {
            "text/plain": [
              "True"
            ]
          },
          "metadata": {},
          "execution_count": 26
        }
      ]
    },
    {
      "cell_type": "markdown",
      "source": [
        "CやJavaなら123 < 456 && 456 < 789なんて書く<br>\n",
        "分けて書かないといけない<br>\n",
        "ついでに\\&単独だとビット演算の積集合になる<br>\n",
        "和集合は|だけ"
      ],
      "metadata": {
        "id": "YsEPeyp2t1BK"
      }
    },
    {
      "cell_type": "markdown",
      "source": [
        "###ショートサーキット\n",
        "123 < 456 and print('b')だけでいい"
      ],
      "metadata": {
        "id": "6_UE1HiNugB1"
      }
    },
    {
      "cell_type": "code",
      "source": [
        "123 < 456 and print('b')\n",
        "123 > 456 and print('b')\n",
        "#これだけで真偽判定かつ結果出力"
      ],
      "metadata": {
        "id": "mU-cnUhFucm8",
        "outputId": "3355601e-21de-4e7c-921f-1bf36771f4a1",
        "colab": {
          "base_uri": "https://localhost:8080/"
        }
      },
      "execution_count": 27,
      "outputs": [
        {
          "output_type": "stream",
          "name": "stdout",
          "text": [
            "b\n"
          ]
        },
        {
          "output_type": "execute_result",
          "data": {
            "text/plain": [
              "False"
            ]
          },
          "metadata": {},
          "execution_count": 27
        }
      ]
    },
    {
      "cell_type": "markdown",
      "source": [
        "123 < 456 がTrue<br>\n",
        "そして右側を処理する<br>\n",
        "<br>\n",
        "123 > 456 がFalse<br>\n",
        "プログラムはこれで処理が1つ間違ってた、なら<br>\n",
        "true and true なら処理するものなので<br>\n",
        "false and false だと処理してくれない"
      ],
      "metadata": {
        "id": "jeTPsOoMvNdN"
      }
    },
    {
      "cell_type": "code",
      "source": [
        "#一方でor だと、一方がfalseでももう一方が正しいなら！と処理してくれる\n",
        "print(123 < 456 or print('b'))#trueは省略されがちだな\n",
        "123 > 456 or print('b')"
      ],
      "metadata": {
        "id": "nGE0yXsfvwov",
        "outputId": "cdc9d6c8-9800-4f08-90dd-f8eaa7ba2929",
        "colab": {
          "base_uri": "https://localhost:8080/"
        }
      },
      "execution_count": 28,
      "outputs": [
        {
          "output_type": "stream",
          "name": "stdout",
          "text": [
            "True\n",
            "b\n"
          ]
        }
      ]
    },
    {
      "cell_type": "markdown",
      "source": [
        "##型の間を行き来する\n",
        "int,float,string,boolを行き来できるようにしよう<br>\n",
        "Cとかだとcastという(int)aで変数が整数型になったり<br>\n",
        "Pythonではint(),str(),float(),bool()"
      ],
      "metadata": {
        "id": "3UYJ74IBwRI8"
      }
    },
    {
      "cell_type": "code",
      "source": [
        "#float型をint型に変換\n",
        "print(int(1.2))\n",
        "print(int(-1.2))"
      ],
      "metadata": {
        "id": "LzoT6BWI8vqI",
        "outputId": "42678d85-6341-4c0f-bae0-87afde123327",
        "colab": {
          "base_uri": "https://localhost:8080/"
        }
      },
      "execution_count": 29,
      "outputs": [
        {
          "output_type": "stream",
          "name": "stdout",
          "text": [
            "1\n",
            "-1\n"
          ]
        }
      ]
    },
    {
      "cell_type": "code",
      "source": [
        "#でもmathライブラリのfloorやceilを使ったほうが良い。切り捨てと切り上げ\n",
        "import math\n",
        "print(math.floor(1.2))\n",
        "print(math.ceil(1.2))\n",
        "print(math.floor(-1.2))\n",
        "print(math.ceil(-1.2))"
      ],
      "metadata": {
        "id": "088rEBB99bwr",
        "outputId": "2d2ed2c8-6607-4715-a717-da262b0ec505",
        "colab": {
          "base_uri": "https://localhost:8080/"
        }
      },
      "execution_count": 30,
      "outputs": [
        {
          "output_type": "stream",
          "name": "stdout",
          "text": [
            "1\n",
            "2\n",
            "-2\n",
            "-1\n"
          ]
        }
      ]
    },
    {
      "cell_type": "code",
      "source": [
        "#string型をint型に\n",
        "str1 = \"123\"\n",
        "print(int(str1))\n",
        "b=int(str1) + 7\n",
        "print(b)\n",
        "#print(int(\"abc\"))エラー"
      ],
      "metadata": {
        "id": "KLyoH8KJ9_1z",
        "outputId": "8ef888f5-c301-40d8-d0ed-faead780572a",
        "colab": {
          "base_uri": "https://localhost:8080/"
        }
      },
      "execution_count": 31,
      "outputs": [
        {
          "output_type": "stream",
          "name": "stdout",
          "text": [
            "123\n",
            "130\n"
          ]
        }
      ]
    },
    {
      "cell_type": "code",
      "source": [
        "#True,Falseも整数にできる。\n",
        "print(int(True))\n",
        "print(int(False))"
      ],
      "metadata": {
        "id": "5iCni61q-coS",
        "outputId": "dcc46f71-3134-4fbb-c382-1d56873a04b5",
        "colab": {
          "base_uri": "https://localhost:8080/"
        }
      },
      "execution_count": 32,
      "outputs": [
        {
          "output_type": "stream",
          "name": "stdout",
          "text": [
            "1\n",
            "0\n"
          ]
        }
      ]
    },
    {
      "cell_type": "code",
      "source": [
        "#浮動小数点に変えるfloat()\n",
        "print(float(123))\n",
        "print(float('125'))\n",
        "print(float(True))\n",
        "print(float(False))"
      ],
      "metadata": {
        "id": "oxBuRv_Y-o_B",
        "outputId": "ab3d962f-31f2-48bf-bf85-a3b82590ab9d",
        "colab": {
          "base_uri": "https://localhost:8080/"
        }
      },
      "execution_count": 33,
      "outputs": [
        {
          "output_type": "stream",
          "name": "stdout",
          "text": [
            "123.0\n",
            "125.0\n",
            "1.0\n",
            "0.0\n"
          ]
        }
      ]
    },
    {
      "cell_type": "code",
      "source": [
        "#文字列に変えるstr()\n",
        "print(str(123))\n",
        "print(str('125'))\n",
        "print(str(True))\n",
        "print(str(False))"
      ],
      "metadata": {
        "id": "B3k6w_mM-5yA",
        "outputId": "51d2fe39-e2dd-4a17-b7c4-070beacfd2cd",
        "colab": {
          "base_uri": "https://localhost:8080/"
        }
      },
      "execution_count": 34,
      "outputs": [
        {
          "output_type": "stream",
          "name": "stdout",
          "text": [
            "123\n",
            "125\n",
            "True\n",
            "False\n"
          ]
        }
      ]
    },
    {
      "cell_type": "code",
      "source": [
        "str(True)\n",
        "#これに関してはこっちの方が分かり易い"
      ],
      "metadata": {
        "id": "10XxWW2m_I9i",
        "outputId": "c05d9687-6666-421b-bdf5-7a4d2008e594",
        "colab": {
          "base_uri": "https://localhost:8080/",
          "height": 35
        }
      },
      "execution_count": 35,
      "outputs": [
        {
          "output_type": "execute_result",
          "data": {
            "application/vnd.google.colaboratory.intrinsic+json": {
              "type": "string"
            },
            "text/plain": [
              "'True'"
            ]
          },
          "metadata": {},
          "execution_count": 35
        }
      ]
    },
    {
      "cell_type": "code",
      "source": [
        "#自分が出力で良くやる\n",
        "print(\"答えは\" + str(3))"
      ],
      "metadata": {
        "id": "NPQztSah_SQQ",
        "outputId": "fafb05de-1da4-46c9-8e5b-c771e168f59c",
        "colab": {
          "base_uri": "https://localhost:8080/"
        }
      },
      "execution_count": 36,
      "outputs": [
        {
          "output_type": "stream",
          "name": "stdout",
          "text": [
            "答えは3\n"
          ]
        }
      ]
    },
    {
      "cell_type": "code",
      "source": [
        "#真偽値変換のbool()\n",
        "print(bool(123))\n",
        "print(bool(0))\n",
        "print(bool(1.23))\n",
        "print(bool(0.0))\n",
        "print(bool('abc'))\n",
        "print(bool(''))\n",
        "#0とか\"\"だとfalse"
      ],
      "metadata": {
        "id": "TxEZWX4d_jHs",
        "outputId": "a1835cf0-e935-4a43-a92e-84509509e0dd",
        "colab": {
          "base_uri": "https://localhost:8080/"
        }
      },
      "execution_count": 37,
      "outputs": [
        {
          "output_type": "stream",
          "name": "stdout",
          "text": [
            "True\n",
            "False\n",
            "True\n",
            "False\n",
            "True\n",
            "False\n"
          ]
        }
      ]
    },
    {
      "cell_type": "code",
      "source": [
        "str(\"False\")"
      ],
      "metadata": {
        "id": "bJr62mkA_8Wa",
        "outputId": "188b2603-b94e-4095-dcf8-cc8bc5253547",
        "colab": {
          "base_uri": "https://localhost:8080/",
          "height": 35
        }
      },
      "execution_count": 38,
      "outputs": [
        {
          "output_type": "execute_result",
          "data": {
            "application/vnd.google.colaboratory.intrinsic+json": {
              "type": "string"
            },
            "text/plain": [
              "'False'"
            ]
          },
          "metadata": {},
          "execution_count": 38
        }
      ]
    },
    {
      "cell_type": "code",
      "source": [
        "bool('False')\n",
        "#文字列入ってるもんな"
      ],
      "metadata": {
        "id": "4GNI3KZMAINz",
        "outputId": "d53ba934-126f-4955-b5f0-e2495629449e",
        "colab": {
          "base_uri": "https://localhost:8080/"
        }
      },
      "execution_count": 39,
      "outputs": [
        {
          "output_type": "execute_result",
          "data": {
            "text/plain": [
              "True"
            ]
          },
          "metadata": {},
          "execution_count": 39
        }
      ]
    },
    {
      "cell_type": "markdown",
      "source": [
        "#section02 後で必要な値は変数に保存しておく\n",
        "\n",
        "##値を代入すれば新しい変数ができる\n",
        "\n",
        "x=123<br>\n",
        "tempstr=\"Hello Python\""
      ],
      "metadata": {
        "id": "OWbMIgRwSlrW"
      }
    },
    {
      "cell_type": "code",
      "source": [
        "x=123\n",
        "print(x)\n",
        "y=z=4.56#複数の変数に同時代入\n",
        "print(\"y\",y)\n",
        "print(\"z\",z)"
      ],
      "metadata": {
        "id": "lbLh_wKmTASO",
        "outputId": "ae582b42-ab7f-4a29-89cb-b39ef469abbe",
        "colab": {
          "base_uri": "https://localhost:8080/"
        }
      },
      "execution_count": 40,
      "outputs": [
        {
          "output_type": "stream",
          "name": "stdout",
          "text": [
            "123\n",
            "y 4.56\n",
            "z 4.56\n"
          ]
        }
      ]
    },
    {
      "cell_type": "code",
      "source": [
        "#複数の変数に異なる値を同時代入\n",
        "x,y,z=123,4.56,'789'\n",
        "print(x)\n",
        "print(y)\n",
        "print(z)\n",
        "print(type(z))"
      ],
      "metadata": {
        "id": "wArWFZ9UTcPw",
        "outputId": "8197c7ba-495a-43c9-b54c-2c5348d19e4f",
        "colab": {
          "base_uri": "https://localhost:8080/"
        }
      },
      "execution_count": 41,
      "outputs": [
        {
          "output_type": "stream",
          "name": "stdout",
          "text": [
            "123\n",
            "4.56\n",
            "789\n",
            "<class 'str'>\n"
          ]
        }
      ]
    },
    {
      "cell_type": "code",
      "source": [
        "#再代入\n",
        "x=\"Python\"\n",
        "print(x)\n",
        "x=3\n",
        "print(x)\n",
        "print(type(x))"
      ],
      "metadata": {
        "id": "NVEvDyzXT0dj",
        "outputId": "7c591b1e-57f5-4ba2-e593-43a7753866c9",
        "colab": {
          "base_uri": "https://localhost:8080/"
        }
      },
      "execution_count": 42,
      "outputs": [
        {
          "output_type": "stream",
          "name": "stdout",
          "text": [
            "Python\n",
            "3\n",
            "<class 'int'>\n"
          ]
        }
      ]
    },
    {
      "cell_type": "markdown",
      "source": [
        "#変数は値のオブジェクトを参照している"
      ],
      "metadata": {
        "id": "WkixXG16UFOG"
      }
    },
    {
      "cell_type": "markdown",
      "source": [
        "C/C++の場合:<br>\n",
        "変数のメモリ領域が確保され、そこに変数の値が対応する<br>\n",
        "main内だとその中の変数は自動記憶域に、他の関数内で宣言されたり、<br>\n",
        "static宣言された変数は静的記憶域に保存される<br>\n",
        "ポインタを使うと、動的記憶域に保存され、プログラマの意図している所で自在に変数を発生させたり消去させたりできて、メモリを節約できる<br>\n",
        "<br>\n",
        "Pythonでは全ての型はオブジェクトであり、変数と参照先が保存される<br>\n",
        "y=z=4.56のような場合、yとzは値が同じであるだけでなく、その記憶域も同じ、<br>\n",
        "つまりアドレスも同じである<br>\n",
        "<br>\n",
        "\n",
        "x=123<br>\n",
        "この時に何が起こっているか<br>\n",
        "\n",
        "1)整数123のオブジェクトをメモリ上に生成する<br>\n",
        "2)変数の一覧から変数名xを探し、見つからない時はxを一覧に登録する<br>\n",
        "3)xの参照先として1)のアドレスを記録することで、xを123に紐づけする<br>\n",
        "\n",
        "id()関数<br>\n",
        "変数のアドレスを返す"
      ],
      "metadata": {
        "id": "6lD2NL6ckoFM"
      }
    },
    {
      "cell_type": "code",
      "source": [
        "x=123\n",
        "y=z=4.56\n",
        "print(id(x))\n",
        "print(id(y))\n",
        "print(id(z))\n",
        "#yとzのアドレスが同じ"
      ],
      "metadata": {
        "id": "3OV5JNC3kRWT",
        "outputId": "6af9bb54-c4d1-4e05-fc33-8eb443fcf77e",
        "colab": {
          "base_uri": "https://localhost:8080/"
        }
      },
      "execution_count": 43,
      "outputs": [
        {
          "output_type": "stream",
          "name": "stdout",
          "text": [
            "93995517188416\n",
            "140200698202704\n",
            "140200698202704\n"
          ]
        }
      ]
    },
    {
      "cell_type": "markdown",
      "source": [
        "値が同じであるだけでなくオブジェクトが同じ、というのが後で影響する<br>\n",
        "is演算子は、<br>\n",
        "A is B<br>\n",
        "として、AとBがオブジェクトとして同じである、つまりアドレスまで同じであるという<br>\n",
        "チェックをして、真ならTrue,偽ならFalseを返す<br>\n",
        "<br>\n",
        "逆にis not演算子は、<br>\n",
        "A is not B<br>\n",
        "として、AとBがオブジェクトとして違う、つまりアドレスが違うという<br>\n",
        "チェックをして、違うなら「違うという事実が正しいので」True,<br>\n",
        "同じなら「違うという事実が偽なので」Falseを返す<br>"
      ],
      "metadata": {
        "id": "3RxVXYfDoOi9"
      }
    },
    {
      "cell_type": "code",
      "source": [
        "x=123\n",
        "y=123.0\n",
        "print(x is y)\n",
        "print(x is not y)\n",
        "print(x == y)\n",
        "print(x != y)\n",
        "print(id(x))\n",
        "print(id(y))"
      ],
      "metadata": {
        "id": "_Kk_iQ00pUFd",
        "outputId": "3303740a-cff4-414e-dfce-bd7bbe92b579",
        "colab": {
          "base_uri": "https://localhost:8080/"
        }
      },
      "execution_count": 44,
      "outputs": [
        {
          "output_type": "stream",
          "name": "stdout",
          "text": [
            "False\n",
            "True\n",
            "True\n",
            "False\n",
            "93995517188416\n",
            "140200697946448\n"
          ]
        }
      ]
    },
    {
      "cell_type": "markdown",
      "source": [
        "値としては同じ(自動的に同じ浮動小数点型になる)<br>\n",
        "オブジェクトとしては違う<br>\n",
        "のでこうなる<br>\n",
        "\n",
        "ややこしい事にJavaでは<br>\n",
        "==と!=でオブジェクトを比較し<br>\n",
        "equalsメソッドで値を比較するとの事<br>\n",
        "他言語から移って来るとこういう所で混乱を生じる人がいる<br>\n",
        "<br>\n",
        "JavaScriptやPHPでは、オブジェクトが同じかどうかの比較は===という三重イコールを使う"
      ],
      "metadata": {
        "id": "twPzI2Eyphdi"
      }
    },
    {
      "cell_type": "markdown",
      "source": [
        "##変数と定数は名前で区別する\n",
        "\n",
        "変数名、関数名などを「識別子」という<br>\n",
        "\n",
        "他の言語だと「定数」を定められるがPythonはそれはできない"
      ],
      "metadata": {
        "id": "QYycIqONUSCA"
      }
    },
    {
      "cell_type": "code",
      "source": [
        "number=123\n",
        "number"
      ],
      "metadata": {
        "id": "_Yp2pfSBUJsO",
        "outputId": "c7c7a813-d2e8-4204-e7ea-174803860457",
        "colab": {
          "base_uri": "https://localhost:8080/"
        }
      },
      "execution_count": null,
      "outputs": [
        {
          "output_type": "execute_result",
          "data": {
            "text/plain": [
              "123"
            ]
          },
          "metadata": {},
          "execution_count": 5
        }
      ]
    },
    {
      "cell_type": "code",
      "source": [
        "text=\"hello\"\n",
        "text"
      ],
      "metadata": {
        "id": "fzEm6goxU3iO",
        "outputId": "cd9c60af-4e83-4e10-f101-390e54f00e01",
        "colab": {
          "base_uri": "https://localhost:8080/",
          "height": 35
        }
      },
      "execution_count": null,
      "outputs": [
        {
          "output_type": "execute_result",
          "data": {
            "application/vnd.google.colaboratory.intrinsic+json": {
              "type": "string"
            },
            "text/plain": [
              "'hello'"
            ]
          },
          "metadata": {},
          "execution_count": 6
        }
      ]
    },
    {
      "cell_type": "code",
      "source": [
        "合計 = 123+456+789\n",
        "合計\n",
        "#ただし変数名は半角英数小文字推奨"
      ],
      "metadata": {
        "id": "YX_AIZdDU6vC",
        "outputId": "bd41f4b6-5aaf-4884-d132-6a0c75f46ed5",
        "colab": {
          "base_uri": "https://localhost:8080/"
        }
      },
      "execution_count": null,
      "outputs": [
        {
          "output_type": "execute_result",
          "data": {
            "text/plain": [
              "1368"
            ]
          },
          "metadata": {},
          "execution_count": 7
        }
      ]
    },
    {
      "cell_type": "code",
      "source": [
        "#PEP8では変数名は半角英数小文字推奨\n",
        "#複数単語では_で区切ろう\n",
        "error_message = 'File not found.'\n",
        "error_message"
      ],
      "metadata": {
        "id": "lsTXwOpIVQTF",
        "outputId": "869129fd-b7fa-48fb-e6cc-ca2dd837bd25",
        "colab": {
          "base_uri": "https://localhost:8080/",
          "height": 35
        }
      },
      "execution_count": null,
      "outputs": [
        {
          "output_type": "execute_result",
          "data": {
            "application/vnd.google.colaboratory.intrinsic+json": {
              "type": "string"
            },
            "text/plain": [
              "'File not found.'"
            ]
          },
          "metadata": {},
          "execution_count": 8
        }
      ]
    },
    {
      "cell_type": "markdown",
      "source": [
        "キーワードと同じ識別子は使えない<br>\n",
        "ここだけの話、strという名前を文字列変数に使いがちだが<br>\n",
        "str()と勘違いしてエディタが色分けしたりする<br>"
      ],
      "metadata": {
        "id": "cnvlfsQuVpIs"
      }
    },
    {
      "cell_type": "markdown",
      "source": [
        "Cならconstで定数(#defineもあったか)<br>\n",
        "Javaならfinalをつけると定数<br>\n",
        "Pythonは、定数はない<br>\n",
        "###とりあえず大文字を使って定数としよう(PEP8推奨)"
      ],
      "metadata": {
        "id": "LwvDGhqjWHcQ"
      }
    },
    {
      "cell_type": "code",
      "source": [
        "MAX_LENGTH = 10000\n",
        "MAX_LENGTH"
      ],
      "metadata": {
        "id": "ZNm0aGDEWfLo",
        "outputId": "27fa31fb-96d7-4e40-c121-dd7eaab31819",
        "colab": {
          "base_uri": "https://localhost:8080/"
        }
      },
      "execution_count": 45,
      "outputs": [
        {
          "output_type": "execute_result",
          "data": {
            "text/plain": [
              "10000"
            ]
          },
          "metadata": {},
          "execution_count": 45
        }
      ]
    },
    {
      "cell_type": "markdown",
      "source": [
        "##不要になった変数をdelで削除"
      ],
      "metadata": {
        "id": "K_Iqc6qEWoG-"
      }
    },
    {
      "cell_type": "code",
      "source": [
        "x=123\n",
        "x"
      ],
      "metadata": {
        "id": "eL5q49hOWsNm",
        "outputId": "e5fff27e-8839-406b-89c1-79ced4f5171e",
        "colab": {
          "base_uri": "https://localhost:8080/"
        }
      },
      "execution_count": 46,
      "outputs": [
        {
          "output_type": "execute_result",
          "data": {
            "text/plain": [
              "123"
            ]
          },
          "metadata": {},
          "execution_count": 46
        }
      ]
    },
    {
      "cell_type": "code",
      "source": [
        "del x\n",
        "x"
      ],
      "metadata": {
        "id": "UYI0L19ZW6DY",
        "outputId": "2530f3ed-ad39-4fa3-b506-50afbf25f2e5",
        "colab": {
          "base_uri": "https://localhost:8080/",
          "height": 193
        }
      },
      "execution_count": 47,
      "outputs": [
        {
          "output_type": "error",
          "ename": "NameError",
          "evalue": "ignored",
          "traceback": [
            "\u001b[0;31m---------------------------------------------------------------------------\u001b[0m",
            "\u001b[0;31mNameError\u001b[0m                                 Traceback (most recent call last)",
            "\u001b[0;32m<ipython-input-47-1beca76b84e9>\u001b[0m in \u001b[0;36m<module>\u001b[0;34m()\u001b[0m\n\u001b[1;32m      1\u001b[0m \u001b[0;32mdel\u001b[0m \u001b[0mx\u001b[0m\u001b[0;34m\u001b[0m\u001b[0;34m\u001b[0m\u001b[0m\n\u001b[0;32m----> 2\u001b[0;31m \u001b[0mx\u001b[0m\u001b[0;34m\u001b[0m\u001b[0;34m\u001b[0m\u001b[0m\n\u001b[0m",
            "\u001b[0;31mNameError\u001b[0m: name 'x' is not defined"
          ]
        }
      ]
    }
  ]
}