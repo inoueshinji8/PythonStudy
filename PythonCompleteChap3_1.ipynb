{
  "nbformat": 4,
  "nbformat_minor": 0,
  "metadata": {
    "colab": {
      "name": "PythonCompleteChap3-1.ipynb",
      "provenance": [],
      "authorship_tag": "ABX9TyPyH99xFB/AguPtJzRpUqC6",
      "include_colab_link": true
    },
    "kernelspec": {
      "name": "python3",
      "display_name": "Python 3"
    },
    "language_info": {
      "name": "python"
    }
  },
  "cells": [
    {
      "cell_type": "markdown",
      "metadata": {
        "id": "view-in-github",
        "colab_type": "text"
      },
      "source": [
        "<a href=\"https://colab.research.google.com/github/inoueshinji8/PythonStudy/blob/main/PythonCompleteChap3_1.ipynb\" target=\"_parent\"><img src=\"https://colab.research.google.com/assets/colab-badge.svg\" alt=\"Open In Colab\"/></a>"
      ]
    },
    {
      "cell_type": "markdown",
      "source": [
        "# Section01\n",
        "## 扱っている値の型を意識する\n",
        "PythonはCやJavaやVisual Basicなどと違って型を明記しなくてもプログラムを書ける。しかしいきなり型が違うとエラーになることがある。<br>\n",
        "この変数の型はintか？floatか、stringか？配列か？辞書型か？特定のクラスのオブジェクトか？などを、「常に」ではなくても、作っていて問題が出たときにはすぐに意識してみることが、エラー時にすぐに問題点を見つけられるための秘訣だと個人的には考える。<br>"
      ],
      "metadata": {
        "id": "9mEpVGsjYCIp"
      }
    },
    {
      "cell_type": "markdown",
      "source": [
        "Pythonの数値型は<br>\n",
        "整数型のintと<br>\n",
        "浮動小数点型のfloatだけ<br>\n",
        "<br>\n",
        "以下、断りが無い限りPython<br><br>\n",
        "intはビット数が可変。C言語なら32ビットはint、64ビットはlongだが<br>\n",
        "Pythonでは全てint<br>\n",
        "JITによる高速化ではこれらを区別するので注意\n"
      ],
      "metadata": {
        "id": "fWOQLFUBbxMg"
      }
    },
    {
      "cell_type": "code",
      "execution_count": 2,
      "metadata": {
        "id": "2Cc4Rms-X0D7",
        "outputId": "b642fde7-479b-484d-eeee-bd8fb87c6d92",
        "colab": {
          "base_uri": "https://localhost:8080/"
        }
      },
      "outputs": [
        {
          "output_type": "stream",
          "name": "stdout",
          "text": [
            "4\n",
            "1024\n"
          ]
        }
      ],
      "source": [
        "#2^2と2^10を試す\n",
        "print(2**2)\n",
        "print(2**10)"
      ]
    },
    {
      "cell_type": "code",
      "source": [
        "#Javaでは2^31-1までしかintで扱えず次はlongになる\n",
        "#Pythonなら大丈夫\n",
        "print(2**31)\n",
        "print(2**32)"
      ],
      "metadata": {
        "id": "kAoObmaldOCO",
        "outputId": "e7042fe3-2252-4609-8490-5b4ea4095e7a",
        "colab": {
          "base_uri": "https://localhost:8080/"
        }
      },
      "execution_count": 3,
      "outputs": [
        {
          "output_type": "stream",
          "name": "stdout",
          "text": [
            "2147483648\n",
            "4294967296\n"
          ]
        }
      ]
    },
    {
      "cell_type": "code",
      "source": [
        "print(\"2の100乗は\",2**100)\n",
        "print(\"2の1000乗は\",2**1000)"
      ],
      "metadata": {
        "id": "cP6DeIdWdhEf",
        "outputId": "8f0ce859-4e88-483e-e1fd-1433014b9c54",
        "colab": {
          "base_uri": "https://localhost:8080/"
        }
      },
      "execution_count": 5,
      "outputs": [
        {
          "output_type": "stream",
          "name": "stdout",
          "text": [
            "2の100乗は 1267650600228229401496703205376\n",
            "2の1000乗は 10715086071862673209484250490600018105614048117055336074437503883703510511249361224931983788156958581275946729175531468251871452856923140435984577574698574803934567774824230985421074605062371141877954182153046474983581941267398767559165543946077062914571196477686542167660429831652624386837205668069376\n"
          ]
        }
      ]
    }
  ]
}