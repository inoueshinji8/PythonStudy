{
  "nbformat": 4,
  "nbformat_minor": 0,
  "metadata": {
    "colab": {
      "name": "PythonCompleteChap3_3-4.ipynb",
      "provenance": [],
      "authorship_tag": "ABX9TyNJDnumIx19Xsh3gWwy9SYz",
      "include_colab_link": true
    },
    "kernelspec": {
      "name": "python3",
      "display_name": "Python 3"
    },
    "language_info": {
      "name": "python"
    }
  },
  "cells": [
    {
      "cell_type": "markdown",
      "metadata": {
        "id": "view-in-github",
        "colab_type": "text"
      },
      "source": [
        "<a href=\"https://colab.research.google.com/github/inoueshinji8/PythonStudy/blob/main/PythonCompleteChap3_3_4.ipynb\" target=\"_parent\"><img src=\"https://colab.research.google.com/assets/colab-badge.svg\" alt=\"Open In Colab\"/></a>"
      ]
    },
    {
      "cell_type": "markdown",
      "source": [
        "#section3 数値を使って計算を行う\n",
        "\n",
        "計算のためには 演算子 を使う<br>"
      ],
      "metadata": {
        "id": "8oLvE_KbN-dW"
      }
    },
    {
      "cell_type": "markdown",
      "source": [
        "\\+ A+B 加算<br>\n",
        "\\- A-B 減算<br>\n",
        "\\* A*B 乗算<br>\n",
        "@ A*B 行列積<br>\n",
        "/ A/B 除算<br>\n",
        "// A/B 除算 (結果にfloor適用)<br>\n",
        "% A%B 剰余 (割り算の余り)<br>\n",
        "** A**B べき乗<br>\n",
        "<br>\n",
        "これらは二項算術演算子<br>\n",
        "単項算術演算子 + -"
      ],
      "metadata": {
        "id": "6AU9WvJ0OgiM"
      }
    },
    {
      "cell_type": "markdown",
      "source": [
        "@ AB 行列積はnumpy型などでしか使えない<br>\n",
        "/の結果は常に浮動小数点<br>\n",
        "//の結果は、整数同士の演算だと整数<br>"
      ],
      "metadata": {
        "id": "1JpZm12JQPie"
      }
    },
    {
      "cell_type": "code",
      "execution_count": null,
      "metadata": {
        "colab": {
          "base_uri": "https://localhost:8080/"
        },
        "id": "7iBhEkXbN6jw",
        "outputId": "a9a05b0c-f06c-451e-9985-14bd6f8b1b46"
      },
      "outputs": [
        {
          "output_type": "stream",
          "name": "stdout",
          "text": [
            "2.5\n",
            "2.0\n",
            "2\n",
            "2\n"
          ]
        }
      ],
      "source": [
        "print(5/2)\n",
        "print(4/2)\n",
        "print(5//2)#floorというか、2.5が切り下げで2\n",
        "print(4//2)"
      ]
    },
    {
      "cell_type": "code",
      "source": [
        "#だが浮動小数点数同士だと、//でも浮動小数点数の解を出力する\n",
        "print(5.0//2.0)#floor関数は適用されている\n",
        "print(4.0//2.0)"
      ],
      "metadata": {
        "colab": {
          "base_uri": "https://localhost:8080/"
        },
        "id": "aaoEtNjTQ_1-",
        "outputId": "29315d7a-0117-4c9b-81c3-4cfb6d35674f"
      },
      "execution_count": null,
      "outputs": [
        {
          "output_type": "stream",
          "name": "stdout",
          "text": [
            "2.0\n",
            "2.0\n"
          ]
        }
      ]
    },
    {
      "cell_type": "code",
      "source": [
        "#浮動小数点数と整数の演算でも//の解は浮動小数点数\n",
        "print(5.0//2)\n",
        "print(5//2.0)\n",
        "print(4.0//2)\n",
        "print(4//2.0)"
      ],
      "metadata": {
        "colab": {
          "base_uri": "https://localhost:8080/"
        },
        "id": "WswOLRBORY0O",
        "outputId": "caa886fc-df34-4c08-d757-d0a717660cc3"
      },
      "execution_count": null,
      "outputs": [
        {
          "output_type": "stream",
          "name": "stdout",
          "text": [
            "2.0\n",
            "2.0\n",
            "2.0\n",
            "2.0\n"
          ]
        }
      ]
    },
    {
      "cell_type": "markdown",
      "source": [
        "####負の数に対する//の演算に注意\n",
        "-3//2は-2<br>\n",
        "式の値以下の最大の整数、だから-1.5→-2"
      ],
      "metadata": {
        "id": "2VRGssJXRzPG"
      }
    },
    {
      "cell_type": "code",
      "source": [
        "print(-3/2)\n",
        "print(-3//2)"
      ],
      "metadata": {
        "colab": {
          "base_uri": "https://localhost:8080/"
        },
        "id": "OGQO55UIRxEd",
        "outputId": "dc7c589e-7613-4101-e4d2-7c21e5e5edec"
      },
      "execution_count": null,
      "outputs": [
        {
          "output_type": "stream",
          "name": "stdout",
          "text": [
            "-1.5\n",
            "-2\n"
          ]
        }
      ]
    },
    {
      "cell_type": "markdown",
      "source": [
        "####剰余を求める%\n",
        "浮動小数点数%整数<br>\n",
        "整数%浮動小数点数<br>\n",
        "浮動小数点数%浮動小数点数<br>\n",
        "全て浮動小数点数"
      ],
      "metadata": {
        "id": "ql7wE5u_ScBv"
      }
    },
    {
      "cell_type": "code",
      "source": [
        "print(3%2)\n",
        "print(3.5%1.5)\n",
        "print(7.58%1.5)#計算できない"
      ],
      "metadata": {
        "colab": {
          "base_uri": "https://localhost:8080/"
        },
        "id": "e3axHVbCS1v3",
        "outputId": "246ada4a-18a4-45d6-ec28-cb0fea295da3"
      },
      "execution_count": null,
      "outputs": [
        {
          "output_type": "stream",
          "name": "stdout",
          "text": [
            "1\n",
            "0.5\n",
            "0.08000000000000007\n"
          ]
        }
      ]
    },
    {
      "cell_type": "markdown",
      "source": [
        "負の数の剰余ってあまり考えないけど奥が深い<br>\n",
        "A == (A//B)*B + (A%B)<br>\n",
        "を満たす数となると定義されているので<br>\n",
        "それに従うと"
      ],
      "metadata": {
        "id": "j11NAXEQTe3e"
      }
    },
    {
      "cell_type": "code",
      "source": [
        "print(-3%2)\n",
        "print(-3%-2)"
      ],
      "metadata": {
        "colab": {
          "base_uri": "https://localhost:8080/"
        },
        "id": "a9Gf7JzBTqSd",
        "outputId": "1696e4eb-8445-47f4-8fcd-62cb7bd38d3b"
      },
      "execution_count": null,
      "outputs": [
        {
          "output_type": "stream",
          "name": "stdout",
          "text": [
            "1\n",
            "-1\n"
          ]
        }
      ]
    },
    {
      "cell_type": "markdown",
      "source": [
        "(-3//2) == -2<br>\n",
        "-2*2 == -4<br>\n",
        "-3 === -4 + (-3%2)<br>\n",
        "1 == (-3%2)<br>\n",
        "ということ<br>\n",
        "\n",
        "(-3//-2) == 1<br>\n",
        "1*-2 == -2<br>\n",
        "-3 == -2 + (-3%-2)<br>\n",
        "-1 == (-3%-2)<br>"
      ],
      "metadata": {
        "id": "-K5eI6TzUOD-"
      }
    },
    {
      "cell_type": "markdown",
      "source": [
        "乗算の正負の表<br>\n",
        "X  Y  X%Y<br>\n",
        "\\+　\\+　\\+<br>\n",
        "\\+　\\- 　\\-<br>\n",
        "\\-　\\+　\\+<br>\n",
        "\\-　\\-　\\-<br>\n"
      ],
      "metadata": {
        "id": "h989insKVb7g"
      }
    },
    {
      "cell_type": "markdown",
      "source": [
        "### 演算子の優先順位"
      ],
      "metadata": {
        "id": "0fHlDDZp2LJi"
      }
    },
    {
      "cell_type": "code",
      "source": [
        "#掛ける、割るは足す引くより優先\n",
        "print(2+3*4)\n",
        "print((2+3)*4)"
      ],
      "metadata": {
        "id": "wPvOT0nU2QiB",
        "outputId": "3eadc6d2-1f63-4e9d-8080-e98c1ba4d948",
        "colab": {
          "base_uri": "https://localhost:8080/"
        }
      },
      "execution_count": 1,
      "outputs": [
        {
          "output_type": "stream",
          "name": "stdout",
          "text": [
            "14\n",
            "20\n"
          ]
        }
      ]
    },
    {
      "cell_type": "markdown",
      "source": [
        "高優先度<br>\n",
        "() [] {} [:] <br>\n",
        "x[] x[:] x() x.<br>一番左はオブジェクトのフィールド、メソッド呼び出し<br>\n",
        "await x <br>非同期処理<br>\n",
        "**<br>べき乗<br>\n",
        "単項+,単項-,~<br>一番左はビット単位のnor<br>\n",
        "*,@,/,//,%<br>\n",
        "+,-<br>\n",
        "<<,>><br>左シフト、右シフト<br>\n",
        "&<br>ビット単位のAND<br>\n",
        "^<br>ビット単位のXOR<br>\n",
        "|<br>ビット単位のOR<br>\n",
        "in,not in, is, not is,<,<=,>,>=,!=,==<br>\n",
        "not<br>\n",
        "and<br>\n",
        "or<br>\n",
        "if else<br>\n",
        "lambda<br>\n",
        ":=<br>\n",
        "低優先度<br>\n"
      ],
      "metadata": {
        "id": "13O5wUSo2mwZ"
      }
    },
    {
      "cell_type": "code",
      "source": [
        "2/3*4"
      ],
      "metadata": {
        "id": "C4d94DHC4dep",
        "outputId": "1b6cd3d4-522c-46e2-b768-f4ca8b076488",
        "colab": {
          "base_uri": "https://localhost:8080/"
        }
      },
      "execution_count": 2,
      "outputs": [
        {
          "output_type": "execute_result",
          "data": {
            "text/plain": [
              "2.6666666666666665"
            ]
          },
          "metadata": {},
          "execution_count": 2
        }
      ]
    },
    {
      "cell_type": "code",
      "source": [
        "print((2/3)*4)\n",
        "print(2/(3*4))"
      ],
      "metadata": {
        "id": "n-a-bQF84kKZ",
        "outputId": "3d36d085-ff24-4add-b281-4ba11338f906",
        "colab": {
          "base_uri": "https://localhost:8080/"
        }
      },
      "execution_count": 3,
      "outputs": [
        {
          "output_type": "stream",
          "name": "stdout",
          "text": [
            "2.6666666666666665\n",
            "0.16666666666666666\n"
          ]
        }
      ]
    },
    {
      "cell_type": "markdown",
      "source": [
        "**は右結合なので、右側から評価する"
      ],
      "metadata": {
        "id": "V-Zyrs1F4soY"
      }
    },
    {
      "cell_type": "code",
      "source": [
        "print(2**3**4)\n",
        "print((2**3)**4)\n",
        "print(2**(3**4))"
      ],
      "metadata": {
        "id": "QcJa7pka4yqo",
        "outputId": "1fe16861-b3a2-46c2-cc61-ed50bfbe924e",
        "colab": {
          "base_uri": "https://localhost:8080/"
        }
      },
      "execution_count": 4,
      "outputs": [
        {
          "output_type": "stream",
          "name": "stdout",
          "text": [
            "2417851639229258349412352\n",
            "4096\n",
            "2417851639229258349412352\n"
          ]
        }
      ]
    },
    {
      "cell_type": "markdown",
      "source": [
        "### 累算代入文\n",
        "\n",
        "C言語などなら i++と書かれるもの"
      ],
      "metadata": {
        "id": "U3dxqIvO49wZ"
      }
    },
    {
      "cell_type": "code",
      "source": [
        "x=1\n",
        "x =x+1\n",
        "print(x)\n",
        "x=1\n",
        "x += 1\n",
        "print(x)"
      ],
      "metadata": {
        "id": "Yk-GAR0s5IfY",
        "outputId": "e9f5eb07-0800-4c7b-bd46-bcedb3f1852a",
        "colab": {
          "base_uri": "https://localhost:8080/"
        }
      },
      "execution_count": 5,
      "outputs": [
        {
          "output_type": "stream",
          "name": "stdout",
          "text": [
            "2\n",
            "2\n"
          ]
        }
      ]
    },
    {
      "cell_type": "markdown",
      "source": [
        "一々代入するたびにオブジェクトが生成されると計算時間の無駄になるので<br>\n",
        "累算代入文の方が実行効率が良くなる"
      ],
      "metadata": {
        "id": "O6jbBwDr5gJg"
      }
    },
    {
      "cell_type": "markdown",
      "source": [
        "+=<br>\n",
        "-=<br>\n",
        "\\*=<br>\n",
        "/=<br>\n",
        "@=<br>\n",
        "//=<br>\n",
        "%=<br>\n",
        "\\**=<br>\n",
        "\\<<=<br>\n",
        "\\>>=<br>\n",
        "&=<br>\n",
        "^=<br>\n",
        "|=<br>\n"
      ],
      "metadata": {
        "id": "nTKIluIY5tpg"
      }
    },
    {
      "cell_type": "markdown",
      "source": [
        "# section04 文字列を切ったりつなげたり"
      ],
      "metadata": {
        "id": "hjuKmdcw6blp"
      }
    }
  ]
}