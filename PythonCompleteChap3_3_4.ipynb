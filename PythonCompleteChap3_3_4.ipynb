{
  "nbformat": 4,
  "nbformat_minor": 0,
  "metadata": {
    "colab": {
      "name": "PythonCompleteChap3_3-4.ipynb",
      "provenance": [],
      "authorship_tag": "ABX9TyNo5uM6RGxzpsKYGsq4g+tL",
      "include_colab_link": true
    },
    "kernelspec": {
      "name": "python3",
      "display_name": "Python 3"
    },
    "language_info": {
      "name": "python"
    }
  },
  "cells": [
    {
      "cell_type": "markdown",
      "metadata": {
        "id": "view-in-github",
        "colab_type": "text"
      },
      "source": [
        "<a href=\"https://colab.research.google.com/github/inoueshinji8/PythonStudy/blob/main/PythonCompleteChap3_3_4.ipynb\" target=\"_parent\"><img src=\"https://colab.research.google.com/assets/colab-badge.svg\" alt=\"Open In Colab\"/></a>"
      ]
    },
    {
      "cell_type": "markdown",
      "source": [
        "#section3 数値を使って計算を行う\n",
        "\n",
        "計算のためには 演算子 を使う<br>"
      ],
      "metadata": {
        "id": "8oLvE_KbN-dW"
      }
    },
    {
      "cell_type": "markdown",
      "source": [
        "\\+ A+B 加算<br>\n",
        "\\- A-B 減算<br>\n",
        "\\* A*B 乗算<br>\n",
        "@ A*B 行列積<br>\n",
        "/ A/B 除算<br>\n",
        "// A/B 除算 (結果にfloor適用)<br>\n",
        "% A%B 剰余 (割り算の余り)<br>\n",
        "** A**B べき乗<br>\n",
        "<br>\n",
        "これらは二項算術演算子<br>\n",
        "単項算術演算子 + -"
      ],
      "metadata": {
        "id": "6AU9WvJ0OgiM"
      }
    },
    {
      "cell_type": "markdown",
      "source": [
        "@ AB 行列積はnumpy型などでしか使えない<br>\n",
        "/の結果は常に浮動小数点<br>\n",
        "//の結果は、整数同士の演算だと整数<br>"
      ],
      "metadata": {
        "id": "1JpZm12JQPie"
      }
    },
    {
      "cell_type": "code",
      "execution_count": 1,
      "metadata": {
        "colab": {
          "base_uri": "https://localhost:8080/"
        },
        "id": "7iBhEkXbN6jw",
        "outputId": "791be7a3-9432-4720-aa2d-300a8268be19"
      },
      "outputs": [
        {
          "output_type": "stream",
          "name": "stdout",
          "text": [
            "2.5\n",
            "2.0\n",
            "2\n",
            "2\n"
          ]
        }
      ],
      "source": [
        "print(5/2)\n",
        "print(4/2)\n",
        "print(5//2)#floorというか、2.5が切り下げで2\n",
        "print(4//2)"
      ]
    },
    {
      "cell_type": "code",
      "source": [
        "#だが浮動小数点数同士だと、//でも浮動小数点数の解を出力する\n",
        "print(5.0//2.0)#floor関数は適用されている\n",
        "print(4.0//2.0)"
      ],
      "metadata": {
        "colab": {
          "base_uri": "https://localhost:8080/"
        },
        "id": "aaoEtNjTQ_1-",
        "outputId": "dfd680d0-5ad6-47d2-85eb-afd63c7dcd56"
      },
      "execution_count": 2,
      "outputs": [
        {
          "output_type": "stream",
          "name": "stdout",
          "text": [
            "2.0\n",
            "2.0\n"
          ]
        }
      ]
    },
    {
      "cell_type": "code",
      "source": [
        "#浮動小数点数と整数の演算でも//の解は浮動小数点数\n",
        "print(5.0//2)\n",
        "print(5//2.0)\n",
        "print(4.0//2)\n",
        "print(4//2.0)"
      ],
      "metadata": {
        "colab": {
          "base_uri": "https://localhost:8080/"
        },
        "id": "WswOLRBORY0O",
        "outputId": "4471dc1a-4220-4f2b-8e11-cd8c4cb47404"
      },
      "execution_count": 3,
      "outputs": [
        {
          "output_type": "stream",
          "name": "stdout",
          "text": [
            "2.0\n",
            "2.0\n",
            "2.0\n",
            "2.0\n"
          ]
        }
      ]
    },
    {
      "cell_type": "markdown",
      "source": [
        "####負の数に対する//の演算に注意\n",
        "-3//2は-2<br>\n",
        "式の値以下の最大の整数、だから-1.5→-2"
      ],
      "metadata": {
        "id": "2VRGssJXRzPG"
      }
    },
    {
      "cell_type": "code",
      "source": [
        "print(-3/2)\n",
        "print(-3//2)"
      ],
      "metadata": {
        "colab": {
          "base_uri": "https://localhost:8080/"
        },
        "id": "OGQO55UIRxEd",
        "outputId": "a28be2b9-1aa6-4b3d-d10b-7a40902db229"
      },
      "execution_count": 4,
      "outputs": [
        {
          "output_type": "stream",
          "name": "stdout",
          "text": [
            "-1.5\n",
            "-2\n"
          ]
        }
      ]
    },
    {
      "cell_type": "markdown",
      "source": [
        "####剰余を求める%\n",
        "浮動小数点数%整数<br>\n",
        "整数%浮動小数点数<br>\n",
        "浮動小数点数%浮動小数点数<br>\n",
        "全て浮動小数点数"
      ],
      "metadata": {
        "id": "ql7wE5u_ScBv"
      }
    },
    {
      "cell_type": "code",
      "source": [
        "print(3%2)\n",
        "print(3.5%1.5)\n",
        "print(7.58%1.5)#計算できない"
      ],
      "metadata": {
        "colab": {
          "base_uri": "https://localhost:8080/"
        },
        "id": "e3axHVbCS1v3",
        "outputId": "9219ba13-dbcd-4ab5-ad21-f72545d1d700"
      },
      "execution_count": 5,
      "outputs": [
        {
          "output_type": "stream",
          "name": "stdout",
          "text": [
            "1\n",
            "0.5\n",
            "0.08000000000000007\n"
          ]
        }
      ]
    },
    {
      "cell_type": "markdown",
      "source": [
        "負の数の剰余ってあまり考えないけど奥が深い<br>\n",
        "A == (A//B)*B + (A%B)<br>\n",
        "を満たす数となると定義されているので<br>\n",
        "それに従うと"
      ],
      "metadata": {
        "id": "j11NAXEQTe3e"
      }
    },
    {
      "cell_type": "code",
      "source": [
        "print(-3%2)\n",
        "print(-3%-2)"
      ],
      "metadata": {
        "colab": {
          "base_uri": "https://localhost:8080/"
        },
        "id": "a9Gf7JzBTqSd",
        "outputId": "bd11a302-1996-461a-9363-9874d82097bf"
      },
      "execution_count": 6,
      "outputs": [
        {
          "output_type": "stream",
          "name": "stdout",
          "text": [
            "1\n",
            "-1\n"
          ]
        }
      ]
    },
    {
      "cell_type": "markdown",
      "source": [
        "(-3//2) == -2<br>\n",
        "-2*2 == -4<br>\n",
        "-3 === -4 + (-3%2)<br>\n",
        "1 == (-3%2)<br>\n",
        "ということ<br>\n",
        "\n",
        "(-3//-2) == 1<br>\n",
        "1*-2 == -2<br>\n",
        "-3 == -2 + (-3%-2)<br>\n",
        "-1 == (-3%-2)<br>"
      ],
      "metadata": {
        "id": "-K5eI6TzUOD-"
      }
    },
    {
      "cell_type": "markdown",
      "source": [
        "剰余の正負の表<br>\n",
        "X  Y  X%Y<br>\n",
        "\\+　\\+　\\+<br>\n",
        "\\+　\\- 　\\-<br>\n",
        "\\-　\\+　\\+<br>\n",
        "\\-　\\-　\\-<br>\n"
      ],
      "metadata": {
        "id": "h989insKVb7g"
      }
    },
    {
      "cell_type": "markdown",
      "source": [
        "### 演算子の優先順位"
      ],
      "metadata": {
        "id": "0fHlDDZp2LJi"
      }
    },
    {
      "cell_type": "code",
      "source": [
        "#掛ける、割るは足す引くより優先\n",
        "print(2+3*4)\n",
        "print((2+3)*4)"
      ],
      "metadata": {
        "id": "wPvOT0nU2QiB",
        "outputId": "8b489746-b389-41c6-f59c-6b8cb2fe3553",
        "colab": {
          "base_uri": "https://localhost:8080/"
        }
      },
      "execution_count": 7,
      "outputs": [
        {
          "output_type": "stream",
          "name": "stdout",
          "text": [
            "14\n",
            "20\n"
          ]
        }
      ]
    },
    {
      "cell_type": "markdown",
      "source": [
        "高優先度<br>\n",
        "() [] {} [:] <br>\n",
        "x[] x[:] x() x.<br>一番左はオブジェクトのフィールド、メソッド呼び出し<br>\n",
        "await x <br>非同期処理<br>\n",
        "**<br>べき乗<br>\n",
        "単項+,単項-,~<br>一番左はビット単位のnor<br>\n",
        "*,@,/,//,%<br>\n",
        "+,-<br>\n",
        "<<,>><br>左シフト、右シフト<br>\n",
        "&<br>ビット単位のAND<br>\n",
        "^<br>ビット単位のXOR<br>\n",
        "|<br>ビット単位のOR<br>\n",
        "in,not in, is, not is,<,<=,>,>=,!=,==<br>\n",
        "not<br>\n",
        "and<br>\n",
        "or<br>\n",
        "if else<br>\n",
        "lambda<br>\n",
        ":=<br>\n",
        "低優先度<br>\n"
      ],
      "metadata": {
        "id": "13O5wUSo2mwZ"
      }
    },
    {
      "cell_type": "code",
      "source": [
        "2/3*4"
      ],
      "metadata": {
        "id": "C4d94DHC4dep",
        "outputId": "4655767d-ea7f-4991-a94b-82a8d559a5a8",
        "colab": {
          "base_uri": "https://localhost:8080/"
        }
      },
      "execution_count": 8,
      "outputs": [
        {
          "output_type": "execute_result",
          "data": {
            "text/plain": [
              "2.6666666666666665"
            ]
          },
          "metadata": {},
          "execution_count": 8
        }
      ]
    },
    {
      "cell_type": "code",
      "source": [
        "print((2/3)*4)\n",
        "print(2/(3*4))"
      ],
      "metadata": {
        "id": "n-a-bQF84kKZ",
        "outputId": "c45075e3-4729-481d-a70f-f31dfe67649c",
        "colab": {
          "base_uri": "https://localhost:8080/"
        }
      },
      "execution_count": 9,
      "outputs": [
        {
          "output_type": "stream",
          "name": "stdout",
          "text": [
            "2.6666666666666665\n",
            "0.16666666666666666\n"
          ]
        }
      ]
    },
    {
      "cell_type": "markdown",
      "source": [
        "**は右結合なので、右側から評価する"
      ],
      "metadata": {
        "id": "V-Zyrs1F4soY"
      }
    },
    {
      "cell_type": "code",
      "source": [
        "print(2**3**4)\n",
        "print((2**3)**4)\n",
        "print(2**(3**4))"
      ],
      "metadata": {
        "id": "QcJa7pka4yqo",
        "outputId": "57635784-6e5a-45f4-f729-289d8cb42bf8",
        "colab": {
          "base_uri": "https://localhost:8080/"
        }
      },
      "execution_count": 10,
      "outputs": [
        {
          "output_type": "stream",
          "name": "stdout",
          "text": [
            "2417851639229258349412352\n",
            "4096\n",
            "2417851639229258349412352\n"
          ]
        }
      ]
    },
    {
      "cell_type": "markdown",
      "source": [
        "### 累算代入文\n",
        "\n",
        "C言語などなら i++と書かれるもの"
      ],
      "metadata": {
        "id": "U3dxqIvO49wZ"
      }
    },
    {
      "cell_type": "code",
      "source": [
        "x=1\n",
        "x =x+1\n",
        "print(x)\n",
        "x=1\n",
        "x += 1\n",
        "print(x)"
      ],
      "metadata": {
        "id": "Yk-GAR0s5IfY",
        "outputId": "2cf87034-37ba-4540-e5f8-af8395c5ecdc",
        "colab": {
          "base_uri": "https://localhost:8080/"
        }
      },
      "execution_count": 11,
      "outputs": [
        {
          "output_type": "stream",
          "name": "stdout",
          "text": [
            "2\n",
            "2\n"
          ]
        }
      ]
    },
    {
      "cell_type": "markdown",
      "source": [
        "一々代入するたびにオブジェクトが生成されると計算時間の無駄になるので<br>\n",
        "累算代入文の方が実行効率が良くなる"
      ],
      "metadata": {
        "id": "O6jbBwDr5gJg"
      }
    },
    {
      "cell_type": "markdown",
      "source": [
        "+=<br>\n",
        "-=<br>\n",
        "\\*=<br>\n",
        "/=<br>\n",
        "@=<br>\n",
        "//=<br>\n",
        "%=<br>\n",
        "\\**=<br>\n",
        "\\<<=<br>\n",
        "\\>>=<br>\n",
        "&=<br>\n",
        "^=<br>\n",
        "|=<br>\n"
      ],
      "metadata": {
        "id": "nTKIluIY5tpg"
      }
    },
    {
      "cell_type": "markdown",
      "source": [
        "# section04 文字列を切ったりつなげたり"
      ],
      "metadata": {
        "id": "hjuKmdcw6blp"
      }
    },
    {
      "cell_type": "markdown",
      "source": [
        "「インデックスやスライスを使って繋げたり切ったりする」<br>\n",
        "つまり配列と同様に、何文字目から何文字目、という技を使うという事である"
      ],
      "metadata": {
        "id": "gF6RodEEdx9_"
      }
    },
    {
      "cell_type": "code",
      "source": [
        "#プラスを使って文字列結合\n",
        "print('Hello'+'.txt')\n",
        "#数値型と判断されそうな文字列はstr()に入れておく\n",
        "print('version'+str(1.0))"
      ],
      "metadata": {
        "id": "EBcPx9x0eEO5",
        "outputId": "33989c74-656e-42af-daed-48802bfe6f38",
        "colab": {
          "base_uri": "https://localhost:8080/"
        }
      },
      "execution_count": 13,
      "outputs": [
        {
          "output_type": "stream",
          "name": "stdout",
          "text": [
            "Hello.txt\n",
            "version1.0\n"
          ]
        }
      ]
    },
    {
      "cell_type": "markdown",
      "source": [
        "累算代入文、つまり+=を使ってみよう"
      ],
      "metadata": {
        "id": "fcemK2ULenro"
      }
    },
    {
      "cell_type": "code",
      "source": [
        "x=\"hello\"\n",
        "print(x)\n",
        "x += '.txt'\n",
        "print(x)"
      ],
      "metadata": {
        "id": "O48h73cfeswF",
        "outputId": "9f2217a5-c077-474a-d056-c0fbfebc3517",
        "colab": {
          "base_uri": "https://localhost:8080/"
        }
      },
      "execution_count": 14,
      "outputs": [
        {
          "output_type": "stream",
          "name": "stdout",
          "text": [
            "hello\n",
            "hello.txt\n"
          ]
        }
      ]
    },
    {
      "cell_type": "markdown",
      "source": [
        "文字列繰り返しに * を使える<br>\n",
        "'-+-' * 20とか(知らなかった)"
      ],
      "metadata": {
        "id": "R0by7449e5yf"
      }
    },
    {
      "cell_type": "code",
      "source": [
        "print(\"-+-\"*20)\n",
        "print(20*\"-+-\")\n",
        "print(3*\"-+-\"*3)#9個になるね"
      ],
      "metadata": {
        "id": "vCkwKyjgfJhu",
        "outputId": "e8031281-e56f-40fe-adeb-b9fd3aaebc0e",
        "colab": {
          "base_uri": "https://localhost:8080/"
        }
      },
      "execution_count": 15,
      "outputs": [
        {
          "output_type": "stream",
          "name": "stdout",
          "text": [
            "-+--+--+--+--+--+--+--+--+--+--+--+--+--+--+--+--+--+--+--+-\n",
            "-+--+--+--+--+--+--+--+--+--+--+--+--+--+--+--+--+--+--+--+-\n",
            "-+--+--+--+--+--+--+--+--+-\n"
          ]
        }
      ]
    },
    {
      "cell_type": "code",
      "source": [
        "#こっちも累算代入文で\n",
        "x='-+-'\n",
        "x *= 20\n",
        "print(x)"
      ],
      "metadata": {
        "id": "z_yfO76PfNZf",
        "outputId": "46350314-4c36-4b04-a1e5-bd7314650e3d",
        "colab": {
          "base_uri": "https://localhost:8080/"
        }
      },
      "execution_count": 16,
      "outputs": [
        {
          "output_type": "stream",
          "name": "stdout",
          "text": [
            "-+--+--+--+--+--+--+--+--+--+--+--+--+--+--+--+--+--+--+--+-\n"
          ]
        }
      ]
    },
    {
      "cell_type": "markdown",
      "source": [
        "### 文字列はイミュータブル\n",
        "イミュータブル、変更できない、という意味だが<br>\n",
        "上で散々変わってるじゃん！<br>\n",
        "<br>\n",
        "\n",
        "実は新しい文字列が出来ている！"
      ],
      "metadata": {
        "id": "Fh8mQR60fvC4"
      }
    },
    {
      "cell_type": "code",
      "source": [
        "x = \"Answer:\"\n",
        "print(id(x))\n",
        "x += 'Yes!'\n",
        "print(x)\n",
        "print(id(x))\n",
        "#同じxなのに、アドレスが違う！"
      ],
      "metadata": {
        "id": "NkY4V53WgBRW",
        "outputId": "72f98ca5-ab1a-45fa-ab4f-de1d05ebdcfc",
        "colab": {
          "base_uri": "https://localhost:8080/"
        }
      },
      "execution_count": 18,
      "outputs": [
        {
          "output_type": "stream",
          "name": "stdout",
          "text": [
            "139800810794672\n",
            "Answer:Yes!\n",
            "139800887173040\n"
          ]
        }
      ]
    },
    {
      "cell_type": "markdown",
      "source": [
        "####先ほどの139931585084208というアドレスに入っていた値は<br>\n",
        "####ガーベッジコレクターに除去される\n",
        "これ知らなかった！<br>\n",
        "でもC言語みたいに文字列の後ろに全て\\0が入っていて<br>\n",
        "一々それを外してから加えるとか面倒なのよりいいか"
      ],
      "metadata": {
        "id": "YVmelWiSgkyf"
      }
    },
    {
      "cell_type": "code",
      "source": [
        "#for文はメモリを食う\n",
        "import time\n",
        "start = time.time()\n",
        "for i in range(100000):\n",
        "  x += '-+-'\n",
        "elapsed_time = time.time() - start\n",
        "print (\"elapsed_time:{0}\".format(elapsed_time) + \"[sec]\")"
      ],
      "metadata": {
        "id": "rN0-VwslhmO_",
        "outputId": "abb4f979-c5e7-47fe-93f1-44968d85bce3",
        "colab": {
          "base_uri": "https://localhost:8080/"
        }
      },
      "execution_count": 19,
      "outputs": [
        {
          "output_type": "stream",
          "name": "stdout",
          "text": [
            "elapsed_time:0.021337509155273438[sec]\n"
          ]
        }
      ]
    },
    {
      "cell_type": "code",
      "source": [
        "# *演算子は一度の処理で最終的な文字列を作成するので高速\n",
        "start = time.time()\n",
        "x += '-+-'*100000\n",
        "elapsed_time = time.time() - start\n",
        "print (\"elapsed_time:{0}\".format(elapsed_time) + \"[sec]\")"
      ],
      "metadata": {
        "id": "VH6mgsf6iQ4F",
        "outputId": "d5bb04c0-f7b1-43d6-9d56-ce382d41c46e",
        "colab": {
          "base_uri": "https://localhost:8080/"
        }
      },
      "execution_count": 20,
      "outputs": [
        {
          "output_type": "stream",
          "name": "stdout",
          "text": [
            "elapsed_time:0.0009818077087402344[sec]\n"
          ]
        }
      ]
    },
    {
      "cell_type": "markdown",
      "source": [
        "### インデックスを使って文字列から文字列を切り出す\n",
        "まるで配列だ"
      ],
      "metadata": {
        "id": "8SxUsjl9imBn"
      }
    },
    {
      "cell_type": "code",
      "source": [
        "x='Hello.txt'\n",
        "print(x)\n",
        "\n",
        "print(x[5])\n",
        "print(x[-4])#末尾から"
      ],
      "metadata": {
        "id": "gUzvycv3ixtA",
        "outputId": "d4b53535-c6d3-4122-b10e-185a90bf723b",
        "colab": {
          "base_uri": "https://localhost:8080/"
        }
      },
      "execution_count": 21,
      "outputs": [
        {
          "output_type": "stream",
          "name": "stdout",
          "text": [
            "Hello.txt\n",
            ".\n",
            ".\n"
          ]
        }
      ]
    },
    {
      "cell_type": "markdown",
      "source": [
        "だが配列と違ってイミュータブルつまり変更不可能なので<br>\n",
        "文字列置き換えを配列のようにやろうとすると失敗する"
      ],
      "metadata": {
        "id": "5VzMvpUfjBVw"
      }
    },
    {
      "cell_type": "code",
      "source": [
        "x[5] = '-'"
      ],
      "metadata": {
        "id": "Nf2JLjXtjO0Q",
        "outputId": "3988281f-8b61-4ec3-ac9f-c7eb6d5481a9",
        "colab": {
          "base_uri": "https://localhost:8080/",
          "height": 174
        }
      },
      "execution_count": 22,
      "outputs": [
        {
          "output_type": "error",
          "ename": "TypeError",
          "evalue": "ignored",
          "traceback": [
            "\u001b[0;31m---------------------------------------------------------------------------\u001b[0m",
            "\u001b[0;31mTypeError\u001b[0m                                 Traceback (most recent call last)",
            "\u001b[0;32m<ipython-input-22-511ba1e108f1>\u001b[0m in \u001b[0;36m<module>\u001b[0;34m()\u001b[0m\n\u001b[0;32m----> 1\u001b[0;31m \u001b[0mx\u001b[0m\u001b[0;34m[\u001b[0m\u001b[0;36m5\u001b[0m\u001b[0;34m]\u001b[0m \u001b[0;34m=\u001b[0m \u001b[0;34m'-'\u001b[0m\u001b[0;34m\u001b[0m\u001b[0;34m\u001b[0m\u001b[0m\n\u001b[0m",
            "\u001b[0;31mTypeError\u001b[0m: 'str' object does not support item assignment"
          ]
        }
      ]
    },
    {
      "cell_type": "code",
      "source": [
        "print(x.replace('.','-'))\n",
        "print(x)#replace関数は置き換えるんじゃなくて戻り値に置き換えた文字列を作る\n",
        "x1 = x.replace('.','-')\n",
        "print(x1)"
      ],
      "metadata": {
        "id": "tigYowLGjSWY",
        "outputId": "00f0121b-c4a1-479b-c95f-bf0c3f4372f9",
        "colab": {
          "base_uri": "https://localhost:8080/"
        }
      },
      "execution_count": 23,
      "outputs": [
        {
          "output_type": "stream",
          "name": "stdout",
          "text": [
            "Hello-txt\n",
            "Hello.txt\n",
            "Hello-txt\n"
          ]
        }
      ]
    },
    {
      "cell_type": "markdown",
      "source": [
        "### スライスを使って部分文字列を切り出す\n",
        "Pythonの配列でスライスの意味がいっつも分からなくなって調べ直す<br>\n",
        "まあ[:]とか[4:]とか見ても焦らない事<br>\n",
        "\n",
        "文字列[開始インデックス:終了インデックス]"
      ],
      "metadata": {
        "id": "jDGPra4ckENC"
      }
    },
    {
      "cell_type": "code",
      "source": [
        "x = 'Hello.txt'\n",
        "print(x[0:5])\n",
        "print(x[6:9])"
      ],
      "metadata": {
        "id": "au9P-tg_kfCo",
        "outputId": "ad097d2c-3740-47fe-bcde-1634e150bc80",
        "colab": {
          "base_uri": "https://localhost:8080/"
        }
      },
      "execution_count": 24,
      "outputs": [
        {
          "output_type": "stream",
          "name": "stdout",
          "text": [
            "Hello\n",
            "txt\n"
          ]
        }
      ]
    },
    {
      "cell_type": "code",
      "source": [
        "#終了indexの文字は取り出されない\n",
        "print(x[0:4])\n",
        "print(x[6:8])"
      ],
      "metadata": {
        "id": "i3pB09b5kr-A",
        "outputId": "c7f1bca6-5a7e-4edc-f94a-3c08963599ef",
        "colab": {
          "base_uri": "https://localhost:8080/"
        }
      },
      "execution_count": 25,
      "outputs": [
        {
          "output_type": "stream",
          "name": "stdout",
          "text": [
            "Hell\n",
            "tx\n"
          ]
        }
      ]
    },
    {
      "cell_type": "code",
      "source": [
        "print(x[:5])#最初から5番目の要素まで(5番目除く)\n",
        "print(x[6:])#6番目の要素から最後まで(6番目除く)\n",
        "print(x[:])#全要素"
      ],
      "metadata": {
        "id": "oAii_6MEk_0P",
        "outputId": "3eace9f2-59cf-419b-ad4d-aa5a3bac8670",
        "colab": {
          "base_uri": "https://localhost:8080/"
        }
      },
      "execution_count": 26,
      "outputs": [
        {
          "output_type": "stream",
          "name": "stdout",
          "text": [
            "Hello\n",
            "txt\n",
            "Hello.txt\n"
          ]
        }
      ]
    },
    {
      "cell_type": "code",
      "source": [
        "x[-3:]#一番後ろから3つ前(そのインデックスを含む)から最後まで"
      ],
      "metadata": {
        "id": "FcWaKnMMldNB",
        "outputId": "e0235baa-3ffb-4c1a-9138-cd45e97a3bbe",
        "colab": {
          "base_uri": "https://localhost:8080/",
          "height": 35
        }
      },
      "execution_count": 27,
      "outputs": [
        {
          "output_type": "execute_result",
          "data": {
            "application/vnd.google.colaboratory.intrinsic+json": {
              "type": "string"
            },
            "text/plain": [
              "'txt'"
            ]
          },
          "metadata": {},
          "execution_count": 27
        }
      ]
    },
    {
      "cell_type": "code",
      "source": [
        "x[-7:5]"
      ],
      "metadata": {
        "id": "StWIEC-8dQ26",
        "outputId": "1eaf5b3c-1325-4950-87aa-919bbfc96d03",
        "colab": {
          "base_uri": "https://localhost:8080/",
          "height": 35
        }
      },
      "execution_count": 28,
      "outputs": [
        {
          "output_type": "execute_result",
          "data": {
            "application/vnd.google.colaboratory.intrinsic+json": {
              "type": "string"
            },
            "text/plain": [
              "'llo'"
            ]
          },
          "metadata": {},
          "execution_count": 28
        }
      ]
    },
    {
      "cell_type": "markdown",
      "source": [
        "スライスを使って、文字列中の文字を置き換えた文字を出力しよう"
      ],
      "metadata": {
        "id": "SbEwEOFlmHjn"
      }
    },
    {
      "cell_type": "code",
      "source": [
        "x='hello.txt'\n",
        "print(x[:5] + '-' +x[6:])\n",
        "print(x[:5] + '-' +x[-3:])"
      ],
      "metadata": {
        "id": "-1RYbGuRmLsK",
        "outputId": "68d53f95-5e1d-434d-a981-b8b1960df982",
        "colab": {
          "base_uri": "https://localhost:8080/"
        }
      },
      "execution_count": 29,
      "outputs": [
        {
          "output_type": "stream",
          "name": "stdout",
          "text": [
            "hello-txt\n",
            "hello-txt\n"
          ]
        }
      ]
    },
    {
      "cell_type": "markdown",
      "source": [
        "####ストライド、つまり文字を取り出す間隔という機能\n",
        "####他言語でもあるけど忘れていた\n",
        "文字列[開始インデックス:終了インデックス:ストライド]\n",
        "\n",
        "X = '-W=E-L=C=O+M*E'<br>\n",
        "print(x[1::2])\n",
        "####2つ::並ぶからって2次元配列？とか思わないように！飛ばしてとるストライド"
      ],
      "metadata": {
        "id": "XGC-XQcSmgSh"
      }
    },
    {
      "cell_type": "code",
      "source": [
        "X = '-W=E-L=C=O+M*E'\n",
        "print(X[1::2])"
      ],
      "metadata": {
        "id": "5QhbttW_nUUL",
        "outputId": "6aec10a3-991b-49f7-86f7-5a44f9859128",
        "colab": {
          "base_uri": "https://localhost:8080/"
        }
      },
      "execution_count": 30,
      "outputs": [
        {
          "output_type": "stream",
          "name": "stdout",
          "text": [
            "WELCOME\n"
          ]
        }
      ]
    },
    {
      "cell_type": "markdown",
      "source": [
        "負数のストライド"
      ],
      "metadata": {
        "id": "-OsMIW5angkS"
      }
    },
    {
      "cell_type": "code",
      "source": [
        "newspaper = \"しんぶんし\"\n",
        "print(newspaper == newspaper[::-1])\n",
        "Tuna_Can = \"かつおぶし\"\n",
        "print(Tuna_Can == Tuna_Can[::-1])"
      ],
      "metadata": {
        "id": "Qu_69wVinnOp",
        "outputId": "8c8f90c0-9056-4934-d002-3b2ae9d9da86",
        "colab": {
          "base_uri": "https://localhost:8080/"
        }
      },
      "execution_count": 32,
      "outputs": [
        {
          "output_type": "stream",
          "name": "stdout",
          "text": [
            "True\n",
            "False\n"
          ]
        }
      ]
    },
    {
      "cell_type": "code",
      "source": [
        "#index外だとダメ\n",
        "alphabet = 'abc'\n",
        "alphabet[3]"
      ],
      "metadata": {
        "id": "X4OPgIXpoTx7",
        "outputId": "c998f243-14af-4de6-c440-2317b1f717d3",
        "colab": {
          "base_uri": "https://localhost:8080/",
          "height": 211
        }
      },
      "execution_count": 33,
      "outputs": [
        {
          "output_type": "error",
          "ename": "IndexError",
          "evalue": "ignored",
          "traceback": [
            "\u001b[0;31m---------------------------------------------------------------------------\u001b[0m",
            "\u001b[0;31mIndexError\u001b[0m                                Traceback (most recent call last)",
            "\u001b[0;32m<ipython-input-33-06bac197f4cb>\u001b[0m in \u001b[0;36m<module>\u001b[0;34m()\u001b[0m\n\u001b[1;32m      1\u001b[0m \u001b[0;31m#index外だとダメ\u001b[0m\u001b[0;34m\u001b[0m\u001b[0;34m\u001b[0m\u001b[0;34m\u001b[0m\u001b[0m\n\u001b[1;32m      2\u001b[0m \u001b[0malphabet\u001b[0m \u001b[0;34m=\u001b[0m \u001b[0;34m'abc'\u001b[0m\u001b[0;34m\u001b[0m\u001b[0;34m\u001b[0m\u001b[0m\n\u001b[0;32m----> 3\u001b[0;31m \u001b[0malphabet\u001b[0m\u001b[0;34m[\u001b[0m\u001b[0;36m3\u001b[0m\u001b[0;34m]\u001b[0m\u001b[0;34m\u001b[0m\u001b[0;34m\u001b[0m\u001b[0m\n\u001b[0m",
            "\u001b[0;31mIndexError\u001b[0m: string index out of range"
          ]
        }
      ]
    },
    {
      "cell_type": "code",
      "source": [
        "alphabet = 'abc'\n",
        "alphabet[-4]"
      ],
      "metadata": {
        "id": "8jV5M0v0obza",
        "outputId": "ac8c2a07-2617-42f4-a821-ebbff634798d",
        "colab": {
          "base_uri": "https://localhost:8080/",
          "height": 193
        }
      },
      "execution_count": 34,
      "outputs": [
        {
          "output_type": "error",
          "ename": "IndexError",
          "evalue": "ignored",
          "traceback": [
            "\u001b[0;31m---------------------------------------------------------------------------\u001b[0m",
            "\u001b[0;31mIndexError\u001b[0m                                Traceback (most recent call last)",
            "\u001b[0;32m<ipython-input-34-2bbfb91bca23>\u001b[0m in \u001b[0;36m<module>\u001b[0;34m()\u001b[0m\n\u001b[1;32m      1\u001b[0m \u001b[0malphabet\u001b[0m \u001b[0;34m=\u001b[0m \u001b[0;34m'abc'\u001b[0m\u001b[0;34m\u001b[0m\u001b[0;34m\u001b[0m\u001b[0m\n\u001b[0;32m----> 2\u001b[0;31m \u001b[0malphabet\u001b[0m\u001b[0;34m[\u001b[0m\u001b[0;34m-\u001b[0m\u001b[0;36m4\u001b[0m\u001b[0;34m]\u001b[0m\u001b[0;34m\u001b[0m\u001b[0;34m\u001b[0m\u001b[0m\n\u001b[0m",
            "\u001b[0;31mIndexError\u001b[0m: string index out of range"
          ]
        }
      ]
    },
    {
      "cell_type": "markdown",
      "source": [
        "でもスライスでは、範囲外になっても大丈夫なのだ<br>\n",
        "ジョグ配列と呼ばれるものだとしても大丈夫"
      ],
      "metadata": {
        "id": "MkhxOuCiojNy"
      }
    },
    {
      "cell_type": "code",
      "source": [
        "alphabet = 'abc'\n",
        "print(alphabet[:4])\n",
        "print(alphabet[1:4])\n",
        "print(alphabet[-4:2])\n",
        "print(alphabet[-4:4])\n",
        "print(alphabet[3:])#ここから下は全て''\n",
        "print(alphabet[:-4])\n",
        "print(alphabet[2:0])\n",
        "#取れない時は何もないとなって特にエラーにならない"
      ],
      "metadata": {
        "id": "CBK6_0h8osWy",
        "outputId": "79a2e898-ed5f-48ae-9f57-85e270f86ecd",
        "colab": {
          "base_uri": "https://localhost:8080/"
        }
      },
      "execution_count": 36,
      "outputs": [
        {
          "output_type": "stream",
          "name": "stdout",
          "text": [
            "abc\n",
            "bc\n",
            "ab\n",
            "abc\n",
            "\n",
            "\n",
            "\n"
          ]
        }
      ]
    },
    {
      "cell_type": "markdown",
      "source": [
        "### メソッドを使って色々な文字列の操作をする\n",
        "オブジェクト自身、あるいはオブジェクトのメンバ変数(フィールド)に対して作用する<br>\n",
        "関数に似たもの。C++ではメンバ関数という<br>\n",
        "文字列.メソッド名(引数,...)"
      ],
      "metadata": {
        "id": "mIsKYAFbqWzV"
      }
    },
    {
      "cell_type": "code",
      "source": [
        "#文字列を大文字にする\n",
        "print(\"Python\".upper())\n",
        "#文字列を小文字にする\n",
        "print(\"Python\".lower())\n",
        "#文字列の先頭が指定した文字列から始まるか\n",
        "print('pycodestyle'.startswith('py'))\n",
        "#文字列の末尾が指定した文字列で終わるか\n",
        "print('python'.endswith('py'))"
      ],
      "metadata": {
        "id": "hQonykhKq5nD",
        "outputId": "b01b3e4b-f656-4c47-8474-f356805d985a",
        "colab": {
          "base_uri": "https://localhost:8080/"
        }
      },
      "execution_count": 37,
      "outputs": [
        {
          "output_type": "stream",
          "name": "stdout",
          "text": [
            "PYTHON\n",
            "python\n",
            "True\n",
            "False\n"
          ]
        }
      ]
    },
    {
      "cell_type": "code",
      "source": [
        "#これらを多重で作用させる\n",
        "print(\"Python\".lower().startswith('py'))\n",
        "print(\"Python\".lower().startswith('Py'))"
      ],
      "metadata": {
        "id": "PepMES7ernkd",
        "outputId": "c4c037e6-7279-4bd0-a2bf-96293a2ff391",
        "colab": {
          "base_uri": "https://localhost:8080/"
        }
      },
      "execution_count": 38,
      "outputs": [
        {
          "output_type": "stream",
          "name": "stdout",
          "text": [
            "True\n",
            "False\n"
          ]
        }
      ]
    },
    {
      "cell_type": "markdown",
      "source": [
        "endswithは拡張子チェックに便利(でも別に関数があるからなあ)"
      ],
      "metadata": {
        "id": "uEj_VHJ8sACd"
      }
    },
    {
      "cell_type": "code",
      "source": [
        "file='hello.py'\n",
        "print(file.endswith('py'))\n",
        "file1='hello.txt'\n",
        "print(file1.endswith('py'))"
      ],
      "metadata": {
        "id": "lkLaizlssIcV",
        "outputId": "7051a1eb-0609-41ef-8889-63abb2199286",
        "colab": {
          "base_uri": "https://localhost:8080/"
        }
      },
      "execution_count": null,
      "outputs": [
        {
          "output_type": "stream",
          "name": "stdout",
          "text": [
            "True\n",
            "False\n"
          ]
        }
      ]
    },
    {
      "cell_type": "markdown",
      "source": [
        "先ほど使ったreplaceメソッド<br>\n",
        "文字列.replace(旧文字列,新文字列)<br>\n",
        "だけでなく<br>\n",
        "文字列.replace(旧文字列,新文字列,先頭からの個数)<br>\n",
        "もできる"
      ],
      "metadata": {
        "id": "pui_ipBasbst"
      }
    },
    {
      "cell_type": "code",
      "source": [
        "file = 'image.jpg'\n",
        "print(file.replace('.jpg', '.jpeg'))"
      ],
      "metadata": {
        "id": "-dp6V9srs1ZW",
        "outputId": "110fc170-c909-49cf-d8b5-2dbcd5152562",
        "colab": {
          "base_uri": "https://localhost:8080/"
        }
      },
      "execution_count": 39,
      "outputs": [
        {
          "output_type": "stream",
          "name": "stdout",
          "text": [
            "image.jpeg\n"
          ]
        }
      ]
    },
    {
      "cell_type": "code",
      "source": [
        "print('Anaconda'.replace('a','A'))\n",
        "print('Anaconda'.replace('a','A', 0))#あれれ？なんかテキストと違う？？？"
      ],
      "metadata": {
        "id": "Rj3hQqL1tEZn",
        "outputId": "eda5fe39-e4e6-420f-c49a-451c040582a0",
        "colab": {
          "base_uri": "https://localhost:8080/"
        }
      },
      "execution_count": 41,
      "outputs": [
        {
          "output_type": "stream",
          "name": "stdout",
          "text": [
            "AnAcondA\n",
            "AnAconda\n"
          ]
        }
      ]
    },
    {
      "cell_type": "markdown",
      "source": [
        "文字列内から指定した文字列を検索するメソッド<br>\n",
        "文字列.find(検索文字列)は先頭から、見つからないと-1<br>\n",
        "文字列.rfind(検索文字列)は末尾から、見つからないと-1<br>\n",
        "文字列.index(検索文字列)は先頭から、見つからないと例外発生<br>\n",
        "文字列.rindex(検索文字列)は末尾から、見つからないと例外発生<br>\n",
        "<br>\n",
        "Python作者Guido van Rossum氏の名前で演習"
      ],
      "metadata": {
        "id": "EIULCJ8-tt12"
      }
    },
    {
      "cell_type": "code",
      "source": [
        "name = \"Guido van Rossum\"\n",
        "print(name[:name.find(' ')])#先頭から見て最初に半角スペースがある所までのインデックス、\n",
        "#つまりファーストネーム\n",
        "print(name[name.rfind(' ')+1:])#末尾から見て最初に半角スペースがある所までのインデックス、\n",
        "#つまりラストネーム。+1が苦しい\n",
        "print(name[name.find(' ')+1:name.rfind(' ')])#上の2つを合わせてみよう。\n",
        "#最初に半角スペースがある所の次、から、次の半角スペースまででミドルネーム"
      ],
      "metadata": {
        "id": "__Zs0Z55ugyf",
        "outputId": "a384dd0c-e598-467f-93c8-9ecf99f486bd",
        "colab": {
          "base_uri": "https://localhost:8080/"
        }
      },
      "execution_count": 42,
      "outputs": [
        {
          "output_type": "stream",
          "name": "stdout",
          "text": [
            "Guido\n",
            "Rossum\n",
            "van\n"
          ]
        }
      ]
    },
    {
      "cell_type": "code",
      "source": [
        "name = 'Kenichiro Matsuura'\n",
        "print(name[:name.index(' ')])#先頭から見て最初に半角スペースがある所までのインデックス、\n",
        "#つまりファーストネーム\n",
        "print(name[name.rindex(' ')+1:])#末尾から見て最初に半角スペースがある所までのインデックス、\n",
        "#つまりラストネーム。+1が苦しい\n",
        "print(name[name.index(' ')+1:name.rindex(' ')])#上の2つを合わせてみよう。\n",
        "#最初に半角スペースがある所の次、から、次の半角スペースまででミドルネーム\n",
        "#ミドルネームが無いから空白\n"
      ],
      "metadata": {
        "id": "OOUMmHsJvtSn",
        "outputId": "b7f67d77-2d5d-4f96-99d4-e70aac615eb0",
        "colab": {
          "base_uri": "https://localhost:8080/"
        }
      },
      "execution_count": 43,
      "outputs": [
        {
          "output_type": "stream",
          "name": "stdout",
          "text": [
            "Kenichiro\n",
            "Matsuura\n",
            "\n"
          ]
        }
      ]
    },
    {
      "cell_type": "markdown",
      "source": [
        "検索文字列が出現する回数を戻り値とする.countメソッド<br>\n",
        "文字列.count(検索文字列)"
      ],
      "metadata": {
        "id": "WhMWcywMwOA_"
      }
    },
    {
      "cell_type": "code",
      "source": [
        "interstring = \"internationalization\"\n",
        "print(interstring.count('i'))\n",
        "print(interstring.count('tion'))"
      ],
      "metadata": {
        "id": "A9q0wRpPwbx2",
        "outputId": "0d2ce35b-984b-4666-c294-fc00f1c9824b",
        "colab": {
          "base_uri": "https://localhost:8080/"
        }
      },
      "execution_count": 44,
      "outputs": [
        {
          "output_type": "stream",
          "name": "stdout",
          "text": [
            "4\n",
            "2\n"
          ]
        }
      ]
    },
    {
      "cell_type": "markdown",
      "source": [
        "しかし覚えるより、「何かこういう事Pythonで出来なかったっけ」と<br>\n",
        "イメージして、それで全体のプログラムの流れを作っておいてから<br>\n",
        "細かい所は本を見たり検索したり、というのが常人としては無難\n"
      ],
      "metadata": {
        "id": "sJ_-54U-wugP"
      }
    },
    {
      "cell_type": "code",
      "source": [
        ""
      ],
      "metadata": {
        "id": "wV2IobBsxHjd"
      },
      "execution_count": null,
      "outputs": []
    }
  ]
}