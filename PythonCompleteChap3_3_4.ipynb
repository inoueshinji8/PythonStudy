{
  "nbformat": 4,
  "nbformat_minor": 0,
  "metadata": {
    "colab": {
      "name": "PythonCompleteChap3_3-4.ipynb",
      "provenance": [],
      "authorship_tag": "ABX9TyMNeksWDJCKLzmyTuLEsHhh",
      "include_colab_link": true
    },
    "kernelspec": {
      "name": "python3",
      "display_name": "Python 3"
    },
    "language_info": {
      "name": "python"
    }
  },
  "cells": [
    {
      "cell_type": "markdown",
      "metadata": {
        "id": "view-in-github",
        "colab_type": "text"
      },
      "source": [
        "<a href=\"https://colab.research.google.com/github/inoueshinji8/PythonStudy/blob/main/PythonCompleteChap3_3_4.ipynb\" target=\"_parent\"><img src=\"https://colab.research.google.com/assets/colab-badge.svg\" alt=\"Open In Colab\"/></a>"
      ]
    },
    {
      "cell_type": "markdown",
      "source": [
        "#section3 数値を使って計算を行う\n",
        "\n",
        "計算のためには 演算子 を使う<br>"
      ],
      "metadata": {
        "id": "8oLvE_KbN-dW"
      }
    },
    {
      "cell_type": "markdown",
      "source": [
        "\\+ A+B 加算<br>\n",
        "\\- A-B 減算<br>\n",
        "\\* A*B 乗算<br>\n",
        "@ A*B 行列積<br>\n",
        "/ A/B 除算<br>\n",
        "// A/B 除算 (結果にfloor適用)<br>\n",
        "% A%B 剰余 (割り算の余り)<br>\n",
        "** A**B べき乗<br>\n",
        "<br>\n",
        "これらは二項算術演算子<br>\n",
        "単項算術演算子 + -"
      ],
      "metadata": {
        "id": "6AU9WvJ0OgiM"
      }
    },
    {
      "cell_type": "markdown",
      "source": [
        "@ AB 行列積はnumpy型などでしか使えない<br>\n",
        "/の結果は常に浮動小数点<br>\n",
        "//の結果は、整数同士の演算だと整数<br>"
      ],
      "metadata": {
        "id": "1JpZm12JQPie"
      }
    },
    {
      "cell_type": "code",
      "execution_count": null,
      "metadata": {
        "colab": {
          "base_uri": "https://localhost:8080/"
        },
        "id": "7iBhEkXbN6jw",
        "outputId": "a9a05b0c-f06c-451e-9985-14bd6f8b1b46"
      },
      "outputs": [
        {
          "output_type": "stream",
          "name": "stdout",
          "text": [
            "2.5\n",
            "2.0\n",
            "2\n",
            "2\n"
          ]
        }
      ],
      "source": [
        "print(5/2)\n",
        "print(4/2)\n",
        "print(5//2)#floorというか、2.5が切り下げで2\n",
        "print(4//2)"
      ]
    },
    {
      "cell_type": "code",
      "source": [
        "#だが浮動小数点数同士だと、//でも浮動小数点数の解を出力する\n",
        "print(5.0//2.0)#floor関数は適用されている\n",
        "print(4.0//2.0)"
      ],
      "metadata": {
        "colab": {
          "base_uri": "https://localhost:8080/"
        },
        "id": "aaoEtNjTQ_1-",
        "outputId": "29315d7a-0117-4c9b-81c3-4cfb6d35674f"
      },
      "execution_count": null,
      "outputs": [
        {
          "output_type": "stream",
          "name": "stdout",
          "text": [
            "2.0\n",
            "2.0\n"
          ]
        }
      ]
    },
    {
      "cell_type": "code",
      "source": [
        "#浮動小数点数と整数の演算でも//の解は浮動小数点数\n",
        "print(5.0//2)\n",
        "print(5//2.0)\n",
        "print(4.0//2)\n",
        "print(4//2.0)"
      ],
      "metadata": {
        "colab": {
          "base_uri": "https://localhost:8080/"
        },
        "id": "WswOLRBORY0O",
        "outputId": "caa886fc-df34-4c08-d757-d0a717660cc3"
      },
      "execution_count": null,
      "outputs": [
        {
          "output_type": "stream",
          "name": "stdout",
          "text": [
            "2.0\n",
            "2.0\n",
            "2.0\n",
            "2.0\n"
          ]
        }
      ]
    },
    {
      "cell_type": "markdown",
      "source": [
        "####負の数に対する//の演算に注意\n",
        "-3//2は-2<br>\n",
        "式の値以下の最大の整数、だから-1.5→-2"
      ],
      "metadata": {
        "id": "2VRGssJXRzPG"
      }
    },
    {
      "cell_type": "code",
      "source": [
        "print(-3/2)\n",
        "print(-3//2)"
      ],
      "metadata": {
        "colab": {
          "base_uri": "https://localhost:8080/"
        },
        "id": "OGQO55UIRxEd",
        "outputId": "dc7c589e-7613-4101-e4d2-7c21e5e5edec"
      },
      "execution_count": null,
      "outputs": [
        {
          "output_type": "stream",
          "name": "stdout",
          "text": [
            "-1.5\n",
            "-2\n"
          ]
        }
      ]
    },
    {
      "cell_type": "markdown",
      "source": [
        "####剰余を求める%\n",
        "浮動小数点数%整数<br>\n",
        "整数%浮動小数点数<br>\n",
        "浮動小数点数%浮動小数点数<br>\n",
        "全て浮動小数点数"
      ],
      "metadata": {
        "id": "ql7wE5u_ScBv"
      }
    },
    {
      "cell_type": "code",
      "source": [
        "print(3%2)\n",
        "print(3.5%1.5)\n",
        "print(7.58%1.5)#計算できない"
      ],
      "metadata": {
        "colab": {
          "base_uri": "https://localhost:8080/"
        },
        "id": "e3axHVbCS1v3",
        "outputId": "246ada4a-18a4-45d6-ec28-cb0fea295da3"
      },
      "execution_count": null,
      "outputs": [
        {
          "output_type": "stream",
          "name": "stdout",
          "text": [
            "1\n",
            "0.5\n",
            "0.08000000000000007\n"
          ]
        }
      ]
    },
    {
      "cell_type": "markdown",
      "source": [
        "負の数の剰余ってあまり考えないけど奥が深い<br>\n",
        "A == (A//B)*B + (A%B)<br>\n",
        "を満たす数となると定義されているので<br>\n",
        "それに従うと"
      ],
      "metadata": {
        "id": "j11NAXEQTe3e"
      }
    },
    {
      "cell_type": "code",
      "source": [
        "print(-3%2)\n",
        "print(-3%-2)"
      ],
      "metadata": {
        "colab": {
          "base_uri": "https://localhost:8080/"
        },
        "id": "a9Gf7JzBTqSd",
        "outputId": "1696e4eb-8445-47f4-8fcd-62cb7bd38d3b"
      },
      "execution_count": null,
      "outputs": [
        {
          "output_type": "stream",
          "name": "stdout",
          "text": [
            "1\n",
            "-1\n"
          ]
        }
      ]
    },
    {
      "cell_type": "markdown",
      "source": [
        "(-3//2) == -2<br>\n",
        "-2*2 == -4<br>\n",
        "-3 === -4 + (-3%2)<br>\n",
        "1 == (-3%2)<br>\n",
        "ということ<br>\n",
        "\n",
        "(-3//-2) == 1<br>\n",
        "1*-2 == -2<br>\n",
        "-3 == -2 + (-3%-2)<br>\n",
        "-1 == (-3%-2)<br>"
      ],
      "metadata": {
        "id": "-K5eI6TzUOD-"
      }
    },
    {
      "cell_type": "markdown",
      "source": [
        "乗算の正負の表<br>\n",
        "X  Y  X%Y<br>\n",
        "\\+　\\+　\\+<br>\n",
        "\\+　\\- 　\\-<br>\n",
        "\\-　\\+　\\+<br>\n",
        "\\-　\\-　\\-<br>\n"
      ],
      "metadata": {
        "id": "h989insKVb7g"
      }
    },
    {
      "cell_type": "markdown",
      "source": [
        "### 演算子の優先順位"
      ],
      "metadata": {
        "id": "0fHlDDZp2LJi"
      }
    },
    {
      "cell_type": "code",
      "source": [
        "#掛ける、割るは足す引くより優先\n",
        "print(2+3*4)\n",
        "print((2+3)*4)"
      ],
      "metadata": {
        "id": "wPvOT0nU2QiB",
        "outputId": "3eadc6d2-1f63-4e9d-8080-e98c1ba4d948",
        "colab": {
          "base_uri": "https://localhost:8080/"
        }
      },
      "execution_count": null,
      "outputs": [
        {
          "output_type": "stream",
          "name": "stdout",
          "text": [
            "14\n",
            "20\n"
          ]
        }
      ]
    },
    {
      "cell_type": "markdown",
      "source": [
        "高優先度<br>\n",
        "() [] {} [:] <br>\n",
        "x[] x[:] x() x.<br>一番左はオブジェクトのフィールド、メソッド呼び出し<br>\n",
        "await x <br>非同期処理<br>\n",
        "**<br>べき乗<br>\n",
        "単項+,単項-,~<br>一番左はビット単位のnor<br>\n",
        "*,@,/,//,%<br>\n",
        "+,-<br>\n",
        "<<,>><br>左シフト、右シフト<br>\n",
        "&<br>ビット単位のAND<br>\n",
        "^<br>ビット単位のXOR<br>\n",
        "|<br>ビット単位のOR<br>\n",
        "in,not in, is, not is,<,<=,>,>=,!=,==<br>\n",
        "not<br>\n",
        "and<br>\n",
        "or<br>\n",
        "if else<br>\n",
        "lambda<br>\n",
        ":=<br>\n",
        "低優先度<br>\n"
      ],
      "metadata": {
        "id": "13O5wUSo2mwZ"
      }
    },
    {
      "cell_type": "code",
      "source": [
        "2/3*4"
      ],
      "metadata": {
        "id": "C4d94DHC4dep",
        "outputId": "1b6cd3d4-522c-46e2-b768-f4ca8b076488",
        "colab": {
          "base_uri": "https://localhost:8080/"
        }
      },
      "execution_count": null,
      "outputs": [
        {
          "output_type": "execute_result",
          "data": {
            "text/plain": [
              "2.6666666666666665"
            ]
          },
          "metadata": {},
          "execution_count": 2
        }
      ]
    },
    {
      "cell_type": "code",
      "source": [
        "print((2/3)*4)\n",
        "print(2/(3*4))"
      ],
      "metadata": {
        "id": "n-a-bQF84kKZ",
        "outputId": "3d36d085-ff24-4add-b281-4ba11338f906",
        "colab": {
          "base_uri": "https://localhost:8080/"
        }
      },
      "execution_count": null,
      "outputs": [
        {
          "output_type": "stream",
          "name": "stdout",
          "text": [
            "2.6666666666666665\n",
            "0.16666666666666666\n"
          ]
        }
      ]
    },
    {
      "cell_type": "markdown",
      "source": [
        "**は右結合なので、右側から評価する"
      ],
      "metadata": {
        "id": "V-Zyrs1F4soY"
      }
    },
    {
      "cell_type": "code",
      "source": [
        "print(2**3**4)\n",
        "print((2**3)**4)\n",
        "print(2**(3**4))"
      ],
      "metadata": {
        "id": "QcJa7pka4yqo",
        "outputId": "1fe16861-b3a2-46c2-cc61-ed50bfbe924e",
        "colab": {
          "base_uri": "https://localhost:8080/"
        }
      },
      "execution_count": null,
      "outputs": [
        {
          "output_type": "stream",
          "name": "stdout",
          "text": [
            "2417851639229258349412352\n",
            "4096\n",
            "2417851639229258349412352\n"
          ]
        }
      ]
    },
    {
      "cell_type": "markdown",
      "source": [
        "### 累算代入文\n",
        "\n",
        "C言語などなら i++と書かれるもの"
      ],
      "metadata": {
        "id": "U3dxqIvO49wZ"
      }
    },
    {
      "cell_type": "code",
      "source": [
        "x=1\n",
        "x =x+1\n",
        "print(x)\n",
        "x=1\n",
        "x += 1\n",
        "print(x)"
      ],
      "metadata": {
        "id": "Yk-GAR0s5IfY",
        "outputId": "e9f5eb07-0800-4c7b-bd46-bcedb3f1852a",
        "colab": {
          "base_uri": "https://localhost:8080/"
        }
      },
      "execution_count": null,
      "outputs": [
        {
          "output_type": "stream",
          "name": "stdout",
          "text": [
            "2\n",
            "2\n"
          ]
        }
      ]
    },
    {
      "cell_type": "markdown",
      "source": [
        "一々代入するたびにオブジェクトが生成されると計算時間の無駄になるので<br>\n",
        "累算代入文の方が実行効率が良くなる"
      ],
      "metadata": {
        "id": "O6jbBwDr5gJg"
      }
    },
    {
      "cell_type": "markdown",
      "source": [
        "+=<br>\n",
        "-=<br>\n",
        "\\*=<br>\n",
        "/=<br>\n",
        "@=<br>\n",
        "//=<br>\n",
        "%=<br>\n",
        "\\**=<br>\n",
        "\\<<=<br>\n",
        "\\>>=<br>\n",
        "&=<br>\n",
        "^=<br>\n",
        "|=<br>\n"
      ],
      "metadata": {
        "id": "nTKIluIY5tpg"
      }
    },
    {
      "cell_type": "markdown",
      "source": [
        "# section04 文字列を切ったりつなげたり"
      ],
      "metadata": {
        "id": "hjuKmdcw6blp"
      }
    },
    {
      "cell_type": "markdown",
      "source": [
        "「インデックスやスライスを使って繋げたり切ったりする」<br>\n",
        "つまり配列と同様に、何文字目から何文字目、という技を使うという事である"
      ],
      "metadata": {
        "id": "gF6RodEEdx9_"
      }
    },
    {
      "cell_type": "code",
      "source": [
        "#プラスを使って文字列結合\n",
        "print('Hello'+'.txt')\n",
        "#数値型と判断されそうな文字列はstr()に入れておく\n",
        "print('version'+str(1.0))"
      ],
      "metadata": {
        "id": "EBcPx9x0eEO5",
        "outputId": "645e2848-69f1-4d74-d230-ea6a441c57d0",
        "colab": {
          "base_uri": "https://localhost:8080/"
        }
      },
      "execution_count": 2,
      "outputs": [
        {
          "output_type": "stream",
          "name": "stdout",
          "text": [
            "Hello.txt\n",
            "version1.0\n"
          ]
        }
      ]
    },
    {
      "cell_type": "markdown",
      "source": [
        "累算代入文、つまり+=を使ってみよう"
      ],
      "metadata": {
        "id": "fcemK2ULenro"
      }
    },
    {
      "cell_type": "code",
      "source": [
        "x=\"hello\"\n",
        "print(x)\n",
        "x += '.txt'\n",
        "print(x)"
      ],
      "metadata": {
        "id": "O48h73cfeswF",
        "outputId": "1e2c8bd1-d7e3-4da7-f45a-fa1325a9b3c3",
        "colab": {
          "base_uri": "https://localhost:8080/"
        }
      },
      "execution_count": 3,
      "outputs": [
        {
          "output_type": "stream",
          "name": "stdout",
          "text": [
            "hello\n",
            "hello.txt\n"
          ]
        }
      ]
    },
    {
      "cell_type": "markdown",
      "source": [
        "文字列繰り返しに * を使える<br>\n",
        "'-+-' * 20とか(知らなかった)"
      ],
      "metadata": {
        "id": "R0by7449e5yf"
      }
    },
    {
      "cell_type": "code",
      "source": [
        "print(\"-+-\"*20)\n",
        "print(20*\"-+-\")\n",
        "print(3*\"-+-\"*3)#9個になるね"
      ],
      "metadata": {
        "id": "vCkwKyjgfJhu",
        "outputId": "aec91933-0021-495e-d86d-1569a903b9cc",
        "colab": {
          "base_uri": "https://localhost:8080/"
        }
      },
      "execution_count": 6,
      "outputs": [
        {
          "output_type": "stream",
          "name": "stdout",
          "text": [
            "-+--+--+--+--+--+--+--+--+--+--+--+--+--+--+--+--+--+--+--+-\n",
            "-+--+--+--+--+--+--+--+--+--+--+--+--+--+--+--+--+--+--+--+-\n",
            "-+--+--+--+--+--+--+--+--+-\n"
          ]
        }
      ]
    },
    {
      "cell_type": "code",
      "source": [
        "#こっちも累算代入文で\n",
        "x='-+-'\n",
        "x *= 20\n",
        "print(x)"
      ],
      "metadata": {
        "id": "z_yfO76PfNZf",
        "outputId": "3d5f2f8e-0405-4b29-d89d-58af3e183026",
        "colab": {
          "base_uri": "https://localhost:8080/"
        }
      },
      "execution_count": 7,
      "outputs": [
        {
          "output_type": "stream",
          "name": "stdout",
          "text": [
            "-+--+--+--+--+--+--+--+--+--+--+--+--+--+--+--+--+--+--+--+-\n"
          ]
        }
      ]
    },
    {
      "cell_type": "markdown",
      "source": [
        "### 文字列はイミュータブル\n",
        "イミュータブル、変更できない、という意味だが<br>\n",
        "上で散々変わってるじゃん！<br>\n",
        "<br>\n",
        "\n",
        "実は新しい文字列が出来ている！"
      ],
      "metadata": {
        "id": "Fh8mQR60fvC4"
      }
    },
    {
      "cell_type": "code",
      "source": [
        "x = \"Answer:\"\n",
        "print(id(x))\n",
        "x += 'Yes!'\n",
        "print(x)\n",
        "print(id(x))\n",
        "#同じxなのに、アドレスが違う！"
      ],
      "metadata": {
        "id": "NkY4V53WgBRW",
        "outputId": "48dc9565-d976-4d87-f43a-9cceae0bb6cf",
        "colab": {
          "base_uri": "https://localhost:8080/"
        }
      },
      "execution_count": 9,
      "outputs": [
        {
          "output_type": "stream",
          "name": "stdout",
          "text": [
            "139931585084208\n",
            "Answer:Yes!\n",
            "139931585113840\n"
          ]
        }
      ]
    },
    {
      "cell_type": "markdown",
      "source": [
        "####先ほどの139931585084208というアドレスに入っていた値は<br>\n",
        "####ガーベッジコレクターに除去される\n",
        "これ知らなかった！<br>\n",
        "でもC言語みたいに文字列の後ろに全て\\0が入っていて<br>\n",
        "一々それを外してから加えるとか面倒なのよりいいか"
      ],
      "metadata": {
        "id": "YVmelWiSgkyf"
      }
    },
    {
      "cell_type": "code",
      "source": [
        "#for文はメモリを食う\n",
        "import time\n",
        "start = time.time()\n",
        "for i in range(100000):\n",
        "  x += '-+-'\n",
        "elapsed_time = time.time() - start\n",
        "print (\"elapsed_time:{0}\".format(elapsed_time) + \"[sec]\")"
      ],
      "metadata": {
        "id": "rN0-VwslhmO_",
        "outputId": "bd3eb41d-73e5-4054-c69d-0bbc1fb9e55d",
        "colab": {
          "base_uri": "https://localhost:8080/"
        }
      },
      "execution_count": 10,
      "outputs": [
        {
          "output_type": "stream",
          "name": "stdout",
          "text": [
            "elapsed_time:0.028557538986206055[sec]\n"
          ]
        }
      ]
    },
    {
      "cell_type": "code",
      "source": [
        "# *演算子は一度の処理で最終的な文字列を作成するので高速\n",
        "start = time.time()\n",
        "x += '-+-'*100000\n",
        "elapsed_time = time.time() - start\n",
        "print (\"elapsed_time:{0}\".format(elapsed_time) + \"[sec]\")"
      ],
      "metadata": {
        "id": "VH6mgsf6iQ4F",
        "outputId": "e606dfbf-b453-481d-d74b-8955a1cb1fdc",
        "colab": {
          "base_uri": "https://localhost:8080/"
        }
      },
      "execution_count": 11,
      "outputs": [
        {
          "output_type": "stream",
          "name": "stdout",
          "text": [
            "elapsed_time:0.0006682872772216797[sec]\n"
          ]
        }
      ]
    },
    {
      "cell_type": "markdown",
      "source": [
        "### インデックスを使って文字列から文字列を切り出す\n",
        "まるで配列だ"
      ],
      "metadata": {
        "id": "8SxUsjl9imBn"
      }
    },
    {
      "cell_type": "code",
      "source": [
        "x='Hello.txt'\n",
        "print(x)\n",
        "\n",
        "print(x[5])\n",
        "print(x[-4])#末尾から"
      ],
      "metadata": {
        "id": "gUzvycv3ixtA",
        "outputId": "2ce7df2b-770c-4f54-f690-afc49be262aa",
        "colab": {
          "base_uri": "https://localhost:8080/"
        }
      },
      "execution_count": 12,
      "outputs": [
        {
          "output_type": "stream",
          "name": "stdout",
          "text": [
            "Hello.txt\n",
            ".\n",
            ".\n"
          ]
        }
      ]
    },
    {
      "cell_type": "markdown",
      "source": [
        "だが配列と違ってイミュータブルつまり変更不可能なので<br>\n",
        "文字列置き換えを配列のようにやろうとすると失敗する"
      ],
      "metadata": {
        "id": "5VzMvpUfjBVw"
      }
    },
    {
      "cell_type": "code",
      "source": [
        "x[5] = '-'"
      ],
      "metadata": {
        "id": "Nf2JLjXtjO0Q",
        "outputId": "9488ffbf-a328-42cc-d87f-ada0f766afd5",
        "colab": {
          "base_uri": "https://localhost:8080/",
          "height": 170
        }
      },
      "execution_count": 13,
      "outputs": [
        {
          "output_type": "error",
          "ename": "TypeError",
          "evalue": "ignored",
          "traceback": [
            "\u001b[0;31m---------------------------------------------------------------------------\u001b[0m",
            "\u001b[0;31mTypeError\u001b[0m                                 Traceback (most recent call last)",
            "\u001b[0;32m<ipython-input-13-511ba1e108f1>\u001b[0m in \u001b[0;36m<module>\u001b[0;34m()\u001b[0m\n\u001b[0;32m----> 1\u001b[0;31m \u001b[0mx\u001b[0m\u001b[0;34m[\u001b[0m\u001b[0;36m5\u001b[0m\u001b[0;34m]\u001b[0m \u001b[0;34m=\u001b[0m \u001b[0;34m'-'\u001b[0m\u001b[0;34m\u001b[0m\u001b[0;34m\u001b[0m\u001b[0m\n\u001b[0m",
            "\u001b[0;31mTypeError\u001b[0m: 'str' object does not support item assignment"
          ]
        }
      ]
    },
    {
      "cell_type": "code",
      "source": [
        "print(x.replace('.','-'))\n",
        "print(x)#replace関数は置き換えるんじゃなくて戻り値に置き換えた文字列を作る\n",
        "x1 = x.replace('.','-')\n",
        "print(x1)"
      ],
      "metadata": {
        "id": "tigYowLGjSWY",
        "outputId": "58b785e7-d3bc-4f01-ccae-646c03468cc3",
        "colab": {
          "base_uri": "https://localhost:8080/"
        }
      },
      "execution_count": 18,
      "outputs": [
        {
          "output_type": "stream",
          "name": "stdout",
          "text": [
            "Hello-txt\n",
            "Hello.txt\n",
            "Hello-txt\n"
          ]
        }
      ]
    },
    {
      "cell_type": "markdown",
      "source": [
        "### スライスを使って部分文字列を切り出す\n",
        "Pythonの配列でスライスの意味がいっつも分からなくなって調べ直す<br>\n",
        "まあ[:]とか[4:]とか見ても焦らない事<br>\n",
        "\n",
        "文字列[開始インデックス:終了インデックス]"
      ],
      "metadata": {
        "id": "jDGPra4ckENC"
      }
    },
    {
      "cell_type": "code",
      "source": [
        "x = 'Hello.txt'\n",
        "print(x[0:5])\n",
        "print(x[6:9])"
      ],
      "metadata": {
        "id": "au9P-tg_kfCo",
        "outputId": "d9619111-9225-4191-e179-86999084ea14",
        "colab": {
          "base_uri": "https://localhost:8080/"
        }
      },
      "execution_count": 19,
      "outputs": [
        {
          "output_type": "stream",
          "name": "stdout",
          "text": [
            "Hello\n",
            "txt\n"
          ]
        }
      ]
    },
    {
      "cell_type": "code",
      "source": [
        "#終了indexの文字は取り出されない\n",
        "print(x[0:4])\n",
        "print(x[6:8])"
      ],
      "metadata": {
        "id": "i3pB09b5kr-A",
        "outputId": "2bd1f6e8-0a7f-4d8c-c1eb-943c6b4c9139",
        "colab": {
          "base_uri": "https://localhost:8080/"
        }
      },
      "execution_count": 20,
      "outputs": [
        {
          "output_type": "stream",
          "name": "stdout",
          "text": [
            "Hell\n",
            "tx\n"
          ]
        }
      ]
    },
    {
      "cell_type": "code",
      "source": [
        "print(x[:5])#最初から5番目の要素まで(5番目除く)\n",
        "print(x[6:])#6番目の要素から最後まで(6番目除く)\n",
        "print(x[:])#全要素"
      ],
      "metadata": {
        "id": "oAii_6MEk_0P",
        "outputId": "824674ed-cc6e-411b-b50c-f43e3c2a499d",
        "colab": {
          "base_uri": "https://localhost:8080/"
        }
      },
      "execution_count": 21,
      "outputs": [
        {
          "output_type": "stream",
          "name": "stdout",
          "text": [
            "Hello\n",
            "txt\n",
            "Hello.txt\n"
          ]
        }
      ]
    },
    {
      "cell_type": "code",
      "source": [
        "x[-3:]#一番後ろから3つ前(そのインデックスを含む)から最後まで"
      ],
      "metadata": {
        "id": "FcWaKnMMldNB",
        "outputId": "e9934349-4adc-44d1-e10d-6364fe047515",
        "colab": {
          "base_uri": "https://localhost:8080/",
          "height": 35
        }
      },
      "execution_count": 22,
      "outputs": [
        {
          "output_type": "execute_result",
          "data": {
            "application/vnd.google.colaboratory.intrinsic+json": {
              "type": "string"
            },
            "text/plain": [
              "'txt'"
            ]
          },
          "metadata": {},
          "execution_count": 22
        }
      ]
    },
    {
      "cell_type": "markdown",
      "source": [
        "スライスを使って、文字列中の文字を置き換えた文字を出力しよう"
      ],
      "metadata": {
        "id": "SbEwEOFlmHjn"
      }
    },
    {
      "cell_type": "code",
      "source": [
        "x='hello.txt'\n",
        "print(x[:5] + '-' +x[6:])\n",
        "print(x[:5] + '-' +x[-3:])"
      ],
      "metadata": {
        "id": "-1RYbGuRmLsK",
        "outputId": "b5a18ab2-2143-4d5c-e065-59b588ec95f3",
        "colab": {
          "base_uri": "https://localhost:8080/"
        }
      },
      "execution_count": 23,
      "outputs": [
        {
          "output_type": "stream",
          "name": "stdout",
          "text": [
            "hello-txt\n",
            "hello-txt\n"
          ]
        }
      ]
    },
    {
      "cell_type": "markdown",
      "source": [
        "####ストライド、つまり文字を取り出す間隔という機能\n",
        "####他言語でもあるけど忘れていた\n",
        "文字列[開始インデックス:終了インデックス:ストライド]\n",
        "\n",
        "X = '-W=E-L=C=O+M*E'<br>\n",
        "print(x[1::2])\n",
        "####2つ::並ぶからって2次元配列？とか思わないように！飛ばしてとるストライド"
      ],
      "metadata": {
        "id": "XGC-XQcSmgSh"
      }
    },
    {
      "cell_type": "code",
      "source": [
        "X = '-W=E-L=C=O+M*E'\n",
        "print(X[1::2])"
      ],
      "metadata": {
        "id": "5QhbttW_nUUL",
        "outputId": "34a4044d-1503-4b05-9d6d-49947dd5ce4e",
        "colab": {
          "base_uri": "https://localhost:8080/"
        }
      },
      "execution_count": 26,
      "outputs": [
        {
          "output_type": "stream",
          "name": "stdout",
          "text": [
            "WELCOME\n"
          ]
        }
      ]
    },
    {
      "cell_type": "markdown",
      "source": [
        "負数のストライド"
      ],
      "metadata": {
        "id": "-OsMIW5angkS"
      }
    },
    {
      "cell_type": "code",
      "source": [
        "newspaper = \"しんぶんし\"\n",
        "print(newspaper == newspaper[::-1])\n",
        "Tuna_Can = \"かつおぶし\"\n",
        "print(Tuna_Can == Tuna_Can[::-1])"
      ],
      "metadata": {
        "id": "Qu_69wVinnOp",
        "outputId": "9c2fd403-2baf-4e79-8868-78d23345f075",
        "colab": {
          "base_uri": "https://localhost:8080/"
        }
      },
      "execution_count": 29,
      "outputs": [
        {
          "output_type": "stream",
          "name": "stdout",
          "text": [
            "True\n",
            "False\n"
          ]
        }
      ]
    },
    {
      "cell_type": "code",
      "source": [
        "#index外だとダメ\n",
        "alphabet = 'abc'\n",
        "alphabet[3]"
      ],
      "metadata": {
        "id": "X4OPgIXpoTx7",
        "outputId": "185e64e8-aa7e-40aa-fff9-1087a3481594",
        "colab": {
          "base_uri": "https://localhost:8080/",
          "height": 205
        }
      },
      "execution_count": 30,
      "outputs": [
        {
          "output_type": "error",
          "ename": "IndexError",
          "evalue": "ignored",
          "traceback": [
            "\u001b[0;31m---------------------------------------------------------------------------\u001b[0m",
            "\u001b[0;31mIndexError\u001b[0m                                Traceback (most recent call last)",
            "\u001b[0;32m<ipython-input-30-06bac197f4cb>\u001b[0m in \u001b[0;36m<module>\u001b[0;34m()\u001b[0m\n\u001b[1;32m      1\u001b[0m \u001b[0;31m#index外だとダメ\u001b[0m\u001b[0;34m\u001b[0m\u001b[0;34m\u001b[0m\u001b[0;34m\u001b[0m\u001b[0m\n\u001b[1;32m      2\u001b[0m \u001b[0malphabet\u001b[0m \u001b[0;34m=\u001b[0m \u001b[0;34m'abc'\u001b[0m\u001b[0;34m\u001b[0m\u001b[0;34m\u001b[0m\u001b[0m\n\u001b[0;32m----> 3\u001b[0;31m \u001b[0malphabet\u001b[0m\u001b[0;34m[\u001b[0m\u001b[0;36m3\u001b[0m\u001b[0;34m]\u001b[0m\u001b[0;34m\u001b[0m\u001b[0;34m\u001b[0m\u001b[0m\n\u001b[0m",
            "\u001b[0;31mIndexError\u001b[0m: string index out of range"
          ]
        }
      ]
    },
    {
      "cell_type": "code",
      "source": [
        "alphabet = 'abc'\n",
        "alphabet[-4]"
      ],
      "metadata": {
        "id": "8jV5M0v0obza",
        "outputId": "e01dae8c-4de5-4872-937c-a7e20f30916f",
        "colab": {
          "base_uri": "https://localhost:8080/",
          "height": 188
        }
      },
      "execution_count": 32,
      "outputs": [
        {
          "output_type": "error",
          "ename": "IndexError",
          "evalue": "ignored",
          "traceback": [
            "\u001b[0;31m---------------------------------------------------------------------------\u001b[0m",
            "\u001b[0;31mIndexError\u001b[0m                                Traceback (most recent call last)",
            "\u001b[0;32m<ipython-input-32-2bbfb91bca23>\u001b[0m in \u001b[0;36m<module>\u001b[0;34m()\u001b[0m\n\u001b[1;32m      1\u001b[0m \u001b[0malphabet\u001b[0m \u001b[0;34m=\u001b[0m \u001b[0;34m'abc'\u001b[0m\u001b[0;34m\u001b[0m\u001b[0;34m\u001b[0m\u001b[0m\n\u001b[0;32m----> 2\u001b[0;31m \u001b[0malphabet\u001b[0m\u001b[0;34m[\u001b[0m\u001b[0;34m-\u001b[0m\u001b[0;36m4\u001b[0m\u001b[0;34m]\u001b[0m\u001b[0;34m\u001b[0m\u001b[0;34m\u001b[0m\u001b[0m\n\u001b[0m",
            "\u001b[0;31mIndexError\u001b[0m: string index out of range"
          ]
        }
      ]
    },
    {
      "cell_type": "markdown",
      "source": [
        "でもスライスでは、範囲外になっても大丈夫なのだ<br>\n",
        "ジョグ配列と呼ばれるものだとしても大丈夫"
      ],
      "metadata": {
        "id": "MkhxOuCiojNy"
      }
    },
    {
      "cell_type": "code",
      "source": [
        "alphabet = 'abc'\n",
        "print(alphabet[:4])\n",
        "print(alphabet[1:4])\n",
        "print(alphabet[-4:2])\n",
        "print(alphabet[-4:4])\n",
        "print(alphabet[3:])#ここから下は全て''\n",
        "print(alphabet[:-4])\n",
        "print(alphabet[2:0])\n",
        "#取れない時は何もないとなって特にエラーにならない"
      ],
      "metadata": {
        "id": "CBK6_0h8osWy",
        "outputId": "65ce6c27-20e1-4953-9f75-5e3d99c270f2",
        "colab": {
          "base_uri": "https://localhost:8080/"
        }
      },
      "execution_count": 35,
      "outputs": [
        {
          "output_type": "stream",
          "name": "stdout",
          "text": [
            "abc\n",
            "bc\n",
            "ab\n",
            "abc\n",
            "\n",
            "\n",
            "\n"
          ]
        }
      ]
    },
    {
      "cell_type": "markdown",
      "source": [
        "### メソッドを使って色々な文字列の操作をする\n",
        "オブジェクト自身、あるいはオブジェクトのメンバ変数(フィールド)に対して作用する<br>\n",
        "関数に似たもの。C++ではメンバ関数という<br>\n",
        "文字列.メソッド名(引数,...)"
      ],
      "metadata": {
        "id": "mIsKYAFbqWzV"
      }
    },
    {
      "cell_type": "code",
      "source": [
        "#文字列を大文字にする\n",
        "print(\"Python\".upper())\n",
        "#文字列を小文字にする\n",
        "print(\"Python\".lower())\n",
        "#文字列の先頭が指定した文字列から始まるか\n",
        "print('pycodestyle'.startswith('py'))\n",
        "#文字列の末尾が指定した文字列で終わるか\n",
        "print('python'.endswith('py'))"
      ],
      "metadata": {
        "id": "hQonykhKq5nD",
        "outputId": "74f3c8e9-be95-46f6-8c8a-a3625fac8d76",
        "colab": {
          "base_uri": "https://localhost:8080/"
        }
      },
      "execution_count": 39,
      "outputs": [
        {
          "output_type": "stream",
          "name": "stdout",
          "text": [
            "PYTHON\n",
            "python\n",
            "True\n",
            "False\n"
          ]
        }
      ]
    },
    {
      "cell_type": "code",
      "source": [
        "#これらを多重で作用させる\n",
        "print(\"Python\".lower().startswith('py'))\n",
        "print(\"Python\".lower().startswith('Py'))"
      ],
      "metadata": {
        "id": "PepMES7ernkd",
        "outputId": "a14b830a-0865-49a1-d57a-7c0b4ae9cd1c",
        "colab": {
          "base_uri": "https://localhost:8080/"
        }
      },
      "execution_count": 42,
      "outputs": [
        {
          "output_type": "stream",
          "name": "stdout",
          "text": [
            "True\n",
            "False\n"
          ]
        }
      ]
    },
    {
      "cell_type": "markdown",
      "source": [
        "endswithは拡張子チェックに便利(でも別に関数があるからなあ)"
      ],
      "metadata": {
        "id": "uEj_VHJ8sACd"
      }
    },
    {
      "cell_type": "code",
      "source": [
        "file='hello.py'\n",
        "print(file.endswith('py'))\n",
        "file1='hello.txt'\n",
        "print(file1.endswith('py'))"
      ],
      "metadata": {
        "id": "lkLaizlssIcV",
        "outputId": "7051a1eb-0609-41ef-8889-63abb2199286",
        "colab": {
          "base_uri": "https://localhost:8080/"
        }
      },
      "execution_count": 45,
      "outputs": [
        {
          "output_type": "stream",
          "name": "stdout",
          "text": [
            "True\n",
            "False\n"
          ]
        }
      ]
    },
    {
      "cell_type": "markdown",
      "source": [
        "先ほど使ったreplaceメソッド<br>\n",
        "文字列.replace(旧文字列,新文字列)<br>\n",
        "だけでなく<br>\n",
        "文字列.replace(旧文字列,新文字列,先頭からの個数)<br>\n",
        "もできる"
      ],
      "metadata": {
        "id": "pui_ipBasbst"
      }
    },
    {
      "cell_type": "code",
      "source": [
        "file = 'image.jpg'\n",
        "print(file.replace('.jpg', '.jpeg'))"
      ],
      "metadata": {
        "id": "-dp6V9srs1ZW",
        "outputId": "fbf050f0-d295-43f9-af56-14382192e0d5",
        "colab": {
          "base_uri": "https://localhost:8080/"
        }
      },
      "execution_count": 47,
      "outputs": [
        {
          "output_type": "stream",
          "name": "stdout",
          "text": [
            "image.jpeg\n"
          ]
        }
      ]
    },
    {
      "cell_type": "code",
      "source": [
        "print('Anaconda'.replace('a','A'))\n",
        "print('Anaconda'.replace('a','A', 0))#あれれ？なんかテキストと違う？？？"
      ],
      "metadata": {
        "id": "Rj3hQqL1tEZn",
        "outputId": "778ce740-b5d0-42a3-a3bf-dd4149946ce2",
        "colab": {
          "base_uri": "https://localhost:8080/"
        }
      },
      "execution_count": 51,
      "outputs": [
        {
          "output_type": "stream",
          "name": "stdout",
          "text": [
            "AnAcondA\n",
            "Anaconda\n"
          ]
        }
      ]
    },
    {
      "cell_type": "markdown",
      "source": [
        "文字列内から指定した文字列を検索するメソッド<br>\n",
        "文字列.find(検索文字列)は先頭から、見つからないと-1<br>\n",
        "文字列.rfind(検索文字列)は末尾から、見つからないと-1<br>\n",
        "文字列.index(検索文字列)は先頭から、見つからないと例外発生<br>\n",
        "文字列.rindex(検索文字列)は末尾から、見つからないと例外発生<br>\n",
        "<br>\n",
        "Python作者Guido van Rossum氏の名前で演習"
      ],
      "metadata": {
        "id": "EIULCJ8-tt12"
      }
    },
    {
      "cell_type": "code",
      "source": [
        "name = \"Guido van Rossum\"\n",
        "print(name[:name.find(' ')])#先頭から見て最初に半角スペースがある所までのインデックス、\n",
        "#つまりファーストネーム\n",
        "print(name[name.rfind(' ')+1:])#末尾から見て最初に半角スペースがある所までのインデックス、\n",
        "#つまりラストネーム。+1が苦しい\n",
        "print(name[name.find(' ')+1:name.rfind(' ')])#上の2つを合わせてみよう。\n",
        "#最初に半角スペースがある所の次、から、次の半角スペースまででミドルネーム"
      ],
      "metadata": {
        "id": "__Zs0Z55ugyf",
        "outputId": "a0156ea6-18d5-4b6d-c9e6-96b459344b50",
        "colab": {
          "base_uri": "https://localhost:8080/"
        }
      },
      "execution_count": 55,
      "outputs": [
        {
          "output_type": "stream",
          "name": "stdout",
          "text": [
            "Guido\n",
            "van\n",
            "Rossum\n"
          ]
        }
      ]
    },
    {
      "cell_type": "code",
      "source": [
        "name = 'Kenichiro Matsuura'\n",
        "print(name[:name.index(' ')])#先頭から見て最初に半角スペースがある所までのインデックス、\n",
        "#つまりファーストネーム\n",
        "print(name[name.rindex(' ')+1:])#末尾から見て最初に半角スペースがある所までのインデックス、\n",
        "#つまりラストネーム。+1が苦しい\n",
        "print(name[name.index(' ')+1:name.rindex(' ')])#上の2つを合わせてみよう。\n",
        "#最初に半角スペースがある所の次、から、次の半角スペースまででミドルネーム\n",
        "#ミドルネームが無いから空白\n"
      ],
      "metadata": {
        "id": "OOUMmHsJvtSn",
        "outputId": "812d5405-53bb-4dfa-d0a6-1c9cc634de5c",
        "colab": {
          "base_uri": "https://localhost:8080/"
        }
      },
      "execution_count": 56,
      "outputs": [
        {
          "output_type": "stream",
          "name": "stdout",
          "text": [
            "Kenichiro\n",
            "Matsuura\n",
            "\n"
          ]
        }
      ]
    },
    {
      "cell_type": "markdown",
      "source": [
        "検索文字列が出現する回数を戻り値とする.countメソッド<br>\n",
        "文字列.count(検索文字列)"
      ],
      "metadata": {
        "id": "WhMWcywMwOA_"
      }
    },
    {
      "cell_type": "code",
      "source": [
        "interstring = \"internationalization\"\n",
        "print(interstring.count('i'))\n",
        "print(interstring.count('tion'))"
      ],
      "metadata": {
        "id": "A9q0wRpPwbx2",
        "outputId": "da630447-8358-415a-f1ae-b821bafdd511",
        "colab": {
          "base_uri": "https://localhost:8080/"
        }
      },
      "execution_count": 57,
      "outputs": [
        {
          "output_type": "stream",
          "name": "stdout",
          "text": [
            "4\n",
            "2\n"
          ]
        }
      ]
    },
    {
      "cell_type": "markdown",
      "source": [
        "しかし覚えるより、「何かこういう事Pythonで出来なかったっけ」と<br>\n",
        "イメージして、それで全体のプログラムの流れを作っておいてから<br>\n",
        "細かい所は本を見たり検索したり、というのが常人としては無難\n"
      ],
      "metadata": {
        "id": "sJ_-54U-wugP"
      }
    },
    {
      "cell_type": "code",
      "source": [
        ""
      ],
      "metadata": {
        "id": "wV2IobBsxHjd"
      },
      "execution_count": null,
      "outputs": []
    }
  ]
}