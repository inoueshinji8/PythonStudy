{
  "nbformat": 4,
  "nbformat_minor": 0,
  "metadata": {
    "colab": {
      "name": "PythonCompleteChap3_3-4.ipynb",
      "provenance": [],
      "authorship_tag": "ABX9TyPSDaDeWSAIYdEUHIlR4Zl6",
      "include_colab_link": true
    },
    "kernelspec": {
      "name": "python3",
      "display_name": "Python 3"
    },
    "language_info": {
      "name": "python"
    }
  },
  "cells": [
    {
      "cell_type": "markdown",
      "metadata": {
        "id": "view-in-github",
        "colab_type": "text"
      },
      "source": [
        "<a href=\"https://colab.research.google.com/github/inoueshinji8/PythonStudy/blob/main/PythonCompleteChap3_3_4.ipynb\" target=\"_parent\"><img src=\"https://colab.research.google.com/assets/colab-badge.svg\" alt=\"Open In Colab\"/></a>"
      ]
    },
    {
      "cell_type": "markdown",
      "source": [
        "#section3 数値を使って計算を行う\n",
        "\n",
        "計算のためには 演算子 を使う<br>"
      ],
      "metadata": {
        "id": "8oLvE_KbN-dW"
      }
    },
    {
      "cell_type": "markdown",
      "source": [
        "\\+ A+B 加算<br>\n",
        "\\- A-B 減算<br>\n",
        "\\* A*B 乗算<br>\n",
        "@ A*B 行列積<br>\n",
        "/ A/B 除算<br>\n",
        "// A/B 除算 (結果にfloor適用)<br>\n",
        "% A%B 剰余 (割り算の余り)<br>\n",
        "** A**B べき乗<br>\n",
        "<br>\n",
        "これらは二項算術演算子<br>\n",
        "単項算術演算子 + -"
      ],
      "metadata": {
        "id": "6AU9WvJ0OgiM"
      }
    },
    {
      "cell_type": "markdown",
      "source": [
        "@ AB 行列積はnumpy型などでしか使えない<br>\n",
        "/の結果は常に浮動小数点<br>\n",
        "//の結果は、整数同士の演算だと整数<br>"
      ],
      "metadata": {
        "id": "1JpZm12JQPie"
      }
    },
    {
      "cell_type": "code",
      "execution_count": 1,
      "metadata": {
        "colab": {
          "base_uri": "https://localhost:8080/"
        },
        "id": "7iBhEkXbN6jw",
        "outputId": "a9a05b0c-f06c-451e-9985-14bd6f8b1b46"
      },
      "outputs": [
        {
          "output_type": "stream",
          "name": "stdout",
          "text": [
            "2.5\n",
            "2.0\n",
            "2\n",
            "2\n"
          ]
        }
      ],
      "source": [
        "print(5/2)\n",
        "print(4/2)\n",
        "print(5//2)#floorというか、2.5が切り下げで2\n",
        "print(4//2)"
      ]
    },
    {
      "cell_type": "code",
      "source": [
        "#だが浮動小数点数同士だと、//でも浮動小数点数の解を出力する\n",
        "print(5.0//2.0)#floor関数は適用されている\n",
        "print(4.0//2.0)"
      ],
      "metadata": {
        "colab": {
          "base_uri": "https://localhost:8080/"
        },
        "id": "aaoEtNjTQ_1-",
        "outputId": "29315d7a-0117-4c9b-81c3-4cfb6d35674f"
      },
      "execution_count": 2,
      "outputs": [
        {
          "output_type": "stream",
          "name": "stdout",
          "text": [
            "2.0\n",
            "2.0\n"
          ]
        }
      ]
    },
    {
      "cell_type": "code",
      "source": [
        "#浮動小数点数と整数の演算でも//の解は浮動小数点数\n",
        "print(5.0//2)\n",
        "print(5//2.0)\n",
        "print(4.0//2)\n",
        "print(4//2.0)"
      ],
      "metadata": {
        "colab": {
          "base_uri": "https://localhost:8080/"
        },
        "id": "WswOLRBORY0O",
        "outputId": "caa886fc-df34-4c08-d757-d0a717660cc3"
      },
      "execution_count": 3,
      "outputs": [
        {
          "output_type": "stream",
          "name": "stdout",
          "text": [
            "2.0\n",
            "2.0\n",
            "2.0\n",
            "2.0\n"
          ]
        }
      ]
    },
    {
      "cell_type": "markdown",
      "source": [
        "####負の数に対する//の演算に注意\n",
        "-3//2は-2<br>\n",
        "式の値以下の最大の整数、だから-1.5→-2"
      ],
      "metadata": {
        "id": "2VRGssJXRzPG"
      }
    },
    {
      "cell_type": "code",
      "source": [
        "print(-3/2)\n",
        "print(-3//2)"
      ],
      "metadata": {
        "colab": {
          "base_uri": "https://localhost:8080/"
        },
        "id": "OGQO55UIRxEd",
        "outputId": "dc7c589e-7613-4101-e4d2-7c21e5e5edec"
      },
      "execution_count": 4,
      "outputs": [
        {
          "output_type": "stream",
          "name": "stdout",
          "text": [
            "-1.5\n",
            "-2\n"
          ]
        }
      ]
    },
    {
      "cell_type": "markdown",
      "source": [
        "####剰余を求める%\n",
        "浮動小数点数%整数<br>\n",
        "整数%浮動小数点数<br>\n",
        "浮動小数点数%浮動小数点数<br>\n",
        "全て浮動小数点数"
      ],
      "metadata": {
        "id": "ql7wE5u_ScBv"
      }
    },
    {
      "cell_type": "code",
      "source": [
        "print(3%2)\n",
        "print(3.5%1.5)\n",
        "print(7.58%1.5)#計算できない"
      ],
      "metadata": {
        "colab": {
          "base_uri": "https://localhost:8080/"
        },
        "id": "e3axHVbCS1v3",
        "outputId": "246ada4a-18a4-45d6-ec28-cb0fea295da3"
      },
      "execution_count": 5,
      "outputs": [
        {
          "output_type": "stream",
          "name": "stdout",
          "text": [
            "1\n",
            "0.5\n",
            "0.08000000000000007\n"
          ]
        }
      ]
    },
    {
      "cell_type": "markdown",
      "source": [
        "負の数の剰余ってあまり考えないけど奥が深い<br>\n",
        "A == (A//B)*B + (A%B)<br>\n",
        "を満たす数となると定義されているので<br>\n",
        "それに従うと"
      ],
      "metadata": {
        "id": "j11NAXEQTe3e"
      }
    },
    {
      "cell_type": "code",
      "source": [
        "print(-3%2)\n",
        "print(-3%-2)"
      ],
      "metadata": {
        "colab": {
          "base_uri": "https://localhost:8080/"
        },
        "id": "a9Gf7JzBTqSd",
        "outputId": "1696e4eb-8445-47f4-8fcd-62cb7bd38d3b"
      },
      "execution_count": 6,
      "outputs": [
        {
          "output_type": "stream",
          "name": "stdout",
          "text": [
            "1\n",
            "-1\n"
          ]
        }
      ]
    },
    {
      "cell_type": "markdown",
      "source": [
        "(-3//2) == -2<br>\n",
        "-2*2 == -4<br>\n",
        "-3 === -4 + (-3%2)<br>\n",
        "1 == (-3%2)<br>\n",
        "ということ<br>\n",
        "\n",
        "(-3//-2) == 1<br>\n",
        "1*-2 == -2<br>\n",
        "-3 == -2 + (-3%-2)<br>\n",
        "-1 == (-3%-2)<br>"
      ],
      "metadata": {
        "id": "-K5eI6TzUOD-"
      }
    },
    {
      "cell_type": "markdown",
      "source": [
        "乗算の正負の表<br>\n",
        "X  Y  X%Y<br>\n",
        "\\+　\\+　\\+<br>\n",
        "\\+　\\- 　\\-<br>\n",
        "\\-　\\+　\\+<br>\n",
        "\\-　\\-　\\-<br>\n"
      ],
      "metadata": {
        "id": "h989insKVb7g"
      }
    }
  ]
}