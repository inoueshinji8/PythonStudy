{
  "nbformat": 4,
  "nbformat_minor": 0,
  "metadata": {
    "colab": {
      "name": "PythonCompleteChap5_1_2.ipynb",
      "provenance": [],
      "collapsed_sections": [],
      "authorship_tag": "ABX9TyMkGD+cpN4azJal8PNGdbnm",
      "include_colab_link": true
    },
    "kernelspec": {
      "name": "python3",
      "display_name": "Python 3"
    },
    "language_info": {
      "name": "python"
    }
  },
  "cells": [
    {
      "cell_type": "markdown",
      "metadata": {
        "id": "view-in-github",
        "colab_type": "text"
      },
      "source": [
        "<a href=\"https://colab.research.google.com/github/inoueshinji8/PythonStudy/blob/main/PythonCompleteChap5_1_2.ipynb\" target=\"_parent\"><img src=\"https://colab.research.google.com/assets/colab-badge.svg\" alt=\"Open In Colab\"/></a>"
      ]
    },
    {
      "cell_type": "markdown",
      "source": [
        "# プログラムの流れを変える制御構造\n",
        "\n",
        "変数と配列とifとforが理解できればとりあえずどんなプログラムでも書ける！<br>\n",
        "っていう人もいるが、ファイル入出力、装置入出力、ライブラリ使用、関数、クラスなど<br>\n",
        "いろいろ便利だが複雑な要素も増えた時代なのでそうも言ってられない<br>\n",
        "でも、if、forあるいはwhileや、それに伴うbreak、continue、passを使いこなせると<br>\n",
        "ぐっと便利になる"
      ],
      "metadata": {
        "id": "vuHvUdxSv9Wu"
      }
    },
    {
      "cell_type": "markdown",
      "source": [
        "## section01 条件分岐にはif文を使う\n",
        "プログラムと言えばif文による条件分岐と連想する人が最も多いくらいの重要なもの<br>\n",
        "\n",
        "Pythonの場合には、字下げというかインデントに注意する"
      ],
      "metadata": {
        "id": "NH1Pw6X6xFBv"
      }
    },
    {
      "cell_type": "markdown",
      "source": [
        "### 「もしも」のif文\n",
        "if 式:(コロンが大事)<br>\n",
        "　　文...<br>\n",
        "文 ... (if文の外側)<br>\n",
        "マークダウンのインデントは不本意ながら全角スペースしかないですかね？\n"
      ],
      "metadata": {
        "id": "m6nkZSnlxZpd"
      }
    },
    {
      "cell_type": "code",
      "execution_count": 1,
      "metadata": {
        "colab": {
          "base_uri": "https://localhost:8080/"
        },
        "id": "_Uyi9Ze9vmyA",
        "outputId": "1575b6a6-8f8a-4c96-b6b4-1ba1944759ef"
      },
      "outputs": [
        {
          "output_type": "stream",
          "name": "stdout",
          "text": [
            "1st Prize:Money\n"
          ]
        }
      ],
      "source": [
        "number = '123456'\n",
        "if number == '123456':#コロンが大事\n",
        "  print('1st Prize:Money')"
      ]
    },
    {
      "cell_type": "code",
      "source": [
        "number = '654321'\n",
        "if number == '123456':#\n",
        "  print('1st Prize:Money')\n",
        "#表示なし。これでは面白くない\n",
        "#なおプログラムをファイルから読み込むのは今回は避けました"
      ],
      "metadata": {
        "id": "KnRtYp0X11bJ"
      },
      "execution_count": 2,
      "outputs": []
    },
    {
      "cell_type": "markdown",
      "source": [
        "### 番号をキーボードから入力する\n",
        "\n",
        "input()<br>\n",
        "で入力できる、という\n",
        "\n",
        "input('画面表示文字列')<br>\n",
        "だと、[入力してください]とか書ける、という\n"
      ],
      "metadata": {
        "id": "zB2qK7YO2HF4"
      }
    },
    {
      "cell_type": "code",
      "source": [
        "number = input('6桁の数字を入力してください')\n",
        "#おお！コード入力のテキストボックスが開いたぞ！"
      ],
      "metadata": {
        "colab": {
          "base_uri": "https://localhost:8080/"
        },
        "id": "wADQbkRd2TTf",
        "outputId": "5e6129cd-b9d1-4c97-814b-aa8b49aa87de"
      },
      "execution_count": 3,
      "outputs": [
        {
          "name": "stdout",
          "output_type": "stream",
          "text": [
            "6桁の数字を入力してください325478\n"
          ]
        }
      ]
    },
    {
      "cell_type": "code",
      "source": [
        "if number == \"123456\":\n",
        "  print('1st Prize: Money')"
      ],
      "metadata": {
        "id": "OmxFtEqA20gZ"
      },
      "execution_count": 4,
      "outputs": []
    },
    {
      "cell_type": "code",
      "source": [
        "number = input('6桁の数字を入力してください')"
      ],
      "metadata": {
        "colab": {
          "base_uri": "https://localhost:8080/"
        },
        "id": "kCg9j0J-3Ka3",
        "outputId": "fd380527-8841-4fe2-d45f-b9142580fb91"
      },
      "execution_count": 5,
      "outputs": [
        {
          "name": "stdout",
          "output_type": "stream",
          "text": [
            "6桁の数字を入力してください123456\n"
          ]
        }
      ]
    },
    {
      "cell_type": "code",
      "source": [
        "if number == \"123456\":\n",
        "  print('1st Prize: Money')"
      ],
      "metadata": {
        "colab": {
          "base_uri": "https://localhost:8080/"
        },
        "id": "krXBxeEZ3Qup",
        "outputId": "8cc46cb9-c7c5-48a3-cf80-2fa962250f0f"
      },
      "execution_count": 6,
      "outputs": [
        {
          "output_type": "stream",
          "name": "stdout",
          "text": [
            "1st Prize: Money\n"
          ]
        }
      ]
    },
    {
      "cell_type": "markdown",
      "source": [
        "### 複数の文を実行する"
      ],
      "metadata": {
        "id": "eWtWV6Zw3WxY"
      }
    },
    {
      "cell_type": "code",
      "source": [
        "number = input('6桁の数字を入力してください')"
      ],
      "metadata": {
        "colab": {
          "base_uri": "https://localhost:8080/"
        },
        "id": "FIO3LOjB3kgH",
        "outputId": "421d4f84-9b96-4e7a-9a82-6567b279d095"
      },
      "execution_count": 7,
      "outputs": [
        {
          "name": "stdout",
          "output_type": "stream",
          "text": [
            "6桁の数字を入力してください123456\n"
          ]
        }
      ]
    },
    {
      "cell_type": "code",
      "source": [
        "if number == \"123456\":\n",
        "  print('1st Prize: Money')\n",
        "  print('Conguratulations!')"
      ],
      "metadata": {
        "colab": {
          "base_uri": "https://localhost:8080/"
        },
        "id": "KpeqcHUW3qwA",
        "outputId": "b9a8fee1-fbe0-47bc-a41c-aaffdf35a646"
      },
      "execution_count": 8,
      "outputs": [
        {
          "output_type": "stream",
          "name": "stdout",
          "text": [
            "1st Prize: Money\n",
            "Conguratulations!\n"
          ]
        }
      ]
    },
    {
      "cell_type": "markdown",
      "source": [
        "### 「でなければ」のelse節\n",
        "\n",
        "if 式:<br>\n",
        "　　文(式がtrueなら実行)<br>\n",
        "else:<br>\n",
        "　　文(式がfalseなら実行)<br>\n",
        "if文の外側<br>"
      ],
      "metadata": {
        "id": "JXhNIXhE34nZ"
      }
    },
    {
      "cell_type": "code",
      "source": [
        "number=input('Nunber')\n",
        "if number == '123456':\n",
        "  print('1st Prize: Car')\n",
        "else:\n",
        "  print('Lose')"
      ],
      "metadata": {
        "colab": {
          "base_uri": "https://localhost:8080/"
        },
        "id": "_FMFeJdi46Ew",
        "outputId": "fae4678e-4c4f-40bd-9120-b2124cb8a215"
      },
      "execution_count": 9,
      "outputs": [
        {
          "output_type": "stream",
          "name": "stdout",
          "text": [
            "Nunber123456\n",
            "1st Prize: Car\n"
          ]
        }
      ]
    },
    {
      "cell_type": "code",
      "source": [
        "number=input('Nunber')\n",
        "if number == '123456':\n",
        "  print('1st Prize: Car')\n",
        "else:\n",
        "  print('Lose')"
      ],
      "metadata": {
        "colab": {
          "base_uri": "https://localhost:8080/"
        },
        "id": "ZKlJL-Dq5RQI",
        "outputId": "42f4b0e0-14c5-4ae4-ca32-ace46a34cea7"
      },
      "execution_count": 10,
      "outputs": [
        {
          "output_type": "stream",
          "name": "stdout",
          "text": [
            "Nunber540323\n",
            "Lose\n"
          ]
        }
      ]
    },
    {
      "cell_type": "markdown",
      "source": [
        "### 「ではなくてもしも」のelif節\n",
        "\n",
        "他の言語だと else ifとかelsifとかある<br>\n",
        "\n",
        "if 式A:<br>\n",
        "　　文(式AがTrueの場合に実行する文)<br>\n",
        "elif 式B:(式AがFalseの場合に評価する式)<br>\n",
        "　　文(式BがTrueの場合に実行する文)<br>\n",
        "文(if文の外側)"
      ],
      "metadata": {
        "id": "0h7Zqu_g9iaj"
      }
    },
    {
      "cell_type": "markdown",
      "source": [
        "if 式A:<br>\n",
        "　　文(式AがTrueの場合に実行する文)<br>\n",
        "elif 式B:(式AがFalseの場合に評価する式)<br>\n",
        "　　文(式BがTrueの場合に実行する文)<br>\n",
        "elif 式C:(式A、BがFalseの場合に評価する式)<br>\n",
        "　　文(式CがTrueの場合に実行する文)<br>\n",
        "else:<br>\n",
        "　　文(いずれの式もFalseの時に実行する文)<br>\n",
        "文(if文の外側)<br>"
      ],
      "metadata": {
        "id": "67Cyqjbt-kME"
      }
    },
    {
      "cell_type": "code",
      "source": [
        "number = input('Number')\n",
        "if number == '123456':\n",
        "  print('1st Prize:Money')\n",
        "elif number[-4:] == '7890':#スライスです。下4桁を見る\n",
        "  print('2nd Prize:Gift Box')\n",
        "elif number[-2:] == '05':\n",
        "  print('3rd Prize:Stamp Sheet')\n",
        "else:\n",
        "  print('Lose')"
      ],
      "metadata": {
        "colab": {
          "base_uri": "https://localhost:8080/"
        },
        "id": "TG1pkP0N_GET",
        "outputId": "6b3a3de6-ac79-4209-8839-a7fc1e523c25"
      },
      "execution_count": 26,
      "outputs": [
        {
          "output_type": "stream",
          "name": "stdout",
          "text": [
            "Number9j3au3nf3\n",
            "Lose\n"
          ]
        }
      ]
    },
    {
      "cell_type": "markdown",
      "source": [
        "## section02 式の中で条件分岐が出来る条件式\n",
        "\n",
        "個人的にはこれが出て来るとちょっと苦手なので、しっかり理解する"
      ],
      "metadata": {
        "id": "mNlcbAwaAYcV"
      }
    },
    {
      "cell_type": "markdown",
      "source": [
        "###条件式の書き方\n",
        "式A if 条件の式 else 式B\n",
        "\n",
        "真ん中に条件式があるから理解しにくい\n",
        "\n",
        "式A、条件式、式B<br>\n",
        "と3つの項があるので三項演算子という<br>\n",
        "他の言語だと条件式、式A、式Bの順のが多いから混乱しないようにする"
      ],
      "metadata": {
        "id": "cBYvb6HJAk78"
      }
    },
    {
      "cell_type": "code",
      "source": [
        "number = input('number')\n",
        "print('1st Prize:Money' if number == \"123456\" else 'Lose')\n",
        "#これで動くのか？、！！！"
      ],
      "metadata": {
        "colab": {
          "base_uri": "https://localhost:8080/"
        },
        "id": "OuHH74yoBQNk",
        "outputId": "1beea991-92f7-4943-b530-079f83654d15"
      },
      "execution_count": 27,
      "outputs": [
        {
          "output_type": "stream",
          "name": "stdout",
          "text": [
            "number123456\n",
            "1st Prize:Money\n"
          ]
        }
      ]
    },
    {
      "cell_type": "markdown",
      "source": [
        "### 複雑な条件式\n",
        "\n",
        "式A if 条件の式X else 式B if 条件の式Y else 式C\n",
        "\n",
        "条件式XがTrueなら、式Aの値を返す<br>\n",
        "条件式XがFalseで、条件式YがTrueなら、式Bの値を返す<br>\n",
        "条件式XがFalseで、条件式YがFalseなら、式Cの値を返す<br>\n",
        "\n",
        "4通りでもその応用\n"
      ],
      "metadata": {
        "id": "6JJqV_RJBmm0"
      }
    },
    {
      "cell_type": "code",
      "source": [
        "number = input('number')\n",
        "print('1st Prize:Money' if number == '123456' else \n",
        "      '2nd Prize:Gift Box' if number[-4:] == '7890' else \n",
        "      '3rd Prize:Stamp Sheet' if number[-2:] == '05' else 'Lose')"
      ],
      "metadata": {
        "colab": {
          "base_uri": "https://localhost:8080/"
        },
        "id": "5jhXbd1bCKwk",
        "outputId": "b267b2f2-e996-4795-effc-a82b11cb2d04"
      },
      "execution_count": 29,
      "outputs": [
        {
          "output_type": "stream",
          "name": "stdout",
          "text": [
            "number837890\n",
            "2nd Prize:Gift Box\n"
          ]
        }
      ]
    }
  ]
}