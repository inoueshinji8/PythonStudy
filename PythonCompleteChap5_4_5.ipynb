{
  "nbformat": 4,
  "nbformat_minor": 0,
  "metadata": {
    "colab": {
      "name": "PythonCompleteChap5_4_5.ipynb",
      "provenance": [],
      "authorship_tag": "ABX9TyO9tMoc3rXDFj2GGqwCk471",
      "include_colab_link": true
    },
    "kernelspec": {
      "name": "python3",
      "display_name": "Python 3"
    },
    "language_info": {
      "name": "python"
    }
  },
  "cells": [
    {
      "cell_type": "markdown",
      "metadata": {
        "id": "view-in-github",
        "colab_type": "text"
      },
      "source": [
        "<a href=\"https://colab.research.google.com/github/inoueshinji8/PythonStudy/blob/main/PythonCompleteChap5_4_5.ipynb\" target=\"_parent\"><img src=\"https://colab.research.google.com/assets/colab-badge.svg\" alt=\"Open In Colab\"/></a>"
      ]
    },
    {
      "cell_type": "markdown",
      "source": [
        "## section4 for文で書きにくい繰り返しはwhile文で書く\n",
        "\n",
        "引数の方でなく、戻り値などが幾つになったら終わり！\n",
        "\n",
        "というプログラムを書きたい時はwhile文が便利\n",
        "(繰り返して収束させる時など)<br>\n",
        "\n",
        "while 式:\n",
        "　　文...\n",
        "文..."
      ],
      "metadata": {
        "id": "8y3WosPZEKAV"
      }
    },
    {
      "cell_type": "markdown",
      "source": [
        "1. 変数catalogに空のリストを代入する\n",
        "\n",
        "2. while文を使って、catalogの要素数が3以下なら、以下の3.と4.を繰り返す\n",
        "\n",
        "3. input関数を使ってitem:と表示し、キーボードから入力した文字列を変数itemに代入する\n",
        "\n",
        "4. appendメソッドを使って、catalogのリストにitemを追加する\n",
        "\n",
        "5. print関数でcatalogを表示"
      ],
      "metadata": {
        "id": "6T9Qix4BFy2t"
      }
    },
    {
      "cell_type": "code",
      "execution_count": null,
      "metadata": {
        "colab": {
          "base_uri": "https://localhost:8080/"
        },
        "id": "t4bZFtOBD1Us",
        "outputId": "70b7573e-eb31-49b2-880c-715521c3320f"
      },
      "outputs": [
        {
          "output_type": "stream",
          "name": "stdout",
          "text": [
            "item:apple\n",
            "item:banana\n",
            "item:coconut\n",
            "catalog: ['apple', 'banana', 'coconut']\n"
          ]
        }
      ],
      "source": [
        "catalog = []\n",
        "while len(catalog) < 3:\n",
        "  item = input('item:')\n",
        "  catalog.append(item)\n",
        "\n",
        "print('catalog:',catalog)"
      ]
    },
    {
      "cell_type": "markdown",
      "source": [
        "#### 次の繰り返しに進むcontinue文\n",
        "\n",
        "while 式:・・・(1)<br>\n",
        "　　文...<br>\n",
        "　　if 式:<br>\n",
        "　　　　文...<br>\n",
        "　　　　continue#continue文を実行すると、(2)ではなく(1)に戻る<br>\n",
        "　　文・・・(2)<br>\n",
        "<br>\n",
        "while 式:<br>\n",
        "　　文...<br>\n",
        "　　while 式:・・・(1)<br>\n",
        "　　文...<br>\n",
        "　　　　if 式:<br>\n",
        "　　　　　　文...<br>\n",
        "　　　　　　continue#continue文を実行すると、(2)ではなく(1)に戻る<br>\n",
        "　　　　文・・・(2)<br>"
      ],
      "metadata": {
        "id": "Rc-LLEqdtTcE"
      }
    },
    {
      "cell_type": "code",
      "source": [
        "#文を見るだけでなく例示で\n",
        "\n",
        "catalog = []\n",
        "while len(catalog) < 3:\n",
        "  item = input(\"item: \")\n",
        "  if item in catalog:\n",
        "    print(item,' is on the catalog.')\n",
        "    continue\n",
        "  catalog.append(item)\n",
        "print('catalog: ',catalog)"
      ],
      "metadata": {
        "id": "W8WnEF6MukGi",
        "outputId": "4776e47f-678a-45ef-9eab-2c010929eaaf",
        "colab": {
          "base_uri": "https://localhost:8080/"
        }
      },
      "execution_count": 2,
      "outputs": [
        {
          "output_type": "stream",
          "name": "stdout",
          "text": [
            "item: apple\n",
            "item: banana\n",
            "item: banana\n",
            "banana  is on the catalog.\n",
            "item: orange\n",
            "catalog:  ['apple', 'banana', 'orange']\n"
          ]
        }
      ]
    },
    {
      "cell_type": "markdown",
      "source": [
        "ユーザーの入力に応じて繰り返しの回数が変化するプログラムなら<br>\n",
        "for文よりwhile文の方が向いている場合がある"
      ],
      "metadata": {
        "id": "5_dwOxlhvRST"
      }
    },
    {
      "cell_type": "markdown",
      "source": [
        "#### 繰り返しを途中で終了するbreak文\n",
        "\n",
        "while 式:<br>\n",
        "　　文...<br>\n",
        "　　if 式:<br>\n",
        "　　　　文...<br>\n",
        "　　　　continue#continue文を実行すると、(1)ではなく(2)に進む。whileループを抜ける<br>\n",
        "　　文・・・(1)<br>\n",
        "文・・・(2)<br>\n",
        "<br>\n",
        "while 式:<br>\n",
        "　　文...<br>\n",
        "　　while 式:・・・(1)<br>\n",
        "　　文...<br>\n",
        "　　　　if 式:<br>\n",
        "　　　　　　文...<br>\n",
        "　　　　　　continue#continue文を実行すると、(2)ではなく(3)に進む。whileループを抜ける<br>\n",
        "　　　　文・・・(2)<br>\n",
        "　　文・・・(3)"
      ],
      "metadata": {
        "id": "GCAolcZfvbPi"
      }
    },
    {
      "cell_type": "code",
      "source": [
        "#文を見るだけでなく例示で\n",
        "\n",
        "catalog = []\n",
        "while len(catalog) < 3:\n",
        "  item = input(\"item: \")\n",
        "  if item in catalog:\n",
        "    print(item,' is on the catalog.')\n",
        "    break\n",
        "  catalog.append(item)\n",
        "print('catalog: ',catalog)\n",
        "#continueではwhile文の「3回まで繰り返す」を守っていた。breakでは3回待たずに抜けた。\n",
        "#昔、この辺があまり区別がついていなかった時にうまく動かず「えーっと、例外の時に抜けないようにするには、・・・・・\n",
        "#continueだ！」と気付いて、うまく動いて喜んでいた時があった"
      ],
      "metadata": {
        "id": "mejQ-9RSwLDD",
        "outputId": "d4ed48b6-8710-40fa-e64f-cb26d1f46bb4",
        "colab": {
          "base_uri": "https://localhost:8080/"
        }
      },
      "execution_count": 3,
      "outputs": [
        {
          "output_type": "stream",
          "name": "stdout",
          "text": [
            "item: apple\n",
            "item: orange\n",
            "item: orange\n",
            "orange  is on the catalog.\n",
            "catalog:  ['apple', 'orange']\n"
          ]
        }
      ]
    },
    {
      "cell_type": "markdown",
      "source": [
        "#### 繰り返しを途中で終了しなかった時に実行するelse節\n",
        "\n",
        "while 式:<br>\n",
        "　　文・・・<br>\n",
        "else 式:<br>\n",
        "　　文・・・<br>\n",
        "<br>\n",
        "for 式:<br>\n",
        "　　文・・・<br>\n",
        "else 式:<br>\n",
        "　　文・・・<br>"
      ],
      "metadata": {
        "id": "IGMml6A4w52U"
      }
    },
    {
      "cell_type": "code",
      "source": [
        "#この場合の挙動も面白い\n",
        "catalog = []\n",
        "while len(catalog) < 3:\n",
        "  item = input(\"item: \")\n",
        "  if item in catalog:\n",
        "    print(item,' is on the catalog.')\n",
        "    break\n",
        "  catalog.append(item)\n",
        "else:\n",
        "  print('catalog: ',catalog)#これは、breakしなかった時に実行する"
      ],
      "metadata": {
        "id": "8KvmkOcUxceM",
        "outputId": "dffc5424-a0a2-4f3f-bd30-3ad568b72a14",
        "colab": {
          "base_uri": "https://localhost:8080/"
        }
      },
      "execution_count": 5,
      "outputs": [
        {
          "output_type": "stream",
          "name": "stdout",
          "text": [
            "item: apple\n",
            "item: banana\n",
            "item: orange\n",
            "catalog:  ['apple', 'banana', 'orange']\n"
          ]
        }
      ]
    },
    {
      "cell_type": "code",
      "source": [
        "#どの教科も70点以上で合格と表示する厳しいプログラム\n",
        "score = {'language':'75','math':'73','chemistry':'78'}\n",
        "for key, value in score.items():\n",
        "  if int(value) < 70:\n",
        "    print(\"Please take a exam again!\")\n",
        "    break\n",
        "else:\n",
        "  for key, value in score.items():\n",
        "    print(\"Your \"+key +\" point is \"+ str(value))  "
      ],
      "metadata": {
        "id": "KRgre4D2zFc8",
        "outputId": "8078049d-a928-4439-c4da-eab67733c0a6",
        "colab": {
          "base_uri": "https://localhost:8080/"
        }
      },
      "execution_count": 27,
      "outputs": [
        {
          "output_type": "stream",
          "name": "stdout",
          "text": [
            "Your language point is 75\n",
            "Your math point is 73\n",
            "Your chemistry point is 78\n"
          ]
        }
      ]
    },
    {
      "cell_type": "code",
      "source": [
        "a = 2\n",
        "for i in range(5):\n",
        "  a *= 1.5#ここを書き換えよう\n",
        "  if a> 30:\n",
        "    print(\"a is too large!\")\n",
        "    break\n",
        "  print(a)\n",
        "else:\n",
        "  print(\"計算結果は \",a)\n"
      ],
      "metadata": {
        "id": "vSminR-zx-q7",
        "outputId": "1b62ae82-7287-488e-9366-8f45c448562e",
        "colab": {
          "base_uri": "https://localhost:8080/"
        }
      },
      "execution_count": 7,
      "outputs": [
        {
          "output_type": "stream",
          "name": "stdout",
          "text": [
            "3.0\n",
            "4.5\n",
            "6.75\n",
            "10.125\n",
            "15.1875\n",
            "計算結果は  15.1875\n"
          ]
        }
      ]
    },
    {
      "cell_type": "markdown",
      "source": [
        "#### 無限ループはbreak文で抜け出す\n",
        "\n",
        "while True:<br>\n",
        "　　文・・・<br>\n",
        "　　if 式:<br>\n",
        "　　　　文<br>\n",
        "　　　　break<br>\n",
        "　　文・・・<br>"
      ],
      "metadata": {
        "id": "g8bFcyug3jiE"
      }
    },
    {
      "cell_type": "markdown",
      "source": [
        "(1)無限ループを使って以下の(2)～(4)を繰り返す\n",
        "\n",
        "(2)input関数を使って、[word:]と表示し、入力した文字列を変数wordに代入する\n",
        "\n",
        "(3)wordが空文字列なら、break文で無限ループを抜ける\n",
        "\n",
        "(4)wordに含まれる文字の種類数を表示する。set関数とlen関数を使う。<br>\n",
        "set関数は、集合を作る関数だな"
      ],
      "metadata": {
        "id": "r6myfZiD4Ic-"
      }
    },
    {
      "cell_type": "code",
      "source": [
        "while True:\n",
        "  word = input(\"word: \")\n",
        "  if not word:\n",
        "    break\n",
        "  print(len(set(word)))\n",
        "  print(set(word))\n",
        "#setは集合を作る関数なので、重複は除かれる。順序もどんどん変わる"
      ],
      "metadata": {
        "id": "sFYYEuk14Fio",
        "outputId": "02b6c58c-0c04-4476-a976-9ec0c591f2d9",
        "colab": {
          "base_uri": "https://localhost:8080/"
        }
      },
      "execution_count": 28,
      "outputs": [
        {
          "name": "stdout",
          "output_type": "stream",
          "text": [
            "word: apple\n",
            "4\n",
            "{'p', 'l', 'a', 'e'}\n",
            "word: elephant\n",
            "7\n",
            "{'n', 'l', 'e', 't', 'h', 'p', 'a'}\n",
            "word: computer\n",
            "8\n",
            "{'o', 'u', 't', 'e', 'r', 'm', 'p', 'c'}\n",
            "word: coconuts\n",
            "6\n",
            "{'n', 'o', 's', 'u', 't', 'c'}\n",
            "word: \n"
          ]
        }
      ]
    },
    {
      "cell_type": "markdown",
      "source": [
        "## section5 何もしないpass文"
      ],
      "metadata": {
        "id": "ipCN7k665Ys0"
      }
    },
    {
      "cell_type": "code",
      "source": [
        "for i in range(100000000):\n",
        "  pass\n",
        "#4秒かかって丁度良い長さ\n",
        "#if文のelseなんかでよく使うけどcontinueとの違いでちょっと迷うが\n",
        "#pass文はその後の処理が実行される "
      ],
      "metadata": {
        "id": "aSFBINI75f68"
      },
      "execution_count": 31,
      "outputs": []
    },
    {
      "cell_type": "code",
      "source": [
        "for i in range(3):\n",
        "    print(i)\n",
        "    if i == 1:\n",
        "        continue\n",
        "        print('CONTINUE')"
      ],
      "metadata": {
        "id": "6Bs1sxH_6MfV",
        "outputId": "13dd1525-e6ad-46c1-e769-b0fb847f3b5f",
        "colab": {
          "base_uri": "https://localhost:8080/"
        }
      },
      "execution_count": 32,
      "outputs": [
        {
          "output_type": "stream",
          "name": "stdout",
          "text": [
            "0\n",
            "1\n",
            "2\n"
          ]
        }
      ]
    },
    {
      "cell_type": "code",
      "source": [
        "for i in range(3):\n",
        "    print(i)\n",
        "    if i == 1:\n",
        "        pass\n",
        "        print('PASS')"
      ],
      "metadata": {
        "id": "SD1Xi7Kx6N_8",
        "outputId": "6ffd231d-35cd-4fc3-f84a-444a935c9b45",
        "colab": {
          "base_uri": "https://localhost:8080/"
        }
      },
      "execution_count": 33,
      "outputs": [
        {
          "output_type": "stream",
          "name": "stdout",
          "text": [
            "0\n",
            "1\n",
            "PASS\n",
            "2\n"
          ]
        }
      ]
    },
    {
      "cell_type": "markdown",
      "source": [
        "後で場合分けの処理を細かく書こう！なんて時にも使うとの事"
      ],
      "metadata": {
        "id": "81n1Xu9G6eyt"
      }
    }
  ]
}