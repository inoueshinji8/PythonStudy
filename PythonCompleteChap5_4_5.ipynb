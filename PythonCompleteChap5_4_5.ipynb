{
  "nbformat": 4,
  "nbformat_minor": 0,
  "metadata": {
    "colab": {
      "name": "PythonCompleteChap5_4_5.ipynb",
      "provenance": [],
      "authorship_tag": "ABX9TyP2M2k7MEUHs4PtYRtN6DBY",
      "include_colab_link": true
    },
    "kernelspec": {
      "name": "python3",
      "display_name": "Python 3"
    },
    "language_info": {
      "name": "python"
    }
  },
  "cells": [
    {
      "cell_type": "markdown",
      "metadata": {
        "id": "view-in-github",
        "colab_type": "text"
      },
      "source": [
        "<a href=\"https://colab.research.google.com/github/inoueshinji8/PythonStudy/blob/main/PythonCompleteChap5_4_5.ipynb\" target=\"_parent\"><img src=\"https://colab.research.google.com/assets/colab-badge.svg\" alt=\"Open In Colab\"/></a>"
      ]
    },
    {
      "cell_type": "markdown",
      "source": [
        "## section4 for文で書きにくい繰り返しはwhile文で書く\n",
        "\n",
        "引数の方でなく、戻り値などが幾つになったら終わり！\n",
        "\n",
        "というプログラムを書きたい時はwhile文が便利\n",
        "(繰り返して収束させる時など)<br>\n",
        "\n",
        "while 式:\n",
        "　　文...\n",
        "文..."
      ],
      "metadata": {
        "id": "8y3WosPZEKAV"
      }
    },
    {
      "cell_type": "markdown",
      "source": [
        "1. 変数catalogに空のリストを代入する\n",
        "\n",
        "2. while文を使って、catalogの要素数が3以下なら、以下の3.と4.を繰り返す\n",
        "\n",
        "3. input関数を使ってitem:と表示し、キーボードから入力した文字列を変数itemに代入する\n",
        "\n",
        "4. appendメソッドを使って、catalogのリストにitemを追加する\n",
        "\n",
        "5. print関数でcatalogを表示"
      ],
      "metadata": {
        "id": "6T9Qix4BFy2t"
      }
    },
    {
      "cell_type": "code",
      "execution_count": 3,
      "metadata": {
        "colab": {
          "base_uri": "https://localhost:8080/"
        },
        "id": "t4bZFtOBD1Us",
        "outputId": "70b7573e-eb31-49b2-880c-715521c3320f"
      },
      "outputs": [
        {
          "output_type": "stream",
          "name": "stdout",
          "text": [
            "item:apple\n",
            "item:banana\n",
            "item:coconut\n",
            "catalog: ['apple', 'banana', 'coconut']\n"
          ]
        }
      ],
      "source": [
        "catalog = []\n",
        "while len(catalog) < 3:\n",
        "  item = input('item:')\n",
        "  catalog.append(item)\n",
        "\n",
        "print('catalog:',catalog)"
      ]
    }
  ]
}