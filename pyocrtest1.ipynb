{
  "nbformat": 4,
  "nbformat_minor": 0,
  "metadata": {
    "colab": {
      "name": "pyocrtest1.ipynb",
      "provenance": [],
      "authorship_tag": "ABX9TyP9X3FXgiwnzHvVqrEay+1a",
      "include_colab_link": true
    },
    "kernelspec": {
      "name": "python3",
      "display_name": "Python 3"
    },
    "language_info": {
      "name": "python"
    }
  },
  "cells": [
    {
      "cell_type": "markdown",
      "metadata": {
        "id": "view-in-github",
        "colab_type": "text"
      },
      "source": [
        "<a href=\"https://colab.research.google.com/github/inoueshinji8/PythonStudy/blob/main/pyocrtest1.ipynb\" target=\"_parent\"><img src=\"https://colab.research.google.com/assets/colab-badge.svg\" alt=\"Open In Colab\"/></a>"
      ]
    },
    {
      "cell_type": "markdown",
      "source": [
        "画像からOCRで文字を抽出するテストです<br>\n",
        "Anacondaに新しいモジュールを入れたくなかったのでcolaboratoryでテストします"
      ],
      "metadata": {
        "id": "_xn-r9VMcF-B"
      }
    },
    {
      "cell_type": "code",
      "execution_count": 1,
      "metadata": {
        "colab": {
          "base_uri": "https://localhost:8080/"
        },
        "id": "zXIDcfIubya3",
        "outputId": "48ae8d01-dc23-4efb-ac52-2d5a9babbba9"
      },
      "outputs": [
        {
          "output_type": "stream",
          "name": "stdout",
          "text": [
            "Reading package lists... Done\n",
            "Building dependency tree       \n",
            "Reading state information... Done\n",
            "The following additional packages will be installed:\n",
            "  libleptonica-dev tesseract-ocr-eng tesseract-ocr-osd\n",
            "The following NEW packages will be installed:\n",
            "  libleptonica-dev libtesseract-dev tesseract-ocr tesseract-ocr-eng\n",
            "  tesseract-ocr-jpn tesseract-ocr-osd\n",
            "0 upgraded, 6 newly installed, 0 to remove and 39 not upgraded.\n",
            "Need to get 8,939 kB of archives.\n",
            "After this operation, 32.0 MB of additional disk space will be used.\n",
            "Get:1 http://archive.ubuntu.com/ubuntu bionic/universe amd64 libleptonica-dev amd64 1.75.3-3 [1,308 kB]\n",
            "Get:2 http://archive.ubuntu.com/ubuntu bionic/universe amd64 libtesseract-dev amd64 4.00~git2288-10f4998a-2 [1,447 kB]\n",
            "Get:3 http://archive.ubuntu.com/ubuntu bionic/universe amd64 tesseract-ocr-eng all 4.00~git24-0e00fe6-1.2 [1,588 kB]\n",
            "Get:4 http://archive.ubuntu.com/ubuntu bionic/universe amd64 tesseract-ocr-osd all 4.00~git24-0e00fe6-1.2 [2,989 kB]\n",
            "Get:5 http://archive.ubuntu.com/ubuntu bionic/universe amd64 tesseract-ocr amd64 4.00~git2288-10f4998a-2 [218 kB]\n",
            "Get:6 http://archive.ubuntu.com/ubuntu bionic/universe amd64 tesseract-ocr-jpn all 4.00~git24-0e00fe6-1.2 [1,389 kB]\n",
            "Fetched 8,939 kB in 1s (6,090 kB/s)\n",
            "Selecting previously unselected package libleptonica-dev.\n",
            "(Reading database ... 155335 files and directories currently installed.)\n",
            "Preparing to unpack .../0-libleptonica-dev_1.75.3-3_amd64.deb ...\n",
            "Unpacking libleptonica-dev (1.75.3-3) ...\n",
            "Selecting previously unselected package libtesseract-dev.\n",
            "Preparing to unpack .../1-libtesseract-dev_4.00~git2288-10f4998a-2_amd64.deb ...\n",
            "Unpacking libtesseract-dev (4.00~git2288-10f4998a-2) ...\n",
            "Selecting previously unselected package tesseract-ocr-eng.\n",
            "Preparing to unpack .../2-tesseract-ocr-eng_4.00~git24-0e00fe6-1.2_all.deb ...\n",
            "Unpacking tesseract-ocr-eng (4.00~git24-0e00fe6-1.2) ...\n",
            "Selecting previously unselected package tesseract-ocr-osd.\n",
            "Preparing to unpack .../3-tesseract-ocr-osd_4.00~git24-0e00fe6-1.2_all.deb ...\n",
            "Unpacking tesseract-ocr-osd (4.00~git24-0e00fe6-1.2) ...\n",
            "Selecting previously unselected package tesseract-ocr.\n",
            "Preparing to unpack .../4-tesseract-ocr_4.00~git2288-10f4998a-2_amd64.deb ...\n",
            "Unpacking tesseract-ocr (4.00~git2288-10f4998a-2) ...\n",
            "Selecting previously unselected package tesseract-ocr-jpn.\n",
            "Preparing to unpack .../5-tesseract-ocr-jpn_4.00~git24-0e00fe6-1.2_all.deb ...\n",
            "Unpacking tesseract-ocr-jpn (4.00~git24-0e00fe6-1.2) ...\n",
            "Setting up libleptonica-dev (1.75.3-3) ...\n",
            "Setting up tesseract-ocr-jpn (4.00~git24-0e00fe6-1.2) ...\n",
            "Setting up tesseract-ocr-osd (4.00~git24-0e00fe6-1.2) ...\n",
            "Setting up tesseract-ocr-eng (4.00~git24-0e00fe6-1.2) ...\n",
            "Setting up libtesseract-dev (4.00~git2288-10f4998a-2) ...\n",
            "Setting up tesseract-ocr (4.00~git2288-10f4998a-2) ...\n",
            "Processing triggers for man-db (2.8.3-2ubuntu0.1) ...\n",
            "Collecting pyocr\n",
            "  Downloading pyocr-0.8.1.tar.gz (67 kB)\n",
            "\u001b[K     |████████████████████████████████| 67 kB 2.9 MB/s \n",
            "\u001b[?25hRequirement already satisfied: Pillow in /usr/local/lib/python3.7/dist-packages (from pyocr) (7.1.2)\n",
            "Building wheels for collected packages: pyocr\n",
            "  Building wheel for pyocr (setup.py) ... \u001b[?25l\u001b[?25hdone\n",
            "  Created wheel for pyocr: filename=pyocr-0.8.1-py3-none-any.whl size=37010 sha256=90aaf299655185b8567022b29449a282200e899494ff8cbbd5631f20744d3bd6\n",
            "  Stored in directory: /root/.cache/pip/wheels/f0/80/1d/e0fe4e8ef9298eb2b07c8b9f18a6b773fc6f9084a254943bc7\n",
            "Successfully built pyocr\n",
            "Installing collected packages: pyocr\n",
            "Successfully installed pyocr-0.8.1\n"
          ]
        }
      ],
      "source": [
        "!apt install tesseract-ocr libtesseract-dev tesseract-ocr-jpn\n",
        "!pip install pyocr"
      ]
    },
    {
      "cell_type": "code",
      "source": [
        "!tesseract --list-langs"
      ],
      "metadata": {
        "colab": {
          "base_uri": "https://localhost:8080/"
        },
        "id": "sReHgJxocN_Q",
        "outputId": "0baf3ea9-3fb3-46c2-92ed-b6d19dee24dc"
      },
      "execution_count": 2,
      "outputs": [
        {
          "output_type": "stream",
          "name": "stdout",
          "text": [
            "List of available languages (3):\n",
            "jpn\n",
            "osd\n",
            "eng\n"
          ]
        }
      ]
    },
    {
      "cell_type": "code",
      "source": [
        "from PIL import Image\n",
        "import pyocr"
      ],
      "metadata": {
        "id": "t9T-DNx2cSiR"
      },
      "execution_count": 3,
      "outputs": []
    },
    {
      "cell_type": "code",
      "source": [
        "tools = pyocr.get_available_tools()\n",
        "tool = tools[0]\n",
        "print(\"Will use tool '%s'\" % (tool.get_name()))"
      ],
      "metadata": {
        "colab": {
          "base_uri": "https://localhost:8080/"
        },
        "id": "Ws4C8fuKcXSU",
        "outputId": "2a267e00-1da6-499d-f44c-592f2a0a0120"
      },
      "execution_count": 4,
      "outputs": [
        {
          "output_type": "stream",
          "name": "stdout",
          "text": [
            "Will use tool 'Tesseract (sh)'\n"
          ]
        }
      ]
    },
    {
      "cell_type": "code",
      "source": [
        "from google.colab import drive\n",
        "drive.mount('/content/drive')"
      ],
      "metadata": {
        "colab": {
          "base_uri": "https://localhost:8080/"
        },
        "id": "UBp5fxfdeqjG",
        "outputId": "e4d87e2b-9c26-483f-f92d-7063bb6bc523"
      },
      "execution_count": 16,
      "outputs": [
        {
          "output_type": "stream",
          "name": "stdout",
          "text": [
            "Mounted at /content/drive\n"
          ]
        }
      ]
    },
    {
      "cell_type": "code",
      "source": [
        "%cd /content/drive/MyDrive/word_cloud/"
      ],
      "metadata": {
        "colab": {
          "base_uri": "https://localhost:8080/"
        },
        "id": "I7-tSwkoe0Uz",
        "outputId": "fa178837-d884-4e68-df14-c0298cb63a98"
      },
      "execution_count": 17,
      "outputs": [
        {
          "output_type": "stream",
          "name": "stdout",
          "text": [
            "/content/drive/MyDrive/word_cloud\n"
          ]
        }
      ]
    },
    {
      "cell_type": "code",
      "source": [
        "img1 = Image.open(\"TEM_DATA.tif\")"
      ],
      "metadata": {
        "id": "jVCfYpIEfAZH"
      },
      "execution_count": 18,
      "outputs": []
    },
    {
      "cell_type": "code",
      "source": [
        "txt1 = tool.image_to_string(img1, lang=\"jpn\", builder=pyocr.builders.TextBuilder(tesseract_layout=3))\n",
        "print(txt1)"
      ],
      "metadata": {
        "colab": {
          "base_uri": "https://localhost:8080/"
        },
        "id": "lAG7wUeQfOBM",
        "outputId": "bc695c7d-60a0-4fce-aa35-f2706adaee0c"
      },
      "execution_count": 19,
      "outputs": [
        {
          "output_type": "stream",
          "name": "stdout",
          "text": [
            "20201119a.も1E                                 mm\n",
            "Print Miag: 456000x 6 7.01                      20 nm\n",
            "11: 37: 05 2020/11/19                            HV=60 .0kY\n",
            "\n",
            "Direot Mag: 50000x\n"
          ]
        }
      ]
    },
    {
      "cell_type": "code",
      "source": [
        "f = open('ocrtxt.txt', 'w')\n",
        "f.write(txt1)\n",
        "f.close()"
      ],
      "metadata": {
        "id": "G8J41gQ_ft8E"
      },
      "execution_count": 20,
      "outputs": []
    }
  ]
}