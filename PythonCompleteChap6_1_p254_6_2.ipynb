{
  "nbformat": 4,
  "nbformat_minor": 0,
  "metadata": {
    "colab": {
      "name": "PythonCompleteChap6_1-p254-6_2.ipynb",
      "provenance": [],
      "authorship_tag": "ABX9TyMU+8qx191QAwY4roz77kvl",
      "include_colab_link": true
    },
    "kernelspec": {
      "name": "python3",
      "display_name": "Python 3"
    },
    "language_info": {
      "name": "python"
    }
  },
  "cells": [
    {
      "cell_type": "markdown",
      "metadata": {
        "id": "view-in-github",
        "colab_type": "text"
      },
      "source": [
        "<a href=\"https://colab.research.google.com/github/inoueshinji8/PythonStudy/blob/main/PythonCompleteChap6_1_p254_6_2.ipynb\" target=\"_parent\"><img src=\"https://colab.research.google.com/assets/colab-badge.svg\" alt=\"Open In Colab\"/></a>"
      ]
    },
    {
      "cell_type": "markdown",
      "source": [
        "### 可変長引数はタプルか辞書で受ける\n",
        "\n",
        "可変長引数を持つ関数と言えばprint関数"
      ],
      "metadata": {
        "id": "wi9GWZrmS1ND"
      }
    },
    {
      "cell_type": "code",
      "execution_count": null,
      "metadata": {
        "colab": {
          "base_uri": "https://localhost:8080/"
        },
        "id": "6NygoedlStp6",
        "outputId": "327b69d4-9a23-4a82-a3b0-ca805ae02e71"
      },
      "outputs": [
        {
          "output_type": "stream",
          "name": "stdout",
          "text": [
            "\n",
            "hotcake\n",
            "hotcake pizza\n",
            "hotcake pizza steak\n"
          ]
        }
      ],
      "source": [
        "print()\n",
        "print('hotcake')\n",
        "print('hotcake','pizza')\n",
        "print('hotcake','pizza','steak')"
      ]
    },
    {
      "cell_type": "markdown",
      "source": [
        "何気なく使ってきたがよく考えたらすごい技術だと思ってしまう！\n",
        "\n",
        "このように任意の個数の引数を受けるには、仮引数に*引数<br>\n",
        "または**引数と書く<br>\n",
        "*だと任意個の位置引数をタプルとして、<br>\n",
        "**だと任意個のキーワード引数として受け取る<br>\n",
        "\n",
        "def 関数名(*引数): タプルとして\n",
        "\n",
        "def 関数名(**引数): 辞書として"
      ],
      "metadata": {
        "id": "YM0Ncwe_TS5r"
      }
    },
    {
      "cell_type": "code",
      "source": [
        "def f(*x):\n",
        "  print(x)\n",
        "\n",
        "f()\n",
        "f('hotcake')\n",
        "f('hotcake', 'pizza')\n",
        "f('hotcake', 'pizza', 'steak')\n",
        "#print文の前の段階の関数にこんな個数色々変えても大丈夫\n",
        "#戻り値が()で括られていてつまりタプルだね\n",
        "#要素数が1つだと末尾に,カンマがついている\n",
        "#そう言えば某tifのexifもそうだった"
      ],
      "metadata": {
        "id": "eWtVoeT6XTyc",
        "outputId": "ecf7edcd-d438-45f0-f518-a382413190f2",
        "colab": {
          "base_uri": "https://localhost:8080/"
        }
      },
      "execution_count": null,
      "outputs": [
        {
          "output_type": "stream",
          "name": "stdout",
          "text": [
            "()\n",
            "('hotcake',)\n",
            "('hotcake', 'pizza')\n",
            "('hotcake', 'pizza', 'steak')\n"
          ]
        }
      ]
    },
    {
      "cell_type": "code",
      "source": [
        "# **でも同様にやってみよう\n",
        "\n",
        "def f(**x):\n",
        "  print(x)\n",
        "\n",
        "f()\n",
        "f(breakfirst = 'hotcake')\n",
        "f(breakfirst = 'hotcake',lunch='pizza')\n",
        "f(breakfirst = 'hotcake',lunch='pizza', dinner='steak')"
      ],
      "metadata": {
        "id": "dVLI9osGYcJs",
        "outputId": "c8b8f1bf-680c-41e7-a8a3-536826d88fa0",
        "colab": {
          "base_uri": "https://localhost:8080/"
        }
      },
      "execution_count": null,
      "outputs": [
        {
          "output_type": "stream",
          "name": "stdout",
          "text": [
            "{}\n",
            "{'breakfirst': 'hotcake'}\n",
            "{'breakfirst': 'hotcake', 'lunch': 'pizza'}\n",
            "{'breakfirst': 'hotcake', 'lunch': 'pizza', 'dinner': 'steak'}\n"
          ]
        }
      ]
    },
    {
      "cell_type": "markdown",
      "source": [
        "あるいは可変長引数の* とキーワード引数の** を混ぜてみよう\n",
        "\n",
        "def 関数名(*引数, **引数)\n",
        "\n",
        "では、メニューを番号付きで表示するcount関数を作ってみよう<br>\n",
        "任意個の位置引数と、任意個のキーワード引数を受け取る関数とする"
      ],
      "metadata": {
        "id": "m_myi7AAY3kb"
      }
    },
    {
      "cell_type": "code",
      "source": [
        "def count(*t, **d):\n",
        "  for i,x in enumerate(t, 1):\n",
        "    print('[',i,']',x)\n",
        "  for i, (k,v) in enumerate(d.items(), len(t)+1):#len(t)の分だけ、カウントを進めておく\n",
        "    print('[',i,']',k,':',v)\n",
        "\n",
        "count('hotcake', 'pizza', snack='parfait', dinner='steak')\n",
        "#これ難しかった！！！enumerateの復習だ\n",
        "#enumerate(イテラブル, 開始値)で、イテラブルを進める"
      ],
      "metadata": {
        "id": "Lx6DvYUsZWai",
        "outputId": "49689ee4-c154-4257-a734-6e2dbeb0947a",
        "colab": {
          "base_uri": "https://localhost:8080/"
        }
      },
      "execution_count": null,
      "outputs": [
        {
          "output_type": "stream",
          "name": "stdout",
          "text": [
            "[ 1 ] hotcake\n",
            "[ 2 ] pizza\n",
            "[ 3 ] snack : parfait\n",
            "[ 4 ] dinner : steak\n"
          ]
        }
      ]
    },
    {
      "cell_type": "markdown",
      "source": [
        "i,k,v でなくi,(k,v)となっている<br>\n",
        "本当は(i,(k,v))と、タプルが入れ子になっている<br>\n",
        "enumerateの文法は<br>\n",
        "for 変数A, 変数B in enumerate(イテラブル, 開始値):<br>\n",
        "　　文...<br>\n",
        "であった"
      ],
      "metadata": {
        "id": "_WPQiTfRa-mD"
      }
    },
    {
      "cell_type": "markdown",
      "source": [
        "### 位置専用引数とキーワード引数\n",
        "\n",
        "引数、*引数、キーワード専用引数、***引数をすべて使うときの注意\n",
        "\n",
        "def 関数名(引数..., *引数, キーワード専用引数..., ***引数):<br>\n",
        "の順番に並べる\n",
        "\n",
        "*引数より後の引数は、キーワード専用引数になる。ここには実引数をキーワード引数としてのみしか渡せない。<br>\n",
        "*引数の前は、位置引数とキーワード引数のどちらでも渡せる\n",
        "\n",
        "位置専用引数、というのがPython3.8から定められた。<br>\n",
        "/の前は位置専用引数のみが入る、と説明されている\n",
        "ここは順序の定まった引数しか入らないわけだ\n",
        "\n",
        "def 関数名(位置専用引数..., /, 引数..., *引数, キーワード専用引数..., ***引数):<br>\n",
        "\n",
        "可変長引数を使わずにキーワード引数を指定する時には、*引数ではなく ** のみを使う\n",
        "\n",
        "def 関数名(位置専用引数..., /, 引数..., *, キーワード専用引数...):<br>"
      ],
      "metadata": {
        "id": "jNHr7R6veqmP"
      }
    },
    {
      "cell_type": "code",
      "source": [
        "#5種類の引数a~eを受けて、値を表示する関数fを定義する\n",
        "\n",
        "def f(a, /, b, *c, d, **e):\n",
        "  print('a:', a)\n",
        "  print('b:', b)\n",
        "  print('c:', c)\n",
        "  print('d:', d)\n",
        "  print('e:', e)\n",
        "\n",
        "f(1,2,3,4, d=5, x=6,y=7)"
      ],
      "metadata": {
        "id": "W49ivzvSbOwr",
        "colab": {
          "base_uri": "https://localhost:8080/",
          "height": 138
        },
        "outputId": "41893f30-75dd-4bbc-d58e-ccd85364e64c"
      },
      "execution_count": null,
      "outputs": [
        {
          "output_type": "error",
          "ename": "SyntaxError",
          "evalue": "ignored",
          "traceback": [
            "\u001b[0;36m  File \u001b[0;32m\"<ipython-input-1-dc5286672c67>\"\u001b[0;36m, line \u001b[0;32m3\u001b[0m\n\u001b[0;31m    def f(a, /, b, *c, d, **e):\u001b[0m\n\u001b[0m             ^\u001b[0m\n\u001b[0;31mSyntaxError\u001b[0m\u001b[0;31m:\u001b[0m invalid syntax\n"
          ]
        }
      ]
    },
    {
      "cell_type": "code",
      "source": [
        "#Colaboratoryは現状Python3.7なので対応していない\n",
        "from pip._internal.utils.compatibility_tags import get_supported\n",
        "get_supported()\n",
        "#cp37まで"
      ],
      "metadata": {
        "colab": {
          "base_uri": "https://localhost:8080/"
        },
        "id": "ILk08DvtiWec",
        "outputId": "3e9e7780-8765-4e0b-98ab-46150bcf87f6"
      },
      "execution_count": null,
      "outputs": [
        {
          "output_type": "execute_result",
          "data": {
            "text/plain": [
              "[<cp37-cp37m-manylinux_2_27_x86_64 @ 139926496370512>,\n",
              " <cp37-cp37m-manylinux_2_26_x86_64 @ 139926496390032>,\n",
              " <cp37-cp37m-manylinux_2_25_x86_64 @ 139926496388272>,\n",
              " <cp37-cp37m-manylinux_2_24_x86_64 @ 139926496390272>,\n",
              " <cp37-cp37m-manylinux_2_23_x86_64 @ 139926496390432>,\n",
              " <cp37-cp37m-manylinux_2_22_x86_64 @ 139926496390592>,\n",
              " <cp37-cp37m-manylinux_2_21_x86_64 @ 139926496390752>,\n",
              " <cp37-cp37m-manylinux_2_20_x86_64 @ 139926496390912>,\n",
              " <cp37-cp37m-manylinux_2_19_x86_64 @ 139926496391072>,\n",
              " <cp37-cp37m-manylinux_2_18_x86_64 @ 139926496383136>,\n",
              " <cp37-cp37m-manylinux_2_17_x86_64 @ 139926496383296>,\n",
              " <cp37-cp37m-manylinux2014_x86_64 @ 139926496383456>,\n",
              " <cp37-cp37m-manylinux_2_16_x86_64 @ 139926496383616>,\n",
              " <cp37-cp37m-manylinux_2_15_x86_64 @ 139926496383776>,\n",
              " <cp37-cp37m-manylinux_2_14_x86_64 @ 139926496383936>,\n",
              " <cp37-cp37m-manylinux_2_13_x86_64 @ 139926496384096>,\n",
              " <cp37-cp37m-manylinux_2_12_x86_64 @ 139926496384256>,\n",
              " <cp37-cp37m-manylinux2010_x86_64 @ 139926496384416>,\n",
              " <cp37-cp37m-manylinux_2_11_x86_64 @ 139926496384576>,\n",
              " <cp37-cp37m-manylinux_2_10_x86_64 @ 139926496384736>,\n",
              " <cp37-cp37m-manylinux_2_9_x86_64 @ 139926496384896>,\n",
              " <cp37-cp37m-manylinux_2_8_x86_64 @ 139926496385056>,\n",
              " <cp37-cp37m-manylinux_2_7_x86_64 @ 139926496385216>,\n",
              " <cp37-cp37m-manylinux_2_6_x86_64 @ 139926496385376>,\n",
              " <cp37-cp37m-manylinux_2_5_x86_64 @ 139926496385536>,\n",
              " <cp37-cp37m-manylinux1_x86_64 @ 139926496385696>,\n",
              " <cp37-cp37m-linux_x86_64 @ 139926496385856>,\n",
              " <cp37-abi3-manylinux_2_27_x86_64 @ 139926496385936>,\n",
              " <cp37-abi3-manylinux_2_26_x86_64 @ 139926496386096>,\n",
              " <cp37-abi3-manylinux_2_25_x86_64 @ 139926496386256>,\n",
              " <cp37-abi3-manylinux_2_24_x86_64 @ 139926496386416>,\n",
              " <cp37-abi3-manylinux_2_23_x86_64 @ 139926496386576>,\n",
              " <cp37-abi3-manylinux_2_22_x86_64 @ 139926496386736>,\n",
              " <cp37-abi3-manylinux_2_21_x86_64 @ 139926496386896>,\n",
              " <cp37-abi3-manylinux_2_20_x86_64 @ 139926496395344>,\n",
              " <cp37-abi3-manylinux_2_19_x86_64 @ 139926496395504>,\n",
              " <cp37-abi3-manylinux_2_18_x86_64 @ 139926496395664>,\n",
              " <cp37-abi3-manylinux_2_17_x86_64 @ 139926496395824>,\n",
              " <cp37-abi3-manylinux2014_x86_64 @ 139926496395984>,\n",
              " <cp37-abi3-manylinux_2_16_x86_64 @ 139926496396144>,\n",
              " <cp37-abi3-manylinux_2_15_x86_64 @ 139926496367952>,\n",
              " <cp37-abi3-manylinux_2_14_x86_64 @ 139926496367712>,\n",
              " <cp37-abi3-manylinux_2_13_x86_64 @ 139926496366752>,\n",
              " <cp37-abi3-manylinux_2_12_x86_64 @ 139926496366832>,\n",
              " <cp37-abi3-manylinux2010_x86_64 @ 139926496344736>,\n",
              " <cp37-abi3-manylinux_2_11_x86_64 @ 139926496344656>,\n",
              " <cp37-abi3-manylinux_2_10_x86_64 @ 139926496343696>,\n",
              " <cp37-abi3-manylinux_2_9_x86_64 @ 139926496343776>,\n",
              " <cp37-abi3-manylinux_2_8_x86_64 @ 139926496345136>,\n",
              " <cp37-abi3-manylinux_2_7_x86_64 @ 139926496344576>,\n",
              " <cp37-abi3-manylinux_2_6_x86_64 @ 139926496345296>,\n",
              " <cp37-abi3-manylinux_2_5_x86_64 @ 139926496344096>,\n",
              " <cp37-abi3-manylinux1_x86_64 @ 139926496344016>,\n",
              " <cp37-abi3-linux_x86_64 @ 139926496372608>,\n",
              " <cp37-none-manylinux_2_27_x86_64 @ 139926496374528>,\n",
              " <cp37-none-manylinux_2_26_x86_64 @ 139926496373808>,\n",
              " <cp37-none-manylinux_2_25_x86_64 @ 139926496374208>,\n",
              " <cp37-none-manylinux_2_24_x86_64 @ 139926496374608>,\n",
              " <cp37-none-manylinux_2_23_x86_64 @ 139926496372688>,\n",
              " <cp37-none-manylinux_2_22_x86_64 @ 139926496374288>,\n",
              " <cp37-none-manylinux_2_21_x86_64 @ 139926496373648>,\n",
              " <cp37-none-manylinux_2_20_x86_64 @ 139926496373008>,\n",
              " <cp37-none-manylinux_2_19_x86_64 @ 139926496373088>,\n",
              " <cp37-none-manylinux_2_18_x86_64 @ 139926496372528>,\n",
              " <cp37-none-manylinux_2_17_x86_64 @ 139926496553712>,\n",
              " <cp37-none-manylinux2014_x86_64 @ 139926496552512>,\n",
              " <cp37-none-manylinux_2_16_x86_64 @ 139926496552432>,\n",
              " <cp37-none-manylinux_2_15_x86_64 @ 139926496552352>,\n",
              " <cp37-none-manylinux_2_14_x86_64 @ 139926496552192>,\n",
              " <cp37-none-manylinux_2_13_x86_64 @ 139926496552992>,\n",
              " <cp37-none-manylinux_2_12_x86_64 @ 139926496552672>,\n",
              " <cp37-none-manylinux2010_x86_64 @ 139926496820672>,\n",
              " <cp37-none-manylinux_2_11_x86_64 @ 139926497047248>,\n",
              " <cp37-none-manylinux_2_10_x86_64 @ 139926496643504>,\n",
              " <cp37-none-manylinux_2_9_x86_64 @ 139926496641264>,\n",
              " <cp37-none-manylinux_2_8_x86_64 @ 139926496641184>,\n",
              " <cp37-none-manylinux_2_7_x86_64 @ 139926496643744>,\n",
              " <cp37-none-manylinux_2_6_x86_64 @ 139926496643184>,\n",
              " <cp37-none-manylinux_2_5_x86_64 @ 139926496644944>,\n",
              " <cp37-none-manylinux1_x86_64 @ 139926496643664>,\n",
              " <cp37-none-linux_x86_64 @ 139926496642064>,\n",
              " <cp36-abi3-manylinux_2_27_x86_64 @ 139926496644144>,\n",
              " <cp36-abi3-manylinux_2_26_x86_64 @ 139926496641504>,\n",
              " <cp36-abi3-manylinux_2_25_x86_64 @ 139926496643264>,\n",
              " <cp36-abi3-manylinux_2_24_x86_64 @ 139926496644304>,\n",
              " <cp36-abi3-manylinux_2_23_x86_64 @ 139926496643104>,\n",
              " <cp36-abi3-manylinux_2_22_x86_64 @ 139926496642464>,\n",
              " <cp36-abi3-manylinux_2_21_x86_64 @ 139926496643344>,\n",
              " <cp36-abi3-manylinux_2_20_x86_64 @ 139926496642624>,\n",
              " <cp36-abi3-manylinux_2_19_x86_64 @ 139926496644784>,\n",
              " <cp36-abi3-manylinux_2_18_x86_64 @ 139926496642144>,\n",
              " <cp36-abi3-manylinux_2_17_x86_64 @ 139926496947968>,\n",
              " <cp36-abi3-manylinux2014_x86_64 @ 139926496947888>,\n",
              " <cp36-abi3-manylinux_2_16_x86_64 @ 139926496947008>,\n",
              " <cp36-abi3-manylinux_2_15_x86_64 @ 139926496947168>,\n",
              " <cp36-abi3-manylinux_2_14_x86_64 @ 139926496946048>,\n",
              " <cp36-abi3-manylinux_2_13_x86_64 @ 139926496944368>,\n",
              " <cp36-abi3-manylinux_2_12_x86_64 @ 139926496945248>,\n",
              " <cp36-abi3-manylinux2010_x86_64 @ 139926496946608>,\n",
              " <cp36-abi3-manylinux_2_11_x86_64 @ 139926496945488>,\n",
              " <cp36-abi3-manylinux_2_10_x86_64 @ 139926496947408>,\n",
              " <cp36-abi3-manylinux_2_9_x86_64 @ 139926496945408>,\n",
              " <cp36-abi3-manylinux_2_8_x86_64 @ 139926496946288>,\n",
              " <cp36-abi3-manylinux_2_7_x86_64 @ 139926496947248>,\n",
              " <cp36-abi3-manylinux_2_6_x86_64 @ 139926496944768>,\n",
              " <cp36-abi3-manylinux_2_5_x86_64 @ 139926496946368>,\n",
              " <cp36-abi3-manylinux1_x86_64 @ 139926496945808>,\n",
              " <cp36-abi3-linux_x86_64 @ 139926496945728>,\n",
              " <cp35-abi3-manylinux_2_27_x86_64 @ 139926496946448>,\n",
              " <cp35-abi3-manylinux_2_26_x86_64 @ 139926496946208>,\n",
              " <cp35-abi3-manylinux_2_25_x86_64 @ 139926496901392>,\n",
              " <cp35-abi3-manylinux_2_24_x86_64 @ 139926496900112>,\n",
              " <cp35-abi3-manylinux_2_23_x86_64 @ 139926496470512>,\n",
              " <cp35-abi3-manylinux_2_22_x86_64 @ 139926496939296>,\n",
              " <cp35-abi3-manylinux_2_21_x86_64 @ 139926496936736>,\n",
              " <cp35-abi3-manylinux_2_20_x86_64 @ 139926496939776>,\n",
              " <cp35-abi3-manylinux_2_19_x86_64 @ 139926496938336>,\n",
              " <cp35-abi3-manylinux_2_18_x86_64 @ 139926496937376>,\n",
              " <cp35-abi3-manylinux_2_17_x86_64 @ 139926496937216>,\n",
              " <cp35-abi3-manylinux2014_x86_64 @ 139926496938496>,\n",
              " <cp35-abi3-manylinux_2_16_x86_64 @ 139926496936896>,\n",
              " <cp35-abi3-manylinux_2_15_x86_64 @ 139926496938176>,\n",
              " <cp35-abi3-manylinux_2_14_x86_64 @ 139926496938576>,\n",
              " <cp35-abi3-manylinux_2_13_x86_64 @ 139926496937696>,\n",
              " <cp35-abi3-manylinux_2_12_x86_64 @ 139926496937056>,\n",
              " <cp35-abi3-manylinux2010_x86_64 @ 139926496938896>,\n",
              " <cp35-abi3-manylinux_2_11_x86_64 @ 139926496936256>,\n",
              " <cp35-abi3-manylinux_2_10_x86_64 @ 139926496936496>,\n",
              " <cp35-abi3-manylinux_2_9_x86_64 @ 139926496939056>,\n",
              " <cp35-abi3-manylinux_2_8_x86_64 @ 139926496939856>,\n",
              " <cp35-abi3-manylinux_2_7_x86_64 @ 139926496937776>,\n",
              " <cp35-abi3-manylinux_2_6_x86_64 @ 139926549820112>,\n",
              " <cp35-abi3-manylinux_2_5_x86_64 @ 139926496989504>,\n",
              " <cp35-abi3-manylinux1_x86_64 @ 139926496992784>,\n",
              " <cp35-abi3-linux_x86_64 @ 139926496993024>,\n",
              " <cp34-abi3-manylinux_2_27_x86_64 @ 139926496991264>,\n",
              " <cp34-abi3-manylinux_2_26_x86_64 @ 139926497147552>,\n",
              " <cp34-abi3-manylinux_2_25_x86_64 @ 139926497145872>,\n",
              " <cp34-abi3-manylinux_2_24_x86_64 @ 139926497145952>,\n",
              " <cp34-abi3-manylinux_2_23_x86_64 @ 139926549958560>,\n",
              " <cp34-abi3-manylinux_2_22_x86_64 @ 139926549955520>,\n",
              " <cp34-abi3-manylinux_2_21_x86_64 @ 139926549955040>,\n",
              " <cp34-abi3-manylinux_2_20_x86_64 @ 139926549955680>,\n",
              " <cp34-abi3-manylinux_2_19_x86_64 @ 139926549957200>,\n",
              " <cp34-abi3-manylinux_2_18_x86_64 @ 139926496396304>,\n",
              " <cp34-abi3-manylinux_2_17_x86_64 @ 139926496396464>,\n",
              " <cp34-abi3-manylinux2014_x86_64 @ 139926496396624>,\n",
              " <cp34-abi3-manylinux_2_16_x86_64 @ 139926496396784>,\n",
              " <cp34-abi3-manylinux_2_15_x86_64 @ 139926496396944>,\n",
              " <cp34-abi3-manylinux_2_14_x86_64 @ 139926496397104>,\n",
              " <cp34-abi3-manylinux_2_13_x86_64 @ 139926496397264>,\n",
              " <cp34-abi3-manylinux_2_12_x86_64 @ 139926496397424>,\n",
              " <cp34-abi3-manylinux2010_x86_64 @ 139926496397584>,\n",
              " <cp34-abi3-manylinux_2_11_x86_64 @ 139926496397744>,\n",
              " <cp34-abi3-manylinux_2_10_x86_64 @ 139926496397904>,\n",
              " <cp34-abi3-manylinux_2_9_x86_64 @ 139926496398064>,\n",
              " <cp34-abi3-manylinux_2_8_x86_64 @ 139926496398224>,\n",
              " <cp34-abi3-manylinux_2_7_x86_64 @ 139926496398384>,\n",
              " <cp34-abi3-manylinux_2_6_x86_64 @ 139926496398544>,\n",
              " <cp34-abi3-manylinux_2_5_x86_64 @ 139926496398704>,\n",
              " <cp34-abi3-manylinux1_x86_64 @ 139926496398864>,\n",
              " <cp34-abi3-linux_x86_64 @ 139926496399024>,\n",
              " <cp33-abi3-manylinux_2_27_x86_64 @ 139926496399104>,\n",
              " <cp33-abi3-manylinux_2_26_x86_64 @ 139926496399264>,\n",
              " <cp33-abi3-manylinux_2_25_x86_64 @ 139926496403616>,\n",
              " <cp33-abi3-manylinux_2_24_x86_64 @ 139926496403776>,\n",
              " <cp33-abi3-manylinux_2_23_x86_64 @ 139926496403936>,\n",
              " <cp33-abi3-manylinux_2_22_x86_64 @ 139926496404096>,\n",
              " <cp33-abi3-manylinux_2_21_x86_64 @ 139926496404256>,\n",
              " <cp33-abi3-manylinux_2_20_x86_64 @ 139926496404416>,\n",
              " <cp33-abi3-manylinux_2_19_x86_64 @ 139926496404576>,\n",
              " <cp33-abi3-manylinux_2_18_x86_64 @ 139926496404736>,\n",
              " <cp33-abi3-manylinux_2_17_x86_64 @ 139926496404896>,\n",
              " <cp33-abi3-manylinux2014_x86_64 @ 139926496405056>,\n",
              " <cp33-abi3-manylinux_2_16_x86_64 @ 139926496405216>,\n",
              " <cp33-abi3-manylinux_2_15_x86_64 @ 139926496405376>,\n",
              " <cp33-abi3-manylinux_2_14_x86_64 @ 139926496405536>,\n",
              " <cp33-abi3-manylinux_2_13_x86_64 @ 139926496405696>,\n",
              " <cp33-abi3-manylinux_2_12_x86_64 @ 139926496405856>,\n",
              " <cp33-abi3-manylinux2010_x86_64 @ 139926496406016>,\n",
              " <cp33-abi3-manylinux_2_11_x86_64 @ 139926496406176>,\n",
              " <cp33-abi3-manylinux_2_10_x86_64 @ 139926496406336>,\n",
              " <cp33-abi3-manylinux_2_9_x86_64 @ 139926496406496>,\n",
              " <cp33-abi3-manylinux_2_8_x86_64 @ 139926496406656>,\n",
              " <cp33-abi3-manylinux_2_7_x86_64 @ 139926496406816>,\n",
              " <cp33-abi3-manylinux_2_6_x86_64 @ 139926496406976>,\n",
              " <cp33-abi3-manylinux_2_5_x86_64 @ 139926496407136>,\n",
              " <cp33-abi3-manylinux1_x86_64 @ 139926496407296>,\n",
              " <cp33-abi3-linux_x86_64 @ 139926496407456>,\n",
              " <cp32-abi3-manylinux_2_27_x86_64 @ 139926496411728>,\n",
              " <cp32-abi3-manylinux_2_26_x86_64 @ 139926496411888>,\n",
              " <cp32-abi3-manylinux_2_25_x86_64 @ 139926496412048>,\n",
              " <cp32-abi3-manylinux_2_24_x86_64 @ 139926496412208>,\n",
              " <cp32-abi3-manylinux_2_23_x86_64 @ 139926496412368>,\n",
              " <cp32-abi3-manylinux_2_22_x86_64 @ 139926496412528>,\n",
              " <cp32-abi3-manylinux_2_21_x86_64 @ 139926496412688>,\n",
              " <cp32-abi3-manylinux_2_20_x86_64 @ 139926496412848>,\n",
              " <cp32-abi3-manylinux_2_19_x86_64 @ 139926496413008>,\n",
              " <cp32-abi3-manylinux_2_18_x86_64 @ 139926496413168>,\n",
              " <cp32-abi3-manylinux_2_17_x86_64 @ 139926496413328>,\n",
              " <cp32-abi3-manylinux2014_x86_64 @ 139926496413488>,\n",
              " <cp32-abi3-manylinux_2_16_x86_64 @ 139926496413648>,\n",
              " <cp32-abi3-manylinux_2_15_x86_64 @ 139926496413808>,\n",
              " <cp32-abi3-manylinux_2_14_x86_64 @ 139926496413968>,\n",
              " <cp32-abi3-manylinux_2_13_x86_64 @ 139926496414128>,\n",
              " <cp32-abi3-manylinux_2_12_x86_64 @ 139926496414288>,\n",
              " <cp32-abi3-manylinux2010_x86_64 @ 139926496414448>,\n",
              " <cp32-abi3-manylinux_2_11_x86_64 @ 139926496414608>,\n",
              " <cp32-abi3-manylinux_2_10_x86_64 @ 139926496414768>,\n",
              " <cp32-abi3-manylinux_2_9_x86_64 @ 139926496414928>,\n",
              " <cp32-abi3-manylinux_2_8_x86_64 @ 139926496415088>,\n",
              " <cp32-abi3-manylinux_2_7_x86_64 @ 139926496415248>,\n",
              " <cp32-abi3-manylinux_2_6_x86_64 @ 139926496415408>,\n",
              " <cp32-abi3-manylinux_2_5_x86_64 @ 139926496415568>,\n",
              " <cp32-abi3-manylinux1_x86_64 @ 139926496419920>,\n",
              " <cp32-abi3-linux_x86_64 @ 139926496420080>,\n",
              " <py37-none-manylinux_2_27_x86_64 @ 139926496387712>,\n",
              " <py37-none-manylinux_2_26_x86_64 @ 139926496420240>,\n",
              " <py37-none-manylinux_2_25_x86_64 @ 139926496420160>,\n",
              " <py37-none-manylinux_2_24_x86_64 @ 139926496420480>,\n",
              " <py37-none-manylinux_2_23_x86_64 @ 139926496420640>,\n",
              " <py37-none-manylinux_2_22_x86_64 @ 139926496420800>,\n",
              " <py37-none-manylinux_2_21_x86_64 @ 139926496420960>,\n",
              " <py37-none-manylinux_2_20_x86_64 @ 139926496421120>,\n",
              " <py37-none-manylinux_2_19_x86_64 @ 139926496421280>,\n",
              " <py37-none-manylinux_2_18_x86_64 @ 139926496421440>,\n",
              " <py37-none-manylinux_2_17_x86_64 @ 139926496421600>,\n",
              " <py37-none-manylinux2014_x86_64 @ 139926496421760>,\n",
              " <py37-none-manylinux_2_16_x86_64 @ 139926496421920>,\n",
              " <py37-none-manylinux_2_15_x86_64 @ 139926496422080>,\n",
              " <py37-none-manylinux_2_14_x86_64 @ 139926496422240>,\n",
              " <py37-none-manylinux_2_13_x86_64 @ 139926496422400>,\n",
              " <py37-none-manylinux_2_12_x86_64 @ 139926496422560>,\n",
              " <py37-none-manylinux2010_x86_64 @ 139926496422720>,\n",
              " <py37-none-manylinux_2_11_x86_64 @ 139926496422880>,\n",
              " <py37-none-manylinux_2_10_x86_64 @ 139926496423040>,\n",
              " <py37-none-manylinux_2_9_x86_64 @ 139926496423200>,\n",
              " <py37-none-manylinux_2_8_x86_64 @ 139926496423360>,\n",
              " <py37-none-manylinux_2_7_x86_64 @ 139926496423520>,\n",
              " <py37-none-manylinux_2_6_x86_64 @ 139926496423680>,\n",
              " <py37-none-manylinux_2_5_x86_64 @ 139926496423840>,\n",
              " <py37-none-manylinux1_x86_64 @ 139926496428192>,\n",
              " <py37-none-linux_x86_64 @ 139926496428352>,\n",
              " <py3-none-manylinux_2_27_x86_64 @ 139926496428432>,\n",
              " <py3-none-manylinux_2_26_x86_64 @ 139926496428592>,\n",
              " <py3-none-manylinux_2_25_x86_64 @ 139926496428752>,\n",
              " <py3-none-manylinux_2_24_x86_64 @ 139926496428912>,\n",
              " <py3-none-manylinux_2_23_x86_64 @ 139926496429072>,\n",
              " <py3-none-manylinux_2_22_x86_64 @ 139926496429232>,\n",
              " <py3-none-manylinux_2_21_x86_64 @ 139926496429392>,\n",
              " <py3-none-manylinux_2_20_x86_64 @ 139926496429552>,\n",
              " <py3-none-manylinux_2_19_x86_64 @ 139926496429712>,\n",
              " <py3-none-manylinux_2_18_x86_64 @ 139926496429872>,\n",
              " <py3-none-manylinux_2_17_x86_64 @ 139926496430032>,\n",
              " <py3-none-manylinux2014_x86_64 @ 139926496430192>,\n",
              " <py3-none-manylinux_2_16_x86_64 @ 139926496430352>,\n",
              " <py3-none-manylinux_2_15_x86_64 @ 139926496430512>,\n",
              " <py3-none-manylinux_2_14_x86_64 @ 139926496430672>,\n",
              " <py3-none-manylinux_2_13_x86_64 @ 139926496430832>,\n",
              " <py3-none-manylinux_2_12_x86_64 @ 139926496430992>,\n",
              " <py3-none-manylinux2010_x86_64 @ 139926496431152>,\n",
              " <py3-none-manylinux_2_11_x86_64 @ 139926496431312>,\n",
              " <py3-none-manylinux_2_10_x86_64 @ 139926496431472>,\n",
              " <py3-none-manylinux_2_9_x86_64 @ 139926496431632>,\n",
              " <py3-none-manylinux_2_8_x86_64 @ 139926496431792>,\n",
              " <py3-none-manylinux_2_7_x86_64 @ 139926496431952>,\n",
              " <py3-none-manylinux_2_6_x86_64 @ 139926496436304>,\n",
              " <py3-none-manylinux_2_5_x86_64 @ 139926496436464>,\n",
              " <py3-none-manylinux1_x86_64 @ 139926496436624>,\n",
              " <py3-none-linux_x86_64 @ 139926496436784>,\n",
              " <py36-none-manylinux_2_27_x86_64 @ 139926496436864>,\n",
              " <py36-none-manylinux_2_26_x86_64 @ 139926496437024>,\n",
              " <py36-none-manylinux_2_25_x86_64 @ 139926496437184>,\n",
              " <py36-none-manylinux_2_24_x86_64 @ 139926496437344>,\n",
              " <py36-none-manylinux_2_23_x86_64 @ 139926496437504>,\n",
              " <py36-none-manylinux_2_22_x86_64 @ 139926496437664>,\n",
              " <py36-none-manylinux_2_21_x86_64 @ 139926496437824>,\n",
              " <py36-none-manylinux_2_20_x86_64 @ 139926496437984>,\n",
              " <py36-none-manylinux_2_19_x86_64 @ 139926496438144>,\n",
              " <py36-none-manylinux_2_18_x86_64 @ 139926496438304>,\n",
              " <py36-none-manylinux_2_17_x86_64 @ 139926496438464>,\n",
              " <py36-none-manylinux2014_x86_64 @ 139926496438624>,\n",
              " <py36-none-manylinux_2_16_x86_64 @ 139926496438784>,\n",
              " <py36-none-manylinux_2_15_x86_64 @ 139926496438944>,\n",
              " <py36-none-manylinux_2_14_x86_64 @ 139926496439104>,\n",
              " <py36-none-manylinux_2_13_x86_64 @ 139926496439264>,\n",
              " <py36-none-manylinux_2_12_x86_64 @ 139926496439424>,\n",
              " <py36-none-manylinux2010_x86_64 @ 139926496439584>,\n",
              " <py36-none-manylinux_2_11_x86_64 @ 139926496439744>,\n",
              " <py36-none-manylinux_2_10_x86_64 @ 139926496439904>,\n",
              " <py36-none-manylinux_2_9_x86_64 @ 139926496440064>,\n",
              " <py36-none-manylinux_2_8_x86_64 @ 139926496440224>,\n",
              " <py36-none-manylinux_2_7_x86_64 @ 139926495924384>,\n",
              " <py36-none-manylinux_2_6_x86_64 @ 139926495924544>,\n",
              " <py36-none-manylinux_2_5_x86_64 @ 139926495924704>,\n",
              " <py36-none-manylinux1_x86_64 @ 139926495924864>,\n",
              " <py36-none-linux_x86_64 @ 139926495925024>,\n",
              " <py35-none-manylinux_2_27_x86_64 @ 139926495925104>,\n",
              " <py35-none-manylinux_2_26_x86_64 @ 139926495925264>,\n",
              " <py35-none-manylinux_2_25_x86_64 @ 139926495925424>,\n",
              " <py35-none-manylinux_2_24_x86_64 @ 139926495925584>,\n",
              " <py35-none-manylinux_2_23_x86_64 @ 139926495925744>,\n",
              " <py35-none-manylinux_2_22_x86_64 @ 139926495925904>,\n",
              " <py35-none-manylinux_2_21_x86_64 @ 139926495926064>,\n",
              " <py35-none-manylinux_2_20_x86_64 @ 139926495926224>,\n",
              " <py35-none-manylinux_2_19_x86_64 @ 139926495926384>,\n",
              " <py35-none-manylinux_2_18_x86_64 @ 139926495926544>,\n",
              " <py35-none-manylinux_2_17_x86_64 @ 139926495926704>,\n",
              " <py35-none-manylinux2014_x86_64 @ 139926495926864>,\n",
              " <py35-none-manylinux_2_16_x86_64 @ 139926495927024>,\n",
              " <py35-none-manylinux_2_15_x86_64 @ 139926495927184>,\n",
              " <py35-none-manylinux_2_14_x86_64 @ 139926495927344>,\n",
              " <py35-none-manylinux_2_13_x86_64 @ 139926495927504>,\n",
              " <py35-none-manylinux_2_12_x86_64 @ 139926495927664>,\n",
              " <py35-none-manylinux2010_x86_64 @ 139926495927824>,\n",
              " <py35-none-manylinux_2_11_x86_64 @ 139926495927984>,\n",
              " <py35-none-manylinux_2_10_x86_64 @ 139926495928144>,\n",
              " <py35-none-manylinux_2_9_x86_64 @ 139926495932496>,\n",
              " <py35-none-manylinux_2_8_x86_64 @ 139926495932656>,\n",
              " <py35-none-manylinux_2_7_x86_64 @ 139926495932816>,\n",
              " <py35-none-manylinux_2_6_x86_64 @ 139926495932976>,\n",
              " <py35-none-manylinux_2_5_x86_64 @ 139926495933136>,\n",
              " <py35-none-manylinux1_x86_64 @ 139926495933296>,\n",
              " <py35-none-linux_x86_64 @ 139926495933456>,\n",
              " <py34-none-manylinux_2_27_x86_64 @ 139926495933536>,\n",
              " <py34-none-manylinux_2_26_x86_64 @ 139926495933696>,\n",
              " <py34-none-manylinux_2_25_x86_64 @ 139926495933856>,\n",
              " <py34-none-manylinux_2_24_x86_64 @ 139926495934016>,\n",
              " <py34-none-manylinux_2_23_x86_64 @ 139926495934176>,\n",
              " <py34-none-manylinux_2_22_x86_64 @ 139926495934336>,\n",
              " <py34-none-manylinux_2_21_x86_64 @ 139926495934496>,\n",
              " <py34-none-manylinux_2_20_x86_64 @ 139926495934656>,\n",
              " <py34-none-manylinux_2_19_x86_64 @ 139926495934816>,\n",
              " <py34-none-manylinux_2_18_x86_64 @ 139926495934976>,\n",
              " <py34-none-manylinux_2_17_x86_64 @ 139926495935136>,\n",
              " <py34-none-manylinux2014_x86_64 @ 139926495935296>,\n",
              " <py34-none-manylinux_2_16_x86_64 @ 139926495935456>,\n",
              " <py34-none-manylinux_2_15_x86_64 @ 139926495935616>,\n",
              " <py34-none-manylinux_2_14_x86_64 @ 139926495935776>,\n",
              " <py34-none-manylinux_2_13_x86_64 @ 139926495935936>,\n",
              " <py34-none-manylinux_2_12_x86_64 @ 139926495936096>,\n",
              " <py34-none-manylinux2010_x86_64 @ 139926495936256>,\n",
              " <py34-none-manylinux_2_11_x86_64 @ 139926495936416>,\n",
              " <py34-none-manylinux_2_10_x86_64 @ 139926495936672>,\n",
              " <py34-none-manylinux_2_9_x86_64 @ 139926495936832>,\n",
              " <py34-none-manylinux_2_8_x86_64 @ 139926495936992>,\n",
              " <py34-none-manylinux_2_7_x86_64 @ 139926495937152>,\n",
              " <py34-none-manylinux_2_6_x86_64 @ 139926495937312>,\n",
              " <py34-none-manylinux_2_5_x86_64 @ 139926495937472>,\n",
              " <py34-none-manylinux1_x86_64 @ 139926495937632>,\n",
              " <py34-none-linux_x86_64 @ 139926495937792>,\n",
              " <py33-none-manylinux_2_27_x86_64 @ 139926495937872>,\n",
              " <py33-none-manylinux_2_26_x86_64 @ 139926495938032>,\n",
              " <py33-none-manylinux_2_25_x86_64 @ 139926495938192>,\n",
              " <py33-none-manylinux_2_24_x86_64 @ 139926495938352>,\n",
              " <py33-none-manylinux_2_23_x86_64 @ 139926495938512>,\n",
              " <py33-none-manylinux_2_22_x86_64 @ 139926495938672>,\n",
              " <py33-none-manylinux_2_21_x86_64 @ 139926495938832>,\n",
              " <py33-none-manylinux_2_20_x86_64 @ 139926495938992>,\n",
              " <py33-none-manylinux_2_19_x86_64 @ 139926495939152>,\n",
              " <py33-none-manylinux_2_18_x86_64 @ 139926495939312>,\n",
              " <py33-none-manylinux_2_17_x86_64 @ 139926495939472>,\n",
              " <py33-none-manylinux2014_x86_64 @ 139926495939632>,\n",
              " <py33-none-manylinux_2_16_x86_64 @ 139926495939792>,\n",
              " <py33-none-manylinux_2_15_x86_64 @ 139926495939952>,\n",
              " <py33-none-manylinux_2_14_x86_64 @ 139926495940112>,\n",
              " <py33-none-manylinux_2_13_x86_64 @ 139926495940272>,\n",
              " <py33-none-manylinux_2_12_x86_64 @ 139926495940432>,\n",
              " <py33-none-manylinux2010_x86_64 @ 139926495948880>,\n",
              " <py33-none-manylinux_2_11_x86_64 @ 139926495949040>,\n",
              " <py33-none-manylinux_2_10_x86_64 @ 139926495949200>,\n",
              " <py33-none-manylinux_2_9_x86_64 @ 139926495949360>,\n",
              " <py33-none-manylinux_2_8_x86_64 @ 139926495949520>,\n",
              " <py33-none-manylinux_2_7_x86_64 @ 139926495949680>,\n",
              " <py33-none-manylinux_2_6_x86_64 @ 139926495949840>,\n",
              " <py33-none-manylinux_2_5_x86_64 @ 139926495950000>,\n",
              " <py33-none-manylinux1_x86_64 @ 139926495950160>,\n",
              " <py33-none-linux_x86_64 @ 139926495950320>,\n",
              " <py32-none-manylinux_2_27_x86_64 @ 139926495950400>,\n",
              " <py32-none-manylinux_2_26_x86_64 @ 139926495950560>,\n",
              " <py32-none-manylinux_2_25_x86_64 @ 139926495950720>,\n",
              " <py32-none-manylinux_2_24_x86_64 @ 139926495950880>,\n",
              " <py32-none-manylinux_2_23_x86_64 @ 139926495951040>,\n",
              " <py32-none-manylinux_2_22_x86_64 @ 139926495951200>,\n",
              " <py32-none-manylinux_2_21_x86_64 @ 139926495951360>,\n",
              " <py32-none-manylinux_2_20_x86_64 @ 139926495951520>,\n",
              " <py32-none-manylinux_2_19_x86_64 @ 139926495951680>,\n",
              " <py32-none-manylinux_2_18_x86_64 @ 139926495951840>,\n",
              " <py32-none-manylinux_2_17_x86_64 @ 139926495952000>,\n",
              " <py32-none-manylinux2014_x86_64 @ 139926495952160>,\n",
              " <py32-none-manylinux_2_16_x86_64 @ 139926495952320>,\n",
              " <py32-none-manylinux_2_15_x86_64 @ 139926495952480>,\n",
              " <py32-none-manylinux_2_14_x86_64 @ 139926495952640>,\n",
              " <py32-none-manylinux_2_13_x86_64 @ 139926495952800>,\n",
              " <py32-none-manylinux_2_12_x86_64 @ 139926495957152>,\n",
              " <py32-none-manylinux2010_x86_64 @ 139926495957312>,\n",
              " <py32-none-manylinux_2_11_x86_64 @ 139926495957472>,\n",
              " <py32-none-manylinux_2_10_x86_64 @ 139926495957632>,\n",
              " <py32-none-manylinux_2_9_x86_64 @ 139926495957792>,\n",
              " <py32-none-manylinux_2_8_x86_64 @ 139926495957952>,\n",
              " <py32-none-manylinux_2_7_x86_64 @ 139926495958112>,\n",
              " <py32-none-manylinux_2_6_x86_64 @ 139926495958272>,\n",
              " <py32-none-manylinux_2_5_x86_64 @ 139926495958432>,\n",
              " <py32-none-manylinux1_x86_64 @ 139926495958592>,\n",
              " <py32-none-linux_x86_64 @ 139926495958752>,\n",
              " <py31-none-manylinux_2_27_x86_64 @ 139926495958832>,\n",
              " <py31-none-manylinux_2_26_x86_64 @ 139926495958992>,\n",
              " <py31-none-manylinux_2_25_x86_64 @ 139926495959152>,\n",
              " <py31-none-manylinux_2_24_x86_64 @ 139926495959312>,\n",
              " <py31-none-manylinux_2_23_x86_64 @ 139926495959472>,\n",
              " <py31-none-manylinux_2_22_x86_64 @ 139926495959632>,\n",
              " <py31-none-manylinux_2_21_x86_64 @ 139926495959792>,\n",
              " <py31-none-manylinux_2_20_x86_64 @ 139926495959952>,\n",
              " <py31-none-manylinux_2_19_x86_64 @ 139926495960112>,\n",
              " <py31-none-manylinux_2_18_x86_64 @ 139926495960272>,\n",
              " <py31-none-manylinux_2_17_x86_64 @ 139926495960432>,\n",
              " <py31-none-manylinux2014_x86_64 @ 139926495960592>,\n",
              " <py31-none-manylinux_2_16_x86_64 @ 139926495960752>,\n",
              " <py31-none-manylinux_2_15_x86_64 @ 139926495960912>,\n",
              " <py31-none-manylinux_2_14_x86_64 @ 139926495965264>,\n",
              " <py31-none-manylinux_2_13_x86_64 @ 139926495965424>,\n",
              " <py31-none-manylinux_2_12_x86_64 @ 139926495965584>,\n",
              " <py31-none-manylinux2010_x86_64 @ 139926495965744>,\n",
              " <py31-none-manylinux_2_11_x86_64 @ 139926495965904>,\n",
              " <py31-none-manylinux_2_10_x86_64 @ 139926495966064>,\n",
              " <py31-none-manylinux_2_9_x86_64 @ 139926495966224>,\n",
              " <py31-none-manylinux_2_8_x86_64 @ 139926495966384>,\n",
              " <py31-none-manylinux_2_7_x86_64 @ 139926495966544>,\n",
              " <py31-none-manylinux_2_6_x86_64 @ 139926495966704>,\n",
              " <py31-none-manylinux_2_5_x86_64 @ 139926495966864>,\n",
              " <py31-none-manylinux1_x86_64 @ 139926495967024>,\n",
              " <py31-none-linux_x86_64 @ 139926495967184>,\n",
              " <py30-none-manylinux_2_27_x86_64 @ 139926495967264>,\n",
              " <py30-none-manylinux_2_26_x86_64 @ 139926495967424>,\n",
              " <py30-none-manylinux_2_25_x86_64 @ 139926495967584>,\n",
              " <py30-none-manylinux_2_24_x86_64 @ 139926495967744>,\n",
              " <py30-none-manylinux_2_23_x86_64 @ 139926495967904>,\n",
              " <py30-none-manylinux_2_22_x86_64 @ 139926495968064>,\n",
              " <py30-none-manylinux_2_21_x86_64 @ 139926495968224>,\n",
              " <py30-none-manylinux_2_20_x86_64 @ 139926495968384>,\n",
              " <py30-none-manylinux_2_19_x86_64 @ 139926495968544>,\n",
              " <py30-none-manylinux_2_18_x86_64 @ 139926495968704>,\n",
              " <py30-none-manylinux_2_17_x86_64 @ 139926495968864>,\n",
              " <py30-none-manylinux2014_x86_64 @ 139926495969024>,\n",
              " <py30-none-manylinux_2_16_x86_64 @ 139926495969184>,\n",
              " <py30-none-manylinux_2_15_x86_64 @ 139926495973536>,\n",
              " <py30-none-manylinux_2_14_x86_64 @ 139926495973696>,\n",
              " <py30-none-manylinux_2_13_x86_64 @ 139926495973856>,\n",
              " <py30-none-manylinux_2_12_x86_64 @ 139926495974016>,\n",
              " <py30-none-manylinux2010_x86_64 @ 139926495974176>,\n",
              " <py30-none-manylinux_2_11_x86_64 @ 139926495974336>,\n",
              " <py30-none-manylinux_2_10_x86_64 @ 139926495974496>,\n",
              " <py30-none-manylinux_2_9_x86_64 @ 139926495974656>,\n",
              " <py30-none-manylinux_2_8_x86_64 @ 139926495974816>,\n",
              " <py30-none-manylinux_2_7_x86_64 @ 139926495974976>,\n",
              " <py30-none-manylinux_2_6_x86_64 @ 139926495975136>,\n",
              " <py30-none-manylinux_2_5_x86_64 @ 139926495975296>,\n",
              " <py30-none-manylinux1_x86_64 @ 139926495975456>,\n",
              " <py30-none-linux_x86_64 @ 139926495975616>,\n",
              " <cp37-none-any @ 139926495975696>,\n",
              " <py37-none-any @ 139926495975776>,\n",
              " <py3-none-any @ 139926495975856>,\n",
              " <py36-none-any @ 139926495975936>,\n",
              " <py35-none-any @ 139926495976016>,\n",
              " <py34-none-any @ 139926495976096>,\n",
              " <py33-none-any @ 139926495976176>,\n",
              " <py32-none-any @ 139926495976256>,\n",
              " <py31-none-any @ 139926495976336>,\n",
              " <py30-none-any @ 139926495976416>]"
            ]
          },
          "metadata": {},
          "execution_count": 2
        }
      ]
    },
    {
      "cell_type": "markdown",
      "source": [
        "この先はJupyterで説明する\n",
        "\n",
        "位置引数のaに1、bに2が入り、残りの位置引数である3と4は可変長のcに入る\n",
        "\n",
        "キーワード引数のdに5が入り、残りのキーワード引数であるx=6とy=7はeに入った"
      ],
      "metadata": {
        "id": "3mXs7emKjfzr"
      }
    },
    {
      "cell_type": "code",
      "source": [
        "def f(a, /, b, *c, d, **e):\n",
        "  print('a:', a)\n",
        "  print('b:', b)\n",
        "  print('c:', c)\n",
        "  print('d:', d)\n",
        "  print('e:', e)\n",
        "\n",
        "f(1,b=2,3,4, d=5, x=6,y=7)\n",
        "#これはPython3.8が使える環境でもエラーになる"
      ],
      "metadata": {
        "id": "XYUEFypujT6x"
      },
      "execution_count": null,
      "outputs": []
    },
    {
      "cell_type": "code",
      "source": [
        "def f(a, /, b, *c, d, **e):\n",
        "  print('a:', a)\n",
        "  print('b:', b)\n",
        "  print('c:', c)\n",
        "  print('d:', d)\n",
        "  print('e:', e)\n",
        "\n",
        "f(1,b=2,d=5,x=6,y=7)"
      ],
      "metadata": {
        "id": "9_JnemB_o-xC"
      },
      "execution_count": null,
      "outputs": []
    },
    {
      "cell_type": "markdown",
      "source": [
        "a=1, b=2, cは空のタプル(), d=5, e{'x':6, 'y':7}<br>\n",
        "という結果になる"
      ],
      "metadata": {
        "id": "VBq7jrvIpLUx"
      }
    },
    {
      "cell_type": "code",
      "source": [
        "def f(a, /, b, *c, d, **e):\n",
        "  print('a:', a)\n",
        "  print('b:', b)\n",
        "  print('c:', c)\n",
        "  print('d:', d)\n",
        "  print('e:', e)\n",
        "\n",
        "f(1,2,d=5)"
      ],
      "metadata": {
        "id": "ckM4MLCupdK4"
      },
      "execution_count": null,
      "outputs": []
    },
    {
      "cell_type": "markdown",
      "source": [
        "a,b,dに値が入る<br>\n",
        "cは空のタプル()<br>\n",
        "eは空の辞書"
      ],
      "metadata": {
        "id": "159Af3PZph6B"
      }
    },
    {
      "cell_type": "code",
      "source": [
        "def f(a, /, b, *c, d, **e):\n",
        "  print('a:', a)\n",
        "  print('b:', b)\n",
        "  print('c:', c)\n",
        "  print('d:', d)\n",
        "  print('e:', e)\n",
        "\n",
        "f(a=1,b=2,d=5)\n",
        "#aは位置専用引数なので、これだとエラー"
      ],
      "metadata": {
        "id": "wO0fyZedpz2x"
      },
      "execution_count": null,
      "outputs": []
    },
    {
      "cell_type": "markdown",
      "source": [
        "** 引数のcと<br>\n",
        "***引数のeを\n",
        "共にキーワード引数として渡そうとするとどうなるか"
      ],
      "metadata": {
        "id": "TITfQ62Mr0d5"
      }
    },
    {
      "cell_type": "code",
      "source": [
        "def f(a, /, b, *c, d, **e):\n",
        "  print('a:', a)\n",
        "  print('b:', b)\n",
        "  print('c:', c)\n",
        "  print('d:', d)\n",
        "  print('e:', e)\n",
        "\n",
        "f(1,2,c=3,d=4,d=5)"
      ],
      "metadata": {
        "id": "JAGA7AVIsGbz"
      },
      "execution_count": null,
      "outputs": []
    },
    {
      "cell_type": "markdown",
      "source": [
        "a=1<br>\n",
        "b=2<br>\n",
        "cは()<br>\n",
        "d:4<br>\n",
        "c: {'c':3, 'e': 5}<br>\n",
        "\n",
        "** 引数や<br>\n",
        "***引数は<br>\n",
        "キーワード引数として渡す事は出来ないので<br>\n",
        "cに入れる心算だったものが、eに辞書になって入ってしまった<br>"
      ],
      "metadata": {
        "id": "vMENNRdXsOKQ"
      }
    },
    {
      "cell_type": "code",
      "source": [
        "#p.257の関数を再掲\n",
        "def count(*t, **d):\n",
        "  for i, x in enumerate(t, 1):\n",
        "    print('[', i, ']', x)\n",
        "  for i, (k,v) in enumerate(d.items(), len(t)+1):\n",
        "    print('[', i, ']', k, ':', v)\n",
        "\n",
        "count('hotcake', 'pizza', snack = 'parfait', dinner='steak')"
      ],
      "metadata": {
        "id": "CWPcEgj9s10C",
        "outputId": "75fadcf0-46dc-4571-bece-87f446d0bbc3",
        "colab": {
          "base_uri": "https://localhost:8080/"
        }
      },
      "execution_count": 3,
      "outputs": [
        {
          "output_type": "stream",
          "name": "stdout",
          "text": [
            "[ 1 ] hotcake\n",
            "[ 2 ] pizza\n",
            "[ 3 ] snack : parfait\n",
            "[ 4 ] dinner : steak\n"
          ]
        }
      ]
    },
    {
      "cell_type": "markdown",
      "source": [
        "これを、1以外からでも始められるようにする"
      ],
      "metadata": {
        "id": "iYTSlLlYuibC"
      }
    },
    {
      "cell_type": "code",
      "source": [
        "def count(*t, start=1, **d):#キーワード引数は*引数と**引数の間に書く！\n",
        "  for i, x in enumerate(t, start):\n",
        "    print('[', i, ']', x)\n",
        "  for i, (k,v) in enumerate(d.items(), len(t)+start):\n",
        "    print('[', i, ']', k, ':', v)\n",
        "\n",
        "count('hotcake', 'pizza', start= 100,snack = 'parfait', dinner='steak')\n",
        "count('hotcake', 'pizza', snack = 'parfait', dinner='steak', start= 200)\n",
        "count('hotcake', 'pizza', snack = 'parfait', dinner='steak')"
      ],
      "metadata": {
        "id": "txMtcefRunJK",
        "outputId": "4770c963-4456-4c20-ee29-ec26332531a7",
        "colab": {
          "base_uri": "https://localhost:8080/"
        }
      },
      "execution_count": 6,
      "outputs": [
        {
          "output_type": "stream",
          "name": "stdout",
          "text": [
            "[ 100 ] hotcake\n",
            "[ 101 ] pizza\n",
            "[ 102 ] snack : parfait\n",
            "[ 103 ] dinner : steak\n",
            "[ 200 ] hotcake\n",
            "[ 201 ] pizza\n",
            "[ 202 ] snack : parfait\n",
            "[ 203 ] dinner : steak\n",
            "[ 1 ] hotcake\n",
            "[ 2 ] pizza\n",
            "[ 3 ] snack : parfait\n",
            "[ 4 ] dinner : steak\n"
          ]
        }
      ]
    },
    {
      "cell_type": "markdown",
      "source": [
        "## section2 変数を作成する場所でスコープが変わる\n",
        "\n",
        "変数のスコープ(有効範囲)は、変数を作成する場所で変わる\n",
        "\n",
        "関数の外側で作成するとグローバル変数となって関数の外側と内側どこでも使える\n",
        "\n",
        "関数内部で作成するとローカル変数となり、関数の内側だけで使える\n",
        "\n",
        "・・・この使い分けは慣れた人には「理屈通りだろ？」と流されてしまうのだが<br>\n",
        "慣れない人には、プログラミングで躓く重要なところなので注意して学ぼう"
      ],
      "metadata": {
        "id": "e_5uAhkevZMJ"
      }
    },
    {
      "cell_type": "markdown",
      "source": [
        "### どこでも有効なグローバル変数\n",
        "\n",
        "以下の関数と変数を考えてみる<br>\n",
        "textはグローバル変数である"
      ],
      "metadata": {
        "id": "ZlYe8w6cwLr7"
      }
    },
    {
      "cell_type": "code",
      "source": [
        "def f():\n",
        "  print('f():', text+ ', friend')\n",
        "\n",
        "def g():\n",
        "  print('g():', text+ ', lover')\n",
        "\n",
        "text='hello'\n",
        "f()\n",
        "g()\n",
        "print(text)"
      ],
      "metadata": {
        "id": "14MjuaYmweYR",
        "outputId": "e3ce375a-c0fd-476d-bef7-d0af480f6587",
        "colab": {
          "base_uri": "https://localhost:8080/"
        }
      },
      "execution_count": 9,
      "outputs": [
        {
          "output_type": "stream",
          "name": "stdout",
          "text": [
            "f(): hello, friend\n",
            "g(): hello, lover\n",
            "hello\n"
          ]
        }
      ]
    },
    {
      "cell_type": "markdown",
      "source": [
        "### 関数の中だけで有効なローカル変数"
      ],
      "metadata": {
        "id": "szaWMBo7xa4J"
      }
    }
  ]
}