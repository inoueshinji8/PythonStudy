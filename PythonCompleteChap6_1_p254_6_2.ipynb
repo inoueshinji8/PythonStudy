{
  "nbformat": 4,
  "nbformat_minor": 0,
  "metadata": {
    "colab": {
      "name": "PythonCompleteChap6_1-p254-6_2.ipynb",
      "provenance": [],
      "authorship_tag": "ABX9TyPt10s6MBnMKHYcidEW8aQN",
      "include_colab_link": true
    },
    "kernelspec": {
      "name": "python3",
      "display_name": "Python 3"
    },
    "language_info": {
      "name": "python"
    }
  },
  "cells": [
    {
      "cell_type": "markdown",
      "metadata": {
        "id": "view-in-github",
        "colab_type": "text"
      },
      "source": [
        "<a href=\"https://colab.research.google.com/github/inoueshinji8/PythonStudy/blob/main/PythonCompleteChap6_1_p254_6_2.ipynb\" target=\"_parent\"><img src=\"https://colab.research.google.com/assets/colab-badge.svg\" alt=\"Open In Colab\"/></a>"
      ]
    },
    {
      "cell_type": "markdown",
      "source": [
        "### 可変長引数はタプルか辞書で受ける\n",
        "\n",
        "可変長引数を持つ関数と言えばprint関数"
      ],
      "metadata": {
        "id": "wi9GWZrmS1ND"
      }
    },
    {
      "cell_type": "code",
      "execution_count": null,
      "metadata": {
        "colab": {
          "base_uri": "https://localhost:8080/"
        },
        "id": "6NygoedlStp6",
        "outputId": "327b69d4-9a23-4a82-a3b0-ca805ae02e71"
      },
      "outputs": [
        {
          "output_type": "stream",
          "name": "stdout",
          "text": [
            "\n",
            "hotcake\n",
            "hotcake pizza\n",
            "hotcake pizza steak\n"
          ]
        }
      ],
      "source": [
        "print()\n",
        "print('hotcake')\n",
        "print('hotcake','pizza')\n",
        "print('hotcake','pizza','steak')"
      ]
    },
    {
      "cell_type": "markdown",
      "source": [
        "何気なく使ってきたがよく考えたらすごい技術だと思ってしまう！\n",
        "\n",
        "このように任意の個数の引数を受けるには、仮引数に*引数<br>\n",
        "または**引数と書く<br>\n",
        "*だと任意個の位置引数をタプルとして、<br>\n",
        "**だと任意個のキーワード引数として受け取る<br>\n",
        "\n",
        "def 関数名(*引数): タプルとして\n",
        "\n",
        "def 関数名(**引数): 辞書として"
      ],
      "metadata": {
        "id": "YM0Ncwe_TS5r"
      }
    },
    {
      "cell_type": "code",
      "source": [
        "def f(*x):\n",
        "  print(x)\n",
        "\n",
        "f()\n",
        "f('hotcake')\n",
        "f('hotcake', 'pizza')\n",
        "f('hotcake', 'pizza', 'steak')\n",
        "#print文の前の段階の関数にこんな個数色々変えても大丈夫\n",
        "#戻り値が()で括られていてつまりタプルだね\n",
        "#要素数が1つだと末尾に,カンマがついている\n",
        "#そう言えば某tifのexifもそうだった"
      ],
      "metadata": {
        "id": "eWtVoeT6XTyc",
        "outputId": "ecf7edcd-d438-45f0-f518-a382413190f2",
        "colab": {
          "base_uri": "https://localhost:8080/"
        }
      },
      "execution_count": 1,
      "outputs": [
        {
          "output_type": "stream",
          "name": "stdout",
          "text": [
            "()\n",
            "('hotcake',)\n",
            "('hotcake', 'pizza')\n",
            "('hotcake', 'pizza', 'steak')\n"
          ]
        }
      ]
    },
    {
      "cell_type": "code",
      "source": [
        "# **でも同様にやってみよう\n",
        "\n",
        "def f(**x):\n",
        "  print(x)\n",
        "\n",
        "f()\n",
        "f(breakfirst = 'hotcake')\n",
        "f(breakfirst = 'hotcake',lunch='pizza')\n",
        "f(breakfirst = 'hotcake',lunch='pizza', dinner='steak')"
      ],
      "metadata": {
        "id": "dVLI9osGYcJs",
        "outputId": "c8b8f1bf-680c-41e7-a8a3-536826d88fa0",
        "colab": {
          "base_uri": "https://localhost:8080/"
        }
      },
      "execution_count": 3,
      "outputs": [
        {
          "output_type": "stream",
          "name": "stdout",
          "text": [
            "{}\n",
            "{'breakfirst': 'hotcake'}\n",
            "{'breakfirst': 'hotcake', 'lunch': 'pizza'}\n",
            "{'breakfirst': 'hotcake', 'lunch': 'pizza', 'dinner': 'steak'}\n"
          ]
        }
      ]
    },
    {
      "cell_type": "markdown",
      "source": [
        "あるいは可変長引数の* とキーワード引数の** を混ぜてみよう\n",
        "\n",
        "def 関数名(*引数, **引数)\n",
        "\n",
        "では、メニューを番号付きで表示するcount関数を作ってみよう<br>\n",
        "任意個の位置引数と、任意個のキーワード引数を受け取る関数とする"
      ],
      "metadata": {
        "id": "m_myi7AAY3kb"
      }
    },
    {
      "cell_type": "code",
      "source": [
        "def count(*t, **d):\n",
        "  for i,x in enumerate(t, 1):\n",
        "    print('[',i,']',x)\n",
        "  for i, (k,v) in enumerate(d.items(), len(t)+1):#len(t)の分だけ、カウントを進めておく\n",
        "    print('[',i,']',k,':',v)\n",
        "\n",
        "count('hotcake', 'pizza', snack='parfait', dinner='steak')\n",
        "#これ難しかった！！！enumerateの復習だ\n",
        "#enumerate(イテラブル, 開始値)で、イテラブルを進める"
      ],
      "metadata": {
        "id": "Lx6DvYUsZWai",
        "outputId": "49689ee4-c154-4257-a734-6e2dbeb0947a",
        "colab": {
          "base_uri": "https://localhost:8080/"
        }
      },
      "execution_count": 7,
      "outputs": [
        {
          "output_type": "stream",
          "name": "stdout",
          "text": [
            "[ 1 ] hotcake\n",
            "[ 2 ] pizza\n",
            "[ 3 ] snack : parfait\n",
            "[ 4 ] dinner : steak\n"
          ]
        }
      ]
    },
    {
      "cell_type": "markdown",
      "source": [
        "i,k,v でなくi,(k,v)となっている<br>\n",
        "本当は(i,(k,v))と、タプルが入れ子になっている"
      ],
      "metadata": {
        "id": "_WPQiTfRa-mD"
      }
    },
    {
      "cell_type": "code",
      "source": [
        ""
      ],
      "metadata": {
        "id": "W49ivzvSbOwr"
      },
      "execution_count": null,
      "outputs": []
    }
  ]
}