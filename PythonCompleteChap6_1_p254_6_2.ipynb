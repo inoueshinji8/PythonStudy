{
  "nbformat": 4,
  "nbformat_minor": 0,
  "metadata": {
    "colab": {
      "name": "PythonCompleteChap6_1-p254-6_2.ipynb",
      "provenance": [],
      "authorship_tag": "ABX9TyM8QZ4cKVkjBLEUWBgQEdzg",
      "include_colab_link": true
    },
    "kernelspec": {
      "name": "python3",
      "display_name": "Python 3"
    },
    "language_info": {
      "name": "python"
    }
  },
  "cells": [
    {
      "cell_type": "markdown",
      "metadata": {
        "id": "view-in-github",
        "colab_type": "text"
      },
      "source": [
        "<a href=\"https://colab.research.google.com/github/inoueshinji8/PythonStudy/blob/main/PythonCompleteChap6_1_p254_6_2.ipynb\" target=\"_parent\"><img src=\"https://colab.research.google.com/assets/colab-badge.svg\" alt=\"Open In Colab\"/></a>"
      ]
    },
    {
      "cell_type": "markdown",
      "source": [
        "### 可変長引数はタプルか辞書で受ける\n",
        "\n",
        "可変長引数を持つ関数と言えばprint関数"
      ],
      "metadata": {
        "id": "wi9GWZrmS1ND"
      }
    },
    {
      "cell_type": "code",
      "execution_count": 1,
      "metadata": {
        "colab": {
          "base_uri": "https://localhost:8080/"
        },
        "id": "6NygoedlStp6",
        "outputId": "327b69d4-9a23-4a82-a3b0-ca805ae02e71"
      },
      "outputs": [
        {
          "output_type": "stream",
          "name": "stdout",
          "text": [
            "\n",
            "hotcake\n",
            "hotcake pizza\n",
            "hotcake pizza steak\n"
          ]
        }
      ],
      "source": [
        "print()\n",
        "print('hotcake')\n",
        "print('hotcake','pizza')\n",
        "print('hotcake','pizza','steak')"
      ]
    },
    {
      "cell_type": "markdown",
      "source": [
        "何気なく使ってきたがよく考えたらすごい技術だと思ってしまう！\n",
        "\n",
        "このように任意の個数の引数を受けるには、仮引数に*引数<br>\n",
        "または**引数と書く<br>\n",
        "*だと任意個の位置引数をタプルとして、<br>\n",
        "**だと任意個のキーワード引数として受け取る<br>\n",
        "\n",
        "def 関数名(*引数): タプルとして\n",
        "\n",
        "def 関数名(**引数): 辞書として"
      ],
      "metadata": {
        "id": "YM0Ncwe_TS5r"
      }
    }
  ]
}