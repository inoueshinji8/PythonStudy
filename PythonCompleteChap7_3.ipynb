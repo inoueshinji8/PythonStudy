{
  "nbformat": 4,
  "nbformat_minor": 0,
  "metadata": {
    "colab": {
      "name": "PythonCompleteChap7_3.ipynb",
      "provenance": [],
      "collapsed_sections": [],
      "authorship_tag": "ABX9TyM4tiMQI6bm8Tt/xpGsul+T",
      "include_colab_link": true
    },
    "kernelspec": {
      "name": "python3",
      "display_name": "Python 3"
    },
    "language_info": {
      "name": "python"
    }
  },
  "cells": [
    {
      "cell_type": "markdown",
      "metadata": {
        "id": "view-in-github",
        "colab_type": "text"
      },
      "source": [
        "<a href=\"https://colab.research.google.com/github/inoueshinji8/PythonStudy/blob/main/PythonCompleteChap7_3.ipynb\" target=\"_parent\"><img src=\"https://colab.research.google.com/assets/colab-badge.svg\" alt=\"Open In Colab\"/></a>"
      ]
    },
    {
      "cell_type": "markdown",
      "source": [
        "## section03 派生と継承を活用するとオブジェクト指向らしくなる\n",
        "\n",
        "似たようなクラスがあるなら、共通の機能は共通化して、新しい部分の差分だけで定義できると便利<br>\n",
        "それができるのが派生とか継承\n",
        "\n",
        "ところで多重継承ができる言語を使う、と意識するのはこれが初めてなのだが、大丈夫だろうか"
      ],
      "metadata": {
        "id": "F9Xny3JdG5v_"
      }
    },
    {
      "cell_type": "markdown",
      "source": [
        "### 派生と継承を使ってクラスを定義\n",
        "\n",
        "派生:あるクラスをベースに、別のクラスを定義すること<br>\n",
        "ベースになるクラスが基底クラス、それから派生クラスが作られる\n",
        "\n",
        "派生クラスは基底クラスが持つ機能、というかデータ属性とメソッドを受け継ぐ<br>\n",
        "これを継承と呼ぶ\n",
        "\n",
        "UMLでは、派生クラスから基底クラスに矢印が伸びる形に描く<br>\n",
        "こんな記法を汎化という\n",
        "\n",
        "では、FoodクラスとToyクラスを作る<br>\n",
        "著者は賞味期限と対象年齢をうまく流用したいらしい"
      ],
      "metadata": {
        "id": "v-HRCNpEKUiH"
      }
    },
    {
      "cell_type": "code",
      "execution_count": 4,
      "metadata": {
        "colab": {
          "base_uri": "https://localhost:8080/"
        },
        "id": "wql1sT4MG0AG",
        "outputId": "174264bd-6dc3-47fb-c81d-8dfc8473385e"
      },
      "outputs": [
        {
          "output_type": "stream",
          "name": "stdout",
          "text": [
            "name:  chocolate\n",
            "price:  100\n",
            "use_by_date:  100\n",
            "\n",
            "name:  figure\n",
            "price:  350\n",
            "target_age:  3\n"
          ]
        }
      ],
      "source": [
        "class Food:\n",
        "  def __init__(self, name, price, use_by_date):\n",
        "    self.name = name\n",
        "    self.price = price\n",
        "    self.use_by_date = use_by_date\n",
        "\n",
        "  def show(self):\n",
        "    print('name: ', self.name)\n",
        "    print('price: ', self.price)\n",
        "    print('use_by_date: ', self.use_by_date)\n",
        "\n",
        "class Toy:\n",
        "  def __init__(self, name, price, target_age):\n",
        "    self.name = name\n",
        "    self.price = price\n",
        "    self. target_age = target_age\n",
        "\n",
        "  def show(self):\n",
        "    print('name: ', self.name)\n",
        "    print('price: ', self.price)\n",
        "    print('target_age: ', self. target_age)\n",
        "\n",
        "x = Food('chocolate', 100, 100)\n",
        "x.show()\n",
        "\n",
        "print()\n",
        "\n",
        "y = Toy('figure', 350, 3)\n",
        "y.show()"
      ]
    },
    {
      "cell_type": "markdown",
      "source": [
        "似た部分が多いので、これは共通化したいと著者は考えた<br>\n",
        "それで、派生と継承をどう使うかというと\n",
        "\n",
        "class 派生クラス名(基底クラス名, ...):\n",
        "　　文...\n",
        "\n",
        "1つの基底クラスを指定しているなら単一継承、2個以上の基底クラスを指定しているなら多重継承<br>\n",
        "ここでPythonやC++は多重継承に対応、Javaは単一継承だけ、と書いてある<br>\n",
        "自分が学んだ頃はC++は単一継承だけだったかな(ver.11以降)\n",
        "\n",
        "とりあえず、基底クラスとしてItemクラスを作り、それからFoodクラスとToyクラスを作るなら<br>\n",
        "class Item:<br>\n",
        "　　...<br>\n",
        "\n",
        "class Food(Item):<br>\n",
        "　　...<br>\n",
        "\n",
        "class Toy(Item):<br>\n",
        "　　...<br>\n",
        "\n",
        "と書く。\n",
        "より細かい書き方のために、オーバーライドについて学ぼう\n"
      ],
      "metadata": {
        "id": "vSEOE9ajNC5l"
      }
    }
  ]
}