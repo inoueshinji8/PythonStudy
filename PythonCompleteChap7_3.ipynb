{
  "nbformat": 4,
  "nbformat_minor": 0,
  "metadata": {
    "colab": {
      "name": "PythonCompleteChap7_3.ipynb",
      "provenance": [],
      "collapsed_sections": [],
      "authorship_tag": "ABX9TyOJCTk3aiBDEHDQx5nHKbNE",
      "include_colab_link": true
    },
    "kernelspec": {
      "name": "python3",
      "display_name": "Python 3"
    },
    "language_info": {
      "name": "python"
    }
  },
  "cells": [
    {
      "cell_type": "markdown",
      "metadata": {
        "id": "view-in-github",
        "colab_type": "text"
      },
      "source": [
        "<a href=\"https://colab.research.google.com/github/inoueshinji8/PythonStudy/blob/main/PythonCompleteChap7_3.ipynb\" target=\"_parent\"><img src=\"https://colab.research.google.com/assets/colab-badge.svg\" alt=\"Open In Colab\"/></a>"
      ]
    },
    {
      "cell_type": "markdown",
      "source": [
        "## section03 派生と継承を活用するとオブジェクト指向らしくなる\n",
        "\n",
        "似たようなクラスがあるなら、共通の機能は共通化して、新しい部分の差分だけで定義できると便利<br>\n",
        "それができるのが派生とか継承\n",
        "\n",
        "ところで多重継承ができる言語を使う、と意識するのはこれが初めてなのだが、大丈夫だろうか"
      ],
      "metadata": {
        "id": "F9Xny3JdG5v_"
      }
    },
    {
      "cell_type": "markdown",
      "source": [
        "### 派生と継承を使ってクラスを定義\n",
        "\n",
        "派生:あるクラスをベースに、別のクラスを定義すること<br>\n",
        "ベースになるクラスが基底クラス、それから派生クラスが作られる\n",
        "\n",
        "派生クラスは基底クラスが持つ機能、というかデータ属性とメソッドを受け継ぐ<br>\n",
        "これを継承と呼ぶ\n",
        "\n",
        "UMLでは、派生クラスから基底クラスに矢印が伸びる形に描く<br>\n",
        "こんな記法を汎化という\n",
        "\n",
        "では、FoodクラスとToyクラスを作る<br>\n",
        "著者は賞味期限と対象年齢をうまく流用したいらしい"
      ],
      "metadata": {
        "id": "v-HRCNpEKUiH"
      }
    },
    {
      "cell_type": "code",
      "execution_count": 4,
      "metadata": {
        "colab": {
          "base_uri": "https://localhost:8080/"
        },
        "id": "wql1sT4MG0AG",
        "outputId": "174264bd-6dc3-47fb-c81d-8dfc8473385e"
      },
      "outputs": [
        {
          "output_type": "stream",
          "name": "stdout",
          "text": [
            "name:  chocolate\n",
            "price:  100\n",
            "use_by_date:  100\n",
            "\n",
            "name:  figure\n",
            "price:  350\n",
            "target_age:  3\n"
          ]
        }
      ],
      "source": [
        "class Food:\n",
        "  def __init__(self, name, price, use_by_date):\n",
        "    self.name = name\n",
        "    self.price = price\n",
        "    self.use_by_date = use_by_date\n",
        "\n",
        "  def show(self):\n",
        "    print('name: ', self.name)\n",
        "    print('price: ', self.price)\n",
        "    print('use_by_date: ', self.use_by_date)\n",
        "\n",
        "class Toy:\n",
        "  def __init__(self, name, price, target_age):\n",
        "    self.name = name\n",
        "    self.price = price\n",
        "    self. target_age = target_age\n",
        "\n",
        "  def show(self):\n",
        "    print('name: ', self.name)\n",
        "    print('price: ', self.price)\n",
        "    print('target_age: ', self. target_age)\n",
        "\n",
        "x = Food('chocolate', 100, 100)\n",
        "x.show()\n",
        "\n",
        "print()\n",
        "\n",
        "y = Toy('figure', 350, 3)\n",
        "y.show()"
      ]
    },
    {
      "cell_type": "markdown",
      "source": [
        "似た部分が多いので、これは共通化したいと著者は考えた<br>\n",
        "それで、派生と継承をどう使うかというと\n",
        "\n",
        "class 派生クラス名(基底クラス名, ...):\n",
        "　　文...\n",
        "\n",
        "1つの基底クラスを指定しているなら単一継承、2個以上の基底クラスを指定しているなら多重継承<br>\n",
        "ここでPythonやC++は多重継承に対応、Javaは単一継承だけ、と書いてある<br>\n",
        "自分が学んだ頃はC++は単一継承だけだったかな(ver.11以降)\n",
        "\n",
        "とりあえず、基底クラスとしてItemクラスを作り、それからFoodクラスとToyクラスを作るなら<br>\n",
        "class Item:<br>\n",
        "　　...<br>\n",
        "\n",
        "class Food(Item):<br>\n",
        "　　...<br>\n",
        "\n",
        "class Toy(Item):<br>\n",
        "　　...<br>\n",
        "\n",
        "と書く。\n",
        "より細かい書き方のために、オーバーライドについて学ぼう\n"
      ],
      "metadata": {
        "id": "vSEOE9ajNC5l"
      }
    },
    {
      "cell_type": "markdown",
      "source": [
        "### 既存のメソッドをオーバーライドして変更する\n",
        "\n",
        "オーバーライド: 基底クラスから継承したメソッドを、派生クラスで再定義(上書き)すること\n",
        "\n",
        "class 基底クラス名:<br>\n",
        "　　def メソッド名(引数, ...):#基底クラスのメソッドA<br>\n",
        "　　　　文...\n",
        "\n",
        "class 派生クラス名(基底クラス名):<br>\n",
        "　　def メソッド名(引数, ...):#派生クラスにあるが、基底クラスのものと同名のメソッドB<br>\n",
        "　　　　文...\n",
        "\n",
        "派生クラスのオブジェクトからオーバライドしたメソッドを呼び出すと、これは基底クラスから継承したメソッドAではなく、派生クラスで再定義したメソッドBである\n",
        "\n",
        "ところで、派生クラスでは基底クラスから継承したメソッドは実行されない<br>\n",
        "\n",
        "そこで、派生クラスで再定義したメソッド内で、基底クラスで定義したメソッドを呼び出す方法がある<br>\n",
        "super().メソッド名(引数, ...)\n",
        "\n",
        "なお、superを付けないと同じ名前のメソッドを複数呼び出すことになってしまう。<br>\n",
        "これがRecursionError再帰エラーを起こす<br>\n",
        "\n",
        "再帰はプログラミングで関数やメソッドが自分自身を呼び出すような構造になっていること。<br>\n",
        "フラクタルを描くときによく使う\n",
        "\n",
        "def メソッド名(引数, ...):<br>\n",
        "　　文...<br>\n",
        "　　メソッド名(引数, ...)<br>\n",
        "　　文...\n",
        "\n",
        "では、ItemクラスとFoodクラスとToyクラスでオーバーライドとsuper関数を適用する"
      ],
      "metadata": {
        "id": "eLpkKK5qTbqc"
      }
    },
    {
      "cell_type": "code",
      "source": [
        "class Item:#基底クラス\n",
        "  def __init__(self, name, price):\n",
        "    self.name = name\n",
        "    self.price = price\n",
        "\n",
        "  def show(self):\n",
        "    print('name: ', self.name)\n",
        "    print('price: ', self.price)\n",
        "\n",
        "class Food(Item):#派生クラスの定義\n",
        "  def __init__(self, name, price, use_by_date):#オーバーライド\n",
        "    super().__init__(name, price)#super関数の定義\n",
        "    self.use_by_date = use_by_date\n",
        "\n",
        "  def show(self):#オーバーライド\n",
        "    super().show()#super関数の定義\n",
        "    print('use_by_date: ', self.use_by_date)\n",
        "\n",
        "class Toy(Item):#派生クラスの定義\n",
        "  def __init__(self, name, price, target_age):#オーバーライド\n",
        "    super().__init__(name, price)#super関数の定義\n",
        "    self. target_age = target_age\n",
        "\n",
        "  def show(self):#オーバーライド\n",
        "    super().show()#super関数の定義\n",
        "    print('target_age: ', self. target_age)\n",
        "\n",
        "x = Food('chocolate', 100, 100)#派生クラスのオブジェクト生成\n",
        "x.show()\n",
        "\n",
        "print()\n",
        "\n",
        "y = Toy('figure', 350, 3)#派生クラスのオブジェクト生成\n",
        "y.show()"
      ],
      "metadata": {
        "colab": {
          "base_uri": "https://localhost:8080/"
        },
        "id": "o5ltgkKVWb3j",
        "outputId": "4acf236c-3784-47d1-9075-11cda13ecc26"
      },
      "execution_count": 7,
      "outputs": [
        {
          "output_type": "stream",
          "name": "stdout",
          "text": [
            "name:  chocolate\n",
            "price:  100\n",
            "use_by_date:  100\n",
            "\n",
            "name:  figure\n",
            "price:  350\n",
            "target_age:  3\n"
          ]
        }
      ]
    },
    {
      "cell_type": "markdown",
      "source": [
        "派生クラスでオーバーライドしたメソッド(__init__とshow)においてsuper関数を利用して基底クラスのメソッドを呼び出したおかげで、<br>\n",
        "基底クラスのメソッドを継承出来て、派生クラスでは基底クラスとの差分だけの処理を書くことが出来た\n",
        "\n",
        "基底クラスのメソッドは基底クラス名を使って呼び出しても良い<br>\n",
        "基底クラス名.メソッド名(オブジェクト, 引数, ...)"
      ],
      "metadata": {
        "id": "Wh_ORW2vYIPV"
      }
    },
    {
      "cell_type": "code",
      "source": [
        "class Item:#基底クラス\n",
        "  def __init__(self, name, price):\n",
        "    self.name = name\n",
        "    self.price = price\n",
        "\n",
        "  def show(self):\n",
        "    print('name: ', self.name)\n",
        "    print('price: ', self.price)\n",
        "\n",
        "class Food(Item):#派生クラスの定義\n",
        "  def __init__(self, name, price, use_by_date):#オーバーライド\n",
        "    super().__init__(name, price)#super関数の定義\n",
        "    self.use_by_date = use_by_date\n",
        "\n",
        "  def show(self):#オーバーライド\n",
        "    super().show()#super関数の定義\n",
        "    print('use_by_date: ', self.use_by_date)\n",
        "\n",
        "class Toy(Item):#派生クラスの定義\n",
        "  def __init__(self, name, price, target_age):#オーバーライド\n",
        "    Item.__init__(self, name, price)#Itemクラスの__init__呼び出し\n",
        "    self. target_age = target_age\n",
        "\n",
        "  def show(self):#オーバーライド\n",
        "    Item.show(self)#Itemクラスのshow呼び出し\n",
        "    print('target_age: ', self. target_age)\n",
        "\n",
        "x = Food('chocolate', 100, 100)#派生クラスのオブジェクト生成\n",
        "x.show()\n",
        "\n",
        "print()\n",
        "\n",
        "y = Toy('figure', 350, 3)#派生クラスのオブジェクト生成\n",
        "y.show()"
      ],
      "metadata": {
        "colab": {
          "base_uri": "https://localhost:8080/"
        },
        "id": "tm4xHdu9ZAUt",
        "outputId": "9a0fb384-82c3-46ab-d3d9-92621a0eacb4"
      },
      "execution_count": 8,
      "outputs": [
        {
          "output_type": "stream",
          "name": "stdout",
          "text": [
            "name:  chocolate\n",
            "price:  100\n",
            "use_by_date:  100\n",
            "\n",
            "name:  figure\n",
            "price:  350\n",
            "target_age:  3\n"
          ]
        }
      ]
    },
    {
      "cell_type": "markdown",
      "source": [
        "Item.__init__(self, name, price)#Itemクラスの__init__呼び出し<br>\n",
        "Item.show(self)#Itemクラスのshow呼び出し<br>\n",
        "\n",
        "selfを付けることに注意\n",
        "\n",
        "superを使うと、既定クラスの名前を変えたときでも影響を受けないのでお勧め"
      ],
      "metadata": {
        "id": "GwhmU0AsZR9g"
      }
    }
  ]
}