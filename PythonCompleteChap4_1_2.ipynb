{
  "nbformat": 4,
  "nbformat_minor": 0,
  "metadata": {
    "colab": {
      "name": "PythonCompleteChap4_1_2.ipynb",
      "provenance": [],
      "authorship_tag": "ABX9TyO2ne61S8mTyDr0drlPVV/k",
      "include_colab_link": true
    },
    "kernelspec": {
      "name": "python3",
      "display_name": "Python 3"
    },
    "language_info": {
      "name": "python"
    }
  },
  "cells": [
    {
      "cell_type": "markdown",
      "metadata": {
        "id": "view-in-github",
        "colab_type": "text"
      },
      "source": [
        "<a href=\"https://colab.research.google.com/github/inoueshinji8/PythonStudy/blob/main/PythonCompleteChap4_1_2.ipynb\" target=\"_parent\"><img src=\"https://colab.research.google.com/assets/colab-badge.svg\" alt=\"Open In Colab\"/></a>"
      ]
    },
    {
      "cell_type": "markdown",
      "source": [
        "# Pythonを支える4つのデータ構造\n",
        "\n",
        "データ構造ごとにランダムアクセスに強いとか検索に強いといった特徴がある<br>\n",
        "だと！<br>\n",
        "4つのどれがそんな特徴があるからこんな時はこれ！ってなるのか<br>\n",
        "この授業でそれを得られたらいいのだが"
      ],
      "metadata": {
        "id": "W8MpeSu5xm8v"
      }
    },
    {
      "cell_type": "markdown",
      "source": [
        "## section01 複数のデータを格納するならリストを使う\n",
        "\n",
        "シーケンス(順次的)なので、インデックスやスライスが使える<br>\n",
        "数学の解析学の連続とどっちみち離散量であるコンピュータでのシーケンシャルとか<br>\n",
        "シリアライズってちょっと違うんだよなあ<br>\n",
        "昔のペロペロキャンディーが繋がった袋に入っていたのをイメージしろなんて説明を見た<br>"
      ],
      "metadata": {
        "id": "5crZo2h2yNV2"
      }
    },
    {
      "cell_type": "markdown",
      "source": [
        "###リストは[]で生成する\n",
        "[値, ....]要素が2個以上<br>\n",
        "[値]要素が1個<br>\n",
        "[]要素が0個。リストの初期化で重要<br>\n",
        "ところで自分は最初に「リストにするかどうかも分からない」変数を作る時に<br>\n",
        "予めa=\"\"とか空の文字列で強引に作り、<br>\n",
        "そこにリストを強引に代入した！a = [1,2,3]という暴挙を<br>\n",
        "特にfor文内の使い回しリストで多用する<br>\n",
        "<br>\n",
        "変数 = [値,..]で代入できる\n",
        "\n"
      ],
      "metadata": {
        "id": "CCICkv1Oy04h"
      }
    },
    {
      "cell_type": "code",
      "execution_count": 1,
      "metadata": {
        "colab": {
          "base_uri": "https://localhost:8080/"
        },
        "id": "OhVZmxZWxceW",
        "outputId": "32b94869-6d95-4b33-b485-cb17c9c3c79d"
      },
      "outputs": [
        {
          "output_type": "stream",
          "name": "stdout",
          "text": [
            "['vanilla', 'chocolate', 'strawberry']\n"
          ]
        }
      ],
      "source": [
        "flavor = ['vanilla','chocolate','strawberry']\n",
        "print(flavor)"
      ]
    },
    {
      "cell_type": "code",
      "source": [
        "#Pythonのリストは自由度が高い！\n",
        "print(['one',2,3.0])"
      ],
      "metadata": {
        "colab": {
          "base_uri": "https://localhost:8080/"
        },
        "id": "ikKN-f130H6B",
        "outputId": "968d0a2c-2581-4dd7-cef5-4281583bff1f"
      },
      "execution_count": 2,
      "outputs": [
        {
          "output_type": "stream",
          "name": "stdout",
          "text": [
            "['one', 2, 3.0]\n"
          ]
        }
      ]
    },
    {
      "cell_type": "markdown",
      "source": [
        "list「関数」を使うと、イテラブル(繰り返し可能なオブジェクト)からリストを作成できる<br>\n",
        "list()は正確にはクラス\n",
        "list(リテラブル)"
      ],
      "metadata": {
        "id": "ntiD0jLz0fUg"
      }
    },
    {
      "cell_type": "code",
      "source": [
        "#0から9までの整数を成分とするリスト\n",
        "print([0,1,2,3,4,5,6,7,8,9])\n",
        "print(list(range(10)))"
      ],
      "metadata": {
        "colab": {
          "base_uri": "https://localhost:8080/"
        },
        "id": "4e_YrwPs0xY3",
        "outputId": "fa085e31-9971-4e24-f568-013734dddcad"
      },
      "execution_count": 3,
      "outputs": [
        {
          "output_type": "stream",
          "name": "stdout",
          "text": [
            "0 1 2 3 4 5 6 7 8 9\n",
            "[0, 1, 2, 3, 4, 5, 6, 7, 8, 9]\n"
          ]
        }
      ]
    },
    {
      "cell_type": "markdown",
      "source": [
        "AからGまでの文字を格納したリスト<br>\n",
        "これ知らなかった<br>"
      ],
      "metadata": {
        "id": "K-GOcrKS1EiH"
      }
    },
    {
      "cell_type": "code",
      "source": [
        "Alphabet = ['A','B','C','D','E','F','G']\n",
        "print(Alphabet)\n",
        "print(list('ABCDEFG'))"
      ],
      "metadata": {
        "id": "xWjUwvO-1eYA",
        "outputId": "b3951db8-c46d-4b72-f8a7-d048181acd77",
        "colab": {
          "base_uri": "https://localhost:8080/"
        }
      },
      "execution_count": 4,
      "outputs": [
        {
          "output_type": "stream",
          "name": "stdout",
          "text": [
            "['A', 'B', 'C', 'D', 'E', 'F', 'G']\n",
            "['A', 'B', 'C', 'D', 'E', 'F', 'G']\n"
          ]
        }
      ]
    }
  ]
}