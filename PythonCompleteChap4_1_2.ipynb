{
  "nbformat": 4,
  "nbformat_minor": 0,
  "metadata": {
    "colab": {
      "name": "PythonCompleteChap4_1_2.ipynb",
      "provenance": [],
      "authorship_tag": "ABX9TyPP78aFKAfEnk7JRYZxz672",
      "include_colab_link": true
    },
    "kernelspec": {
      "name": "python3",
      "display_name": "Python 3"
    },
    "language_info": {
      "name": "python"
    }
  },
  "cells": [
    {
      "cell_type": "markdown",
      "metadata": {
        "id": "view-in-github",
        "colab_type": "text"
      },
      "source": [
        "<a href=\"https://colab.research.google.com/github/inoueshinji8/PythonStudy/blob/main/PythonCompleteChap4_1_2.ipynb\" target=\"_parent\"><img src=\"https://colab.research.google.com/assets/colab-badge.svg\" alt=\"Open In Colab\"/></a>"
      ]
    },
    {
      "cell_type": "markdown",
      "source": [
        "# Pythonを支える4つのデータ構造\n",
        "\n",
        "データ構造ごとにランダムアクセスに強いとか検索に強いといった特徴がある<br>\n",
        "だと！<br>\n",
        "4つのどれがそんな特徴があるからこんな時はこれ！ってなるのか<br>\n",
        "この授業でそれを得られたらいいのだが"
      ],
      "metadata": {
        "id": "W8MpeSu5xm8v"
      }
    },
    {
      "cell_type": "markdown",
      "source": [
        "## section01 複数のデータを格納するならリストを使う\n",
        "\n",
        "シーケンス(順次的)なので、インデックスやスライスが使える<br>\n",
        "数学の解析学の連続とどっちみち離散量であるコンピュータでのシーケンシャルとか<br>\n",
        "シリアライズってちょっと違うんだよなあ<br>\n",
        "昔のペロペロキャンディーが繋がった袋に入っていたのをイメージしろなんて説明を見た<br>"
      ],
      "metadata": {
        "id": "5crZo2h2yNV2"
      }
    },
    {
      "cell_type": "markdown",
      "source": [
        "###リストは[]で生成する\n",
        "[値, ....]要素が2個以上<br>\n",
        "[値]要素が1個<br>\n",
        "[]要素が0個。リストの初期化で重要<br>\n",
        "ところで自分は最初に「リストにするかどうかも分からない」変数を作る時に<br>\n",
        "予めa=\"\"とか空の文字列で強引に作り、<br>\n",
        "そこにリストを強引に代入した！a = [1,2,3]という暴挙を<br>\n",
        "特にfor文内の使い回しリストで多用する<br>\n",
        "<br>\n",
        "変数 = [値,..]で代入できる\n",
        "\n"
      ],
      "metadata": {
        "id": "CCICkv1Oy04h"
      }
    },
    {
      "cell_type": "code",
      "execution_count": null,
      "metadata": {
        "colab": {
          "base_uri": "https://localhost:8080/"
        },
        "id": "OhVZmxZWxceW",
        "outputId": "32b94869-6d95-4b33-b485-cb17c9c3c79d"
      },
      "outputs": [
        {
          "output_type": "stream",
          "name": "stdout",
          "text": [
            "['vanilla', 'chocolate', 'strawberry']\n"
          ]
        }
      ],
      "source": [
        "flavor = ['vanilla','chocolate','strawberry']\n",
        "print(flavor)"
      ]
    },
    {
      "cell_type": "code",
      "source": [
        "#Pythonのリストは自由度が高い！\n",
        "print(['one',2,3.0])"
      ],
      "metadata": {
        "colab": {
          "base_uri": "https://localhost:8080/"
        },
        "id": "ikKN-f130H6B",
        "outputId": "968d0a2c-2581-4dd7-cef5-4281583bff1f"
      },
      "execution_count": null,
      "outputs": [
        {
          "output_type": "stream",
          "name": "stdout",
          "text": [
            "['one', 2, 3.0]\n"
          ]
        }
      ]
    },
    {
      "cell_type": "markdown",
      "source": [
        "list「関数」を使うと、イテラブル(繰り返し可能なオブジェクト)からリストを作成できる<br>\n",
        "list()は正確にはクラス\n",
        "list(リテラブル)"
      ],
      "metadata": {
        "id": "ntiD0jLz0fUg"
      }
    },
    {
      "cell_type": "code",
      "source": [
        "#0から9までの整数を成分とするリスト\n",
        "print([0,1,2,3,4,5,6,7,8,9])\n",
        "print(list(range(10)))"
      ],
      "metadata": {
        "colab": {
          "base_uri": "https://localhost:8080/"
        },
        "id": "4e_YrwPs0xY3",
        "outputId": "fa085e31-9971-4e24-f568-013734dddcad"
      },
      "execution_count": null,
      "outputs": [
        {
          "output_type": "stream",
          "name": "stdout",
          "text": [
            "0 1 2 3 4 5 6 7 8 9\n",
            "[0, 1, 2, 3, 4, 5, 6, 7, 8, 9]\n"
          ]
        }
      ]
    },
    {
      "cell_type": "markdown",
      "source": [
        "AからGまでの文字を格納したリスト<br>\n",
        "これ知らなかった<br>"
      ],
      "metadata": {
        "id": "K-GOcrKS1EiH"
      }
    },
    {
      "cell_type": "code",
      "source": [
        "Alphabet = ['A','B','C','D','E','F','G']\n",
        "print(Alphabet)\n",
        "print(list('ABCDEFG'))"
      ],
      "metadata": {
        "id": "xWjUwvO-1eYA",
        "outputId": "b3951db8-c46d-4b72-f8a7-d048181acd77",
        "colab": {
          "base_uri": "https://localhost:8080/"
        }
      },
      "execution_count": null,
      "outputs": [
        {
          "output_type": "stream",
          "name": "stdout",
          "text": [
            "['A', 'B', 'C', 'D', 'E', 'F', 'G']\n",
            "['A', 'B', 'C', 'D', 'E', 'F', 'G']\n"
          ]
        }
      ]
    },
    {
      "cell_type": "markdown",
      "source": [
        "### インデックスやスライスをリストに使う\n",
        "前章の文字列や後述のタプル同様に、リストにはインデックス、つまり番号指定や<br>\n",
        "一定範囲内を切り出すスライスが使える<br>\n",
        "\n",
        "リスト[インデックス]<br>\n",
        "\n",
        "リスト[開始インデックス:終了インデックス]<br>\n",
        "リスト[開始インデックス:終了インデックス:ストライド]<br>"
      ],
      "metadata": {
        "id": "dentZRGHxa8V"
      }
    },
    {
      "cell_type": "code",
      "source": [
        "drink = [\"coffee\",\"tea\",\"milk\",\"water\"]\n",
        "print(drink)"
      ],
      "metadata": {
        "id": "__E--15SyLsl",
        "outputId": "f90b619d-782a-4cad-d8c2-262befa40414",
        "colab": {
          "base_uri": "https://localhost:8080/"
        }
      },
      "execution_count": 1,
      "outputs": [
        {
          "output_type": "stream",
          "name": "stdout",
          "text": [
            "['coffee', 'tea', 'milk', 'water']\n"
          ]
        }
      ]
    },
    {
      "cell_type": "code",
      "source": [
        "#「前から3番目」のmilkを指定する\n",
        "print(drink[2])\n",
        "print(drink[-2])"
      ],
      "metadata": {
        "id": "Lr0jocl2ye57",
        "outputId": "e25581fc-ce81-4869-d4aa-b5271b829c39",
        "colab": {
          "base_uri": "https://localhost:8080/"
        }
      },
      "execution_count": 2,
      "outputs": [
        {
          "output_type": "stream",
          "name": "stdout",
          "text": [
            "milk\n",
            "milk\n"
          ]
        }
      ]
    },
    {
      "cell_type": "code",
      "source": [
        "#一番最後をwaterに変える\n",
        "drink[-1] = \"soda\"\n",
        "print(drink)"
      ],
      "metadata": {
        "id": "-WGzcheKyvln",
        "outputId": "d89fc284-2832-4dd4-a650-614c337981f0",
        "colab": {
          "base_uri": "https://localhost:8080/"
        }
      },
      "execution_count": 3,
      "outputs": [
        {
          "output_type": "stream",
          "name": "stdout",
          "text": [
            "['coffee', 'tea', 'milk', 'soda']\n"
          ]
        }
      ]
    },
    {
      "cell_type": "code",
      "source": [
        "#スライスでteaとmilkを指定\n",
        "print(drink[1:3])"
      ],
      "metadata": {
        "id": "NuqHa3quy9Q8",
        "outputId": "3b8dbfb2-16bb-4305-a60d-4152a9b0b51f",
        "colab": {
          "base_uri": "https://localhost:8080/"
        }
      },
      "execution_count": 6,
      "outputs": [
        {
          "output_type": "stream",
          "name": "stdout",
          "text": [
            "['tea', 'milk']\n"
          ]
        }
      ]
    },
    {
      "cell_type": "markdown",
      "source": [
        "スライスでも要素を変更できる<br>\n",
        "リスト[開始index:終了index] = イテラブル<br>\n",
        "リスト[開始index:終了index:ストライド] = イテラブル\n"
      ],
      "metadata": {
        "id": "Wq-59hq-zagZ"
      }
    },
    {
      "cell_type": "code",
      "source": [
        "print(drink)\n",
        "drink[1:3] = ['juice','milk']\n",
        "print(drink)"
      ],
      "metadata": {
        "id": "axQnQcDUzaB_",
        "outputId": "1b4e9897-4fb2-43ca-d81e-7d764870094a",
        "colab": {
          "base_uri": "https://localhost:8080/"
        }
      },
      "execution_count": 7,
      "outputs": [
        {
          "output_type": "stream",
          "name": "stdout",
          "text": [
            "['coffee', 'tea', 'milk', 'soda']\n",
            "['coffee', 'juice', 'milk', 'soda']\n"
          ]
        }
      ]
    },
    {
      "cell_type": "markdown",
      "source": [
        "##だが後述のように、迂闊な代入は危ない！"
      ],
      "metadata": {
        "id": "whWv4ae90N7m"
      }
    },
    {
      "cell_type": "markdown",
      "source": [
        "###リストの代入に注意\n",
        "リストを = でコピーすると同じオブジェクトを指す別の変数が出来るだけ！<br>\n",
        "だから1つ変えると全部変わる！<br>"
      ],
      "metadata": {
        "id": "EFiExnjL0VZN"
      }
    },
    {
      "cell_type": "code",
      "source": [
        "a = ['coffee','tea','milk','water']\n",
        "print(\"aは\")\n",
        "print(a)\n",
        "\n",
        "b = a\n",
        "b[-1] = \"soda\"\n",
        "print(\"bは\")\n",
        "print(b)\n",
        "\n",
        "print(\"aは\" + str(a))"
      ],
      "metadata": {
        "id": "8esHGsZK0UaM",
        "outputId": "7791d09f-b9f1-4441-afde-5644c72c7187",
        "colab": {
          "base_uri": "https://localhost:8080/"
        }
      },
      "execution_count": 9,
      "outputs": [
        {
          "output_type": "stream",
          "name": "stdout",
          "text": [
            "aは\n",
            "['coffee', 'tea', 'milk', 'water']\n",
            "bは\n",
            "['coffee', 'tea', 'milk', 'soda']\n",
            "aは['coffee', 'tea', 'milk', 'soda']\n"
          ]
        }
      ]
    },
    {
      "cell_type": "markdown",
      "source": [
        "# コピー元まで変わってしまった！これは怖い！"
      ],
      "metadata": {
        "id": "fxMwmYlE1aBe"
      }
    },
    {
      "cell_type": "code",
      "source": [
        "print(id(a))\n",
        "print(id(b))\n",
        "#同じものを指している"
      ],
      "metadata": {
        "id": "b6kOa2O31fpt",
        "outputId": "0369510e-618b-4ad4-cbfe-5272b310223d",
        "colab": {
          "base_uri": "https://localhost:8080/"
        }
      },
      "execution_count": 10,
      "outputs": [
        {
          "output_type": "stream",
          "name": "stdout",
          "text": [
            "140279670259456\n",
            "140279670259456\n"
          ]
        }
      ]
    },
    {
      "cell_type": "markdown",
      "source": [
        "###ここで、スライスa[:]だと別オブジェクトにコピーされるというんだな\n",
        "でも怖い\n",
        "\n",
        "###自分はimport copyを使いたがる傾向"
      ],
      "metadata": {
        "id": "Y5t6SxCH1vSW"
      }
    },
    {
      "cell_type": "code",
      "source": [
        "a = ['coffee','tea','milk','water']\n",
        "print(\"aは\")\n",
        "print(a)\n",
        "\n",
        "b = a[:]\n",
        "print(\"bは\")\n",
        "print(b)\n",
        "\n",
        "b[-1] = \"soda\"\n",
        "\n",
        "print(\"bは\")\n",
        "print(b)\n",
        "print(\"aは\")\n",
        "print(a)\n",
        "print(\"bのアドレスは\")\n",
        "print(id(a))\n",
        "print(\"aのアドレスは\")\n",
        "print(id(b))"
      ],
      "metadata": {
        "id": "XYKPMTNa2GrW",
        "outputId": "860166fd-2d9f-4d64-edc6-9e0fc530c2fe",
        "colab": {
          "base_uri": "https://localhost:8080/"
        }
      },
      "execution_count": 13,
      "outputs": [
        {
          "output_type": "stream",
          "name": "stdout",
          "text": [
            "aは\n",
            "['coffee', 'tea', 'milk', 'water']\n",
            "bは\n",
            "['coffee', 'tea', 'milk', 'water']\n",
            "bは\n",
            "['coffee', 'tea', 'milk', 'soda']\n",
            "aは\n",
            "['coffee', 'tea', 'milk', 'water']\n",
            "bのアドレスは\n",
            "140279601800928\n",
            "aのアドレスは\n",
            "140279601135440\n"
          ]
        }
      ]
    },
    {
      "cell_type": "markdown",
      "source": [
        "ちゃんと別のアドレスに格納された"
      ],
      "metadata": {
        "id": "iWaGMs9i2qTH"
      }
    },
    {
      "cell_type": "code",
      "source": [
        "import copy\n",
        "a = ['coffee','tea','milk','water']\n",
        "print(\"aは\")\n",
        "print(a)\n",
        "\n",
        "b = copy.copy(a)\n",
        "print(\"bは\")\n",
        "print(b)\n",
        "\n",
        "b[-1] = \"soda\"\n",
        "\n",
        "print(\"bは\")\n",
        "print(b)\n",
        "print(\"aは\")\n",
        "print(a)\n",
        "print(\"bのアドレスは\")\n",
        "print(id(a))\n",
        "print(\"aのアドレスは\")\n",
        "print(id(b))\n"
      ],
      "metadata": {
        "id": "nwpfLDzD2sss",
        "outputId": "df561520-5def-4b45-c1ce-2effb4e41f24",
        "colab": {
          "base_uri": "https://localhost:8080/"
        }
      },
      "execution_count": 15,
      "outputs": [
        {
          "output_type": "stream",
          "name": "stdout",
          "text": [
            "aは\n",
            "['coffee', 'tea', 'milk', 'water']\n",
            "bは\n",
            "['coffee', 'tea', 'milk', 'water']\n",
            "bは\n",
            "['coffee', 'tea', 'milk', 'soda']\n",
            "aは\n",
            "['coffee', 'tea', 'milk', 'water']\n",
            "bのアドレスは\n",
            "140279602120576\n",
            "aのアドレスは\n",
            "140279600908480\n"
          ]
        }
      ]
    },
    {
      "cell_type": "code",
      "source": [
        "a = [1,0,0,0,1]\n",
        "b = []\n",
        "for j in range(5):\n",
        "  b.append(a[0])\n",
        "  for i in range(1,4):\n",
        "    b.append((a[i-1]+a[i]+a[i+1])/3)\n",
        "  b.append(a[4])\n",
        "  a = b[:]\n",
        "  b = []\n",
        "  print(a)\n",
        "  j += 1\n",
        "#簡単な拡散方程式ごっこ\n",
        "#copyライブラリだとcopy.deepcopyを使うと2次元や3次元でもできる\n",
        "#複雑な流体計算などへ"
      ],
      "metadata": {
        "id": "4I5bBPmq3Pyv",
        "outputId": "d3a14dbc-5b32-422f-e1e4-865ef080d056",
        "colab": {
          "base_uri": "https://localhost:8080/"
        }
      },
      "execution_count": 22,
      "outputs": [
        {
          "output_type": "stream",
          "name": "stdout",
          "text": [
            "[1, 0.3333333333333333, 0.0, 0.3333333333333333, 1]\n",
            "[1, 0.4444444444444444, 0.2222222222222222, 0.4444444444444444, 1]\n",
            "[1, 0.5555555555555555, 0.3703703703703704, 0.5555555555555555, 1]\n",
            "[1, 0.6419753086419753, 0.49382716049382713, 0.6419753086419753, 1]\n",
            "[1, 0.7119341563786007, 0.5925925925925926, 0.7119341563786007, 1]\n"
          ]
        }
      ]
    },
    {
      "cell_type": "markdown",
      "source": [
        "### リストの要素の追加、削除\n",
        "\n",
        "要素の追加<br>\n",
        "\n",
        "リスト.append(値)<br>\n",
        "\n",
        "次は累算代入文で<br>\n",
        "リスト += イテラブル<br>\n",
        "リスト.extend(イテラブル)<br>\n",
        "\n",
        "次はスライスを使った要素の追加\n",
        "リスト[len(リスト):] = イテラブル<br>\n"
      ],
      "metadata": {
        "id": "khd9oVi17D_K"
      }
    },
    {
      "cell_type": "code",
      "source": [
        "drink = []\n",
        "drink.append('coffee')\n",
        "print(drink)\n",
        "drink += [\"tea\"]#知らなかった\n",
        "print(drink)\n",
        "drink.extend(['milk'])#配列でも伸ばせる\n",
        "print(drink)\n",
        "drink[len(drink):] = ['water']\n",
        "print(drink)"
      ],
      "metadata": {
        "id": "p-Kt5Ozb-V2L",
        "outputId": "8d26b7e9-1350-40b9-c09e-edd9d00d4e1f",
        "colab": {
          "base_uri": "https://localhost:8080/"
        }
      },
      "execution_count": 25,
      "outputs": [
        {
          "output_type": "stream",
          "name": "stdout",
          "text": [
            "['coffee']\n",
            "['coffee', 'tea']\n",
            "['coffee', 'tea', 'milk']\n",
            "['coffee', 'tea', 'milk', 'water']\n"
          ]
        }
      ]
    },
    {
      "cell_type": "markdown",
      "source": [
        "間違って<br>\n",
        "drink += \"tea\"<br>\n",
        "って書いたら<br>\n",
        "['coffee']<br>\n",
        "['coffee', 't', 'e', 'a']<br>\n",
        "['coffee', 't', 'e', 'a', 'milk']<br>\n",
        "['coffee', 't', 'e', 'a', 'milk', 'water']<br>\n",
        "ってなりましたよ"
      ],
      "metadata": {
        "id": "pql1gt1W-5mV"
      }
    },
    {
      "cell_type": "markdown",
      "source": [
        "リストの連結<br>\n",
        "変数 = リストA + リストB<br>\n",
        "変数 += リストB"
      ],
      "metadata": {
        "id": "KbTnDVbh_LrV"
      }
    },
    {
      "cell_type": "code",
      "source": [
        "print(drink)\n",
        "new_drink = ['soda','juice']+['cocoa','cola']\n",
        "print(new_drink)\n",
        "drink += new_drink\n",
        "print(drink)"
      ],
      "metadata": {
        "id": "DiKXviDMAXdC",
        "outputId": "30d4747c-a0ca-461b-9312-241236582397",
        "colab": {
          "base_uri": "https://localhost:8080/"
        }
      },
      "execution_count": 28,
      "outputs": [
        {
          "output_type": "stream",
          "name": "stdout",
          "text": [
            "['coffee', 'tea', 'milk', 'water']\n",
            "['soda', 'juice', 'cocoa', 'cola']\n",
            "['coffee', 'tea', 'milk', 'water', 'soda', 'juice', 'cocoa', 'cola']\n"
          ]
        }
      ]
    },
    {
      "cell_type": "markdown",
      "source": [
        "#### 要素の削除\n",
        "del リスト[インデックス]<br>\n",
        "リスト.pop[インデックス]"
      ],
      "metadata": {
        "id": "EXmIQOLsAtBl"
      }
    },
    {
      "cell_type": "code",
      "source": [
        "print(drink)\n",
        "del drink[-2]\n",
        "print(drink)\n",
        "drink.pop(2)"
      ],
      "metadata": {
        "id": "GYraKSwLA9vM",
        "outputId": "8b3a62c4-fe2d-46e1-8a63-d068743c634e",
        "colab": {
          "base_uri": "https://localhost:8080/",
          "height": 70
        }
      },
      "execution_count": 30,
      "outputs": [
        {
          "output_type": "stream",
          "name": "stdout",
          "text": [
            "['coffee', 'tea', 'milk', 'water', 'soda', 'juice', 'cocoa', 'cola']\n",
            "['coffee', 'tea', 'milk', 'water', 'soda', 'juice', 'cola']\n"
          ]
        },
        {
          "output_type": "execute_result",
          "data": {
            "application/vnd.google.colaboratory.intrinsic+json": {
              "type": "string"
            },
            "text/plain": [
              "'milk'"
            ]
          },
          "metadata": {},
          "execution_count": 30
        }
      ]
    },
    {
      "cell_type": "code",
      "source": [
        "drink"
      ],
      "metadata": {
        "id": "BFroYGLABL1l",
        "outputId": "aa9fe3f0-77d0-4f92-f138-4eed0337563b",
        "colab": {
          "base_uri": "https://localhost:8080/"
        }
      },
      "execution_count": 31,
      "outputs": [
        {
          "output_type": "execute_result",
          "data": {
            "text/plain": [
              "['coffee', 'tea', 'water', 'soda', 'juice', 'cola']"
            ]
          },
          "metadata": {},
          "execution_count": 31
        }
      ]
    },
    {
      "cell_type": "markdown",
      "source": [
        "#### 指定した要素を削除するにはremoveを使う\n",
        "リスト.remove(値)"
      ],
      "metadata": {
        "id": "rq_vPHLUBTjs"
      }
    },
    {
      "cell_type": "code",
      "source": [
        "print(drink)\n",
        "drink.remove(\"juice\")\n",
        "print(drink)"
      ],
      "metadata": {
        "id": "IWZHr997BcMk",
        "outputId": "5b3c240a-16aa-4d94-f4ec-2be76c6e3ff5",
        "colab": {
          "base_uri": "https://localhost:8080/"
        }
      },
      "execution_count": 33,
      "outputs": [
        {
          "output_type": "stream",
          "name": "stdout",
          "text": [
            "['coffee', 'tea', 'water', 'soda', 'juice', 'cola']\n",
            "['coffee', 'tea', 'water', 'soda', 'cola']\n"
          ]
        }
      ]
    },
    {
      "cell_type": "code",
      "source": [
        "drink.remove(\"wine\")"
      ],
      "metadata": {
        "id": "AvxUJ_WABn2r",
        "outputId": "bb733d95-ec65-433f-e9ef-e083fc3059cc",
        "colab": {
          "base_uri": "https://localhost:8080/",
          "height": 170
        }
      },
      "execution_count": 34,
      "outputs": [
        {
          "output_type": "error",
          "ename": "ValueError",
          "evalue": "ignored",
          "traceback": [
            "\u001b[0;31m---------------------------------------------------------------------------\u001b[0m",
            "\u001b[0;31mValueError\u001b[0m                                Traceback (most recent call last)",
            "\u001b[0;32m<ipython-input-34-d805c5bfcc3f>\u001b[0m in \u001b[0;36m<module>\u001b[0;34m()\u001b[0m\n\u001b[0;32m----> 1\u001b[0;31m \u001b[0mdrink\u001b[0m\u001b[0;34m.\u001b[0m\u001b[0mremove\u001b[0m\u001b[0;34m(\u001b[0m\u001b[0;34m\"wine\"\u001b[0m\u001b[0;34m)\u001b[0m\u001b[0;34m\u001b[0m\u001b[0;34m\u001b[0m\u001b[0m\n\u001b[0m",
            "\u001b[0;31mValueError\u001b[0m: list.remove(x): x not in list"
          ]
        }
      ]
    },
    {
      "cell_type": "code",
      "source": [
        "drink"
      ],
      "metadata": {
        "id": "EkYCrGD0Br1z",
        "outputId": "3d5ff34d-8c0a-42cd-b4d2-574d12e5e122",
        "colab": {
          "base_uri": "https://localhost:8080/"
        }
      },
      "execution_count": 35,
      "outputs": [
        {
          "output_type": "execute_result",
          "data": {
            "text/plain": [
              "['coffee', 'tea', 'water', 'soda', 'cola']"
            ]
          },
          "metadata": {},
          "execution_count": 35
        }
      ]
    }
  ]
}