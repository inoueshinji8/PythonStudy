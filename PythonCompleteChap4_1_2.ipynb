{
  "nbformat": 4,
  "nbformat_minor": 0,
  "metadata": {
    "colab": {
      "name": "PythonCompleteChap4_1_2.ipynb",
      "provenance": [],
      "authorship_tag": "ABX9TyN98KD/imHbGMv8gjb23Pl2",
      "include_colab_link": true
    },
    "kernelspec": {
      "name": "python3",
      "display_name": "Python 3"
    },
    "language_info": {
      "name": "python"
    }
  },
  "cells": [
    {
      "cell_type": "markdown",
      "metadata": {
        "id": "view-in-github",
        "colab_type": "text"
      },
      "source": [
        "<a href=\"https://colab.research.google.com/github/inoueshinji8/PythonStudy/blob/main/PythonCompleteChap4_1_2.ipynb\" target=\"_parent\"><img src=\"https://colab.research.google.com/assets/colab-badge.svg\" alt=\"Open In Colab\"/></a>"
      ]
    },
    {
      "cell_type": "markdown",
      "source": [
        "# Pythonを支える4つのデータ構造\n",
        "\n",
        "データ構造ごとにランダムアクセスに強いとか検索に強いといった特徴がある<br>\n",
        "だと！<br>\n",
        "4つのどれがそんな特徴があるからこんな時はこれ！ってなるのか<br>\n",
        "この授業でそれを得られたらいいのだが"
      ],
      "metadata": {
        "id": "W8MpeSu5xm8v"
      }
    },
    {
      "cell_type": "markdown",
      "source": [
        "## section01 複数のデータを格納するならリストを使う\n",
        "\n",
        "シーケンス(順次的)なので、インデックスやスライスが使える<br>\n",
        "数学の解析学の連続とどっちみち離散量であるコンピュータでのシーケンシャルとか<br>\n",
        "シリアライズってちょっと違うんだよなあ<br>\n",
        "昔のペロペロキャンディーが繋がった袋に入っていたのをイメージしろなんて説明を見た<br>"
      ],
      "metadata": {
        "id": "5crZo2h2yNV2"
      }
    },
    {
      "cell_type": "markdown",
      "source": [
        "###リストは[]で生成する\n",
        "[値, ....]要素が2個以上<br>\n",
        "[値]要素が1個<br>\n",
        "[]要素が0個。リストの初期化で重要<br>\n",
        "ところで自分は最初に「リストにするかどうかも分からない」変数を作る時に<br>\n",
        "予めa=\"\"とか空の文字列で強引に作り、<br>\n",
        "そこにリストを強引に代入した！a = [1,2,3]という暴挙を<br>\n",
        "特にfor文内の使い回しリストで多用する<br>\n",
        "<br>\n",
        "変数 = [値,..]で代入できる\n",
        "\n"
      ],
      "metadata": {
        "id": "CCICkv1Oy04h"
      }
    },
    {
      "cell_type": "code",
      "execution_count": null,
      "metadata": {
        "colab": {
          "base_uri": "https://localhost:8080/"
        },
        "id": "OhVZmxZWxceW",
        "outputId": "55047a95-34d0-404c-d297-ae89de42686a"
      },
      "outputs": [
        {
          "output_type": "stream",
          "name": "stdout",
          "text": [
            "['vanilla', 'chocolate', 'strawberry']\n"
          ]
        }
      ],
      "source": [
        "flavor = ['vanilla','chocolate','strawberry']\n",
        "print(flavor)"
      ]
    },
    {
      "cell_type": "code",
      "source": [
        "#Pythonのリストは自由度が高い！\n",
        "print(['one',2,3.0])"
      ],
      "metadata": {
        "colab": {
          "base_uri": "https://localhost:8080/"
        },
        "id": "ikKN-f130H6B",
        "outputId": "801feb0c-9ca1-4432-ef64-b9931c31574f"
      },
      "execution_count": null,
      "outputs": [
        {
          "output_type": "stream",
          "name": "stdout",
          "text": [
            "['one', 2, 3.0]\n"
          ]
        }
      ]
    },
    {
      "cell_type": "markdown",
      "source": [
        "list「関数」を使うと、イテラブル(繰り返し可能なオブジェクト)からリストを作成できる<br>\n",
        "list()は正確にはクラス\n",
        "list(リテラブル)"
      ],
      "metadata": {
        "id": "ntiD0jLz0fUg"
      }
    },
    {
      "cell_type": "code",
      "source": [
        "#0から9までの整数を成分とするリスト\n",
        "print([0,1,2,3,4,5,6,7,8,9])\n",
        "print(list(range(10)))"
      ],
      "metadata": {
        "colab": {
          "base_uri": "https://localhost:8080/"
        },
        "id": "4e_YrwPs0xY3",
        "outputId": "7dbed719-0caf-423d-c39f-082ad16563fb"
      },
      "execution_count": null,
      "outputs": [
        {
          "output_type": "stream",
          "name": "stdout",
          "text": [
            "[0, 1, 2, 3, 4, 5, 6, 7, 8, 9]\n",
            "[0, 1, 2, 3, 4, 5, 6, 7, 8, 9]\n"
          ]
        }
      ]
    },
    {
      "cell_type": "markdown",
      "source": [
        "AからGまでの文字を格納したリスト<br>\n",
        "これ知らなかった<br>"
      ],
      "metadata": {
        "id": "K-GOcrKS1EiH"
      }
    },
    {
      "cell_type": "code",
      "source": [
        "Alphabet = ['A','B','C','D','E','F','G']\n",
        "print(Alphabet)\n",
        "print(list('ABCDEFG'))"
      ],
      "metadata": {
        "id": "xWjUwvO-1eYA",
        "outputId": "c0b2f55c-1063-4275-e45d-e6709ed8bb3c",
        "colab": {
          "base_uri": "https://localhost:8080/"
        }
      },
      "execution_count": null,
      "outputs": [
        {
          "output_type": "stream",
          "name": "stdout",
          "text": [
            "['A', 'B', 'C', 'D', 'E', 'F', 'G']\n",
            "['A', 'B', 'C', 'D', 'E', 'F', 'G']\n"
          ]
        }
      ]
    },
    {
      "cell_type": "markdown",
      "source": [
        "### インデックスやスライスをリストに使う\n",
        "前章の文字列や後述のタプル同様に、リストにはインデックス、つまり番号指定や<br>\n",
        "一定範囲内を切り出すスライスが使える<br>\n",
        "\n",
        "リスト[インデックス]<br>\n",
        "\n",
        "リスト[開始インデックス:終了インデックス]<br>\n",
        "リスト[開始インデックス:終了インデックス:ストライド]<br>"
      ],
      "metadata": {
        "id": "dentZRGHxa8V"
      }
    },
    {
      "cell_type": "code",
      "source": [
        "drink = [\"coffee\",\"tea\",\"milk\",\"water\"]\n",
        "print(drink)"
      ],
      "metadata": {
        "id": "__E--15SyLsl",
        "outputId": "1c506655-3a10-4a5d-e495-1e354e14b38d",
        "colab": {
          "base_uri": "https://localhost:8080/"
        }
      },
      "execution_count": null,
      "outputs": [
        {
          "output_type": "stream",
          "name": "stdout",
          "text": [
            "['coffee', 'tea', 'milk', 'water']\n"
          ]
        }
      ]
    },
    {
      "cell_type": "code",
      "source": [
        "#「前から3番目」のmilkを指定する\n",
        "print(drink[2])\n",
        "print(drink[-2])"
      ],
      "metadata": {
        "id": "Lr0jocl2ye57",
        "outputId": "19cec945-ff7f-4b14-9562-c26b2ae48a64",
        "colab": {
          "base_uri": "https://localhost:8080/"
        }
      },
      "execution_count": null,
      "outputs": [
        {
          "output_type": "stream",
          "name": "stdout",
          "text": [
            "milk\n",
            "milk\n"
          ]
        }
      ]
    },
    {
      "cell_type": "code",
      "source": [
        "#一番最後をwaterに変える\n",
        "drink[-1] = \"soda\"\n",
        "print(drink)"
      ],
      "metadata": {
        "id": "-WGzcheKyvln",
        "outputId": "fb9ccaff-ead8-401e-f7e0-9eaaf38d097c",
        "colab": {
          "base_uri": "https://localhost:8080/"
        }
      },
      "execution_count": null,
      "outputs": [
        {
          "output_type": "stream",
          "name": "stdout",
          "text": [
            "['coffee', 'tea', 'milk', 'soda']\n"
          ]
        }
      ]
    },
    {
      "cell_type": "code",
      "source": [
        "#スライスでteaとmilkを指定\n",
        "print(drink[1:3])"
      ],
      "metadata": {
        "id": "NuqHa3quy9Q8",
        "outputId": "5958dd84-e79e-4aae-bede-73285900c654",
        "colab": {
          "base_uri": "https://localhost:8080/"
        }
      },
      "execution_count": null,
      "outputs": [
        {
          "output_type": "stream",
          "name": "stdout",
          "text": [
            "['tea', 'milk']\n"
          ]
        }
      ]
    },
    {
      "cell_type": "markdown",
      "source": [
        "スライスでも要素を変更できる<br>\n",
        "リスト[開始index:終了index] = イテラブル<br>\n",
        "リスト[開始index:終了index:ストライド] = イテラブル\n"
      ],
      "metadata": {
        "id": "Wq-59hq-zagZ"
      }
    },
    {
      "cell_type": "code",
      "source": [
        "print(drink)\n",
        "drink[1:3] = ['juice','milk']\n",
        "print(drink)"
      ],
      "metadata": {
        "id": "axQnQcDUzaB_",
        "outputId": "6f1e16e0-3bc4-4c47-e829-a3476e68ed96",
        "colab": {
          "base_uri": "https://localhost:8080/"
        }
      },
      "execution_count": null,
      "outputs": [
        {
          "output_type": "stream",
          "name": "stdout",
          "text": [
            "['coffee', 'tea', 'milk', 'soda']\n",
            "['coffee', 'juice', 'milk', 'soda']\n"
          ]
        }
      ]
    },
    {
      "cell_type": "markdown",
      "source": [
        "##だが後述のように、迂闊な代入は危ない！"
      ],
      "metadata": {
        "id": "whWv4ae90N7m"
      }
    },
    {
      "cell_type": "markdown",
      "source": [
        "###リストの代入に注意\n",
        "リストを = でコピーすると同じオブジェクトを指す別の変数が出来るだけ！<br>\n",
        "だから1つ変えると全部変わる！<br>"
      ],
      "metadata": {
        "id": "EFiExnjL0VZN"
      }
    },
    {
      "cell_type": "code",
      "source": [
        "a = ['coffee','tea','milk','water']\n",
        "print(\"aは\")\n",
        "print(a)\n",
        "\n",
        "b = a\n",
        "b[-1] = \"soda\"\n",
        "print(\"bは\")\n",
        "print(b)\n",
        "\n",
        "print(\"aは\" + str(a))"
      ],
      "metadata": {
        "id": "8esHGsZK0UaM",
        "outputId": "783f7b03-ccc5-460e-b239-f0d9b59989da",
        "colab": {
          "base_uri": "https://localhost:8080/"
        }
      },
      "execution_count": null,
      "outputs": [
        {
          "output_type": "stream",
          "name": "stdout",
          "text": [
            "aは\n",
            "['coffee', 'tea', 'milk', 'water']\n",
            "bは\n",
            "['coffee', 'tea', 'milk', 'soda']\n",
            "aは['coffee', 'tea', 'milk', 'soda']\n"
          ]
        }
      ]
    },
    {
      "cell_type": "markdown",
      "source": [
        "# コピー元まで変わってしまった！これは怖い！"
      ],
      "metadata": {
        "id": "fxMwmYlE1aBe"
      }
    },
    {
      "cell_type": "code",
      "source": [
        "print(id(a))\n",
        "print(id(b))\n",
        "#同じものを指している"
      ],
      "metadata": {
        "id": "b6kOa2O31fpt",
        "outputId": "9b05bf7f-cf01-4b7f-d451-11150b3b437c",
        "colab": {
          "base_uri": "https://localhost:8080/"
        }
      },
      "execution_count": null,
      "outputs": [
        {
          "output_type": "stream",
          "name": "stdout",
          "text": [
            "140294315341696\n",
            "140294315341696\n"
          ]
        }
      ]
    },
    {
      "cell_type": "markdown",
      "source": [
        "###ここで、スライスa[:]だと別オブジェクトにコピーされるというんだな\n",
        "でも怖い\n",
        "\n",
        "###自分はimport copyを使いたがる傾向"
      ],
      "metadata": {
        "id": "Y5t6SxCH1vSW"
      }
    },
    {
      "cell_type": "code",
      "source": [
        "a = ['coffee','tea','milk','water']\n",
        "print(\"aは\")\n",
        "print(a)\n",
        "\n",
        "b = a[:]\n",
        "print(\"bは\")\n",
        "print(b)\n",
        "\n",
        "b[-1] = \"soda\"\n",
        "\n",
        "print(\"bは\")\n",
        "print(b)\n",
        "print(\"aは\")\n",
        "print(a)\n",
        "print(\"bのアドレスは\")\n",
        "print(id(a))\n",
        "print(\"aのアドレスは\")\n",
        "print(id(b))"
      ],
      "metadata": {
        "id": "XYKPMTNa2GrW",
        "outputId": "fe9af416-35dc-4652-efd4-fe6f517052bc",
        "colab": {
          "base_uri": "https://localhost:8080/"
        }
      },
      "execution_count": null,
      "outputs": [
        {
          "output_type": "stream",
          "name": "stdout",
          "text": [
            "aは\n",
            "['coffee', 'tea', 'milk', 'water']\n",
            "bは\n",
            "['coffee', 'tea', 'milk', 'water']\n",
            "bは\n",
            "['coffee', 'tea', 'milk', 'soda']\n",
            "aは\n",
            "['coffee', 'tea', 'milk', 'water']\n",
            "bのアドレスは\n",
            "140294315275680\n",
            "aのアドレスは\n",
            "140294315275920\n"
          ]
        }
      ]
    },
    {
      "cell_type": "markdown",
      "source": [
        "ちゃんと別のアドレスに格納された"
      ],
      "metadata": {
        "id": "iWaGMs9i2qTH"
      }
    },
    {
      "cell_type": "code",
      "source": [
        "import copy\n",
        "a = ['coffee','tea','milk','water']\n",
        "print(\"aは\")\n",
        "print(a)\n",
        "\n",
        "b = copy.copy(a)\n",
        "print(\"bは\")\n",
        "print(b)\n",
        "\n",
        "b[-1] = \"soda\"\n",
        "\n",
        "print(\"bは\")\n",
        "print(b)\n",
        "print(\"aは\")\n",
        "print(a)\n",
        "print(\"bのアドレスは\")\n",
        "print(id(a))\n",
        "print(\"aのアドレスは\")\n",
        "print(id(b))\n"
      ],
      "metadata": {
        "id": "nwpfLDzD2sss",
        "outputId": "b2666362-44e3-4787-951c-cd8d56370198",
        "colab": {
          "base_uri": "https://localhost:8080/"
        }
      },
      "execution_count": null,
      "outputs": [
        {
          "output_type": "stream",
          "name": "stdout",
          "text": [
            "aは\n",
            "['coffee', 'tea', 'milk', 'water']\n",
            "bは\n",
            "['coffee', 'tea', 'milk', 'water']\n",
            "bは\n",
            "['coffee', 'tea', 'milk', 'soda']\n",
            "aは\n",
            "['coffee', 'tea', 'milk', 'water']\n",
            "bのアドレスは\n",
            "140294245718848\n",
            "aのアドレスは\n",
            "140294338784064\n"
          ]
        }
      ]
    },
    {
      "cell_type": "code",
      "source": [
        "a = [1,0,0,0,1]\n",
        "b = []\n",
        "for j in range(5):\n",
        "  b.append(a[0])\n",
        "  for i in range(1,4):\n",
        "    b.append((a[i-1]+a[i]+a[i+1])/3)\n",
        "  b.append(a[4])\n",
        "  a = b[:]\n",
        "  b = []\n",
        "  print(a)\n",
        "  j += 1\n",
        "#簡単な拡散方程式ごっこ\n",
        "#copyライブラリだとcopy.deepcopyを使うと2次元や3次元でもできる\n",
        "#複雑な流体計算などへ"
      ],
      "metadata": {
        "id": "4I5bBPmq3Pyv",
        "outputId": "d3a14dbc-5b32-422f-e1e4-865ef080d056",
        "colab": {
          "base_uri": "https://localhost:8080/"
        }
      },
      "execution_count": null,
      "outputs": [
        {
          "output_type": "stream",
          "name": "stdout",
          "text": [
            "[1, 0.3333333333333333, 0.0, 0.3333333333333333, 1]\n",
            "[1, 0.4444444444444444, 0.2222222222222222, 0.4444444444444444, 1]\n",
            "[1, 0.5555555555555555, 0.3703703703703704, 0.5555555555555555, 1]\n",
            "[1, 0.6419753086419753, 0.49382716049382713, 0.6419753086419753, 1]\n",
            "[1, 0.7119341563786007, 0.5925925925925926, 0.7119341563786007, 1]\n"
          ]
        }
      ]
    },
    {
      "cell_type": "markdown",
      "source": [
        "### リストの要素の追加、削除\n",
        "\n",
        "要素の追加<br>\n",
        "\n",
        "リスト.append(値)<br>\n",
        "\n",
        "次は累算代入文で<br>\n",
        "リスト += イテラブル<br>\n",
        "リスト.extend(イテラブル)<br>\n",
        "\n",
        "次はスライスを使った要素の追加\n",
        "リスト[len(リスト):] = イテラブル<br>\n"
      ],
      "metadata": {
        "id": "khd9oVi17D_K"
      }
    },
    {
      "cell_type": "code",
      "source": [
        "drink = []\n",
        "drink.append('coffee')\n",
        "print(drink)\n",
        "drink += [\"tea\"]#知らなかった\n",
        "print(drink)\n",
        "drink.extend(['milk'])#配列でも伸ばせる\n",
        "print(drink)\n",
        "drink[len(drink):] = ['water']\n",
        "print(drink)"
      ],
      "metadata": {
        "id": "p-Kt5Ozb-V2L",
        "outputId": "5a42b38f-9e2b-45e9-f093-46ab0a9722fd",
        "colab": {
          "base_uri": "https://localhost:8080/"
        }
      },
      "execution_count": null,
      "outputs": [
        {
          "output_type": "stream",
          "name": "stdout",
          "text": [
            "['coffee']\n",
            "['coffee', 'tea']\n",
            "['coffee', 'tea', 'milk']\n",
            "['coffee', 'tea', 'milk', 'water']\n"
          ]
        }
      ]
    },
    {
      "cell_type": "markdown",
      "source": [
        "間違って<br>\n",
        "drink += \"tea\"<br>\n",
        "って書いたら<br>\n",
        "['coffee']<br>\n",
        "['coffee', 't', 'e', 'a']<br>\n",
        "['coffee', 't', 'e', 'a', 'milk']<br>\n",
        "['coffee', 't', 'e', 'a', 'milk', 'water']<br>\n",
        "ってなりましたよ"
      ],
      "metadata": {
        "id": "pql1gt1W-5mV"
      }
    },
    {
      "cell_type": "markdown",
      "source": [
        "リストの連結<br>\n",
        "変数 = リストA + リストB<br>\n",
        "変数 += リストB"
      ],
      "metadata": {
        "id": "KbTnDVbh_LrV"
      }
    },
    {
      "cell_type": "code",
      "source": [
        "print(drink)\n",
        "new_drink = ['soda','juice']+['cocoa','cola']\n",
        "print(new_drink)\n",
        "drink += new_drink\n",
        "print(drink)"
      ],
      "metadata": {
        "id": "DiKXviDMAXdC",
        "outputId": "72499103-1b25-44ee-8ad5-5c0a5d04c228",
        "colab": {
          "base_uri": "https://localhost:8080/"
        }
      },
      "execution_count": null,
      "outputs": [
        {
          "output_type": "stream",
          "name": "stdout",
          "text": [
            "['coffee', 'tea', 'milk', 'water']\n",
            "['soda', 'juice', 'cocoa', 'cola']\n",
            "['coffee', 'tea', 'milk', 'water', 'soda', 'juice', 'cocoa', 'cola']\n"
          ]
        }
      ]
    },
    {
      "cell_type": "markdown",
      "source": [
        "#### 要素の削除\n",
        "del リスト[インデックス]<br>\n",
        "リスト.pop[インデックス]"
      ],
      "metadata": {
        "id": "EXmIQOLsAtBl"
      }
    },
    {
      "cell_type": "code",
      "source": [
        "print(drink)\n",
        "del drink[-2]\n",
        "print(drink)\n",
        "drink.pop(2)"
      ],
      "metadata": {
        "id": "GYraKSwLA9vM",
        "outputId": "d90bb4ab-e060-4436-ac45-6e8607dd0a09",
        "colab": {
          "base_uri": "https://localhost:8080/",
          "height": 70
        }
      },
      "execution_count": null,
      "outputs": [
        {
          "output_type": "stream",
          "name": "stdout",
          "text": [
            "['coffee', 'tea', 'milk', 'water', 'soda', 'juice', 'cocoa', 'cola']\n",
            "['coffee', 'tea', 'milk', 'water', 'soda', 'juice', 'cola']\n"
          ]
        },
        {
          "output_type": "execute_result",
          "data": {
            "application/vnd.google.colaboratory.intrinsic+json": {
              "type": "string"
            },
            "text/plain": [
              "'milk'"
            ]
          },
          "metadata": {},
          "execution_count": 16
        }
      ]
    },
    {
      "cell_type": "code",
      "source": [
        "drink"
      ],
      "metadata": {
        "id": "BFroYGLABL1l",
        "outputId": "922a44fb-565d-4de8-bb5a-f95cae4ac853",
        "colab": {
          "base_uri": "https://localhost:8080/"
        }
      },
      "execution_count": null,
      "outputs": [
        {
          "output_type": "execute_result",
          "data": {
            "text/plain": [
              "['coffee', 'tea', 'water', 'soda', 'juice', 'cola']"
            ]
          },
          "metadata": {},
          "execution_count": 17
        }
      ]
    },
    {
      "cell_type": "markdown",
      "source": [
        "#### 指定した要素を削除するにはremoveを使う\n",
        "リスト.remove(値)"
      ],
      "metadata": {
        "id": "rq_vPHLUBTjs"
      }
    },
    {
      "cell_type": "code",
      "source": [
        "print(drink)\n",
        "drink.remove(\"juice\")\n",
        "print(drink)"
      ],
      "metadata": {
        "id": "IWZHr997BcMk",
        "outputId": "0674d682-4fbf-4f4d-bb19-6c8b8c57e98c",
        "colab": {
          "base_uri": "https://localhost:8080/"
        }
      },
      "execution_count": null,
      "outputs": [
        {
          "output_type": "stream",
          "name": "stdout",
          "text": [
            "['coffee', 'tea', 'water', 'soda', 'juice', 'cola']\n",
            "['coffee', 'tea', 'water', 'soda', 'cola']\n"
          ]
        }
      ]
    },
    {
      "cell_type": "code",
      "source": [
        "drink.remove(\"wine\")"
      ],
      "metadata": {
        "id": "AvxUJ_WABn2r",
        "outputId": "bb733d95-ec65-433f-e9ef-e083fc3059cc",
        "colab": {
          "base_uri": "https://localhost:8080/",
          "height": 170
        }
      },
      "execution_count": null,
      "outputs": [
        {
          "output_type": "error",
          "ename": "ValueError",
          "evalue": "ignored",
          "traceback": [
            "\u001b[0;31m---------------------------------------------------------------------------\u001b[0m",
            "\u001b[0;31mValueError\u001b[0m                                Traceback (most recent call last)",
            "\u001b[0;32m<ipython-input-34-d805c5bfcc3f>\u001b[0m in \u001b[0;36m<module>\u001b[0;34m()\u001b[0m\n\u001b[0;32m----> 1\u001b[0;31m \u001b[0mdrink\u001b[0m\u001b[0;34m.\u001b[0m\u001b[0mremove\u001b[0m\u001b[0;34m(\u001b[0m\u001b[0;34m\"wine\"\u001b[0m\u001b[0;34m)\u001b[0m\u001b[0;34m\u001b[0m\u001b[0;34m\u001b[0m\u001b[0m\n\u001b[0m",
            "\u001b[0;31mValueError\u001b[0m: list.remove(x): x not in list"
          ]
        }
      ]
    },
    {
      "cell_type": "code",
      "source": [
        "drink"
      ],
      "metadata": {
        "id": "EkYCrGD0Br1z",
        "outputId": "c95948cd-4e56-4f37-b11c-de34d45b251d",
        "colab": {
          "base_uri": "https://localhost:8080/"
        }
      },
      "execution_count": null,
      "outputs": [
        {
          "output_type": "execute_result",
          "data": {
            "text/plain": [
              "['coffee', 'tea', 'water', 'soda', 'cola']"
            ]
          },
          "metadata": {},
          "execution_count": 19
        }
      ]
    },
    {
      "cell_type": "markdown",
      "source": [
        "#### 指定した範囲の要素を削除する\n",
        "del リスト[開始インデックス:終了インデックス]<br>\n",
        "あるいは<br>\n",
        "リスト[開始インデックス:終了インデックス] = []<br>\n",
        "で消える"
      ],
      "metadata": {
        "id": "YAX2CetWuK2-"
      }
    },
    {
      "cell_type": "code",
      "source": [
        "print(drink)\n",
        "del drink[2:4]\n",
        "print(drink)\n",
        "drink[1:] = []\n",
        "print(drink)"
      ],
      "metadata": {
        "id": "hFZjPDiCufY-",
        "outputId": "97655196-83d0-4149-a5d8-8fe0bea313fd",
        "colab": {
          "base_uri": "https://localhost:8080/"
        }
      },
      "execution_count": null,
      "outputs": [
        {
          "output_type": "stream",
          "name": "stdout",
          "text": [
            "['coffee', 'tea', 'water', 'soda', 'cola']\n",
            "['coffee', 'tea', 'cola']\n",
            "['coffee']\n"
          ]
        }
      ]
    },
    {
      "cell_type": "markdown",
      "source": [
        "####要素をリストの途中に挿入する\n",
        "リスト.insert(インデックス, 値)<br>\n",
        "リスト[開始インデックス:終了インデックス] = イテラブル"
      ],
      "metadata": {
        "id": "IIudSRVJuvGe"
      }
    },
    {
      "cell_type": "code",
      "source": [
        "print(drink)\n",
        "drink.insert(0,\"tea\")\n",
        "print(drink)\n",
        "drink[1:1] = ['milk','water']#これが分かりにくい\n",
        "print(drink)"
      ],
      "metadata": {
        "id": "d7QM3ysTvCP2",
        "outputId": "69e186c7-9b74-41ee-fb69-0063d0c38e3e",
        "colab": {
          "base_uri": "https://localhost:8080/"
        }
      },
      "execution_count": null,
      "outputs": [
        {
          "output_type": "stream",
          "name": "stdout",
          "text": [
            "['coffee']\n",
            "['tea', 'coffee']\n",
            "['tea', 'milk', 'water', 'coffee']\n"
          ]
        }
      ]
    },
    {
      "cell_type": "markdown",
      "source": [
        "#### リストからすべての要素を削除\n",
        "リスト.clear()<br>\n",
        "リスト = []"
      ],
      "metadata": {
        "id": "GC2hJ54TveSH"
      }
    },
    {
      "cell_type": "code",
      "source": [
        "print(drink)\n",
        "drink.clear()\n",
        "print(drink)"
      ],
      "metadata": {
        "id": "XHDsfACOvrnN",
        "outputId": "bcceb503-5a7c-439c-acdd-172caf4ba2ab",
        "colab": {
          "base_uri": "https://localhost:8080/"
        }
      },
      "execution_count": null,
      "outputs": [
        {
          "output_type": "stream",
          "name": "stdout",
          "text": [
            "['tea', 'milk', 'water', 'coffee']\n",
            "[]\n"
          ]
        }
      ]
    },
    {
      "cell_type": "markdown",
      "source": [
        "### 文字列とリストの自由な行き来\n",
        "\n",
        "#### 文字列をリストに変換\n",
        "文字列.split(デリミタ)"
      ],
      "metadata": {
        "id": "sLfsHESzvw42"
      }
    },
    {
      "cell_type": "code",
      "source": [
        "menu = 'berger,potato,shake'.split(',')#ここで隙間開けたらそのまま配列成分に隙間が入ってしまった\n",
        "print(menu)"
      ],
      "metadata": {
        "id": "1osiQSy7v-KW",
        "outputId": "f482af2e-799e-4413-c7ce-59e25fc609c5",
        "colab": {
          "base_uri": "https://localhost:8080/"
        }
      },
      "execution_count": null,
      "outputs": [
        {
          "output_type": "stream",
          "name": "stdout",
          "text": [
            "['berger', 'potato', 'shake']\n"
          ]
        }
      ]
    },
    {
      "cell_type": "markdown",
      "source": [
        "#### リストを文字列に変換\n",
        "デリミタ.join(イテラブル)"
      ],
      "metadata": {
        "id": "x3-fVBday4kY"
      }
    },
    {
      "cell_type": "code",
      "source": [
        "print(','.join(menu))\n",
        "'::'.join(menu)"
      ],
      "metadata": {
        "id": "3MzC5WA0zOPs",
        "outputId": "66cc752f-cac9-4044-dabb-ce4d1cfb69b6",
        "colab": {
          "base_uri": "https://localhost:8080/",
          "height": 53
        }
      },
      "execution_count": null,
      "outputs": [
        {
          "output_type": "stream",
          "name": "stdout",
          "text": [
            "berger,potato,shake\n"
          ]
        },
        {
          "output_type": "execute_result",
          "data": {
            "application/vnd.google.colaboratory.intrinsic+json": {
              "type": "string"
            },
            "text/plain": [
              "'berger::potato::shake'"
            ]
          },
          "metadata": {},
          "execution_count": 28
        }
      ]
    },
    {
      "cell_type": "markdown",
      "source": [
        "### まだまだある便利なリスト操作\n",
        "len(リスト)<br>\n",
        "タプルも、集合{}も、辞書にも使える"
      ],
      "metadata": {
        "id": "vHRJ8Xj9zirY"
      }
    },
    {
      "cell_type": "code",
      "source": [
        "menu = ['berger', 'potato', 'shake']\n",
        "len(menu)"
      ],
      "metadata": {
        "id": "ecC-H9p2zhvQ",
        "outputId": "36edc1d2-066f-4064-baeb-3119d97f82ee",
        "colab": {
          "base_uri": "https://localhost:8080/"
        }
      },
      "execution_count": null,
      "outputs": [
        {
          "output_type": "execute_result",
          "data": {
            "text/plain": [
              "3"
            ]
          },
          "metadata": {},
          "execution_count": 29
        }
      ]
    },
    {
      "cell_type": "markdown",
      "source": [
        "*演算子を使うと、リストの要素を複製できる<br>\n",
        "複製というか、繰り返しじゃないかなあ？<br>\n",
        "リスト*整数<br>\n",
        "整数*リスト"
      ],
      "metadata": {
        "id": "lxG-VmjX0GsR"
      }
    },
    {
      "cell_type": "code",
      "source": [
        "menu = ['berger', 'potato', 'shake']\n",
        "print(menu*2)\n",
        "print(menu*0)\n",
        "print(menu)\n",
        "print(menu*-1)"
      ],
      "metadata": {
        "id": "qSxC0QhE0SmB",
        "outputId": "fc0a685a-2a54-48ab-f7fb-0db42746b1bf",
        "colab": {
          "base_uri": "https://localhost:8080/"
        }
      },
      "execution_count": null,
      "outputs": [
        {
          "output_type": "stream",
          "name": "stdout",
          "text": [
            "['berger', 'potato', 'shake', 'berger', 'potato', 'shake']\n",
            "[]\n",
            "['berger', 'potato', 'shake']\n",
            "[]\n"
          ]
        }
      ]
    },
    {
      "cell_type": "code",
      "source": [
        "#リストが変数に代入されている時は累算代入文も使える\n",
        "menu = ['berger', 'potato', 'shake']\n",
        "menu *= 2\n",
        "print(menu)"
      ],
      "metadata": {
        "id": "hNzMPes80ua6",
        "outputId": "c18bf381-0667-4f73-e0bd-b14564ff5eff",
        "colab": {
          "base_uri": "https://localhost:8080/"
        }
      },
      "execution_count": null,
      "outputs": [
        {
          "output_type": "stream",
          "name": "stdout",
          "text": [
            "['berger', 'potato', 'shake', 'berger', 'potato', 'shake']\n"
          ]
        }
      ]
    },
    {
      "cell_type": "markdown",
      "source": [
        "###リスト内にある、指定した要素の個数を数える\n",
        "リスト.count(値)\n"
      ],
      "metadata": {
        "id": "L0aBbxdf1iba"
      }
    },
    {
      "cell_type": "code",
      "source": [
        "print(menu)\n",
        "print(menu.count(\"potato\"))\n",
        "menu.count(\"nugget\")"
      ],
      "metadata": {
        "id": "9MOUNbyz1sbp",
        "outputId": "c5054e1b-cc36-4912-97d9-d592109cbbb5",
        "colab": {
          "base_uri": "https://localhost:8080/"
        }
      },
      "execution_count": null,
      "outputs": [
        {
          "output_type": "stream",
          "name": "stdout",
          "text": [
            "['berger', 'potato', 'shake', 'berger', 'potato', 'shake']\n",
            "2\n"
          ]
        },
        {
          "output_type": "execute_result",
          "data": {
            "text/plain": [
              "0"
            ]
          },
          "metadata": {},
          "execution_count": 37
        }
      ]
    },
    {
      "cell_type": "markdown",
      "source": [
        "#### indexメソッドで指定した値を要素とする最初のインデックスが分かる\n",
        "一致要素が無いとエラー発生<br>\n",
        "リスト.index(値)\n",
        "\n",
        "開始位置を指定して要素のインデックス取得<br>\n",
        "リスト.index(値, 開始インデックス)\n",
        "\n",
        "更に終了インデックスも指定<br>\n",
        "リスト.index(値, 開始インデックス, 終了インデックス)"
      ],
      "metadata": {
        "id": "OetWYX9f1-hS"
      }
    },
    {
      "cell_type": "code",
      "source": [
        "print(menu)\n",
        "print(menu.index('shake'))\n",
        "print(menu.index('shake', 3))"
      ],
      "metadata": {
        "id": "vEZ0zAy82Niy",
        "outputId": "b85decbb-89b8-404b-99fc-0b3504392305",
        "colab": {
          "base_uri": "https://localhost:8080/"
        }
      },
      "execution_count": null,
      "outputs": [
        {
          "output_type": "stream",
          "name": "stdout",
          "text": [
            "['berger', 'potato', 'shake', 'berger', 'potato', 'shake']\n",
            "2\n",
            "5\n"
          ]
        }
      ]
    },
    {
      "cell_type": "markdown",
      "source": [
        "####リストをソートする\n",
        "リスト.sort()\n",
        "\n",
        "逆順ソート<br>\n",
        "リスト.sort(reverse = True)\n",
        "ここでリストはソートされた順番で固定されてしまう！"
      ],
      "metadata": {
        "id": "Az93aA4U3YaM"
      }
    },
    {
      "cell_type": "code",
      "source": [
        "#危ないし面倒なのでmenu1って別リスト作る\n",
        "menu1 = ['berger', 'potato', 'shake', 'berger', 'potato', 'shake']\n",
        "print(menu1)\n",
        "menu1.sort()\n",
        "print(menu1)\n",
        "menu1.sort(reverse = True)\n",
        "print(menu1)"
      ],
      "metadata": {
        "id": "JTZPqgv53n2T",
        "outputId": "11f33366-174c-4151-fdcd-4cbb7251c484",
        "colab": {
          "base_uri": "https://localhost:8080/"
        }
      },
      "execution_count": null,
      "outputs": [
        {
          "output_type": "stream",
          "name": "stdout",
          "text": [
            "['berger', 'potato', 'shake', 'berger', 'potato', 'shake']\n",
            "['berger', 'berger', 'potato', 'potato', 'shake', 'shake']\n",
            "['shake', 'shake', 'potato', 'potato', 'berger', 'berger']\n"
          ]
        }
      ]
    },
    {
      "cell_type": "markdown",
      "source": [
        "####非破壊的にソートするならsorted関数を使う\n",
        "\n",
        "sorted(リスト)\n",
        "\n",
        "逆順ソート\n",
        "sorted(リスト, reverse = True) ここでリストは元のものが残る"
      ],
      "metadata": {
        "id": "YJQC0TWz3-6a"
      }
    },
    {
      "cell_type": "code",
      "source": [
        "menu = ['berger', 'potato', 'shake', 'berger', 'potato', 'shake']\n",
        "print(menu)\n",
        "print(sorted(menu))\n",
        "print(sorted(menu, reverse = True))\n",
        "print(menu)\n",
        "#戻り値を他の配列に代入しよう"
      ],
      "metadata": {
        "id": "kqQpy7V-4OYM",
        "outputId": "4867b6c6-456f-42d7-c699-f2db66e6a164",
        "colab": {
          "base_uri": "https://localhost:8080/"
        }
      },
      "execution_count": null,
      "outputs": [
        {
          "output_type": "stream",
          "name": "stdout",
          "text": [
            "['berger', 'potato', 'shake', 'berger', 'potato', 'shake']\n",
            "['berger', 'berger', 'potato', 'potato', 'shake', 'shake']\n",
            "['shake', 'shake', 'potato', 'potato', 'berger', 'berger']\n",
            "['berger', 'potato', 'shake', 'berger', 'potato', 'shake']\n"
          ]
        }
      ]
    },
    {
      "cell_type": "markdown",
      "source": [
        "####最大要素、最小要素をmaxとminで取得"
      ],
      "metadata": {
        "id": "FuZ4mZuK4-WU"
      }
    },
    {
      "cell_type": "code",
      "source": [
        "print(max(menu))\n",
        "print(min(menu))"
      ],
      "metadata": {
        "id": "fParF8QJ5E8D",
        "outputId": "f46ed298-0e7f-41ba-f76d-e469ffb0ab07",
        "colab": {
          "base_uri": "https://localhost:8080/"
        }
      },
      "execution_count": null,
      "outputs": [
        {
          "output_type": "stream",
          "name": "stdout",
          "text": [
            "shake\n",
            "berger\n"
          ]
        }
      ]
    },
    {
      "cell_type": "markdown",
      "source": [
        "これらをラムダ式と組み合わせるともっと便利、だと？"
      ],
      "metadata": {
        "id": "KX2K0VwI5Mxr"
      }
    },
    {
      "cell_type": "markdown",
      "source": [
        "## section02 データをタプルで手軽に纏める\n",
        "シーケンスでインデックスやスライスが使えるのはリストと同じ<br>\n",
        "だがイミュータブル、つまり要素の変更・追加・削除ができない\n",
        "\n",
        "集合の値や辞書のキーはイミュータブルなのが良いので<br>\n",
        "タプルがお薦め、らしいのだが"
      ],
      "metadata": {
        "id": "yshVdGLb5WsM"
      }
    },
    {
      "cell_type": "markdown",
      "source": [
        "###タプルは丸かっこで作成する\n",
        "\n",
        "(値, ...)<br>\n",
        "(値,)値が1個の時(最初のexifの問題でこれだった)<br>\n",
        "()値が0個のとき、あるいは空のタプル"
      ],
      "metadata": {
        "id": "ZN5Z7dX09app"
      }
    },
    {
      "cell_type": "code",
      "source": [
        "(\"berger\", 110)"
      ],
      "metadata": {
        "id": "TgZhgiY-5TE5",
        "outputId": "50dc11b8-b4a6-4b90-fb50-7078d0d73fb4",
        "colab": {
          "base_uri": "https://localhost:8080/"
        }
      },
      "execution_count": null,
      "outputs": [
        {
          "output_type": "execute_result",
          "data": {
            "text/plain": [
              "('berger', 110)"
            ]
          },
          "metadata": {},
          "execution_count": 43
        }
      ]
    },
    {
      "cell_type": "markdown",
      "source": [
        "####タプルの丸かっこは省略可能"
      ],
      "metadata": {
        "id": "PHD2qmOs98MO"
      }
    },
    {
      "cell_type": "code",
      "source": [
        "\"potato\", 150"
      ],
      "metadata": {
        "id": "LI4gXOiw-BvW",
        "outputId": "44dc0015-4350-47ca-bcfc-6283f723c954",
        "colab": {
          "base_uri": "https://localhost:8080/"
        }
      },
      "execution_count": null,
      "outputs": [
        {
          "output_type": "execute_result",
          "data": {
            "text/plain": [
              "('potato', 150)"
            ]
          },
          "metadata": {},
          "execution_count": 44
        }
      ]
    },
    {
      "cell_type": "code",
      "source": [
        "#print文の時はかっこを内側にも付けるように注意！\n",
        "print(\"potato\", 150)\n",
        "print((\"potato\", 150))"
      ],
      "metadata": {
        "id": "4C4kGtPI-G-l",
        "outputId": "621ea18a-50d6-4f7b-f287-75c0fc6104f8",
        "colab": {
          "base_uri": "https://localhost:8080/"
        }
      },
      "execution_count": null,
      "outputs": [
        {
          "output_type": "stream",
          "name": "stdout",
          "text": [
            "potato 150\n",
            "('potato', 150)\n"
          ]
        }
      ]
    },
    {
      "cell_type": "code",
      "source": [
        "#代入は変数と=で結べばよい\n",
        "food = \"nugget\", 200\n",
        "print(food)"
      ],
      "metadata": {
        "id": "dF9yXvOR-Vf1",
        "outputId": "e0324293-a584-4ca8-e1cc-01455750c035",
        "colab": {
          "base_uri": "https://localhost:8080/"
        }
      },
      "execution_count": null,
      "outputs": [
        {
          "output_type": "stream",
          "name": "stdout",
          "text": [
            "('nugget', 200)\n"
          ]
        }
      ]
    },
    {
      "cell_type": "markdown",
      "source": [
        "#### tuple()関数を使うと、イテラブルからタプルを作成できる\n",
        "list()関数と同じ\n",
        "tuple(イテラブル)"
      ],
      "metadata": {
        "id": "_rneGJry-3C0"
      }
    },
    {
      "cell_type": "code",
      "source": [
        "tuple(range(10))"
      ],
      "metadata": {
        "id": "e7LU_2Wb_FdN",
        "outputId": "31a31bd0-4ea5-42d1-fe3e-b93299c0bcd2",
        "colab": {
          "base_uri": "https://localhost:8080/"
        }
      },
      "execution_count": null,
      "outputs": [
        {
          "output_type": "execute_result",
          "data": {
            "text/plain": [
              "(0, 1, 2, 3, 4, 5, 6, 7, 8, 9)"
            ]
          },
          "metadata": {},
          "execution_count": 47
        }
      ]
    },
    {
      "cell_type": "markdown",
      "source": [
        "###インデックスとスライスはタプルにも使える\n",
        "イミュータブルなのでもちろん表示するときだけだが<br>"
      ],
      "metadata": {
        "id": "F7MuAW7D_KsF"
      }
    },
    {
      "cell_type": "code",
      "source": [
        "food = 'burger',100,234.5\n",
        "food"
      ],
      "metadata": {
        "id": "fyFeCYajl-D-",
        "outputId": "e8fb3caf-64fd-49c8-ff81-c18891d2f0fc",
        "colab": {
          "base_uri": "https://localhost:8080/"
        }
      },
      "execution_count": null,
      "outputs": [
        {
          "output_type": "execute_result",
          "data": {
            "text/plain": [
              "('burger', 100, 234.5)"
            ]
          },
          "metadata": {},
          "execution_count": 1
        }
      ]
    },
    {
      "cell_type": "code",
      "source": [
        "print(food[0])\n",
        "print(food[1])\n",
        "print(food[2])\n",
        "print(food[-1])\n",
        "print(food[-2])\n",
        "print(food[-3])"
      ],
      "metadata": {
        "id": "GujGVNecmLcM",
        "outputId": "bb367a9b-3286-4661-91f0-df04ed3755d9",
        "colab": {
          "base_uri": "https://localhost:8080/"
        }
      },
      "execution_count": null,
      "outputs": [
        {
          "output_type": "stream",
          "name": "stdout",
          "text": [
            "burger\n",
            "100\n",
            "234.5\n",
            "234.5\n",
            "100\n",
            "burger\n"
          ]
        }
      ]
    },
    {
      "cell_type": "code",
      "source": [
        "#スライスで商品名と価格、価格とカロリーを取り出す\n",
        "print(food[:2])\n",
        "print(food[1:])"
      ],
      "metadata": {
        "id": "S0ddwIN-mra9",
        "outputId": "8b192518-9bc2-47d8-b888-accd50ad57c9",
        "colab": {
          "base_uri": "https://localhost:8080/"
        }
      },
      "execution_count": null,
      "outputs": [
        {
          "output_type": "stream",
          "name": "stdout",
          "text": [
            "('burger', 100)\n",
            "(100, 234.5)\n"
          ]
        }
      ]
    },
    {
      "cell_type": "markdown",
      "source": [
        "#### タプルはイミュータブルなので変更できない"
      ],
      "metadata": {
        "id": "ssYKGhc9nAkt"
      }
    },
    {
      "cell_type": "code",
      "source": [
        "food[1] = 100"
      ],
      "metadata": {
        "id": "EaeW49EenI2V",
        "outputId": "ff8ff333-5536-4eed-a900-40dd54ec608e",
        "colab": {
          "base_uri": "https://localhost:8080/",
          "height": 170
        }
      },
      "execution_count": null,
      "outputs": [
        {
          "output_type": "error",
          "ename": "TypeError",
          "evalue": "ignored",
          "traceback": [
            "\u001b[0;31m---------------------------------------------------------------------------\u001b[0m",
            "\u001b[0;31mTypeError\u001b[0m                                 Traceback (most recent call last)",
            "\u001b[0;32m<ipython-input-4-d44389ab009d>\u001b[0m in \u001b[0;36m<module>\u001b[0;34m()\u001b[0m\n\u001b[0;32m----> 1\u001b[0;31m \u001b[0mfood\u001b[0m\u001b[0;34m[\u001b[0m\u001b[0;36m1\u001b[0m\u001b[0;34m]\u001b[0m \u001b[0;34m=\u001b[0m \u001b[0;36m100\u001b[0m\u001b[0;34m\u001b[0m\u001b[0;34m\u001b[0m\u001b[0m\n\u001b[0m",
            "\u001b[0;31mTypeError\u001b[0m: 'tuple' object does not support item assignment"
          ]
        }
      ]
    },
    {
      "cell_type": "markdown",
      "source": [
        "どうせなら何もかも書き直す心算でやる<br>\n",
        "その時、同じ名前だが別オブジェクトになる"
      ],
      "metadata": {
        "id": "rOs2GjUVnRJF"
      }
    },
    {
      "cell_type": "code",
      "source": [
        "food = 'burger',110,234.5\n",
        "print(food)\n",
        "print(id(food))\n",
        "food = 'burger',100,234.5\n",
        "print(food)\n",
        "print(id(food))\n",
        "#idそのものが違う"
      ],
      "metadata": {
        "id": "MNEUWNn-nXq-",
        "outputId": "2c54a593-f04a-43be-dd63-182ee299fc1f",
        "colab": {
          "base_uri": "https://localhost:8080/"
        }
      },
      "execution_count": null,
      "outputs": [
        {
          "output_type": "stream",
          "name": "stdout",
          "text": [
            "('burger', 110, 234.5)\n",
            "139659856469360\n",
            "('burger', 100, 234.5)\n",
            "139659924865984\n"
          ]
        }
      ]
    },
    {
      "cell_type": "markdown",
      "source": [
        "### パッキングとアンパッキングでタプルを作ったり壊したり\n",
        "パッキング：複数の値をタプルにまとめる操作<br>\n",
        "アンパッキング：タプルにまとめた複数の値を分解する操作<br>\n",
        "\n",
        "アンパッキング<br>\n",
        "変数, ... = タプル\n",
        "\n",
        "イテラブルのアンパッキング<br>\n",
        "変数, ... = イテラブル"
      ],
      "metadata": {
        "id": "DnYGWia2nplG"
      }
    },
    {
      "cell_type": "code",
      "source": [
        "food = 'burger',100,234.5\n",
        "print(food)\n",
        "name,price,calorie = food\n",
        "print(name)\n",
        "print(price)\n",
        "print(calorie)"
      ],
      "metadata": {
        "id": "53W2z-41iodm",
        "outputId": "e6ba61c3-b5ed-4bf5-c2d5-86a59dd90da6",
        "colab": {
          "base_uri": "https://localhost:8080/"
        }
      },
      "execution_count": 1,
      "outputs": [
        {
          "output_type": "stream",
          "name": "stdout",
          "text": [
            "('burger', 100, 234.5)\n",
            "burger\n",
            "100\n",
            "234.5\n"
          ]
        }
      ]
    },
    {
      "cell_type": "markdown",
      "source": [
        "要素が多数ある時には、いくつかを纏めて取り出すことができる<br>\n",
        "*変数 はC言語だとポインタとして悪名高いが<br>\n",
        "Pythonだと可変長引数となる<br>\n",
        "\n",
        "先頭の要素を取得<br>\n",
        "変数, *変数 = イテラブル<br>\n",
        "\n",
        "末尾の要素を取得<br>\n",
        "*変数, 変数 = イテラブル<br>\n",
        "\n",
        "先頭と末尾の要素を取得<br>\n",
        "変数, *変数, 変数 = イテラブル<br>"
      ],
      "metadata": {
        "id": "P2QqSdxPjSbE"
      }
    },
    {
      "cell_type": "code",
      "source": [
        "alphabet = tuple('ABCDEFG')\n",
        "first, second, *rest, last = alphabet\n",
        "print(first)\n",
        "print(second)\n",
        "print(rest)\n",
        "print(type(rest))\n",
        "#タプルでなく、リストで纏められる\n",
        "print(last)"
      ],
      "metadata": {
        "id": "g7CnY4-mkKW2",
        "outputId": "b09178c3-c4e6-4853-bbc8-b3323a55fe23",
        "colab": {
          "base_uri": "https://localhost:8080/"
        }
      },
      "execution_count": 3,
      "outputs": [
        {
          "output_type": "stream",
          "name": "stdout",
          "text": [
            "A\n",
            "B\n",
            "['C', 'D', 'E', 'F']\n",
            "<class 'list'>\n",
            "G\n"
          ]
        }
      ]
    },
    {
      "cell_type": "markdown",
      "source": [
        "###他の便利のタプルの操作\n",
        "基本的にはリストと同じだが、イミュータブルなので要素の変更、追加、削除は出来ない<br>\n",
        "\n",
        "タプルA + タプルB 連結<br>\n",
        "タプル*整数 要素を複製して連結<br>\n",
        "整数*タプル 要素を複製して連結<br>\n",
        "len(タプル) 要素数<br>\n",
        "min(タプル) 要素の最小値<br>\n",
        "max(タプル) 要素の最大値<br>\n",
        "タプル.count(値) 指定した値に一致する要素の個数<br>\n",
        "タプル.index(値) 指定した値に一致する先頭に最も近い要素のindex<br>\n",
        "\n",
        "indexメソッドには開始・終了インデックスを指定することもできる"
      ],
      "metadata": {
        "id": "qFvNF4Frk0td"
      }
    },
    {
      "cell_type": "markdown",
      "source": [
        "###データ構造を組み合わせて複雑な構造を作る\n",
        "階層的な構造、多次元配列"
      ],
      "metadata": {
        "id": "Y2sbva52l7EW"
      }
    },
    {
      "cell_type": "code",
      "source": [
        "menu = [('burger',110,234.5),('potato',150,226.7)]\n",
        "print(menu)"
      ],
      "metadata": {
        "id": "8EIgggQkl6Si",
        "outputId": "8c8cfaa5-c700-45e4-9518-e54161e989ce",
        "colab": {
          "base_uri": "https://localhost:8080/"
        }
      },
      "execution_count": 4,
      "outputs": [
        {
          "output_type": "stream",
          "name": "stdout",
          "text": [
            "[('burger', 110, 234.5), ('potato', 150, 226.7)]\n"
          ]
        }
      ]
    },
    {
      "cell_type": "code",
      "source": [
        "#シェイクをメニューに追加\n",
        "menu.append(('shake',120,218.9))#2重かっこに注意\n",
        "print(menu)"
      ],
      "metadata": {
        "id": "Osxu2Il5monm",
        "outputId": "e378b8dc-636e-4a6f-eaf2-9c73068cc042",
        "colab": {
          "base_uri": "https://localhost:8080/"
        }
      },
      "execution_count": 5,
      "outputs": [
        {
          "output_type": "stream",
          "name": "stdout",
          "text": [
            "[('burger', 110, 234.5), ('potato', 150, 226.7), ('shake', 120, 218.9)]\n"
          ]
        }
      ]
    },
    {
      "cell_type": "code",
      "source": [
        "del menu[2:3]#ちょっと戻す\n",
        "print(menu)\n"
      ],
      "metadata": {
        "id": "jFShGg_Um8t0",
        "outputId": "8b9118ed-9c55-4444-a9d5-119e4720b615",
        "colab": {
          "base_uri": "https://localhost:8080/"
        }
      },
      "execution_count": 6,
      "outputs": [
        {
          "output_type": "stream",
          "name": "stdout",
          "text": [
            "[('burger', 110, 234.5), ('potato', 150, 226.7)]\n"
          ]
        }
      ]
    },
    {
      "cell_type": "code",
      "source": [
        "menu.append('shake',120,218.9)#2重かっこなしで"
      ],
      "metadata": {
        "id": "o47iXm3xnUqF",
        "outputId": "5a95dd11-d51e-45d0-d23e-b1650dd52c22",
        "colab": {
          "base_uri": "https://localhost:8080/",
          "height": 170
        }
      },
      "execution_count": 7,
      "outputs": [
        {
          "output_type": "error",
          "ename": "TypeError",
          "evalue": "ignored",
          "traceback": [
            "\u001b[0;31m---------------------------------------------------------------------------\u001b[0m",
            "\u001b[0;31mTypeError\u001b[0m                                 Traceback (most recent call last)",
            "\u001b[0;32m<ipython-input-7-ffa65558c800>\u001b[0m in \u001b[0;36m<module>\u001b[0;34m()\u001b[0m\n\u001b[0;32m----> 1\u001b[0;31m \u001b[0mmenu\u001b[0m\u001b[0;34m.\u001b[0m\u001b[0mappend\u001b[0m\u001b[0;34m(\u001b[0m\u001b[0;34m'shake'\u001b[0m\u001b[0;34m,\u001b[0m\u001b[0;36m120\u001b[0m\u001b[0;34m,\u001b[0m\u001b[0;36m218.9\u001b[0m\u001b[0;34m)\u001b[0m\u001b[0;31m#2重かっこなしで\u001b[0m\u001b[0;34m\u001b[0m\u001b[0;34m\u001b[0m\u001b[0m\n\u001b[0m",
            "\u001b[0;31mTypeError\u001b[0m: append() takes exactly one argument (3 given)"
          ]
        }
      ]
    },
    {
      "cell_type": "code",
      "source": [
        "menu.append(('shake',120,218.9))#2重かっこに注意\n",
        "print(menu)"
      ],
      "metadata": {
        "id": "Ndcp0xK3nZYN",
        "outputId": "51403c03-9368-46f8-d7b1-82ea0f4a1683",
        "colab": {
          "base_uri": "https://localhost:8080/"
        }
      },
      "execution_count": 8,
      "outputs": [
        {
          "output_type": "stream",
          "name": "stdout",
          "text": [
            "[('burger', 110, 234.5), ('potato', 150, 226.7), ('shake', 120, 218.9)]\n"
          ]
        }
      ]
    },
    {
      "cell_type": "markdown",
      "source": [
        "インデックス、スライス、アンパッキングを駆使して要素、値を取り出す"
      ],
      "metadata": {
        "id": "s3e8wrZ1njif"
      }
    },
    {
      "cell_type": "code",
      "source": [
        "print(menu[1])"
      ],
      "metadata": {
        "id": "ed89zCdanqTF",
        "outputId": "2344dcb0-3ae7-4acf-c03e-d7c5df13d685",
        "colab": {
          "base_uri": "https://localhost:8080/"
        }
      },
      "execution_count": 9,
      "outputs": [
        {
          "output_type": "stream",
          "name": "stdout",
          "text": [
            "('potato', 150, 226.7)\n"
          ]
        }
      ]
    },
    {
      "cell_type": "code",
      "source": [
        "#アンパッキングしてname,price,calorieの3変数に分ける\n",
        "name,price,calorie = menu[1]\n",
        "print(calorie)"
      ],
      "metadata": {
        "id": "CNVPPTMknv_G",
        "outputId": "64787bd7-696e-4c37-a9c0-0e6d2d3f3c88",
        "colab": {
          "base_uri": "https://localhost:8080/"
        }
      },
      "execution_count": 10,
      "outputs": [
        {
          "output_type": "stream",
          "name": "stdout",
          "text": [
            "226.7\n"
          ]
        }
      ]
    },
    {
      "cell_type": "markdown",
      "source": [
        "### タプルは高速な処理ができる\n",
        "\n",
        "2022/01/03/11:50現在これがColaboratoryで動くか自信がないぞ<br>\n",
        "後の章でもこれを多用する<br>\n",
        "→動いた!<br>\n",
        "\n",
        "コマンドプロンプトのプログラム実行モードで動くタイプのモジュールだ<br>\n",
        "python -m timeit \"プログラム名\"<br>\n",
        "だがここではプログラム内容だけでもいい(pythonのコードとして実行する)<br>\n",
        "\n",
        "Colaboratory上では、\n",
        "\n",
        "!python -m timeit \"プログラム名\"<br>\n",
        "と、!マークを付けたら動いた"
      ],
      "metadata": {
        "id": "WUiIlPVJoCPe"
      }
    },
    {
      "cell_type": "code",
      "source": [
        "!python -m timeit \"[('burger', 110, 234.5), ('potato', 150, 226.7)]\""
      ],
      "metadata": {
        "id": "rrEx4BrmodQJ",
        "outputId": "4e7b0396-6639-46c4-f4ed-0bd2ab21a6e9",
        "colab": {
          "base_uri": "https://localhost:8080/"
        }
      },
      "execution_count": 11,
      "outputs": [
        {
          "output_type": "stream",
          "name": "stdout",
          "text": [
            "5000000 loops, best of 5: 43.6 nsec per loop\n"
          ]
        }
      ]
    },
    {
      "cell_type": "code",
      "source": [
        "!python -m timeit \"[['burger', 110, 234.5], ['potato', 150, 226.7]]\""
      ],
      "metadata": {
        "id": "bvuO27k_oqXl",
        "outputId": "3d62c053-8a9f-4c3c-fd46-9d3822814979",
        "colab": {
          "base_uri": "https://localhost:8080/"
        }
      },
      "execution_count": 13,
      "outputs": [
        {
          "output_type": "stream",
          "name": "stdout",
          "text": [
            "2000000 loops, best of 5: 117 nsec per loop\n"
          ]
        }
      ]
    },
    {
      "cell_type": "markdown",
      "source": [
        "タプルでは500万回試行を5セット繰り返したうちの最高が43.6ナノ秒<br>\n",
        "リストでは200万回試行を5セット繰り返したうちの最高が117ナノ秒<br>\n",
        "タプルが2.68倍早い"
      ],
      "metadata": {
        "id": "wFwEYBTCpikf"
      }
    },
    {
      "cell_type": "code",
      "source": [
        "117/43.6"
      ],
      "metadata": {
        "id": "9h0elM_1p7Rv",
        "outputId": "659f5e80-9c3d-49cc-eede-1f1eb098cf67",
        "colab": {
          "base_uri": "https://localhost:8080/"
        }
      },
      "execution_count": 14,
      "outputs": [
        {
          "output_type": "execute_result",
          "data": {
            "text/plain": [
              "2.68348623853211"
            ]
          },
          "metadata": {},
          "execution_count": 14
        }
      ]
    }
  ]
}