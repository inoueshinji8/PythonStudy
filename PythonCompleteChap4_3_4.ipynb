{
  "nbformat": 4,
  "nbformat_minor": 0,
  "metadata": {
    "colab": {
      "name": "PythonCompleteChap4_3_4.ipynb",
      "provenance": [],
      "authorship_tag": "ABX9TyNChFCaCXYgJAd7pCR1wEoR",
      "include_colab_link": true
    },
    "kernelspec": {
      "name": "python3",
      "display_name": "Python 3"
    },
    "language_info": {
      "name": "python"
    }
  },
  "cells": [
    {
      "cell_type": "markdown",
      "metadata": {
        "id": "view-in-github",
        "colab_type": "text"
      },
      "source": [
        "<a href=\"https://colab.research.google.com/github/inoueshinji8/PythonStudy/blob/main/PythonCompleteChap4_3_4.ipynb\" target=\"_parent\"><img src=\"https://colab.research.google.com/assets/colab-badge.svg\" alt=\"Open In Colab\"/></a>"
      ]
    },
    {
      "cell_type": "markdown",
      "source": [
        "##section3 値の有無を瞬時に判定するには集合を利用する\n",
        "\n",
        "個人的にはほとんど使ったことがない。辞書と混同してる節がある<br>\n",
        "\n",
        "・ミュータブルなので要素の追加や削除ができる<br>\n",
        "・同じ値を重複して格納できない<br>\n",
        "・値を取り出す時の順序も保証されない<br>\n",
        "・値はイミュータブルな値だけ。集合自体はミュータブルなので、集合の集合は作れない<br>"
      ],
      "metadata": {
        "id": "CFGkmndRqP6G"
      }
    },
    {
      "cell_type": "markdown",
      "source": [
        "###集合は波かっこ(中かっこ)で作成する{ }\n",
        "\n",
        "{値, ...}\n",
        "{値}要素が1つの時\n",
        "set()要素ゼロ個の時 ← これ間違いやすい"
      ],
      "metadata": {
        "id": "843Y1Pjtq5fu"
      }
    },
    {
      "cell_type": "code",
      "execution_count": null,
      "metadata": {
        "colab": {
          "base_uri": "https://localhost:8080/"
        },
        "id": "QwJjT98oqLUc",
        "outputId": "262d087d-f290-447a-acd7-6ff9a6e81a19"
      },
      "outputs": [
        {
          "output_type": "execute_result",
          "data": {
            "text/plain": [
              "{'blue', 'green', 'red'}"
            ]
          },
          "metadata": {},
          "execution_count": 1
        }
      ],
      "source": [
        "{'blue','red','green',}\n",
        "#表示する順序バラバラ。なお、一番最後にあえて,を入れてみたがちゃんと消えている"
      ]
    },
    {
      "cell_type": "code",
      "source": [
        "#集合を変数に代入\n",
        "color = {'blue', 'green', 'red'}\n",
        "print(color)"
      ],
      "metadata": {
        "colab": {
          "base_uri": "https://localhost:8080/"
        },
        "id": "xxAPeXK5scZo",
        "outputId": "fc10a1f2-3a29-4adc-d8e2-49b19a086c9a"
      },
      "execution_count": null,
      "outputs": [
        {
          "output_type": "stream",
          "name": "stdout",
          "text": [
            "{'red', 'blue', 'green'}\n"
          ]
        }
      ]
    },
    {
      "cell_type": "markdown",
      "source": [
        "###set関数(厳密にはsetクラス)でイテラブルから集合を作成\n",
        "set(イテラブル)"
      ],
      "metadata": {
        "id": "g-uJhWYKuFsg"
      }
    },
    {
      "cell_type": "code",
      "source": [
        "set(range(16))"
      ],
      "metadata": {
        "colab": {
          "base_uri": "https://localhost:8080/"
        },
        "id": "9iR_ebkPuPgH",
        "outputId": "202f329e-0c2d-47ac-819e-ed4977800eb6"
      },
      "execution_count": null,
      "outputs": [
        {
          "output_type": "execute_result",
          "data": {
            "text/plain": [
              "{0, 1, 2, 3, 4, 5, 6, 7, 8, 9, 10, 11, 12, 13, 14, 15}"
            ]
          },
          "metadata": {},
          "execution_count": 4
        }
      ]
    },
    {
      "cell_type": "code",
      "source": [
        "set('abcde')"
      ],
      "metadata": {
        "colab": {
          "base_uri": "https://localhost:8080/"
        },
        "id": "4Hcx86tSuVYw",
        "outputId": "07fe4cf7-8f52-4115-fa92-23768c5248ff"
      },
      "execution_count": null,
      "outputs": [
        {
          "output_type": "execute_result",
          "data": {
            "text/plain": [
              "{'a', 'b', 'c', 'd', 'e'}"
            ]
          },
          "metadata": {},
          "execution_count": 5
        }
      ]
    },
    {
      "cell_type": "markdown",
      "source": [
        "だが、同じ値を格納できないので注意！"
      ],
      "metadata": {
        "id": "rEySEBNQuY9o"
      }
    },
    {
      "cell_type": "code",
      "source": [
        "set(\"anaconda\")"
      ],
      "metadata": {
        "colab": {
          "base_uri": "https://localhost:8080/"
        },
        "id": "JFpg9XMyudPp",
        "outputId": "ccc246d1-3027-4d86-8dcb-1fa7fe9e17eb"
      },
      "execution_count": null,
      "outputs": [
        {
          "output_type": "execute_result",
          "data": {
            "text/plain": [
              "{'a', 'c', 'd', 'n', 'o'}"
            ]
          },
          "metadata": {},
          "execution_count": 6
        }
      ]
    },
    {
      "cell_type": "markdown",
      "source": [
        "###inとnot inで値の有無を調べる\n",
        "所属検査演算<br>\n",
        "値 in 集合<br>\n",
        "値 not in 集合<br>\n",
        "\n",
        "他のデータ構造でもin,not inが使える<br>"
      ],
      "metadata": {
        "id": "Hg-4uYeZL4yo"
      }
    },
    {
      "cell_type": "code",
      "source": [
        "color = {'blue','red','green'}\n",
        "print(color)\n",
        "print('red' in color)\n",
        "print('white' in color)\n",
        "print('green' not in color)\n",
        "print('black' not in color)"
      ],
      "metadata": {
        "id": "p4570aMxMVmQ",
        "outputId": "fedbc69e-eed5-4d5c-b8b1-2f975b235b65",
        "colab": {
          "base_uri": "https://localhost:8080/"
        }
      },
      "execution_count": 2,
      "outputs": [
        {
          "output_type": "stream",
          "name": "stdout",
          "text": [
            "{'red', 'blue', 'green'}\n",
            "True\n",
            "False\n",
            "False\n",
            "True\n"
          ]
        }
      ]
    },
    {
      "cell_type": "markdown",
      "source": [
        "集合の要素はイミュータブルならいいのでタプルでもいい<br>\n",
        "簡単なユーザ名とパスワードの判定器"
      ],
      "metadata": {
        "id": "Xc95z3FTM34G"
      }
    },
    {
      "cell_type": "code",
      "source": [
        "login = {('admin','abc123'),('guest','ghi1456')}\n",
        "print(login)"
      ],
      "metadata": {
        "id": "Q3kBoUz-NEIS",
        "outputId": "4c6faedc-443c-4fb5-cec4-344d16f4488a",
        "colab": {
          "base_uri": "https://localhost:8080/"
        }
      },
      "execution_count": 3,
      "outputs": [
        {
          "output_type": "stream",
          "name": "stdout",
          "text": [
            "{('admin', 'abc123'), ('guest', 'ghi1456')}\n"
          ]
        }
      ]
    },
    {
      "cell_type": "code",
      "source": [
        "('guest','ghi1456') in login"
      ],
      "metadata": {
        "id": "K1Ii70toNX5V",
        "outputId": "47fbadbf-d48f-460a-85df-3d2868463385",
        "colab": {
          "base_uri": "https://localhost:8080/"
        }
      },
      "execution_count": 4,
      "outputs": [
        {
          "output_type": "execute_result",
          "data": {
            "text/plain": [
              "True"
            ]
          },
          "metadata": {},
          "execution_count": 4
        }
      ]
    },
    {
      "cell_type": "code",
      "source": [
        "print(('guest','xyz789') in login)\n",
        "print(('root','abc123') in login)\n",
        "print(('root','xyz789') in login)\n"
      ],
      "metadata": {
        "id": "fPpfsuJENfaf",
        "outputId": "370731f8-8d4c-4062-c47b-2cf5a2dcfa89",
        "colab": {
          "base_uri": "https://localhost:8080/"
        }
      },
      "execution_count": 5,
      "outputs": [
        {
          "output_type": "stream",
          "name": "stdout",
          "text": [
            "False\n",
            "False\n",
            "False\n"
          ]
        }
      ]
    },
    {
      "cell_type": "markdown",
      "source": [
        "in,not inは文字列でも使える"
      ],
      "metadata": {
        "id": "BGSZkdzxNxUu"
      }
    },
    {
      "cell_type": "code",
      "source": [
        "print('t' in 'python')\n",
        "print('s' in 'python')\n",
        "print('t' not in 'python')\n",
        "print('s' not in 'python')"
      ],
      "metadata": {
        "id": "il-dhb7GN1Am",
        "outputId": "f30883f3-da57-4121-e6db-748f5201841e",
        "colab": {
          "base_uri": "https://localhost:8080/"
        }
      },
      "execution_count": 6,
      "outputs": [
        {
          "output_type": "stream",
          "name": "stdout",
          "text": [
            "True\n",
            "False\n",
            "False\n",
            "True\n"
          ]
        }
      ]
    },
    {
      "cell_type": "markdown",
      "source": [
        "###in,not inの実行速度を調べる\n",
        "\n",
        "!python -m timeit -s \"準備の処理\" \"プログラム\""
      ],
      "metadata": {
        "id": "eaiE6LzlOBgu"
      }
    },
    {
      "cell_type": "code",
      "source": [
        "!python -m timeit -s \"x=set(range(100))\" \"50 in x\""
      ],
      "metadata": {
        "id": "oqaftiGZOEm-",
        "outputId": "0c1613d9-15c6-43ad-cea2-856edc2939c0",
        "colab": {
          "base_uri": "https://localhost:8080/"
        }
      },
      "execution_count": 9,
      "outputs": [
        {
          "output_type": "stream",
          "name": "stdout",
          "text": [
            "10000000 loops, best of 5: 29.5 nsec per loop\n"
          ]
        }
      ]
    },
    {
      "cell_type": "code",
      "source": [
        "!python -m timeit -s \"x=list(range(100))\" \"50 in x\""
      ],
      "metadata": {
        "id": "oOzzPJixOfQg",
        "outputId": "3c90e76e-de3f-4fec-9762-6e4319c81df8",
        "colab": {
          "base_uri": "https://localhost:8080/"
        }
      },
      "execution_count": 10,
      "outputs": [
        {
          "output_type": "stream",
          "name": "stdout",
          "text": [
            "500000 loops, best of 5: 782 nsec per loop\n"
          ]
        }
      ]
    },
    {
      "cell_type": "markdown",
      "source": [
        "やっぱり集合は早い<br>\n",
        "後で紹介しているハッシュ法のお陰"
      ],
      "metadata": {
        "id": "iMHaF8trO4Wh"
      }
    }
  ]
}