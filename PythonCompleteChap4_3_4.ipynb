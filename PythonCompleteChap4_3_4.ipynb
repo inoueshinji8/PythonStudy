{
  "nbformat": 4,
  "nbformat_minor": 0,
  "metadata": {
    "colab": {
      "name": "PythonCompleteChap4_3_4.ipynb",
      "provenance": [],
      "authorship_tag": "ABX9TyO/NzltjfLulkxUI062/Ber",
      "include_colab_link": true
    },
    "kernelspec": {
      "name": "python3",
      "display_name": "Python 3"
    },
    "language_info": {
      "name": "python"
    }
  },
  "cells": [
    {
      "cell_type": "markdown",
      "metadata": {
        "id": "view-in-github",
        "colab_type": "text"
      },
      "source": [
        "<a href=\"https://colab.research.google.com/github/inoueshinji8/PythonStudy/blob/main/PythonCompleteChap4_3_4.ipynb\" target=\"_parent\"><img src=\"https://colab.research.google.com/assets/colab-badge.svg\" alt=\"Open In Colab\"/></a>"
      ]
    },
    {
      "cell_type": "markdown",
      "source": [
        "##section3 値の有無を瞬時に判定するには集合を利用する\n",
        "\n",
        "個人的にはほとんど使ったことがない。辞書と混同してる節がある<br>\n",
        "\n",
        "・ミュータブルなので要素の追加や削除ができる<br>\n",
        "・同じ値を重複して格納できない<br>\n",
        "・値を取り出す時の順序も保証されない<br>\n",
        "・値はイミュータブルな値だけ。集合自体はミュータブルなので、集合の集合は作れない<br>"
      ],
      "metadata": {
        "id": "CFGkmndRqP6G"
      }
    },
    {
      "cell_type": "markdown",
      "source": [
        "###集合は波かっこ(中かっこ)で作成する{ }\n",
        "\n",
        "{値, ...}<br>\n",
        "{値}要素が1つの時<br>\n",
        "set()要素ゼロ個の時 ← これ間違いやすい<br>"
      ],
      "metadata": {
        "id": "843Y1Pjtq5fu"
      }
    },
    {
      "cell_type": "code",
      "execution_count": 1,
      "metadata": {
        "colab": {
          "base_uri": "https://localhost:8080/"
        },
        "id": "QwJjT98oqLUc",
        "outputId": "91f49e51-a1c9-4ce0-b880-93ac8df359fc"
      },
      "outputs": [
        {
          "output_type": "execute_result",
          "data": {
            "text/plain": [
              "{'blue', 'green', 'red'}"
            ]
          },
          "metadata": {},
          "execution_count": 1
        }
      ],
      "source": [
        "{'blue','red','green',}\n",
        "#表示する順序バラバラ。なお、一番最後にあえて,を入れてみたがちゃんと消えている"
      ]
    },
    {
      "cell_type": "code",
      "source": [
        "#集合を変数に代入\n",
        "color = {'blue', 'green', 'red'}\n",
        "print(color)"
      ],
      "metadata": {
        "colab": {
          "base_uri": "https://localhost:8080/"
        },
        "id": "xxAPeXK5scZo",
        "outputId": "c6fbce1f-f7ce-4bce-b3b1-9a0aa4da7ff3"
      },
      "execution_count": 2,
      "outputs": [
        {
          "output_type": "stream",
          "name": "stdout",
          "text": [
            "{'green', 'blue', 'red'}\n"
          ]
        }
      ]
    },
    {
      "cell_type": "markdown",
      "source": [
        "###set関数(厳密にはsetクラス)でイテラブルから集合を作成\n",
        "set(イテラブル)"
      ],
      "metadata": {
        "id": "g-uJhWYKuFsg"
      }
    },
    {
      "cell_type": "code",
      "source": [
        "set(range(16))"
      ],
      "metadata": {
        "colab": {
          "base_uri": "https://localhost:8080/"
        },
        "id": "9iR_ebkPuPgH",
        "outputId": "bf0da51a-6537-4906-f21d-e6b7076c54c6"
      },
      "execution_count": 3,
      "outputs": [
        {
          "output_type": "execute_result",
          "data": {
            "text/plain": [
              "{0, 1, 2, 3, 4, 5, 6, 7, 8, 9, 10, 11, 12, 13, 14, 15}"
            ]
          },
          "metadata": {},
          "execution_count": 3
        }
      ]
    },
    {
      "cell_type": "code",
      "source": [
        "set('abcde')"
      ],
      "metadata": {
        "colab": {
          "base_uri": "https://localhost:8080/"
        },
        "id": "4Hcx86tSuVYw",
        "outputId": "3dada373-333b-4e86-9f93-0784496f7845"
      },
      "execution_count": 4,
      "outputs": [
        {
          "output_type": "execute_result",
          "data": {
            "text/plain": [
              "{'a', 'b', 'c', 'd', 'e'}"
            ]
          },
          "metadata": {},
          "execution_count": 4
        }
      ]
    },
    {
      "cell_type": "markdown",
      "source": [
        "だが、同じ値を格納できないので注意！"
      ],
      "metadata": {
        "id": "rEySEBNQuY9o"
      }
    },
    {
      "cell_type": "code",
      "source": [
        "set(\"anaconda\")"
      ],
      "metadata": {
        "colab": {
          "base_uri": "https://localhost:8080/"
        },
        "id": "JFpg9XMyudPp",
        "outputId": "efa6743f-1a22-4827-ee52-7c34c188d1f6"
      },
      "execution_count": 5,
      "outputs": [
        {
          "output_type": "execute_result",
          "data": {
            "text/plain": [
              "{'a', 'c', 'd', 'n', 'o'}"
            ]
          },
          "metadata": {},
          "execution_count": 5
        }
      ]
    },
    {
      "cell_type": "markdown",
      "source": [
        "###inとnot inで値の有無を調べる\n",
        "所属検査演算<br>\n",
        "値 in 集合<br>\n",
        "値 not in 集合<br>\n",
        "\n",
        "他のデータ構造でもin,not inが使える<br>"
      ],
      "metadata": {
        "id": "Hg-4uYeZL4yo"
      }
    },
    {
      "cell_type": "code",
      "source": [
        "color = {'blue','red','green'}\n",
        "print(color)\n",
        "print('red' in color)\n",
        "print('white' in color)\n",
        "print('green' not in color)\n",
        "print('black' not in color)"
      ],
      "metadata": {
        "id": "p4570aMxMVmQ",
        "outputId": "9f1ceb09-e618-48c2-a6bf-0dc9a681f3d3",
        "colab": {
          "base_uri": "https://localhost:8080/"
        }
      },
      "execution_count": 6,
      "outputs": [
        {
          "output_type": "stream",
          "name": "stdout",
          "text": [
            "{'green', 'blue', 'red'}\n",
            "True\n",
            "False\n",
            "False\n",
            "True\n"
          ]
        }
      ]
    },
    {
      "cell_type": "markdown",
      "source": [
        "集合の要素はイミュータブルならいいのでタプルでもいい<br>\n",
        "簡単なユーザ名とパスワードの判定器"
      ],
      "metadata": {
        "id": "Xc95z3FTM34G"
      }
    },
    {
      "cell_type": "code",
      "source": [
        "login = {('admin','abc123'),('guest','ghi1456')}\n",
        "print(login)"
      ],
      "metadata": {
        "id": "Q3kBoUz-NEIS",
        "outputId": "2bffe3e9-e29f-4709-b67c-47acce2b1a28",
        "colab": {
          "base_uri": "https://localhost:8080/"
        }
      },
      "execution_count": 7,
      "outputs": [
        {
          "output_type": "stream",
          "name": "stdout",
          "text": [
            "{('admin', 'abc123'), ('guest', 'ghi1456')}\n"
          ]
        }
      ]
    },
    {
      "cell_type": "code",
      "source": [
        "('guest','ghi1456') in login"
      ],
      "metadata": {
        "id": "K1Ii70toNX5V",
        "outputId": "5a031bf8-2c1e-4bd3-a6aa-79f8a4a90cac",
        "colab": {
          "base_uri": "https://localhost:8080/"
        }
      },
      "execution_count": 8,
      "outputs": [
        {
          "output_type": "execute_result",
          "data": {
            "text/plain": [
              "True"
            ]
          },
          "metadata": {},
          "execution_count": 8
        }
      ]
    },
    {
      "cell_type": "code",
      "source": [
        "print(('guest','xyz789') in login)\n",
        "print(('root','abc123') in login)\n",
        "print(('root','xyz789') in login)\n"
      ],
      "metadata": {
        "id": "fPpfsuJENfaf",
        "outputId": "bd613103-cece-4158-80d3-026b89107d3f",
        "colab": {
          "base_uri": "https://localhost:8080/"
        }
      },
      "execution_count": 9,
      "outputs": [
        {
          "output_type": "stream",
          "name": "stdout",
          "text": [
            "False\n",
            "False\n",
            "False\n"
          ]
        }
      ]
    },
    {
      "cell_type": "markdown",
      "source": [
        "in,not inは文字列でも使える"
      ],
      "metadata": {
        "id": "BGSZkdzxNxUu"
      }
    },
    {
      "cell_type": "code",
      "source": [
        "print('t' in 'python')\n",
        "print('s' in 'python')\n",
        "print('t' not in 'python')\n",
        "print('s' not in 'python')"
      ],
      "metadata": {
        "id": "il-dhb7GN1Am",
        "outputId": "069ddd2f-73bf-4dac-8e7b-afe4b0666471",
        "colab": {
          "base_uri": "https://localhost:8080/"
        }
      },
      "execution_count": 10,
      "outputs": [
        {
          "output_type": "stream",
          "name": "stdout",
          "text": [
            "True\n",
            "False\n",
            "False\n",
            "True\n"
          ]
        }
      ]
    },
    {
      "cell_type": "markdown",
      "source": [
        "###in,not inの実行速度を調べる\n",
        "\n",
        "!python -m timeit -s \"準備の処理\" \"プログラム\""
      ],
      "metadata": {
        "id": "eaiE6LzlOBgu"
      }
    },
    {
      "cell_type": "code",
      "source": [
        "!python -m timeit -s \"x=set(range(100))\" \"50 in x\""
      ],
      "metadata": {
        "id": "oqaftiGZOEm-",
        "outputId": "1f1e4ddc-d93c-4928-e66c-46905a5e38f9",
        "colab": {
          "base_uri": "https://localhost:8080/"
        }
      },
      "execution_count": 11,
      "outputs": [
        {
          "output_type": "stream",
          "name": "stdout",
          "text": [
            "10000000 loops, best of 5: 29.7 nsec per loop\n"
          ]
        }
      ]
    },
    {
      "cell_type": "code",
      "source": [
        "!python -m timeit -s \"x=list(range(100))\" \"50 in x\""
      ],
      "metadata": {
        "id": "oOzzPJixOfQg",
        "outputId": "131cea82-3e01-41ad-abf1-0a6ecee88d87",
        "colab": {
          "base_uri": "https://localhost:8080/"
        }
      },
      "execution_count": 12,
      "outputs": [
        {
          "output_type": "stream",
          "name": "stdout",
          "text": [
            "500000 loops, best of 5: 784 nsec per loop\n"
          ]
        }
      ]
    },
    {
      "cell_type": "markdown",
      "source": [
        "やっぱり集合は早い<br>\n",
        "後で紹介しているハッシュ法のお陰"
      ],
      "metadata": {
        "id": "iMHaF8trO4Wh"
      }
    },
    {
      "cell_type": "markdown",
      "source": [
        "###集合に対する要素の追加と削除\n",
        "\n",
        "集合.add(値) append()ではないんだな<br>\n",
        "集合 |= {値, ...}"
      ],
      "metadata": {
        "id": "X42FzjEYryi1"
      }
    },
    {
      "cell_type": "code",
      "source": [
        "color=set()\n",
        "print(\"初期化できているか？\")\n",
        "print(color)\n",
        "color.add(\"blue\")\n",
        "print(color)\n",
        "color |= {\"red\",\"green\"}\n",
        "print(color)"
      ],
      "metadata": {
        "id": "R6ABH0vNsE7b",
        "outputId": "f48fca6f-d718-468c-a17e-5baa2116a158",
        "colab": {
          "base_uri": "https://localhost:8080/"
        }
      },
      "execution_count": 13,
      "outputs": [
        {
          "output_type": "stream",
          "name": "stdout",
          "text": [
            "初期化できているか？\n",
            "set()\n",
            "{'blue'}\n",
            "{'green', 'blue', 'red'}\n"
          ]
        }
      ]
    },
    {
      "cell_type": "code",
      "source": [
        "#重複要素を加えようとしても何も起きない\n",
        "print(color)\n",
        "color.add('blue')\n",
        "print(color)"
      ],
      "metadata": {
        "id": "S32Z6KRssdmk",
        "outputId": "3b4187b0-d62e-47c6-b271-bd77ace65ac2",
        "colab": {
          "base_uri": "https://localhost:8080/"
        }
      },
      "execution_count": 14,
      "outputs": [
        {
          "output_type": "stream",
          "name": "stdout",
          "text": [
            "{'green', 'blue', 'red'}\n",
            "{'green', 'blue', 'red'}\n"
          ]
        }
      ]
    },
    {
      "cell_type": "code",
      "source": [
        "#既存要素とまだ入っていない要素を同時に累算代入\n",
        "color |= {\"green\",\"yello\"}\n",
        "color\n",
        "#まだ無かったyellowだけ入った"
      ],
      "metadata": {
        "id": "OMCg4m7VstFD",
        "outputId": "3b6695fd-7a4b-4722-b370-2a38edb4a249",
        "colab": {
          "base_uri": "https://localhost:8080/"
        }
      },
      "execution_count": 15,
      "outputs": [
        {
          "output_type": "execute_result",
          "data": {
            "text/plain": [
              "{'blue', 'green', 'red', 'yello'}"
            ]
          },
          "metadata": {},
          "execution_count": 15
        }
      ]
    },
    {
      "cell_type": "markdown",
      "source": [
        "#### 要素の削除\n",
        "集合.remove(値) その値が集合に無いとエラー<br>\n",
        "集合.discard(値) その値が集合に無いと何も起こらない\n",
        "\n",
        "集合 -= {値, ...} 累算代入文\n"
      ],
      "metadata": {
        "id": "wcXLD5RvtOBc"
      }
    },
    {
      "cell_type": "code",
      "source": [
        "print(color)\n",
        "color.remove('blue')\n",
        "print(color)\n",
        "color.discard(\"red\")\n",
        "print(color)"
      ],
      "metadata": {
        "id": "VzRn6HuttoGX",
        "outputId": "c77badc2-4a3a-443c-b1bc-b076e552f548",
        "colab": {
          "base_uri": "https://localhost:8080/"
        }
      },
      "execution_count": 16,
      "outputs": [
        {
          "output_type": "stream",
          "name": "stdout",
          "text": [
            "{'blue', 'yello', 'green', 'red'}\n",
            "{'yello', 'green', 'red'}\n",
            "{'yello', 'green'}\n"
          ]
        }
      ]
    },
    {
      "cell_type": "code",
      "source": [
        "#無い値を無理やりremoveしようとするとエラー\n",
        "print(color)\n",
        "color.remove(\"blue\")"
      ],
      "metadata": {
        "id": "PRs-Vi-ct3p8",
        "outputId": "c1ef4efa-3978-49a2-c319-2b3430e67df5",
        "colab": {
          "base_uri": "https://localhost:8080/",
          "height": 229
        }
      },
      "execution_count": 17,
      "outputs": [
        {
          "output_type": "stream",
          "name": "stdout",
          "text": [
            "{'yello', 'green'}\n"
          ]
        },
        {
          "output_type": "error",
          "ename": "KeyError",
          "evalue": "ignored",
          "traceback": [
            "\u001b[0;31m---------------------------------------------------------------------------\u001b[0m",
            "\u001b[0;31mKeyError\u001b[0m                                  Traceback (most recent call last)",
            "\u001b[0;32m<ipython-input-17-dd1fb19302ed>\u001b[0m in \u001b[0;36m<module>\u001b[0;34m()\u001b[0m\n\u001b[1;32m      1\u001b[0m \u001b[0;31m#無い値を無理やりremoveしようとするとエラー\u001b[0m\u001b[0;34m\u001b[0m\u001b[0;34m\u001b[0m\u001b[0;34m\u001b[0m\u001b[0m\n\u001b[1;32m      2\u001b[0m \u001b[0mprint\u001b[0m\u001b[0;34m(\u001b[0m\u001b[0mcolor\u001b[0m\u001b[0;34m)\u001b[0m\u001b[0;34m\u001b[0m\u001b[0;34m\u001b[0m\u001b[0m\n\u001b[0;32m----> 3\u001b[0;31m \u001b[0mcolor\u001b[0m\u001b[0;34m.\u001b[0m\u001b[0mremove\u001b[0m\u001b[0;34m(\u001b[0m\u001b[0;34m\"blue\"\u001b[0m\u001b[0;34m)\u001b[0m\u001b[0;34m\u001b[0m\u001b[0;34m\u001b[0m\u001b[0m\n\u001b[0m",
            "\u001b[0;31mKeyError\u001b[0m: 'blue'"
          ]
        }
      ]
    },
    {
      "cell_type": "code",
      "source": [
        "#無い値をdiscardしようとしても何も起こらない\n",
        "print(color)\n",
        "color.discard(\"blue\")\n",
        "print(color)"
      ],
      "metadata": {
        "id": "iZNUiZ0EuCDs",
        "outputId": "527de83f-f0d1-4157-c228-59e092d20cfa",
        "colab": {
          "base_uri": "https://localhost:8080/"
        }
      },
      "execution_count": 18,
      "outputs": [
        {
          "output_type": "stream",
          "name": "stdout",
          "text": [
            "{'yello', 'green'}\n",
            "{'yello', 'green'}\n"
          ]
        }
      ]
    },
    {
      "cell_type": "markdown",
      "source": [
        "#### 累算代入文で複数の値を同時に削除"
      ],
      "metadata": {
        "id": "z16T22j2uPkz"
      }
    },
    {
      "cell_type": "code",
      "source": [
        "print(color)\n",
        "color -= {'yello', 'white'}\n",
        "print(color)\n",
        "#yellowだけなくなった"
      ],
      "metadata": {
        "id": "HD_JeKWyuTb8",
        "outputId": "34a00c09-6884-49ce-ac6b-b284653e4ac0",
        "colab": {
          "base_uri": "https://localhost:8080/"
        }
      },
      "execution_count": 19,
      "outputs": [
        {
          "output_type": "stream",
          "name": "stdout",
          "text": [
            "{'yello', 'green'}\n",
            "{'green'}\n"
          ]
        }
      ]
    },
    {
      "cell_type": "markdown",
      "source": [
        "集合の任意の要素を削除するpopメソッド<br>\n",
        "集合.pop()<br>\n",
        "集合の全ての要素を削除するclearメソッド<br>\n",
        "集合.clear()<br>"
      ],
      "metadata": {
        "id": "WrQ8UHpXukG9"
      }
    },
    {
      "cell_type": "code",
      "source": [
        "alphabet = set('abcdefg')\n",
        "print(alphabet)\n",
        "#バラバラに並ぶ"
      ],
      "metadata": {
        "id": "ta7fy3kHvXet",
        "outputId": "f0cd835a-43d6-4f92-a25f-e5bb301506ac",
        "colab": {
          "base_uri": "https://localhost:8080/"
        }
      },
      "execution_count": 20,
      "outputs": [
        {
          "output_type": "stream",
          "name": "stdout",
          "text": [
            "{'c', 'a', 'e', 'f', 'g', 'b', 'd'}\n"
          ]
        }
      ]
    },
    {
      "cell_type": "code",
      "source": [
        "alphabet.pop()"
      ],
      "metadata": {
        "id": "J1oZlrZdvkTu",
        "outputId": "8b3b768f-65b6-466b-9d31-80c99f139b9a",
        "colab": {
          "base_uri": "https://localhost:8080/",
          "height": 35
        }
      },
      "execution_count": 21,
      "outputs": [
        {
          "output_type": "execute_result",
          "data": {
            "application/vnd.google.colaboratory.intrinsic+json": {
              "type": "string"
            },
            "text/plain": [
              "'c'"
            ]
          },
          "metadata": {},
          "execution_count": 21
        }
      ]
    },
    {
      "cell_type": "code",
      "source": [
        "print(alphabet)"
      ],
      "metadata": {
        "id": "cWoAIT6MvoCl",
        "outputId": "c7e90529-65a6-460f-b6e9-daab63312543",
        "colab": {
          "base_uri": "https://localhost:8080/"
        }
      },
      "execution_count": 22,
      "outputs": [
        {
          "output_type": "stream",
          "name": "stdout",
          "text": [
            "{'a', 'e', 'f', 'g', 'b', 'd'}\n"
          ]
        }
      ]
    },
    {
      "cell_type": "code",
      "source": [
        "alphabet.pop()"
      ],
      "metadata": {
        "id": "llj1iZt7vwML",
        "outputId": "eca24685-9687-4041-e9c0-dcbed51a29aa",
        "colab": {
          "base_uri": "https://localhost:8080/",
          "height": 35
        }
      },
      "execution_count": 23,
      "outputs": [
        {
          "output_type": "execute_result",
          "data": {
            "application/vnd.google.colaboratory.intrinsic+json": {
              "type": "string"
            },
            "text/plain": [
              "'a'"
            ]
          },
          "metadata": {},
          "execution_count": 23
        }
      ]
    },
    {
      "cell_type": "code",
      "source": [
        "print(alphabet)\n",
        "#何か行儀がいいなあ？"
      ],
      "metadata": {
        "id": "sDxI0zEwv43u",
        "outputId": "d4c9db9f-5a41-48a3-e806-592948b8f9c1",
        "colab": {
          "base_uri": "https://localhost:8080/"
        }
      },
      "execution_count": 24,
      "outputs": [
        {
          "output_type": "stream",
          "name": "stdout",
          "text": [
            "{'e', 'f', 'g', 'b', 'd'}\n"
          ]
        }
      ]
    },
    {
      "cell_type": "code",
      "source": [
        "alphabet.clear()"
      ],
      "metadata": {
        "id": "DhpyGIQhwFO-"
      },
      "execution_count": 25,
      "outputs": []
    },
    {
      "cell_type": "code",
      "source": [
        "alphabet"
      ],
      "metadata": {
        "id": "jk74eALowIwu",
        "outputId": "7c13fa38-9370-4a8b-9e47-b3086f81ad7c",
        "colab": {
          "base_uri": "https://localhost:8080/"
        }
      },
      "execution_count": 26,
      "outputs": [
        {
          "output_type": "execute_result",
          "data": {
            "text/plain": [
              "set()"
            ]
          },
          "metadata": {},
          "execution_count": 26
        }
      ]
    },
    {
      "cell_type": "markdown",
      "source": [
        "### 集合に特有の演算\n",
        "\n",
        "集合A | 集合B AまたはBに含まれる要素の集合(和集合)<br>\n",
        "集合A & 集合B AかつBに含まれる要素の集合(積集合)<br>\n",
        "集合A - 集合B AからBに含まれる要素を削除した集合(積集合)<br>\n",
        "集合A ^ 集合B AまたはBの片方だけに含まれる要素の集合(対称差)(排他的(論理でない)和？XOR)<br>"
      ],
      "metadata": {
        "id": "Y5Tji3ouwVrG"
      }
    },
    {
      "cell_type": "markdown",
      "source": [
        "集合A |= 集合B AにBの要素を追加<br>\n",
        "集合A &= 集合B AからBに含まれない要素を削除<br>\n",
        "集合A -= 集合B AからBに含まれる要素を削除<br>\n",
        "集合A ^= 集合B AにBの要素を追加し、共通要素を削除<br>\n"
      ],
      "metadata": {
        "id": "j6rEAShDxgWv"
      }
    },
    {
      "cell_type": "code",
      "source": [
        "a = {'blue','red','green','white'}\n",
        "print(a)\n",
        "b = {'blue','red','yellow','black'}\n",
        "print(b)"
      ],
      "metadata": {
        "id": "xH2SFLGsxfcN",
        "outputId": "50d42083-219e-48f1-8fd5-5d080268b3e4",
        "colab": {
          "base_uri": "https://localhost:8080/"
        }
      },
      "execution_count": 31,
      "outputs": [
        {
          "output_type": "stream",
          "name": "stdout",
          "text": [
            "{'white', 'green', 'blue', 'red'}\n",
            "{'yellow', 'black', 'blue', 'red'}\n"
          ]
        }
      ]
    },
    {
      "cell_type": "code",
      "source": [
        "print(a|b)\n",
        "print(a&b)\n",
        "print(a-b)\n",
        "print(b-a)\n",
        "print(a^b)#両方に無い要素だけ"
      ],
      "metadata": {
        "id": "KWCDBpZzyvo3",
        "outputId": "ea4111d2-cc5e-4c22-f076-fba994110aec",
        "colab": {
          "base_uri": "https://localhost:8080/"
        }
      },
      "execution_count": 32,
      "outputs": [
        {
          "output_type": "stream",
          "name": "stdout",
          "text": [
            "{'white', 'black', 'blue', 'yellow', 'green', 'red'}\n",
            "{'blue', 'red'}\n",
            "{'white', 'green'}\n",
            "{'yellow', 'black'}\n",
            "{'white', 'black', 'yellow', 'green'}\n"
          ]
        }
      ]
    },
    {
      "cell_type": "code",
      "source": [
        "#lenで集合の要素数が出るので、和集合の要素数を求めてみる\n",
        "print(a)\n",
        "print(len(a))\n",
        "print(a|b)\n",
        "print(len(a|b))"
      ],
      "metadata": {
        "id": "SrhUEH-tzK7X",
        "outputId": "08636c61-5704-46fc-ff95-32e084ce4d0b",
        "colab": {
          "base_uri": "https://localhost:8080/"
        }
      },
      "execution_count": 33,
      "outputs": [
        {
          "output_type": "stream",
          "name": "stdout",
          "text": [
            "{'white', 'green', 'blue', 'red'}\n",
            "4\n",
            "{'white', 'black', 'blue', 'yellow', 'green', 'red'}\n",
            "6\n"
          ]
        }
      ]
    },
    {
      "cell_type": "code",
      "source": [
        "#join,list()などを試す\n",
        "print(a)\n",
        "join_a = '/'.join(a)\n",
        "print(join_a)\n",
        "print(list(a))\n",
        "list_a = list(a)\n",
        "print(set(list_a))#戻った"
      ],
      "metadata": {
        "id": "kzdR33NHzdPn",
        "outputId": "b68a8005-2be8-4698-c54f-fdf2bbb6c09b",
        "colab": {
          "base_uri": "https://localhost:8080/"
        }
      },
      "execution_count": 34,
      "outputs": [
        {
          "output_type": "stream",
          "name": "stdout",
          "text": [
            "{'white', 'green', 'blue', 'red'}\n",
            "white/green/blue/red\n",
            "['white', 'green', 'blue', 'red']\n",
            "{'white', 'green', 'blue', 'red'}\n"
          ]
        }
      ]
    },
    {
      "cell_type": "markdown",
      "source": [
        "###集合を実現するハッシュ法の仕組み\n",
        "\n",
        "ハッシュ法で要素を素早く見つける\n",
        "\n",
        "リストだと後ろに繋げていくだけ\n",
        "\n",
        "でもハッシュでは、「ハッシュテーブル」という巨大な空間に要素を特定の関数や決まりに基づいて配置する<br>\n",
        "それゆえ、探すのが速い！\n",
        "\n",
        "話を簡単にするため、ハッシュテーブルをたった8つの、まあ配列みたいな領域としよう\n",
        "そしてその中に'red','blue','green','yellow'を入れる\n",
        "\n",
        "ここで、格納先には0 ~ 7の番号が振ってあり、上記の4要素の文字数(を8で割った余り)と等しいところに入れていく、という決まりにしよう\n",
        "\n",
        "もし普通のリストで、順々に押し込んでいるだけだったらその文字列がランダムなら\n",
        "最初から探していかないといけない！\n",
        "これは大変だ\n",
        "\n",
        "だが「この文字列は4文字だから5番目(0,1,2,3,4)だ」という決め方なら、どこに入っているかすぐに分かる\n",
        "\n",
        "これが文字数以外にもいろんな要素が入ってくると簡単では済まない\n",
        "\n",
        "同じハッシュ値だと要素の「衝突」が起こったなどとされる<br>\n",
        "衝突しないようなハッシュ値が選ばれるが、万が一衝突していても良いように1つのアドレスが複数の値をリストで持てるようになっているものもある(連鎖法)\n",
        "\n",
        "今のCPythonでは、衝突したら別の(一定の規則性を持たせた)番地に置く(開番地法)、という方法で衝突後を回避している<br>\n",
        "例えば話を簡単にするため、5個先の番地に置く、などというルールが考えられる\n",
        "\n",
        "Pythonではハッシュ値計算のために乱数も使う<br>\n",
        "これがないと、hash floodingという攻撃に対して脆弱になる\n"
      ],
      "metadata": {
        "id": "PtYWKrLHOine"
      }
    },
    {
      "cell_type": "markdown",
      "source": [
        "さてハッシュ法の話が長引いたが、集合はハッシュ法を使っているので検索が速いという事実を知っていたらまあ良い\n",
        "\n",
        "では集合の要素はハッシュ値を持っているのか？調べよう\n",
        "\n",
        "hash(値)"
      ],
      "metadata": {
        "id": "iW3sGoxpT8_a"
      }
    },
    {
      "cell_type": "code",
      "source": [
        "a = {'black', 'blue', 'green', 'yellow', 'white', 'red'}\n",
        "print(hash('green'))\n",
        "print(hash('red'))\n",
        "print(id(a))\n",
        "#print(hash(a))\n"
      ],
      "metadata": {
        "id": "CQNzrTi1T2hd",
        "outputId": "f60f5283-2f41-4843-fdde-0510ad183ab8",
        "colab": {
          "base_uri": "https://localhost:8080/",
          "height": 266
        }
      },
      "execution_count": 39,
      "outputs": [
        {
          "output_type": "stream",
          "name": "stdout",
          "text": [
            "476181602543169597\n",
            "-3433233283196041729\n",
            "139999346293408\n"
          ]
        },
        {
          "output_type": "error",
          "ename": "TypeError",
          "evalue": "ignored",
          "traceback": [
            "\u001b[0;31m---------------------------------------------------------------------------\u001b[0m",
            "\u001b[0;31mTypeError\u001b[0m                                 Traceback (most recent call last)",
            "\u001b[0;32m<ipython-input-39-c23350898a47>\u001b[0m in \u001b[0;36m<module>\u001b[0;34m()\u001b[0m\n\u001b[1;32m      3\u001b[0m \u001b[0mprint\u001b[0m\u001b[0;34m(\u001b[0m\u001b[0mhash\u001b[0m\u001b[0;34m(\u001b[0m\u001b[0;34m'red'\u001b[0m\u001b[0;34m)\u001b[0m\u001b[0;34m)\u001b[0m\u001b[0;34m\u001b[0m\u001b[0;34m\u001b[0m\u001b[0m\n\u001b[1;32m      4\u001b[0m \u001b[0mprint\u001b[0m\u001b[0;34m(\u001b[0m\u001b[0mid\u001b[0m\u001b[0;34m(\u001b[0m\u001b[0ma\u001b[0m\u001b[0;34m)\u001b[0m\u001b[0;34m)\u001b[0m\u001b[0;34m\u001b[0m\u001b[0;34m\u001b[0m\u001b[0m\n\u001b[0;32m----> 5\u001b[0;31m \u001b[0mprint\u001b[0m\u001b[0;34m(\u001b[0m\u001b[0mhash\u001b[0m\u001b[0;34m(\u001b[0m\u001b[0ma\u001b[0m\u001b[0;34m)\u001b[0m\u001b[0;34m)\u001b[0m\u001b[0;34m\u001b[0m\u001b[0;34m\u001b[0m\u001b[0m\n\u001b[0m",
            "\u001b[0;31mTypeError\u001b[0m: unhashable type: 'set'"
          ]
        }
      ]
    },
    {
      "cell_type": "code",
      "source": [
        "names=['matstunami','ohara','marubayashi','inoue']\n",
        "print(id(names))\n",
        "print(id(names[0]))"
      ],
      "metadata": {
        "id": "sFUsKzl0gEL1",
        "outputId": "1c1bf1b0-a137-41d4-9497-9c0ea75e0330",
        "colab": {
          "base_uri": "https://localhost:8080/"
        }
      },
      "execution_count": 40,
      "outputs": [
        {
          "output_type": "stream",
          "name": "stdout",
          "text": [
            "139999198061584\n",
            "139999267136368\n"
          ]
        }
      ]
    },
    {
      "cell_type": "markdown",
      "source": [
        "色々出て来た<br>\n",
        "ところで、集合に入れられる変数は「ハッシュ値を持つもの」に限られることになる\n",
        "\n",
        "リストはハッシュ値を持たないので集合に入れられない！という<br>\n",
        "調べてみよう"
      ],
      "metadata": {
        "id": "1JfFrfP4Ukge"
      }
    },
    {
      "cell_type": "code",
      "source": [
        "hash((1,2,3))#タプルはハッシュ値を持つ"
      ],
      "metadata": {
        "id": "hm_mwneCU2ni",
        "outputId": "487d4180-1b99-433d-c426-053566d1bde3",
        "colab": {
          "base_uri": "https://localhost:8080/"
        }
      },
      "execution_count": 41,
      "outputs": [
        {
          "output_type": "execute_result",
          "data": {
            "text/plain": [
              "2528502973977326415"
            ]
          },
          "metadata": {},
          "execution_count": 41
        }
      ]
    },
    {
      "cell_type": "code",
      "source": [
        "hash([1,2,3])#リストはハッシュ値を持たない"
      ],
      "metadata": {
        "id": "d7jszuI5VBSL",
        "outputId": "80208954-f497-433a-fc97-8d010ef82572",
        "colab": {
          "base_uri": "https://localhost:8080/",
          "height": 174
        }
      },
      "execution_count": 42,
      "outputs": [
        {
          "output_type": "error",
          "ename": "TypeError",
          "evalue": "ignored",
          "traceback": [
            "\u001b[0;31m---------------------------------------------------------------------------\u001b[0m",
            "\u001b[0;31mTypeError\u001b[0m                                 Traceback (most recent call last)",
            "\u001b[0;32m<ipython-input-42-f7b63a7b3ab2>\u001b[0m in \u001b[0;36m<module>\u001b[0;34m()\u001b[0m\n\u001b[0;32m----> 1\u001b[0;31m \u001b[0mhash\u001b[0m\u001b[0;34m(\u001b[0m\u001b[0;34m[\u001b[0m\u001b[0;36m1\u001b[0m\u001b[0;34m,\u001b[0m\u001b[0;36m2\u001b[0m\u001b[0;34m,\u001b[0m\u001b[0;36m3\u001b[0m\u001b[0;34m]\u001b[0m\u001b[0;34m)\u001b[0m\u001b[0;31m#リストはハッシュ値を持たない\u001b[0m\u001b[0;34m\u001b[0m\u001b[0;34m\u001b[0m\u001b[0m\n\u001b[0m",
            "\u001b[0;31mTypeError\u001b[0m: unhashable type: 'list'"
          ]
        }
      ]
    },
    {
      "cell_type": "markdown",
      "source": [
        "それでこれらを集合に入れてみると定義出来たりできなかったりする"
      ],
      "metadata": {
        "id": "HzlKNqTZVOWR"
      }
    },
    {
      "cell_type": "code",
      "source": [
        "{(1,2,3)}"
      ],
      "metadata": {
        "id": "4FKwSF_0VTsk",
        "outputId": "637a1dc2-0f80-4b81-8490-b09b4a24da96",
        "colab": {
          "base_uri": "https://localhost:8080/"
        }
      },
      "execution_count": 43,
      "outputs": [
        {
          "output_type": "execute_result",
          "data": {
            "text/plain": [
              "{(1, 2, 3)}"
            ]
          },
          "metadata": {},
          "execution_count": 43
        }
      ]
    },
    {
      "cell_type": "code",
      "source": [
        "{[1,2,3]}"
      ],
      "metadata": {
        "id": "8tgBbO7MVXFy",
        "outputId": "d2b2d0fb-4b0d-415c-b228-9c89ccbf832d",
        "colab": {
          "base_uri": "https://localhost:8080/",
          "height": 174
        }
      },
      "execution_count": 44,
      "outputs": [
        {
          "output_type": "error",
          "ename": "TypeError",
          "evalue": "ignored",
          "traceback": [
            "\u001b[0;31m---------------------------------------------------------------------------\u001b[0m",
            "\u001b[0;31mTypeError\u001b[0m                                 Traceback (most recent call last)",
            "\u001b[0;32m<ipython-input-44-f70e4b6b8fd1>\u001b[0m in \u001b[0;36m<module>\u001b[0;34m()\u001b[0m\n\u001b[0;32m----> 1\u001b[0;31m \u001b[0;34m{\u001b[0m\u001b[0;34m[\u001b[0m\u001b[0;36m1\u001b[0m\u001b[0;34m,\u001b[0m\u001b[0;36m2\u001b[0m\u001b[0;34m,\u001b[0m\u001b[0;36m3\u001b[0m\u001b[0;34m]\u001b[0m\u001b[0;34m}\u001b[0m\u001b[0;34m\u001b[0m\u001b[0;34m\u001b[0m\u001b[0m\n\u001b[0m",
            "\u001b[0;31mTypeError\u001b[0m: unhashable type: 'list'"
          ]
        }
      ]
    },
    {
      "cell_type": "markdown",
      "source": [
        "## section4 辞書はキーに対する値を素早く引ける\n",
        "\n",
        "前節で最後にハッシュハッシュと言いながら集合での要素検索の速さを語った。この節で扱う「辞書」も、ハッシュ法で計算する\n",
        "\n",
        "{キー : 値}<br>\n",
        "こんな形をしているデータを、マッピング型と呼んでいる<br>\n",
        "これが多数連なって<br>\n",
        "{キー : 値,キー : 値,キー : 値, ....}となっていたりする\n",
        "\n",
        "・辞書型はミュータブルなので値の追加や削除ができる\n",
        "\n",
        "・キーの重複は不可！\n",
        "\n",
        "・キーはイミュータブル！だが値はミュータブル\n",
        "\n",
        "・キーを取り出すときの順序は、格納した時の順序\n",
        "\n",
        "強みは検索の高速性<br>\n",
        "更に当構造化事業では、データを取り出すときにこれを多用しているので<br>\n",
        "文法理解が必須！"
      ],
      "metadata": {
        "id": "bRL0y4n1VvQQ"
      }
    },
    {
      "cell_type": "code",
      "source": [
        "#辞書も集合と同じく波括弧で作成する\n",
        "{\"キー\":\"値\",\"キー1\":\"値1\"}"
      ],
      "metadata": {
        "id": "hn5cHqvyYTah",
        "outputId": "694f42e8-56d4-4ab0-e1b5-bad4694884a7",
        "colab": {
          "base_uri": "https://localhost:8080/"
        }
      },
      "execution_count": 45,
      "outputs": [
        {
          "output_type": "execute_result",
          "data": {
            "text/plain": [
              "{'キー': '値', 'キー1': '値1'}"
            ]
          },
          "metadata": {},
          "execution_count": 45
        }
      ]
    },
    {
      "cell_type": "code",
      "source": [
        "#キーが同じだと重複して一方が無くなる\n",
        "{'キー': '値', 'キー': '値1'}"
      ],
      "metadata": {
        "id": "i_XkIl0pYsv9",
        "outputId": "c4b96a0e-0053-4e73-98c2-51b8aeeae399",
        "colab": {
          "base_uri": "https://localhost:8080/"
        }
      },
      "execution_count": 46,
      "outputs": [
        {
          "output_type": "execute_result",
          "data": {
            "text/plain": [
              "{'キー': '値1'}"
            ]
          },
          "metadata": {},
          "execution_count": 46
        }
      ]
    },
    {
      "cell_type": "code",
      "source": [
        "#要素が1つだけの辞書\n",
        "{'鍵':'value'}"
      ],
      "metadata": {
        "id": "vw7qPEVvY8VF",
        "outputId": "bea5b89a-4f2e-4499-ef1b-e7aa4d7a58b9",
        "colab": {
          "base_uri": "https://localhost:8080/"
        }
      },
      "execution_count": 47,
      "outputs": [
        {
          "output_type": "execute_result",
          "data": {
            "text/plain": [
              "{'鍵': 'value'}"
            ]
          },
          "metadata": {},
          "execution_count": 47
        }
      ]
    },
    {
      "cell_type": "code",
      "source": [
        "#空の辞書、あるいは辞書の初期化\n",
        "{}"
      ],
      "metadata": {
        "id": "VrnbLkBSZJ80",
        "outputId": "f288017e-bf8d-48bb-e474-b4c88ade08e2",
        "colab": {
          "base_uri": "https://localhost:8080/"
        }
      },
      "execution_count": 48,
      "outputs": [
        {
          "output_type": "execute_result",
          "data": {
            "text/plain": [
              "{}"
            ]
          },
          "metadata": {},
          "execution_count": 48
        }
      ]
    },
    {
      "cell_type": "markdown",
      "source": [
        "コロンやカンマの間には半角スペースを出来れば入れろとの事(PEP8より)<br>\n",
        "以上183ページ途中"
      ],
      "metadata": {
        "id": "mpfDkh5OZXKN"
      }
    },
    {
      "cell_type": "code",
      "source": [
        "print({'ja': 'Japanese', 'en': 'English', 'fr': 'French'})\n",
        "{'ja': 'Japanese', 'en': 'English', 'fr': 'French', }\n",
        "#最後のカンマが自動的に消えた\n",
        "#出力がアルファベット順に変わってしまった"
      ],
      "metadata": {
        "id": "F6dVZgUzj8Vx",
        "outputId": "bdcf2a99-60d6-403d-9d9c-37803f2a8de7",
        "colab": {
          "base_uri": "https://localhost:8080/"
        }
      },
      "execution_count": 49,
      "outputs": [
        {
          "output_type": "stream",
          "name": "stdout",
          "text": [
            "{'ja': 'Japanese', 'en': 'English', 'fr': 'French'}\n"
          ]
        },
        {
          "output_type": "execute_result",
          "data": {
            "text/plain": [
              "{'en': 'English', 'fr': 'French', 'ja': 'Japanese'}"
            ]
          },
          "metadata": {},
          "execution_count": 49
        }
      ]
    },
    {
      "cell_type": "markdown",
      "source": [
        "集合では順序が保証されなかった<br>\n",
        "辞書で順序が保証されるようになったのは<br>\n",
        "CPython3.7から\n",
        "\n",
        "変数 = {キー: 値,}"
      ],
      "metadata": {
        "id": "nytRdPmGkVVA"
      }
    },
    {
      "cell_type": "code",
      "source": [
        "lang={'ja': 'Japanese', 'en': 'English', 'fr': 'French'}\n",
        "print(lang)\n",
        "#代入すると今度は変わらない。これ重要か"
      ],
      "metadata": {
        "id": "TrlNG5e4kqHZ",
        "outputId": "a9103466-0c9c-4768-aa9e-9f24cff27a43",
        "colab": {
          "base_uri": "https://localhost:8080/"
        }
      },
      "execution_count": 50,
      "outputs": [
        {
          "output_type": "stream",
          "name": "stdout",
          "text": [
            "{'ja': 'Japanese', 'en': 'English', 'fr': 'French'}\n"
          ]
        }
      ]
    },
    {
      "cell_type": "markdown",
      "source": [
        "#### dict(イテラブル)\n",
        "で辞書が出来る"
      ],
      "metadata": {
        "id": "Obovb1m-lnY6"
      }
    },
    {
      "cell_type": "code",
      "source": [
        "#イテラブル、というかリストとタプルで辞書もどきを作る\n",
        "dict([('ja','Japanese'),('en','English'),('fr','French')])\n",
        "#これもアルファベット順になってしまった"
      ],
      "metadata": {
        "id": "HQH3EwBhldRL",
        "outputId": "7a095fcd-76fa-4f5f-b773-aea4696de602",
        "colab": {
          "base_uri": "https://localhost:8080/"
        }
      },
      "execution_count": 51,
      "outputs": [
        {
          "output_type": "execute_result",
          "data": {
            "text/plain": [
              "{'en': 'English', 'fr': 'French', 'ja': 'Japanese'}"
            ]
          },
          "metadata": {},
          "execution_count": 51
        }
      ]
    },
    {
      "cell_type": "code",
      "source": [
        "tuplelang = dict([('ja','Japanese'),('en','English'),('fr','French')])\n",
        "print(tuplelang)"
      ],
      "metadata": {
        "id": "_2DBTQOzmSqB",
        "outputId": "a0614840-963d-40e0-d842-160269ea0aac",
        "colab": {
          "base_uri": "https://localhost:8080/"
        }
      },
      "execution_count": 52,
      "outputs": [
        {
          "output_type": "stream",
          "name": "stdout",
          "text": [
            "{'ja': 'Japanese', 'en': 'English', 'fr': 'French'}\n"
          ]
        }
      ]
    },
    {
      "cell_type": "markdown",
      "source": [
        "dict(キー=値, ...)の形でも辞書は作れる"
      ],
      "metadata": {
        "id": "uNXy2a0kmfZA"
      }
    },
    {
      "cell_type": "code",
      "source": [
        "dict(ja='Japanese',en='English',fr='French')"
      ],
      "metadata": {
        "id": "H3yxlZmpmm4B",
        "outputId": "4b9f6893-53f9-4b29-bcd9-770928df9f55",
        "colab": {
          "base_uri": "https://localhost:8080/"
        }
      },
      "execution_count": 53,
      "outputs": [
        {
          "output_type": "execute_result",
          "data": {
            "text/plain": [
              "{'en': 'English', 'fr': 'French', 'ja': 'Japanese'}"
            ]
          },
          "metadata": {},
          "execution_count": 53
        }
      ]
    },
    {
      "cell_type": "markdown",
      "source": [
        "辞書に同じキーを入れると、先に書いた値は後に書いた値で上書きされる！"
      ],
      "metadata": {
        "id": "2fafyLbNm4Fz"
      }
    },
    {
      "cell_type": "code",
      "source": [
        "{'en': 'English', 'fr': 'French', 'ja': 'Japanese', 'en': 'American', 'ja': '日本語'}"
      ],
      "metadata": {
        "id": "eMbrp9pZnA_q",
        "outputId": "1a6a3162-af91-4fec-deb8-3448fbd259f1",
        "colab": {
          "base_uri": "https://localhost:8080/"
        }
      },
      "execution_count": 54,
      "outputs": [
        {
          "output_type": "execute_result",
          "data": {
            "text/plain": [
              "{'en': 'American', 'fr': 'French', 'ja': '日本語'}"
            ]
          },
          "metadata": {},
          "execution_count": 54
        }
      ]
    },
    {
      "cell_type": "markdown",
      "source": [
        "#### 辞書に書いた値の取得\n",
        "辞書[キー]<br>\n",
        "で取れる"
      ],
      "metadata": {
        "id": "RB4y81SynT_b"
      }
    },
    {
      "cell_type": "code",
      "source": [
        "lang={'ja': 'Japanese', 'en': 'English', 'fr': 'French'}\n",
        "lang['en']"
      ],
      "metadata": {
        "id": "3FyIYYpynisr",
        "outputId": "87f96961-62b1-46ea-9de0-9f4f9156568e",
        "colab": {
          "base_uri": "https://localhost:8080/",
          "height": 35
        }
      },
      "execution_count": 55,
      "outputs": [
        {
          "output_type": "execute_result",
          "data": {
            "application/vnd.google.colaboratory.intrinsic+json": {
              "type": "string"
            },
            "text/plain": [
              "'English'"
            ]
          },
          "metadata": {},
          "execution_count": 55
        }
      ]
    },
    {
      "cell_type": "code",
      "source": [
        "#含まれないキーを指定するとエラー\n",
        "lang['de']"
      ],
      "metadata": {
        "id": "DM0_NpBnnl9I",
        "outputId": "030a51b3-9dbd-4bde-d552-f3275166c0e7",
        "colab": {
          "base_uri": "https://localhost:8080/",
          "height": 193
        }
      },
      "execution_count": 56,
      "outputs": [
        {
          "output_type": "error",
          "ename": "KeyError",
          "evalue": "ignored",
          "traceback": [
            "\u001b[0;31m---------------------------------------------------------------------------\u001b[0m",
            "\u001b[0;31mKeyError\u001b[0m                                  Traceback (most recent call last)",
            "\u001b[0;32m<ipython-input-56-f87c507a3b37>\u001b[0m in \u001b[0;36m<module>\u001b[0;34m()\u001b[0m\n\u001b[1;32m      1\u001b[0m \u001b[0;31m#含まれないキーを指定するとエラー\u001b[0m\u001b[0;34m\u001b[0m\u001b[0;34m\u001b[0m\u001b[0;34m\u001b[0m\u001b[0m\n\u001b[0;32m----> 2\u001b[0;31m \u001b[0mlang\u001b[0m\u001b[0;34m[\u001b[0m\u001b[0;34m'de'\u001b[0m\u001b[0;34m]\u001b[0m\u001b[0;34m\u001b[0m\u001b[0;34m\u001b[0m\u001b[0m\n\u001b[0m",
            "\u001b[0;31mKeyError\u001b[0m: 'de'"
          ]
        }
      ]
    },
    {
      "cell_type": "markdown",
      "source": [
        "プログラムによっては、無いものは無視して連続で調べたい時もあるので<br>\n",
        "そういう時はgetを使う<br>\n",
        "辞書.get(キー)<br>\n",
        "辞書.get(キー, デフォルト値)<br>\n",
        "後者はキーが辞書にない時はデフォルト値を出力する<br>\n",
        "指定しないと、Noneを出力する\n"
      ],
      "metadata": {
        "id": "eA5JMpAdn2Uk"
      }
    },
    {
      "cell_type": "code",
      "source": [
        "lang.get('de')"
      ],
      "metadata": {
        "id": "R1-3tVPkoXrk"
      },
      "execution_count": 57,
      "outputs": []
    },
    {
      "cell_type": "code",
      "source": [
        "print(lang.get('de'))"
      ],
      "metadata": {
        "id": "PO-1WLPwoaH6",
        "outputId": "feb66097-8936-4cad-af38-7836b0a9e730",
        "colab": {
          "base_uri": "https://localhost:8080/"
        }
      },
      "execution_count": 58,
      "outputs": [
        {
          "output_type": "stream",
          "name": "stdout",
          "text": [
            "None\n"
          ]
        }
      ]
    },
    {
      "cell_type": "code",
      "source": [
        "print(lang.get('de', 'German'))"
      ],
      "metadata": {
        "id": "nORPZ2QMof0C",
        "outputId": "41e08aa9-9386-42e4-d391-9f01fcbc56c9",
        "colab": {
          "base_uri": "https://localhost:8080/"
        }
      },
      "execution_count": 59,
      "outputs": [
        {
          "output_type": "stream",
          "name": "stdout",
          "text": [
            "German\n"
          ]
        }
      ]
    },
    {
      "cell_type": "markdown",
      "source": [
        "### 辞書に要素を追加、削除\n",
        "\n",
        "辞書[キー] = 値<br>\n",
        "で追加できる"
      ],
      "metadata": {
        "id": "tPmdXcOxo2Si"
      }
    },
    {
      "cell_type": "code",
      "source": [
        "lang = {}#辞書の初期化\n",
        "lang['de'] = 'German'\n",
        "print(lang)"
      ],
      "metadata": {
        "id": "HnLuUQ6Do-Zz",
        "outputId": "304d5dd0-1a1d-49a6-e31d-680ec5fd7485",
        "colab": {
          "base_uri": "https://localhost:8080/"
        }
      },
      "execution_count": 60,
      "outputs": [
        {
          "output_type": "stream",
          "name": "stdout",
          "text": [
            "{'de': 'German'}\n"
          ]
        }
      ]
    },
    {
      "cell_type": "code",
      "source": [
        "#\"German\"を\"Deusch\"に変えてみよう\n",
        "lang['de'] = 'Deusch'\n",
        "print(lang)"
      ],
      "metadata": {
        "id": "HFL71-qtpLfT",
        "outputId": "9384402e-8ce7-4fec-b2b3-84c6e6c436fe",
        "colab": {
          "base_uri": "https://localhost:8080/"
        }
      },
      "execution_count": 62,
      "outputs": [
        {
          "output_type": "stream",
          "name": "stdout",
          "text": [
            "{'de': 'Deusch'}\n"
          ]
        }
      ]
    },
    {
      "cell_type": "markdown",
      "source": [
        "#### 要素の削除\n",
        "del 辞書[キー]\n",
        "\n",
        "キーが辞書にないとエラー\n"
      ],
      "metadata": {
        "id": "SOTdpea7qF5T"
      }
    },
    {
      "cell_type": "code",
      "source": [
        "print(lang)"
      ],
      "metadata": {
        "id": "iFGKBdXDqPIc",
        "outputId": "d1a42ff3-76ac-4527-841c-5509b82b97ac",
        "colab": {
          "base_uri": "https://localhost:8080/"
        }
      },
      "execution_count": 63,
      "outputs": [
        {
          "output_type": "stream",
          "name": "stdout",
          "text": [
            "{'de': 'Deusch'}\n"
          ]
        }
      ]
    },
    {
      "cell_type": "code",
      "source": [
        "del lang['fr']"
      ],
      "metadata": {
        "id": "sJuKo6kGqYwT",
        "outputId": "118e6ea8-8b1e-4efb-8ef1-6611581efaa8",
        "colab": {
          "base_uri": "https://localhost:8080/",
          "height": 174
        }
      },
      "execution_count": 64,
      "outputs": [
        {
          "output_type": "error",
          "ename": "KeyError",
          "evalue": "ignored",
          "traceback": [
            "\u001b[0;31m---------------------------------------------------------------------------\u001b[0m",
            "\u001b[0;31mKeyError\u001b[0m                                  Traceback (most recent call last)",
            "\u001b[0;32m<ipython-input-64-5c0fd3ade000>\u001b[0m in \u001b[0;36m<module>\u001b[0;34m()\u001b[0m\n\u001b[0;32m----> 1\u001b[0;31m \u001b[0;32mdel\u001b[0m \u001b[0mlang\u001b[0m\u001b[0;34m[\u001b[0m\u001b[0;34m'fr'\u001b[0m\u001b[0;34m]\u001b[0m\u001b[0;34m\u001b[0m\u001b[0;34m\u001b[0m\u001b[0m\n\u001b[0m",
            "\u001b[0;31mKeyError\u001b[0m: 'fr'"
          ]
        }
      ]
    },
    {
      "cell_type": "code",
      "source": [
        "del lang[\"de\"]\n",
        "print(lang)"
      ],
      "metadata": {
        "id": "PMcqmifvqbqL",
        "outputId": "95f3a62a-39f9-46e5-b8be-998250a19498",
        "colab": {
          "base_uri": "https://localhost:8080/"
        }
      },
      "execution_count": 65,
      "outputs": [
        {
          "output_type": "stream",
          "name": "stdout",
          "text": [
            "{}\n"
          ]
        }
      ]
    },
    {
      "cell_type": "markdown",
      "source": [
        "#### popメソッドで削除するとき、デフォルト値があれば、キーが無くてもエラーは出ない\n",
        "\n",
        "辞書.pop(キー, デフォルト値)"
      ],
      "metadata": {
        "id": "eFe6QN3RqsVl"
      }
    },
    {
      "cell_type": "code",
      "source": [
        "lang = {'ja': 'Japanese', 'en': 'English'}\n",
        "\n",
        "print(lang.pop('fr', 'non!'))"
      ],
      "metadata": {
        "id": "WHd1RRtHq6zU",
        "outputId": "1112582f-c591-4774-e1f5-a6e8dd23fd17",
        "colab": {
          "base_uri": "https://localhost:8080/"
        }
      },
      "execution_count": 66,
      "outputs": [
        {
          "output_type": "stream",
          "name": "stdout",
          "text": [
            "non!\n"
          ]
        }
      ]
    },
    {
      "cell_type": "code",
      "source": [
        "print(lang)"
      ],
      "metadata": {
        "id": "ZtfWDG8ysAtt",
        "outputId": "a4952039-66ef-4169-8294-738be788a308",
        "colab": {
          "base_uri": "https://localhost:8080/"
        }
      },
      "execution_count": 67,
      "outputs": [
        {
          "output_type": "stream",
          "name": "stdout",
          "text": [
            "{'ja': 'Japanese', 'en': 'English'}\n"
          ]
        }
      ]
    },
    {
      "cell_type": "markdown",
      "source": [
        "全ての要素を無くすなら\n",
        "\n",
        "辞書.clear()"
      ],
      "metadata": {
        "id": "YOR8_1-lsEot"
      }
    },
    {
      "cell_type": "code",
      "source": [
        "lang.clear()\n",
        "print(lang)"
      ],
      "metadata": {
        "id": "As-HPkLOsK7m",
        "outputId": "3bdafae2-366d-4b5d-d616-c302fff85b0c",
        "colab": {
          "base_uri": "https://localhost:8080/"
        }
      },
      "execution_count": 68,
      "outputs": [
        {
          "output_type": "stream",
          "name": "stdout",
          "text": [
            "{}\n"
          ]
        }
      ]
    },
    {
      "cell_type": "markdown",
      "source": [
        "### まだある便利な辞書の操作\n",
        "\n",
        "要素数はlen\n",
        "\n",
        "len(辞書)"
      ],
      "metadata": {
        "id": "MJu5OOj5sQ09"
      }
    },
    {
      "cell_type": "code",
      "source": [
        "lang={'ja': 'Japanese', 'en': 'English', 'fr': 'French'}\n",
        "len(lang)"
      ],
      "metadata": {
        "id": "WBWd3YsVsY8t",
        "outputId": "6cc7b869-b6e3-49f3-b806-4596d249bada",
        "colab": {
          "base_uri": "https://localhost:8080/"
        }
      },
      "execution_count": 70,
      "outputs": [
        {
          "output_type": "execute_result",
          "data": {
            "text/plain": [
              "3"
            ]
          },
          "metadata": {},
          "execution_count": 70
        }
      ]
    },
    {
      "cell_type": "markdown",
      "source": [
        "辞書が指定したキーを含むかをチェックするinおよびnot in\n",
        "\n",
        "キー in 辞書\n",
        "キー not in 辞書"
      ],
      "metadata": {
        "id": "VS3T16CyskUt"
      }
    },
    {
      "cell_type": "code",
      "source": [
        "lang={'ja': 'Japanese', 'en': 'English', 'fr': 'French'}\n",
        "print('fr' in lang)\n",
        "print('de' in lang)\n",
        "print('fr' not in lang)\n",
        "print('de' not in lang)"
      ],
      "metadata": {
        "id": "bIP8S5nbsxSt",
        "outputId": "9f32facb-cb0c-4927-d6e6-de72b6a520c9",
        "colab": {
          "base_uri": "https://localhost:8080/"
        }
      },
      "execution_count": 71,
      "outputs": [
        {
          "output_type": "stream",
          "name": "stdout",
          "text": [
            "True\n",
            "False\n",
            "False\n",
            "True\n"
          ]
        }
      ]
    },
    {
      "cell_type": "markdown",
      "source": [
        "次に挙げるものは、辞書をfor文などで回す時に重要<br>\n",
        "何しろ、キーや値や辞書が、リストというかイテラブルな形で得られる\n",
        "\n",
        "キーの一覧を取得<br>\n",
        "辞書.keys()\n",
        "\n",
        "値の一覧を取得<br>\n",
        "辞書.values()\n",
        "\n",
        "キーと値の組の一覧を取得<br>\n",
        "辞書.items()<br>\n",
        "この時はリストの中がタプルになって得られる"
      ],
      "metadata": {
        "id": "U7ZLxgkBtR41"
      }
    },
    {
      "cell_type": "code",
      "source": [
        "print(lang)\n",
        "\n",
        "#これでうまく動かなかったのであえて残す\n",
        "print(lang.keys())\n",
        "\n",
        "print(lang.values())\n",
        "\n",
        "print(lang.items())\n"
      ],
      "metadata": {
        "id": "1x4Hxtm5tRh1",
        "outputId": "f68ae727-38ac-455b-9cb4-b230f4ac0550",
        "colab": {
          "base_uri": "https://localhost:8080/"
        }
      },
      "execution_count": 72,
      "outputs": [
        {
          "output_type": "stream",
          "name": "stdout",
          "text": [
            "{'ja': 'Japanese', 'en': 'English', 'fr': 'French'}\n",
            "dict_keys(['ja', 'en', 'fr'])\n",
            "dict_values(['Japanese', 'English', 'French'])\n",
            "dict_items([('ja', 'Japanese'), ('en', 'English'), ('fr', 'French')])\n"
          ]
        }
      ]
    },
    {
      "cell_type": "code",
      "source": [
        "#テキスト通りに\n",
        "print(list(lang.keys()))\n",
        "\n",
        "print(list(lang.values()))\n",
        "\n",
        "print(list(lang.items()))\n",
        "\n",
        "print(list(lang.items())[0])"
      ],
      "metadata": {
        "id": "EPYt_L5auleY",
        "outputId": "eeb0d0d8-381d-4f14-8156-25ea8ef6b82a",
        "colab": {
          "base_uri": "https://localhost:8080/"
        }
      },
      "execution_count": 73,
      "outputs": [
        {
          "output_type": "stream",
          "name": "stdout",
          "text": [
            "['ja', 'en', 'fr']\n",
            "['Japanese', 'English', 'French']\n",
            "[('ja', 'Japanese'), ('en', 'English'), ('fr', 'French')]\n",
            "('ja', 'Japanese')\n"
          ]
        }
      ]
    },
    {
      "cell_type": "markdown",
      "source": [
        "ところでちょっとこの前嵌ったのが、list(辞書名)としても<br>\n",
        "辞書がリスト化できるわけでない、ということ<br>\n",
        "キーだけリスト化される"
      ],
      "metadata": {
        "id": "ow4u5Tifu4ww"
      }
    },
    {
      "cell_type": "code",
      "source": [
        "print(lang)\n",
        "\n",
        "print(list(lang))#下と同じ意味になってしまう\n",
        "print(list(lang.keys()))"
      ],
      "metadata": {
        "id": "3isVpp_dvEan",
        "outputId": "bfc58718-aff1-4920-922d-3ff7280baf3e",
        "colab": {
          "base_uri": "https://localhost:8080/"
        }
      },
      "execution_count": 74,
      "outputs": [
        {
          "output_type": "stream",
          "name": "stdout",
          "text": [
            "{'ja': 'Japanese', 'en': 'English', 'fr': 'French'}\n",
            "['ja', 'en', 'fr']\n",
            "['ja', 'en', 'fr']\n"
          ]
        }
      ]
    }
  ]
}