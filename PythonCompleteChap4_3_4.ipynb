{
  "nbformat": 4,
  "nbformat_minor": 0,
  "metadata": {
    "colab": {
      "name": "PythonCompleteChap4_3_4.ipynb",
      "provenance": [],
      "authorship_tag": "ABX9TyOV5Y6MNEjslIt9A5vUIjng",
      "include_colab_link": true
    },
    "kernelspec": {
      "name": "python3",
      "display_name": "Python 3"
    },
    "language_info": {
      "name": "python"
    }
  },
  "cells": [
    {
      "cell_type": "markdown",
      "metadata": {
        "id": "view-in-github",
        "colab_type": "text"
      },
      "source": [
        "<a href=\"https://colab.research.google.com/github/inoueshinji8/PythonStudy/blob/main/PythonCompleteChap4_3_4.ipynb\" target=\"_parent\"><img src=\"https://colab.research.google.com/assets/colab-badge.svg\" alt=\"Open In Colab\"/></a>"
      ]
    },
    {
      "cell_type": "markdown",
      "source": [
        "##section3 値の有無を瞬時に判定するには集合を利用する\n",
        "\n",
        "個人的にはほとんど使ったことがない。辞書と混同してる節がある<br>\n",
        "\n",
        "・ミュータブルなので要素の追加や削除ができる<br>\n",
        "・同じ値を重複して格納できない<br>\n",
        "・値を取り出す時の順序も保証されない<br>\n",
        "・値はイミュータブルな値だけ。集合自体はミュータブルなので、集合の集合は作れない<br>"
      ],
      "metadata": {
        "id": "CFGkmndRqP6G"
      }
    },
    {
      "cell_type": "markdown",
      "source": [
        "###集合は波かっこ(中かっこ)で作成する{ }\n",
        "\n",
        "{値, ...}\n",
        "{値}要素が1つの時\n",
        "set()要素ゼロ個の時 ← これ間違いやすい"
      ],
      "metadata": {
        "id": "843Y1Pjtq5fu"
      }
    },
    {
      "cell_type": "code",
      "execution_count": null,
      "metadata": {
        "colab": {
          "base_uri": "https://localhost:8080/"
        },
        "id": "QwJjT98oqLUc",
        "outputId": "262d087d-f290-447a-acd7-6ff9a6e81a19"
      },
      "outputs": [
        {
          "output_type": "execute_result",
          "data": {
            "text/plain": [
              "{'blue', 'green', 'red'}"
            ]
          },
          "metadata": {},
          "execution_count": 1
        }
      ],
      "source": [
        "{'blue','red','green',}\n",
        "#表示する順序バラバラ。なお、一番最後にあえて,を入れてみたがちゃんと消えている"
      ]
    },
    {
      "cell_type": "code",
      "source": [
        "#集合を変数に代入\n",
        "color = {'blue', 'green', 'red'}\n",
        "print(color)"
      ],
      "metadata": {
        "colab": {
          "base_uri": "https://localhost:8080/"
        },
        "id": "xxAPeXK5scZo",
        "outputId": "fc10a1f2-3a29-4adc-d8e2-49b19a086c9a"
      },
      "execution_count": null,
      "outputs": [
        {
          "output_type": "stream",
          "name": "stdout",
          "text": [
            "{'red', 'blue', 'green'}\n"
          ]
        }
      ]
    },
    {
      "cell_type": "markdown",
      "source": [
        "###set関数(厳密にはsetクラス)でイテラブルから集合を作成\n",
        "set(イテラブル)"
      ],
      "metadata": {
        "id": "g-uJhWYKuFsg"
      }
    },
    {
      "cell_type": "code",
      "source": [
        "set(range(16))"
      ],
      "metadata": {
        "colab": {
          "base_uri": "https://localhost:8080/"
        },
        "id": "9iR_ebkPuPgH",
        "outputId": "202f329e-0c2d-47ac-819e-ed4977800eb6"
      },
      "execution_count": null,
      "outputs": [
        {
          "output_type": "execute_result",
          "data": {
            "text/plain": [
              "{0, 1, 2, 3, 4, 5, 6, 7, 8, 9, 10, 11, 12, 13, 14, 15}"
            ]
          },
          "metadata": {},
          "execution_count": 4
        }
      ]
    },
    {
      "cell_type": "code",
      "source": [
        "set('abcde')"
      ],
      "metadata": {
        "colab": {
          "base_uri": "https://localhost:8080/"
        },
        "id": "4Hcx86tSuVYw",
        "outputId": "07fe4cf7-8f52-4115-fa92-23768c5248ff"
      },
      "execution_count": null,
      "outputs": [
        {
          "output_type": "execute_result",
          "data": {
            "text/plain": [
              "{'a', 'b', 'c', 'd', 'e'}"
            ]
          },
          "metadata": {},
          "execution_count": 5
        }
      ]
    },
    {
      "cell_type": "markdown",
      "source": [
        "だが、同じ値を格納できないので注意！"
      ],
      "metadata": {
        "id": "rEySEBNQuY9o"
      }
    },
    {
      "cell_type": "code",
      "source": [
        "set(\"anaconda\")"
      ],
      "metadata": {
        "colab": {
          "base_uri": "https://localhost:8080/"
        },
        "id": "JFpg9XMyudPp",
        "outputId": "ccc246d1-3027-4d86-8dcb-1fa7fe9e17eb"
      },
      "execution_count": null,
      "outputs": [
        {
          "output_type": "execute_result",
          "data": {
            "text/plain": [
              "{'a', 'c', 'd', 'n', 'o'}"
            ]
          },
          "metadata": {},
          "execution_count": 6
        }
      ]
    },
    {
      "cell_type": "markdown",
      "source": [
        "###inとnot inで値の有無を調べる\n",
        "所属検査演算<br>\n",
        "値 in 集合<br>\n",
        "値 not in 集合<br>\n",
        "\n",
        "他のデータ構造でもin,not inが使える<br>"
      ],
      "metadata": {
        "id": "Hg-4uYeZL4yo"
      }
    },
    {
      "cell_type": "code",
      "source": [
        "color = {'blue','red','green'}\n",
        "print(color)\n",
        "print('red' in color)\n",
        "print('white' in color)\n",
        "print('green' not in color)\n",
        "print('black' not in color)"
      ],
      "metadata": {
        "id": "p4570aMxMVmQ",
        "outputId": "fedbc69e-eed5-4d5c-b8b1-2f975b235b65",
        "colab": {
          "base_uri": "https://localhost:8080/"
        }
      },
      "execution_count": null,
      "outputs": [
        {
          "output_type": "stream",
          "name": "stdout",
          "text": [
            "{'red', 'blue', 'green'}\n",
            "True\n",
            "False\n",
            "False\n",
            "True\n"
          ]
        }
      ]
    },
    {
      "cell_type": "markdown",
      "source": [
        "集合の要素はイミュータブルならいいのでタプルでもいい<br>\n",
        "簡単なユーザ名とパスワードの判定器"
      ],
      "metadata": {
        "id": "Xc95z3FTM34G"
      }
    },
    {
      "cell_type": "code",
      "source": [
        "login = {('admin','abc123'),('guest','ghi1456')}\n",
        "print(login)"
      ],
      "metadata": {
        "id": "Q3kBoUz-NEIS",
        "outputId": "4c6faedc-443c-4fb5-cec4-344d16f4488a",
        "colab": {
          "base_uri": "https://localhost:8080/"
        }
      },
      "execution_count": null,
      "outputs": [
        {
          "output_type": "stream",
          "name": "stdout",
          "text": [
            "{('admin', 'abc123'), ('guest', 'ghi1456')}\n"
          ]
        }
      ]
    },
    {
      "cell_type": "code",
      "source": [
        "('guest','ghi1456') in login"
      ],
      "metadata": {
        "id": "K1Ii70toNX5V",
        "outputId": "47fbadbf-d48f-460a-85df-3d2868463385",
        "colab": {
          "base_uri": "https://localhost:8080/"
        }
      },
      "execution_count": null,
      "outputs": [
        {
          "output_type": "execute_result",
          "data": {
            "text/plain": [
              "True"
            ]
          },
          "metadata": {},
          "execution_count": 4
        }
      ]
    },
    {
      "cell_type": "code",
      "source": [
        "print(('guest','xyz789') in login)\n",
        "print(('root','abc123') in login)\n",
        "print(('root','xyz789') in login)\n"
      ],
      "metadata": {
        "id": "fPpfsuJENfaf",
        "outputId": "370731f8-8d4c-4062-c47b-2cf5a2dcfa89",
        "colab": {
          "base_uri": "https://localhost:8080/"
        }
      },
      "execution_count": null,
      "outputs": [
        {
          "output_type": "stream",
          "name": "stdout",
          "text": [
            "False\n",
            "False\n",
            "False\n"
          ]
        }
      ]
    },
    {
      "cell_type": "markdown",
      "source": [
        "in,not inは文字列でも使える"
      ],
      "metadata": {
        "id": "BGSZkdzxNxUu"
      }
    },
    {
      "cell_type": "code",
      "source": [
        "print('t' in 'python')\n",
        "print('s' in 'python')\n",
        "print('t' not in 'python')\n",
        "print('s' not in 'python')"
      ],
      "metadata": {
        "id": "il-dhb7GN1Am",
        "outputId": "f30883f3-da57-4121-e6db-748f5201841e",
        "colab": {
          "base_uri": "https://localhost:8080/"
        }
      },
      "execution_count": null,
      "outputs": [
        {
          "output_type": "stream",
          "name": "stdout",
          "text": [
            "True\n",
            "False\n",
            "False\n",
            "True\n"
          ]
        }
      ]
    },
    {
      "cell_type": "markdown",
      "source": [
        "###in,not inの実行速度を調べる\n",
        "\n",
        "!python -m timeit -s \"準備の処理\" \"プログラム\""
      ],
      "metadata": {
        "id": "eaiE6LzlOBgu"
      }
    },
    {
      "cell_type": "code",
      "source": [
        "!python -m timeit -s \"x=set(range(100))\" \"50 in x\""
      ],
      "metadata": {
        "id": "oqaftiGZOEm-",
        "outputId": "0c1613d9-15c6-43ad-cea2-856edc2939c0",
        "colab": {
          "base_uri": "https://localhost:8080/"
        }
      },
      "execution_count": null,
      "outputs": [
        {
          "output_type": "stream",
          "name": "stdout",
          "text": [
            "10000000 loops, best of 5: 29.5 nsec per loop\n"
          ]
        }
      ]
    },
    {
      "cell_type": "code",
      "source": [
        "!python -m timeit -s \"x=list(range(100))\" \"50 in x\""
      ],
      "metadata": {
        "id": "oOzzPJixOfQg",
        "outputId": "3c90e76e-de3f-4fec-9762-6e4319c81df8",
        "colab": {
          "base_uri": "https://localhost:8080/"
        }
      },
      "execution_count": null,
      "outputs": [
        {
          "output_type": "stream",
          "name": "stdout",
          "text": [
            "500000 loops, best of 5: 782 nsec per loop\n"
          ]
        }
      ]
    },
    {
      "cell_type": "markdown",
      "source": [
        "やっぱり集合は早い<br>\n",
        "後で紹介しているハッシュ法のお陰"
      ],
      "metadata": {
        "id": "iMHaF8trO4Wh"
      }
    },
    {
      "cell_type": "markdown",
      "source": [
        "###集合に対する要素の追加と削除\n",
        "\n",
        "集合.add(値) append()ではないんだな<br>\n",
        "集合 |= {値, ...}"
      ],
      "metadata": {
        "id": "X42FzjEYryi1"
      }
    },
    {
      "cell_type": "code",
      "source": [
        "color=set()\n",
        "print(\"初期化できているか？\")\n",
        "print(color)\n",
        "color.add(\"blue\")\n",
        "print(color)\n",
        "color |= {\"red\",\"green\"}\n",
        "print(color)"
      ],
      "metadata": {
        "id": "R6ABH0vNsE7b",
        "outputId": "b14c6e79-b3d9-49f2-8cf9-ab2c651f28b7",
        "colab": {
          "base_uri": "https://localhost:8080/"
        }
      },
      "execution_count": 1,
      "outputs": [
        {
          "output_type": "stream",
          "name": "stdout",
          "text": [
            "初期化できているか？\n",
            "set()\n",
            "{'blue'}\n",
            "{'green', 'red', 'blue'}\n"
          ]
        }
      ]
    },
    {
      "cell_type": "code",
      "source": [
        "#重複要素を加えようとしても何も起きない\n",
        "print(color)\n",
        "color.add('blue')\n",
        "print(color)"
      ],
      "metadata": {
        "id": "S32Z6KRssdmk",
        "outputId": "2633768d-a701-4cb4-cf21-012e81b7265c",
        "colab": {
          "base_uri": "https://localhost:8080/"
        }
      },
      "execution_count": 2,
      "outputs": [
        {
          "output_type": "stream",
          "name": "stdout",
          "text": [
            "{'green', 'red', 'blue'}\n",
            "{'green', 'red', 'blue'}\n"
          ]
        }
      ]
    },
    {
      "cell_type": "code",
      "source": [
        "#既存要素とまだ入っていない要素を同時に累算代入\n",
        "color |= {\"green\",\"yello\"}\n",
        "color\n",
        "#まだ無かったyellowだけ入った"
      ],
      "metadata": {
        "id": "OMCg4m7VstFD",
        "outputId": "af046d4a-d375-45ed-9a7e-556d6c27b59f",
        "colab": {
          "base_uri": "https://localhost:8080/"
        }
      },
      "execution_count": 3,
      "outputs": [
        {
          "output_type": "execute_result",
          "data": {
            "text/plain": [
              "{'blue', 'green', 'red', 'yello'}"
            ]
          },
          "metadata": {},
          "execution_count": 3
        }
      ]
    },
    {
      "cell_type": "markdown",
      "source": [
        "#### 要素の削除\n",
        "集合.remove(値) その値が集合に無いとエラー\n",
        "集合.discard(値) その値が集合に無いと何も起こらない\n",
        "\n",
        "集合 -= {値, ...} 累算代入文\n"
      ],
      "metadata": {
        "id": "wcXLD5RvtOBc"
      }
    },
    {
      "cell_type": "code",
      "source": [
        "print(color)\n",
        "color.remove('blue')\n",
        "print(color)\n",
        "color.discard(\"red\")\n",
        "print(color)"
      ],
      "metadata": {
        "id": "VzRn6HuttoGX",
        "outputId": "0613dcf2-c555-46cc-8e3a-32251d65403b",
        "colab": {
          "base_uri": "https://localhost:8080/"
        }
      },
      "execution_count": 4,
      "outputs": [
        {
          "output_type": "stream",
          "name": "stdout",
          "text": [
            "{'yello', 'blue', 'green', 'red'}\n",
            "{'yello', 'green', 'red'}\n",
            "{'yello', 'green'}\n"
          ]
        }
      ]
    },
    {
      "cell_type": "code",
      "source": [
        "#無い値を無理やりremoveしようとするとエラー\n",
        "print(color)\n",
        "color.remove(\"blue\")"
      ],
      "metadata": {
        "id": "PRs-Vi-ct3p8",
        "outputId": "e49a33b4-9833-48a5-cc5c-443dd70f22f4",
        "colab": {
          "base_uri": "https://localhost:8080/",
          "height": 222
        }
      },
      "execution_count": 5,
      "outputs": [
        {
          "output_type": "stream",
          "name": "stdout",
          "text": [
            "{'yello', 'green'}\n"
          ]
        },
        {
          "output_type": "error",
          "ename": "KeyError",
          "evalue": "ignored",
          "traceback": [
            "\u001b[0;31m---------------------------------------------------------------------------\u001b[0m",
            "\u001b[0;31mKeyError\u001b[0m                                  Traceback (most recent call last)",
            "\u001b[0;32m<ipython-input-5-dd1fb19302ed>\u001b[0m in \u001b[0;36m<module>\u001b[0;34m()\u001b[0m\n\u001b[1;32m      1\u001b[0m \u001b[0;31m#無い値を無理やりremoveしようとするとエラー\u001b[0m\u001b[0;34m\u001b[0m\u001b[0;34m\u001b[0m\u001b[0;34m\u001b[0m\u001b[0m\n\u001b[1;32m      2\u001b[0m \u001b[0mprint\u001b[0m\u001b[0;34m(\u001b[0m\u001b[0mcolor\u001b[0m\u001b[0;34m)\u001b[0m\u001b[0;34m\u001b[0m\u001b[0;34m\u001b[0m\u001b[0m\n\u001b[0;32m----> 3\u001b[0;31m \u001b[0mcolor\u001b[0m\u001b[0;34m.\u001b[0m\u001b[0mremove\u001b[0m\u001b[0;34m(\u001b[0m\u001b[0;34m\"blue\"\u001b[0m\u001b[0;34m)\u001b[0m\u001b[0;34m\u001b[0m\u001b[0;34m\u001b[0m\u001b[0m\n\u001b[0m",
            "\u001b[0;31mKeyError\u001b[0m: 'blue'"
          ]
        }
      ]
    },
    {
      "cell_type": "code",
      "source": [
        "#無い値をdiscardしようとしても何も起こらない\n",
        "print(color)\n",
        "color.discard(\"blue\")\n",
        "print(color)"
      ],
      "metadata": {
        "id": "iZNUiZ0EuCDs",
        "outputId": "556112d6-1a41-4e4e-dccb-391855360c37",
        "colab": {
          "base_uri": "https://localhost:8080/"
        }
      },
      "execution_count": 6,
      "outputs": [
        {
          "output_type": "stream",
          "name": "stdout",
          "text": [
            "{'yello', 'green'}\n",
            "{'yello', 'green'}\n"
          ]
        }
      ]
    },
    {
      "cell_type": "markdown",
      "source": [
        "#### 累算代入文で複数の値を同時に削除"
      ],
      "metadata": {
        "id": "z16T22j2uPkz"
      }
    },
    {
      "cell_type": "code",
      "source": [
        "print(color)\n",
        "color -= {'yello', 'white'}\n",
        "print(color)\n",
        "#yellowだけなくなった"
      ],
      "metadata": {
        "id": "HD_JeKWyuTb8",
        "outputId": "4ea904ee-ae41-44fb-86f9-9ce13369468c",
        "colab": {
          "base_uri": "https://localhost:8080/"
        }
      },
      "execution_count": 7,
      "outputs": [
        {
          "output_type": "stream",
          "name": "stdout",
          "text": [
            "{'yello', 'green'}\n",
            "{'green'}\n"
          ]
        }
      ]
    },
    {
      "cell_type": "markdown",
      "source": [
        "集合の任意の要素を削除するpopメソッド<br>\n",
        "集合.pop()<br>\n",
        "集合の全ての要素を削除するclearメソッド<br>\n",
        "集合.clear()<br>"
      ],
      "metadata": {
        "id": "WrQ8UHpXukG9"
      }
    },
    {
      "cell_type": "code",
      "source": [
        "alphabet = set('abcdefg')\n",
        "print(alphabet)\n",
        "#バラバラに並ぶ"
      ],
      "metadata": {
        "id": "ta7fy3kHvXet",
        "outputId": "a61add9a-0e83-492e-e901-88aac66b8e42",
        "colab": {
          "base_uri": "https://localhost:8080/"
        }
      },
      "execution_count": 8,
      "outputs": [
        {
          "output_type": "stream",
          "name": "stdout",
          "text": [
            "{'a', 'f', 'b', 'g', 'e', 'd', 'c'}\n"
          ]
        }
      ]
    },
    {
      "cell_type": "code",
      "source": [
        "alphabet.pop()"
      ],
      "metadata": {
        "id": "J1oZlrZdvkTu",
        "outputId": "a8569666-e858-4950-8aa1-4ece2435ebd0",
        "colab": {
          "base_uri": "https://localhost:8080/",
          "height": 35
        }
      },
      "execution_count": 9,
      "outputs": [
        {
          "output_type": "execute_result",
          "data": {
            "application/vnd.google.colaboratory.intrinsic+json": {
              "type": "string"
            },
            "text/plain": [
              "'a'"
            ]
          },
          "metadata": {},
          "execution_count": 9
        }
      ]
    },
    {
      "cell_type": "code",
      "source": [
        "print(alphabet)"
      ],
      "metadata": {
        "id": "cWoAIT6MvoCl",
        "outputId": "c2c20513-e8e2-4dfe-fecb-fb23416794c8",
        "colab": {
          "base_uri": "https://localhost:8080/"
        }
      },
      "execution_count": 10,
      "outputs": [
        {
          "output_type": "stream",
          "name": "stdout",
          "text": [
            "{'f', 'b', 'g', 'e', 'd', 'c'}\n"
          ]
        }
      ]
    },
    {
      "cell_type": "code",
      "source": [
        "alphabet.pop()"
      ],
      "metadata": {
        "id": "llj1iZt7vwML",
        "outputId": "2caaad98-f316-4da1-d2d6-85c87d69bb7d",
        "colab": {
          "base_uri": "https://localhost:8080/",
          "height": 35
        }
      },
      "execution_count": 11,
      "outputs": [
        {
          "output_type": "execute_result",
          "data": {
            "application/vnd.google.colaboratory.intrinsic+json": {
              "type": "string"
            },
            "text/plain": [
              "'f'"
            ]
          },
          "metadata": {},
          "execution_count": 11
        }
      ]
    },
    {
      "cell_type": "code",
      "source": [
        "print(alphabet)\n",
        "#何か行儀がいいなあ？"
      ],
      "metadata": {
        "id": "sDxI0zEwv43u",
        "outputId": "e7fe9ddc-b2ec-479c-8ee1-804ac9c522ba",
        "colab": {
          "base_uri": "https://localhost:8080/"
        }
      },
      "execution_count": 12,
      "outputs": [
        {
          "output_type": "stream",
          "name": "stdout",
          "text": [
            "{'b', 'g', 'e', 'd', 'c'}\n"
          ]
        }
      ]
    },
    {
      "cell_type": "code",
      "source": [
        "alphabet.clear()"
      ],
      "metadata": {
        "id": "DhpyGIQhwFO-"
      },
      "execution_count": 13,
      "outputs": []
    },
    {
      "cell_type": "code",
      "source": [
        "alphabet"
      ],
      "metadata": {
        "id": "jk74eALowIwu",
        "outputId": "babc63db-9313-421e-f5ef-3fed8806b99d",
        "colab": {
          "base_uri": "https://localhost:8080/"
        }
      },
      "execution_count": 14,
      "outputs": [
        {
          "output_type": "execute_result",
          "data": {
            "text/plain": [
              "set()"
            ]
          },
          "metadata": {},
          "execution_count": 14
        }
      ]
    },
    {
      "cell_type": "markdown",
      "source": [
        "### 集合に特有の演算\n",
        "\n",
        "集合A | 集合B AまたはBに含まれる要素の集合(和集合)<br>\n",
        "集合A & 集合B AかつBに含まれる要素の集合(積集合)<br>\n",
        "集合A - 集合B AからBに含まれる要素を削除した集合(積集合)<br>\n",
        "集合A ^ 集合B AまたはBの片方だけに含まれる要素の集合(対称差)(排他的(論理でない)和？XOR)<br>"
      ],
      "metadata": {
        "id": "Y5Tji3ouwVrG"
      }
    },
    {
      "cell_type": "markdown",
      "source": [
        "集合A |= 集合B AにBの要素を追加<br>\n",
        "集合A &= 集合B AからBに含まれない要素を削除<br>\n",
        "集合A -= 集合B AからBに含まれる要素を削除<br>\n",
        "集合A ^= 集合B AにBの要素を追加し、共通要素を削除<br>\n"
      ],
      "metadata": {
        "id": "j6rEAShDxgWv"
      }
    },
    {
      "cell_type": "code",
      "source": [
        "a = {'blue','red','green','white'}\n",
        "print(a)\n",
        "b = {'blue','red','yellow','black'}\n",
        "print(b)"
      ],
      "metadata": {
        "id": "xH2SFLGsxfcN",
        "outputId": "9ab464c6-a289-480d-901a-d94834061fb4",
        "colab": {
          "base_uri": "https://localhost:8080/"
        }
      },
      "execution_count": 15,
      "outputs": [
        {
          "output_type": "stream",
          "name": "stdout",
          "text": [
            "{'white', 'green', 'red', 'blue'}\n",
            "{'yellow', 'black', 'red', 'blue'}\n"
          ]
        }
      ]
    },
    {
      "cell_type": "code",
      "source": [
        "print(a|b)\n",
        "print(a&b)\n",
        "print(a-b)\n",
        "print(b-a)\n",
        "print(a^b)#両方に無い要素だけ"
      ],
      "metadata": {
        "id": "KWCDBpZzyvo3",
        "outputId": "273e6faf-9134-4f7f-c17b-91494d6205ea",
        "colab": {
          "base_uri": "https://localhost:8080/"
        }
      },
      "execution_count": 16,
      "outputs": [
        {
          "output_type": "stream",
          "name": "stdout",
          "text": [
            "{'black', 'blue', 'green', 'yellow', 'white', 'red'}\n",
            "{'red', 'blue'}\n",
            "{'white', 'green'}\n",
            "{'yellow', 'black'}\n",
            "{'black', 'green', 'yellow', 'white'}\n"
          ]
        }
      ]
    },
    {
      "cell_type": "code",
      "source": [
        "#lenで集合の要素数が出るので、和集合の要素数を求めてみる\n",
        "print(a)\n",
        "print(len(a))\n",
        "print(a|b)\n",
        "print(len(a|b))"
      ],
      "metadata": {
        "id": "SrhUEH-tzK7X",
        "outputId": "a991138f-c9a3-401c-8680-617350afbd54",
        "colab": {
          "base_uri": "https://localhost:8080/"
        }
      },
      "execution_count": 17,
      "outputs": [
        {
          "output_type": "stream",
          "name": "stdout",
          "text": [
            "{'white', 'green', 'red', 'blue'}\n",
            "4\n",
            "{'black', 'blue', 'green', 'yellow', 'white', 'red'}\n",
            "6\n"
          ]
        }
      ]
    },
    {
      "cell_type": "code",
      "source": [
        "#join,list()などを試す\n",
        "print(a)\n",
        "join_a = '/'.join(a)\n",
        "print(join_a)\n",
        "print(list(a))\n",
        "list_a = list(a)\n",
        "print(set(list_a))#戻った"
      ],
      "metadata": {
        "id": "kzdR33NHzdPn",
        "outputId": "0f974ea1-2de3-4ad5-c45b-9145921d0cb7",
        "colab": {
          "base_uri": "https://localhost:8080/"
        }
      },
      "execution_count": 19,
      "outputs": [
        {
          "output_type": "stream",
          "name": "stdout",
          "text": [
            "{'white', 'green', 'red', 'blue'}\n",
            "white/green/red/blue\n",
            "['white', 'green', 'red', 'blue']\n",
            "{'white', 'green', 'red', 'blue'}\n"
          ]
        }
      ]
    }
  ]
}