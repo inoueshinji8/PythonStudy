{
  "nbformat": 4,
  "nbformat_minor": 0,
  "metadata": {
    "colab": {
      "name": "PythonCompleteChap4_3_4.ipynb",
      "provenance": [],
      "authorship_tag": "ABX9TyPpHbOSGRsWjZgEk88bjFrR",
      "include_colab_link": true
    },
    "kernelspec": {
      "name": "python3",
      "display_name": "Python 3"
    },
    "language_info": {
      "name": "python"
    }
  },
  "cells": [
    {
      "cell_type": "markdown",
      "metadata": {
        "id": "view-in-github",
        "colab_type": "text"
      },
      "source": [
        "<a href=\"https://colab.research.google.com/github/inoueshinji8/PythonStudy/blob/main/PythonCompleteChap4_3_4.ipynb\" target=\"_parent\"><img src=\"https://colab.research.google.com/assets/colab-badge.svg\" alt=\"Open In Colab\"/></a>"
      ]
    },
    {
      "cell_type": "markdown",
      "source": [
        "##section3 値の有無を瞬時に判定するには集合を利用する\n",
        "\n",
        "個人的にはほとんど使ったことがない。辞書と混同してる節がある<br>\n",
        "\n",
        "・ミュータブルなので要素の追加や削除ができる<br>\n",
        "・同じ値を重複して格納できない<br>\n",
        "・値を取り出す時の順序も保証されない<br>\n",
        "・値はイミュータブルな値だけ。集合自体はミュータブルなので、集合の集合は作れない<br>"
      ],
      "metadata": {
        "id": "CFGkmndRqP6G"
      }
    },
    {
      "cell_type": "markdown",
      "source": [
        "###集合は波かっこ(中かっこ)で作成する{ }\n",
        "\n",
        "{値, ...}\n",
        "{値}要素が1つの時\n",
        "set()要素ゼロ個の時 ← これ間違いやすい"
      ],
      "metadata": {
        "id": "843Y1Pjtq5fu"
      }
    },
    {
      "cell_type": "code",
      "execution_count": 1,
      "metadata": {
        "colab": {
          "base_uri": "https://localhost:8080/"
        },
        "id": "QwJjT98oqLUc",
        "outputId": "262d087d-f290-447a-acd7-6ff9a6e81a19"
      },
      "outputs": [
        {
          "output_type": "execute_result",
          "data": {
            "text/plain": [
              "{'blue', 'green', 'red'}"
            ]
          },
          "metadata": {},
          "execution_count": 1
        }
      ],
      "source": [
        "{'blue','red','green',}\n",
        "#表示する順序バラバラ。なお、一番最後にあえて,を入れてみたがちゃんと消えている"
      ]
    },
    {
      "cell_type": "code",
      "source": [
        "#集合を変数に代入\n",
        "color = {'blue', 'green', 'red'}\n",
        "print(color)"
      ],
      "metadata": {
        "colab": {
          "base_uri": "https://localhost:8080/"
        },
        "id": "xxAPeXK5scZo",
        "outputId": "fc10a1f2-3a29-4adc-d8e2-49b19a086c9a"
      },
      "execution_count": 3,
      "outputs": [
        {
          "output_type": "stream",
          "name": "stdout",
          "text": [
            "{'red', 'blue', 'green'}\n"
          ]
        }
      ]
    },
    {
      "cell_type": "markdown",
      "source": [
        "###set関数(厳密にはsetクラス)でイテラブルから集合を作成\n",
        "set(イテラブル)"
      ],
      "metadata": {
        "id": "g-uJhWYKuFsg"
      }
    },
    {
      "cell_type": "code",
      "source": [
        "set(range(16))"
      ],
      "metadata": {
        "colab": {
          "base_uri": "https://localhost:8080/"
        },
        "id": "9iR_ebkPuPgH",
        "outputId": "202f329e-0c2d-47ac-819e-ed4977800eb6"
      },
      "execution_count": 4,
      "outputs": [
        {
          "output_type": "execute_result",
          "data": {
            "text/plain": [
              "{0, 1, 2, 3, 4, 5, 6, 7, 8, 9, 10, 11, 12, 13, 14, 15}"
            ]
          },
          "metadata": {},
          "execution_count": 4
        }
      ]
    },
    {
      "cell_type": "code",
      "source": [
        "set('abcde')"
      ],
      "metadata": {
        "colab": {
          "base_uri": "https://localhost:8080/"
        },
        "id": "4Hcx86tSuVYw",
        "outputId": "07fe4cf7-8f52-4115-fa92-23768c5248ff"
      },
      "execution_count": 5,
      "outputs": [
        {
          "output_type": "execute_result",
          "data": {
            "text/plain": [
              "{'a', 'b', 'c', 'd', 'e'}"
            ]
          },
          "metadata": {},
          "execution_count": 5
        }
      ]
    },
    {
      "cell_type": "markdown",
      "source": [
        "だが、同じ値を格納できないので注意！"
      ],
      "metadata": {
        "id": "rEySEBNQuY9o"
      }
    },
    {
      "cell_type": "code",
      "source": [
        "set(\"anaconda\")"
      ],
      "metadata": {
        "colab": {
          "base_uri": "https://localhost:8080/"
        },
        "id": "JFpg9XMyudPp",
        "outputId": "ccc246d1-3027-4d86-8dcb-1fa7fe9e17eb"
      },
      "execution_count": 6,
      "outputs": [
        {
          "output_type": "execute_result",
          "data": {
            "text/plain": [
              "{'a', 'c', 'd', 'n', 'o'}"
            ]
          },
          "metadata": {},
          "execution_count": 6
        }
      ]
    }
  ]
}