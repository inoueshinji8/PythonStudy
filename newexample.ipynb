{
  "nbformat": 4,
  "nbformat_minor": 0,
  "metadata": {
    "colab": {
      "name": "newexample.ipynb",
      "provenance": [],
      "authorship_tag": "ABX9TyOt3dNQDXVm4zzURMCiIMxu",
      "include_colab_link": true
    },
    "kernelspec": {
      "name": "python3",
      "display_name": "Python 3"
    },
    "language_info": {
      "name": "python"
    }
  },
  "cells": [
    {
      "cell_type": "markdown",
      "metadata": {
        "id": "view-in-github",
        "colab_type": "text"
      },
      "source": [
        "<a href=\"https://colab.research.google.com/github/inoueshinji8/PythonStudy/blob/main/newexample.ipynb\" target=\"_parent\"><img src=\"https://colab.research.google.com/assets/colab-badge.svg\" alt=\"Open In Colab\"/></a>"
      ]
    },
    {
      "cell_type": "code",
      "execution_count": 1,
      "metadata": {
        "colab": {
          "base_uri": "https://localhost:8080/"
        },
        "id": "xZ2kRcZGMdxG",
        "outputId": "f571482b-4234-4ee1-f3d1-0bbabf17f88d"
      },
      "outputs": [
        {
          "output_type": "stream",
          "name": "stdout",
          "text": [
            "code.zip  sample_data\n"
          ]
        }
      ],
      "source": [
        "!ls"
      ]
    },
    {
      "cell_type": "code",
      "source": [
        "!unzip code.zip"
      ],
      "metadata": {
        "colab": {
          "base_uri": "https://localhost:8080/"
        },
        "id": "G4bWerLlMvPn",
        "outputId": "1590f1ff-0afe-4ca3-9a7f-d69ae88a0827"
      },
      "execution_count": 2,
      "outputs": [
        {
          "output_type": "stream",
          "name": "stdout",
          "text": [
            "Archive:  code.zip\n",
            "   creating: code/\n",
            "   creating: code/data/\n",
            "   creating: code/data/main_image/\n",
            "  inflating: code/data/main_image/13C_pdata.png  \n",
            "  inflating: code/data/main_image/1H_pdata.png  \n",
            "   creating: code/data/meta/\n",
            "  inflating: code/data/meta/13C.json  \n",
            "  inflating: code/data/meta/1H.json  \n",
            "   creating: code/data/structured/\n",
            "  inflating: code/data/structured/13C_pdata.csv  \n",
            "  inflating: code/data/structured/1H_pdata.csv  \n",
            "   creating: code/data_org/\n",
            "   creating: code/data_org/inputdata/\n",
            "   creating: code/data_org/inputdata/13C/\n",
            "  inflating: code/data_org/inputdata/13C.zip  \n",
            "  inflating: code/data_org/inputdata/13C/acqu  \n",
            "  inflating: code/data_org/inputdata/13C/acqus  \n",
            "  inflating: code/data_org/inputdata/13C/audita.txt  \n",
            "  inflating: code/data_org/inputdata/13C/cpdprg2  \n",
            "  inflating: code/data_org/inputdata/13C/fid  \n",
            "  inflating: code/data_org/inputdata/13C/format.temp  \n",
            "  inflating: code/data_org/inputdata/13C/fq1list  \n",
            "   creating: code/data_org/inputdata/13C/pdata/\n",
            "   creating: code/data_org/inputdata/13C/pdata/1/\n",
            "  inflating: code/data_org/inputdata/13C/pdata/1/1i  \n",
            "  inflating: code/data_org/inputdata/13C/pdata/1/1r  \n",
            "  inflating: code/data_org/inputdata/13C/pdata/1/auditp.txt  \n",
            "  inflating: code/data_org/inputdata/13C/pdata/1/outd  \n",
            "  inflating: code/data_org/inputdata/13C/pdata/1/parm.txt  \n",
            "  inflating: code/data_org/inputdata/13C/pdata/1/peaklist.xml  \n",
            "  inflating: code/data_org/inputdata/13C/pdata/1/peakrng  \n",
            "  inflating: code/data_org/inputdata/13C/pdata/1/peaks  \n",
            "  inflating: code/data_org/inputdata/13C/pdata/1/proc  \n",
            "  inflating: code/data_org/inputdata/13C/pdata/1/procs  \n",
            "  inflating: code/data_org/inputdata/13C/pdata/1/thumb.png  \n",
            " extracting: code/data_org/inputdata/13C/pdata/1/title  \n",
            "  inflating: code/data_org/inputdata/13C/precom.output  \n",
            "  inflating: code/data_org/inputdata/13C/pulseprogram  \n",
            "  inflating: code/data_org/inputdata/13C/scon2  \n",
            "  inflating: code/data_org/inputdata/13C/shimvalues  \n",
            "  inflating: code/data_org/inputdata/13C/specpar  \n",
            "  inflating: code/data_org/inputdata/13C/uxnmr.info  \n",
            "  inflating: code/data_org/inputdata/13C/uxnmr.par  \n",
            "   creating: code/data_org/inputdata/1H/\n",
            "  inflating: code/data_org/inputdata/1H.zip  \n",
            "  inflating: code/data_org/inputdata/1H/acqu  \n",
            "  inflating: code/data_org/inputdata/1H/acqus  \n",
            "  inflating: code/data_org/inputdata/1H/audita.txt  \n",
            "  inflating: code/data_org/inputdata/1H/fid  \n",
            "  inflating: code/data_org/inputdata/1H/format.temp  \n",
            "  inflating: code/data_org/inputdata/1H/fq1list  \n",
            "   creating: code/data_org/inputdata/1H/pdata/\n",
            "   creating: code/data_org/inputdata/1H/pdata/1/\n",
            "  inflating: code/data_org/inputdata/1H/pdata/1/1i  \n",
            "  inflating: code/data_org/inputdata/1H/pdata/1/1r  \n",
            "  inflating: code/data_org/inputdata/1H/pdata/1/auditp.txt  \n",
            "  inflating: code/data_org/inputdata/1H/pdata/1/integrals.txt  \n",
            "  inflating: code/data_org/inputdata/1H/pdata/1/intrng  \n",
            "  inflating: code/data_org/inputdata/1H/pdata/1/outd  \n",
            "  inflating: code/data_org/inputdata/1H/pdata/1/parm.txt  \n",
            "  inflating: code/data_org/inputdata/1H/pdata/1/peaklist.xml  \n",
            "  inflating: code/data_org/inputdata/1H/pdata/1/peakrng  \n",
            "  inflating: code/data_org/inputdata/1H/pdata/1/peaks  \n",
            "  inflating: code/data_org/inputdata/1H/pdata/1/proc  \n",
            "  inflating: code/data_org/inputdata/1H/pdata/1/procs  \n",
            " extracting: code/data_org/inputdata/1H/pdata/1/thumb.png  \n",
            "  inflating: code/nmr_bruker_solution.ipynb  \n",
            "  inflating: code/nmr_bruker_solution.py  \n",
            "  inflating: code/requirements.txt   \n",
            "   creating: code/scr/\n",
            "  inflating: code/scr/acqus2metajson.py  \n",
            "  inflating: code/scr/acqus2metajson_sms.py  \n",
            "   creating: code/scr/data/\n",
            "   creating: code/scr/data/meta/\n",
            "  inflating: code/scr/metadata-def.json  \n",
            "  inflating: code/scr/pdata2img.py   \n",
            "  inflating: code/scr/rdelib.py      \n",
            "   creating: code/scr/__pycache__/\n",
            "  inflating: code/scr/__pycache__/acqus2metajson.cpython-39.pyc  \n",
            "  inflating: code/scr/__pycache__/pdata2img.cpython-39.pyc  \n",
            "  inflating: code/scr/__pycache__/rdelib.cpython-39.pyc  \n"
          ]
        }
      ]
    },
    {
      "cell_type": "code",
      "source": [
        "%cd code/"
      ],
      "metadata": {
        "colab": {
          "base_uri": "https://localhost:8080/"
        },
        "id": "7AKue8BdPrvJ",
        "outputId": "5906c98c-1a62-48b8-a567-06b435846224"
      },
      "execution_count": 18,
      "outputs": [
        {
          "output_type": "stream",
          "name": "stdout",
          "text": [
            "/content/code\n"
          ]
        }
      ]
    },
    {
      "cell_type": "code",
      "source": [
        "!ls"
      ],
      "metadata": {
        "colab": {
          "base_uri": "https://localhost:8080/"
        },
        "id": "-RLlfaG-QCHx",
        "outputId": "a499edbe-f8e8-4213-8e27-09de11ef470b"
      },
      "execution_count": 19,
      "outputs": [
        {
          "output_type": "stream",
          "name": "stdout",
          "text": [
            "data\t  nmr_bruker_solution.ipynb  requirements.txt\n",
            "data_org  nmr_bruker_solution.py     scr\n"
          ]
        }
      ]
    },
    {
      "cell_type": "code",
      "source": [
        "!pip install nmrglue"
      ],
      "metadata": {
        "colab": {
          "base_uri": "https://localhost:8080/"
        },
        "id": "egcz6OLIQIGR",
        "outputId": "4c377773-ecd2-44c0-9919-2d576dbce088"
      },
      "execution_count": 20,
      "outputs": [
        {
          "output_type": "stream",
          "name": "stdout",
          "text": [
            "Collecting nmrglue\n",
            "  Downloading nmrglue-0.8-py2.py3-none-any.whl (218 kB)\n",
            "\u001b[?25l\r\u001b[K     |█▌                              | 10 kB 24.4 MB/s eta 0:00:01\r\u001b[K     |███                             | 20 kB 28.3 MB/s eta 0:00:01\r\u001b[K     |████▌                           | 30 kB 32.6 MB/s eta 0:00:01\r\u001b[K     |██████                          | 40 kB 30.5 MB/s eta 0:00:01\r\u001b[K     |███████▌                        | 51 kB 23.6 MB/s eta 0:00:01\r\u001b[K     |█████████                       | 61 kB 26.6 MB/s eta 0:00:01\r\u001b[K     |██████████▌                     | 71 kB 25.7 MB/s eta 0:00:01\r\u001b[K     |████████████                    | 81 kB 25.1 MB/s eta 0:00:01\r\u001b[K     |█████████████▌                  | 92 kB 27.0 MB/s eta 0:00:01\r\u001b[K     |███████████████                 | 102 kB 26.6 MB/s eta 0:00:01\r\u001b[K     |████████████████▌               | 112 kB 26.6 MB/s eta 0:00:01\r\u001b[K     |██████████████████              | 122 kB 26.6 MB/s eta 0:00:01\r\u001b[K     |███████████████████▌            | 133 kB 26.6 MB/s eta 0:00:01\r\u001b[K     |█████████████████████           | 143 kB 26.6 MB/s eta 0:00:01\r\u001b[K     |██████████████████████▌         | 153 kB 26.6 MB/s eta 0:00:01\r\u001b[K     |████████████████████████        | 163 kB 26.6 MB/s eta 0:00:01\r\u001b[K     |█████████████████████████▍      | 174 kB 26.6 MB/s eta 0:00:01\r\u001b[K     |███████████████████████████     | 184 kB 26.6 MB/s eta 0:00:01\r\u001b[K     |████████████████████████████▍   | 194 kB 26.6 MB/s eta 0:00:01\r\u001b[K     |██████████████████████████████  | 204 kB 26.6 MB/s eta 0:00:01\r\u001b[K     |███████████████████████████████▍| 215 kB 26.6 MB/s eta 0:00:01\r\u001b[K     |████████████████████████████████| 218 kB 26.6 MB/s \n",
            "\u001b[?25hRequirement already satisfied: scipy in /usr/local/lib/python3.7/dist-packages (from nmrglue) (1.4.1)\n",
            "Requirement already satisfied: numpy in /usr/local/lib/python3.7/dist-packages (from nmrglue) (1.21.5)\n",
            "Installing collected packages: nmrglue\n",
            "Successfully installed nmrglue-0.8\n"
          ]
        }
      ]
    },
    {
      "cell_type": "code",
      "source": [
        "!python nmr_bruker_solution.py"
      ],
      "metadata": {
        "colab": {
          "base_uri": "https://localhost:8080/"
        },
        "id": "MhajcphDQOSL",
        "outputId": "0297690a-c888-43a6-c5fb-e3964ee9ee00"
      },
      "execution_count": 21,
      "outputs": [
        {
          "output_type": "stream",
          "name": "stdout",
          "text": [
            "/usr/local/lib/python3.7/dist-packages/nmrglue/fileio/bruker.py:394: UserWarning: Error reading the pulse program\n",
            "  warn('Error reading the pulse program')\n",
            "In progress: data_org/inputdata/1H/pdata/1\n",
            "[4183.  4319.  4255.5 ...  543.5  549.5  592.5]\n",
            "findfont: Font family ['Arial'] not found. Falling back to DejaVu Sans.\n",
            "In progress: data_org/inputdata/13C/pdata/1\n",
            "[-1802.12109375 -1628.2578125    534.09375    ...  1339.7265625\n",
            " -1402.3359375   1581.203125  ]\n",
            "/usr/local/lib/python3.7/dist-packages/nmrglue/fileio/bruker.py:394: UserWarning: Error reading the pulse program\n",
            "  warn('Error reading the pulse program')\n"
          ]
        }
      ]
    }
  ]
}