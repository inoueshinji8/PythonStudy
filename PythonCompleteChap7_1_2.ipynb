{
  "nbformat": 4,
  "nbformat_minor": 0,
  "metadata": {
    "colab": {
      "name": "PythonCompleteChap7_1_2.ipynb",
      "provenance": [],
      "authorship_tag": "ABX9TyO3BHNHfG3d5TfZq30G7Uuu",
      "include_colab_link": true
    },
    "kernelspec": {
      "name": "python3",
      "display_name": "Python 3"
    },
    "language_info": {
      "name": "python"
    }
  },
  "cells": [
    {
      "cell_type": "markdown",
      "metadata": {
        "id": "view-in-github",
        "colab_type": "text"
      },
      "source": [
        "<a href=\"https://colab.research.google.com/github/inoueshinji8/PythonStudy/blob/main/PythonCompleteChap7_1_2.ipynb\" target=\"_parent\"><img src=\"https://colab.research.google.com/assets/colab-badge.svg\" alt=\"Open In Colab\"/></a>"
      ]
    },
    {
      "cell_type": "markdown",
      "source": [
        "# Chapter7 Pythonのオブジェクト指向プログラミング\n",
        "\n",
        "クラスを指定する、クラスからオブジェクト(インスタンス)を生成する、<br>\n",
        "オブジェクトが持つデータ属性やメソッドを利用する<br>\n",
        "など、プログラミングでは色々役立つ\n",
        "\n",
        "世界をモノ中心に捉えるか？<br>\n",
        "それとも人間の認識があって初めて世界があるとみなすか？<br>\n",
        "という古くからの哲学的議論がある<br>\n",
        "\n",
        "例えば三角形というものの一般例を具体的に頭の中に絵で思い浮かべることは出来ない<br>\n",
        "三頂点とそれを結ぶ直線があって初めて成り立つ\n",
        "\n",
        "オブジェクト指向の世界認識は、どちらかと言えば唯心論に近いものであると言われがちである<br>\n",
        "最初に概念があり、それに属性や作用素が付属していて、そのようなものが生じてくる、というわけだ。<br>\n",
        "神学的であるとすらいう人もいる\n",
        "\n",
        "反対に関数型言語、というものがあってこっちはむしろ唯物論的だという人もいる\n",
        "\n",
        "オブジェクト指向のでの各オブジェクトが全て作用素を持っていて、全てのオブジェクトとの作用を厳密に記述してあれば、それは関数型言語が作る世界と同じものになるであろう、<br>\n",
        "ひいては唯物論的世界観と唯心論的世界観を結ぶ一助になるであろう、という人もいるが、それは不可能だという人も根強い\n",
        "\n",
        "ともあれ、我々は分かる範囲内でプログラムを書くことにする"
      ],
      "metadata": {
        "id": "-dc6iXvSonco"
      }
    },
    {
      "cell_type": "markdown",
      "source": [
        "## section01 既存のオブジェクトを活用する\n",
        "\n",
        "いきなりクラスやオブジェクト指向について難しく考えず、まずは使ってみてその便利さに感激してみよう\n",
        "\n",
        "### クラスとオブジェクトの概念\n",
        "クラスは設計図<br>\n",
        "オブジェクトは製品<br>\n",
        "\n",
        "ゲームで同じ敵キャラが複数出てくるときは、プログラム内で「敵キャラ」クラスのオブジェクトが複数作られた時だ、なんて説明をされる\n",
        "\n",
        "オブジェクトは、データと処理で構成されている\n",
        "\n",
        "クラス<br>\n",
        "データ属性A<br>\n",
        "データ属性B<br>\n",
        "メソッドX<br>\n",
        "メソッドY<br>\n",
        "\n",
        "とされていたら、それから作られるオブジェクトは\n",
        "\n",
        "オブジェクト1<br>\n",
        "データ属性A 123<br>\n",
        "データ属性B 'Hello'<br>\n",
        "メソッドX<br>\n",
        "メソッドY<br>\n",
        "\n",
        "オブジェクト2<br>\n",
        "データ属性A 789<br>\n",
        "データ属性B 'Python'<br>\n",
        "メソッドX<br>\n",
        "メソッドY<br>\n",
        "\n",
        "オブジェクト3<br>\n",
        "データ属性A 645<br>\n",
        "データ属性B 'Programming'<br>\n",
        "メソッドX<br>\n",
        "メソッドY<br>\n",
        "\n",
        "など。データ属性は、オブジェクトごとに異なっていても良い(場合が多い)\n",
        "\n",
        "何らかの機能の実現のために必要なデータと処理をまとめたものがオブジェクトである\n",
        "\n",
        "それらのオブジェクトを組み合わせてプログラムを構築するのがオブジェクト指向プログラミング\n",
        "\n",
        "だが、main部分までmainオブジェクトになっているような言語(Javaとか)になると個人的にはやり過ぎかなあと思うこともある\n",
        "\n",
        "Pythonでは、データ部分は「データ属性」といい、処理に相当する部分は「メソッド」という\n",
        "\n",
        "他言語だと、データ部分を「フィールド」処理を「メソッド」<br>\n",
        "と呼んだり<br>\n",
        "それぞれ「メンバ変数」「メンバ関数」と呼ぶこともある<br>\n",
        "オブジェクトの中の属性などを「メンバー」とするわけだが、\n",
        "時として誤解を招く\n",
        "\n",
        "クラスから生成したオブジェクトの事を「インスタンス」と呼ぶことがある\n",
        "\n",
        "オブジェクト = インスタンスで本来は良いのだが\n",
        "クラスもオブジェクトとする場合がある\n",
        "\n",
        "言語によっては、クラスからインスタンスを作らなくても直接メソッドを呼び出せたりするのでその辺も関わる\n",
        "\n",
        "Pythonではクラスそのものもまたオブジェクトなので、混乱を避けるため\n",
        "インスタンスと呼ぶ方が良い、とこの教科書には書いてある\n",
        "\n",
        "本来はクラスオブジェクトとインスタンスオブジェクト、という言い方をすべきだなどと書いてある\n",
        "\n",
        "やはりオブジェクト指向は最初のとっかかりがどうしても哲学とか世界観とかになってしまい敷居が高い\n",
        "\n",
        "なお、オブジェクト指向は数学では集合論および群論だと「圏論」という分野にまとめられている。<br>\n",
        "https://qiita.com/snuffkin/items/ecda1af8dca679f1c8ac"
      ],
      "metadata": {
        "id": "33tfGbEsq5hc"
      }
    },
    {
      "cell_type": "markdown",
      "source": [
        "### オブジェクトを生成する\n",
        "\n",
        "オブジェクト(インスタンス)の生成<br>\n",
        "クラス名(引数, ...)\n",
        "\n",
        "オブジェクトの保存、というか代入<br>\n",
        "変数 = クラス名(引数, ...)\n",
        "\n",
        "型　　　　　　　　　　クラス名\n",
        "\n",
        "整数　　　　　　　　　int<br>\n",
        "浮動小数点数　　　　　float<br>\n",
        "文字列　　　　　　　　str<br>\n",
        "真偽値　　　　　　　　bool<br>\n",
        "リスト　　　　　　　　list<br>\n",
        "タプル　　　　　　　　tuple<br>\n",
        "集合　　　　　　　　　set<br>\n",
        "辞書　　　　　　　　　dict\n",
        "\n",
        "strクラスのオブジェクトを生成しよう"
      ],
      "metadata": {
        "id": "DrYPOI9EVqfT"
      }
    },
    {
      "cell_type": "code",
      "execution_count": 1,
      "metadata": {
        "id": "xvEi09icoY_f",
        "outputId": "a424a921-4748-462d-d957-0c6ba1fd9c3a",
        "colab": {
          "base_uri": "https://localhost:8080/",
          "height": 35
        }
      },
      "outputs": [
        {
          "output_type": "execute_result",
          "data": {
            "application/vnd.google.colaboratory.intrinsic+json": {
              "type": "string"
            },
            "text/plain": [
              "''"
            ]
          },
          "metadata": {},
          "execution_count": 1
        }
      ],
      "source": [
        "str()\n",
        "#空文字列が出た"
      ]
    },
    {
      "cell_type": "code",
      "source": [
        "#引数に整数123を指定する\n",
        "\n",
        "print(str(123))\n",
        "#文字列かどうか分かりにくいな\n",
        "\n",
        "int_str = str(123)\n",
        "print(type(int_str))"
      ],
      "metadata": {
        "id": "kF1P_ZXLW9_O",
        "outputId": "8602684a-e5bd-435e-dabb-09ce11bd2a39",
        "colab": {
          "base_uri": "https://localhost:8080/"
        }
      },
      "execution_count": 2,
      "outputs": [
        {
          "output_type": "stream",
          "name": "stdout",
          "text": [
            "123\n",
            "<class 'str'>\n"
          ]
        }
      ]
    },
    {
      "cell_type": "markdown",
      "source": [
        "オブジェクトの生成は見た目が関数に似ているので<br>\n",
        "strオブジェクトの生成なのだが、str関数の呼び出し、と書かれがちである\n",
        "\n",
        "intクラスやlistクラスも関数と呼ばれがち<br>\n",
        "繰り返しのrange()すらrangeクラス"
      ],
      "metadata": {
        "id": "4Q3DKqs3XkzK"
      }
    },
    {
      "cell_type": "code",
      "source": [
        "#'' だけでも空文字列が生成できる\n",
        "''"
      ],
      "metadata": {
        "id": "qMeTSFlXX6tL",
        "outputId": "3e5778e1-9f20-4370-c307-356d41832233",
        "colab": {
          "base_uri": "https://localhost:8080/",
          "height": 35
        }
      },
      "execution_count": 3,
      "outputs": [
        {
          "output_type": "execute_result",
          "data": {
            "application/vnd.google.colaboratory.intrinsic+json": {
              "type": "string"
            },
            "text/plain": [
              "''"
            ]
          },
          "metadata": {},
          "execution_count": 3
        }
      ]
    },
    {
      "cell_type": "markdown",
      "source": [
        "組み込み型の値をプログラム内に書く記法を<br>\n",
        "リテラルという\n",
        "\n",
        "文字列リテラル、整数リテラル、浮動小数点数リテラル..."
      ],
      "metadata": {
        "id": "EHQjuepUYFC2"
      }
    },
    {
      "cell_type": "code",
      "source": [
        "#空のリストをクラス名で生成する\n",
        "list()"
      ],
      "metadata": {
        "id": "SADGOVQKYWen",
        "outputId": "f4d4f1fc-64e1-4a17-c6bf-c36e98af78e5",
        "colab": {
          "base_uri": "https://localhost:8080/"
        }
      },
      "execution_count": 4,
      "outputs": [
        {
          "output_type": "execute_result",
          "data": {
            "text/plain": [
              "[]"
            ]
          },
          "metadata": {},
          "execution_count": 4
        }
      ]
    },
    {
      "cell_type": "code",
      "source": [
        "#空のリストを角括弧で生成する\n",
        "[]"
      ],
      "metadata": {
        "id": "hswOfPBqYcrf",
        "outputId": "3c6f4565-b166-400d-ef86-861d7cb39a17",
        "colab": {
          "base_uri": "https://localhost:8080/"
        }
      },
      "execution_count": 5,
      "outputs": [
        {
          "output_type": "execute_result",
          "data": {
            "text/plain": [
              "[]"
            ]
          },
          "metadata": {},
          "execution_count": 5
        }
      ]
    },
    {
      "cell_type": "markdown",
      "source": [
        "角括弧を使う方法は<br>\n",
        "表示<br>\n",
        "と呼ばれる\n",
        "\n",
        "「波括弧を使って集合を生成する記法は集合表示」<br>\n",
        "{3}<br>\n",
        "{}は辞書だから注意！\n",
        "\n",
        "辞書を生成する記法は辞書表示と呼ばれる\n",
        "\n",
        "言葉の定義ばかりで面倒ですね"
      ],
      "metadata": {
        "id": "uxgzzo7QYoe9"
      }
    },
    {
      "cell_type": "markdown",
      "source": [
        "### メソッドを呼び出す\n",
        "\n",
        "オブジェクト.メソッド名(引数, ...)\n",
        "\n",
        "あるいは変数にオブジェクトを代入した場合には<br>\n",
        "変数.メソッド名(引数, ...)"
      ],
      "metadata": {
        "id": "qUmrY0yGZIyX"
      }
    },
    {
      "cell_type": "code",
      "source": [
        "#集合をset()クラスで生成し、変数xに代入し、addメソッドを3回呼び出す\n",
        "\n",
        "x = set()\n",
        "print(x)\n",
        "x.add(1)\n",
        "print(x)\n",
        "x.add(2)\n",
        "print(x)\n",
        "x.add(3)\n",
        "print(x)"
      ],
      "metadata": {
        "id": "icJCh7acZeK6",
        "outputId": "571de92c-2521-4a45-c3c4-3eab2e81d8cf",
        "colab": {
          "base_uri": "https://localhost:8080/"
        }
      },
      "execution_count": 6,
      "outputs": [
        {
          "output_type": "stream",
          "name": "stdout",
          "text": [
            "set()\n",
            "{1}\n",
            "{1, 2}\n",
            "{1, 2, 3}\n"
          ]
        }
      ]
    }
  ]
}