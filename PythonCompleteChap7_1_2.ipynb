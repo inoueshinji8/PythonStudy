{
  "nbformat": 4,
  "nbformat_minor": 0,
  "metadata": {
    "colab": {
      "name": "PythonCompleteChap7_1_2.ipynb",
      "provenance": [],
      "authorship_tag": "ABX9TyOFXMycuo8L8EDLj+nVi8r7",
      "include_colab_link": true
    },
    "kernelspec": {
      "name": "python3",
      "display_name": "Python 3"
    },
    "language_info": {
      "name": "python"
    }
  },
  "cells": [
    {
      "cell_type": "markdown",
      "metadata": {
        "id": "view-in-github",
        "colab_type": "text"
      },
      "source": [
        "<a href=\"https://colab.research.google.com/github/inoueshinji8/PythonStudy/blob/main/PythonCompleteChap7_1_2.ipynb\" target=\"_parent\"><img src=\"https://colab.research.google.com/assets/colab-badge.svg\" alt=\"Open In Colab\"/></a>"
      ]
    },
    {
      "cell_type": "markdown",
      "source": [
        "# Chapter7 Pythonのオブジェクト指向プログラミング\n",
        "\n",
        "クラスを指定する、クラスからオブジェクト(インスタンス)を生成する、<br>\n",
        "オブジェクトが持つデータ属性やメソッドを利用する<br>\n",
        "など、プログラミングでは色々役立つ\n",
        "\n",
        "世界をモノ中心に捉えるか？<br>\n",
        "それとも人間の認識があって初めて世界があるとみなすか？<br>\n",
        "という古くからの哲学的議論がある<br>\n",
        "\n",
        "例えば三角形というものの一般例を具体的に頭の中に絵で思い浮かべることは出来ない<br>\n",
        "三頂点とそれを結ぶ直線があって初めて成り立つ\n",
        "\n",
        "オブジェクト指向の世界認識は、どちらかと言えば唯心論に近いものであると言われがちである<br>\n",
        "最初に概念があり、それに属性や作用素が付属していて、そのようなものが生じてくる、というわけだ。<br>\n",
        "神学的であるとすらいう人もいる\n",
        "\n",
        "反対に関数型言語、というものがあってこっちはむしろ唯物論的だという人もいる\n",
        "\n",
        "オブジェクト指向のでの各オブジェクトが全て作用素を持っていて、全てのオブジェクトとの作用を厳密に記述してあれば、それは関数型言語が作る世界と同じものになるであろう、<br>\n",
        "ひいては唯物論的世界観と唯心論的世界観を結ぶ一助になるであろう、という人もいるが、それは不可能だという人も根強い\n",
        "\n",
        "ともあれ、我々は分かる範囲内でプログラムを書くことにする"
      ],
      "metadata": {
        "id": "-dc6iXvSonco"
      }
    },
    {
      "cell_type": "markdown",
      "source": [
        "## section01 既存のオブジェクトを活用する\n",
        "\n",
        "いきなりクラスやオブジェクト指向について難しく考えず、まずは使ってみてその便利さに感激してみよう\n",
        "\n",
        "### クラスとオブジェクトの概念\n",
        "クラスは設計図<br>\n",
        "オブジェクトは製品<br>\n",
        "\n",
        "ゲームで同じ敵キャラが複数出てくるときは、プログラム内で「敵キャラ」クラスのオブジェクトが複数作られた時だ、なんて説明をされる\n",
        "\n",
        "オブジェクトは、データと処理で構成されている\n",
        "\n",
        "クラス<br>\n",
        "データ属性A<br>\n",
        "データ属性B<br>\n",
        "メソッドX<br>\n",
        "メソッドY<br>\n",
        "\n",
        "とされていたら、それから作られるオブジェクトは\n",
        "\n",
        "オブジェクト1<br>\n",
        "データ属性A 123<br>\n",
        "データ属性B 'Hello'<br>\n",
        "メソッドX<br>\n",
        "メソッドY<br>\n",
        "\n",
        "オブジェクト2<br>\n",
        "データ属性A 789<br>\n",
        "データ属性B 'Python'<br>\n",
        "メソッドX<br>\n",
        "メソッドY<br>\n",
        "\n",
        "オブジェクト3<br>\n",
        "データ属性A 645<br>\n",
        "データ属性B 'Programming'<br>\n",
        "メソッドX<br>\n",
        "メソッドY<br>\n",
        "\n",
        "など。データ属性は、オブジェクトごとに異なっていても良い(場合が多い)\n",
        "\n",
        "何らかの機能の実現のために必要なデータと処理をまとめたものがオブジェクトである\n",
        "\n",
        "それらのオブジェクトを組み合わせてプログラムを構築するのがオブジェクト指向プログラミング\n",
        "\n",
        "だが、main部分までmainオブジェクトになっているような言語(Javaとか)になると個人的にはやり過ぎかなあと思うこともある\n",
        "\n",
        "Pythonでは、データ部分は「データ属性」といい、処理に相当する部分は「メソッド」という\n",
        "\n",
        "他言語だと、データ部分を「フィールド」処理を「メソッド」<br>\n",
        "と呼んだり<br>\n",
        "それぞれ「メンバ変数」「メンバ関数」と呼ぶこともある<br>\n",
        "オブジェクトの中の属性などを「メンバー」とするわけだが、\n",
        "時として誤解を招く\n",
        "\n",
        "クラスから生成したオブジェクトの事を「インスタンス」と呼ぶことがある\n",
        "\n",
        "オブジェクト = インスタンスで本来は良いのだが\n",
        "クラスもオブジェクトとする場合がある\n",
        "\n",
        "言語によっては、クラスからインスタンスを作らなくても直接メソッドを呼び出せたりするのでその辺も関わる\n",
        "\n",
        "Pythonではクラスそのものもまたオブジェクトなので、混乱を避けるため\n",
        "インスタンスと呼ぶ方が良い、とこの教科書には書いてある\n",
        "\n",
        "本来はクラスオブジェクトとインスタンスオブジェクト、という言い方をすべきだなどと書いてある\n",
        "\n",
        "やはりオブジェクト指向は最初のとっかかりがどうしても哲学とか世界観とかになってしまい敷居が高い\n",
        "\n",
        "なお、オブジェクト指向は数学では集合論および群論だと「圏論」という分野にまとめられている。<br>\n",
        "https://qiita.com/snuffkin/items/ecda1af8dca679f1c8ac"
      ],
      "metadata": {
        "id": "33tfGbEsq5hc"
      }
    },
    {
      "cell_type": "markdown",
      "source": [
        "### オブジェクトを生成する\n",
        "\n",
        "オブジェクト(インスタンス)の生成<br>\n",
        "クラス名(引数, ...)\n",
        "\n",
        "オブジェクトの保存、というか代入<br>\n",
        "変数 = クラス名(引数, ...)\n",
        "\n",
        "型　　　　　　　　　　クラス名\n",
        "\n",
        "整数　　　　　　　　　int<br>\n",
        "浮動小数点数　　　　　float<br>\n",
        "文字列　　　　　　　　str<br>\n",
        "真偽値　　　　　　　　bool<br>\n",
        "リスト　　　　　　　　list<br>\n",
        "タプル　　　　　　　　tuple<br>\n",
        "集合　　　　　　　　　set<br>\n",
        "辞書　　　　　　　　　dict\n",
        "\n",
        "strクラスのオブジェクトを生成しよう"
      ],
      "metadata": {
        "id": "DrYPOI9EVqfT"
      }
    },
    {
      "cell_type": "code",
      "execution_count": null,
      "metadata": {
        "id": "xvEi09icoY_f",
        "outputId": "a424a921-4748-462d-d957-0c6ba1fd9c3a",
        "colab": {
          "base_uri": "https://localhost:8080/",
          "height": 35
        }
      },
      "outputs": [
        {
          "output_type": "execute_result",
          "data": {
            "application/vnd.google.colaboratory.intrinsic+json": {
              "type": "string"
            },
            "text/plain": [
              "''"
            ]
          },
          "metadata": {},
          "execution_count": 1
        }
      ],
      "source": [
        "str()\n",
        "#空文字列が出た"
      ]
    },
    {
      "cell_type": "code",
      "source": [
        "#引数に整数123を指定する\n",
        "\n",
        "print(str(123))\n",
        "#文字列かどうか分かりにくいな\n",
        "\n",
        "int_str = str(123)\n",
        "print(type(int_str))"
      ],
      "metadata": {
        "id": "kF1P_ZXLW9_O",
        "outputId": "8602684a-e5bd-435e-dabb-09ce11bd2a39",
        "colab": {
          "base_uri": "https://localhost:8080/"
        }
      },
      "execution_count": null,
      "outputs": [
        {
          "output_type": "stream",
          "name": "stdout",
          "text": [
            "123\n",
            "<class 'str'>\n"
          ]
        }
      ]
    },
    {
      "cell_type": "markdown",
      "source": [
        "オブジェクトの生成は見た目が関数に似ているので<br>\n",
        "strオブジェクトの生成なのだが、str関数の呼び出し、と書かれがちである\n",
        "\n",
        "intクラスやlistクラスも関数と呼ばれがち<br>\n",
        "繰り返しのrange()すらrangeクラス"
      ],
      "metadata": {
        "id": "4Q3DKqs3XkzK"
      }
    },
    {
      "cell_type": "code",
      "source": [
        "#'' だけでも空文字列が生成できる\n",
        "''"
      ],
      "metadata": {
        "id": "qMeTSFlXX6tL",
        "outputId": "3e5778e1-9f20-4370-c307-356d41832233",
        "colab": {
          "base_uri": "https://localhost:8080/",
          "height": 35
        }
      },
      "execution_count": null,
      "outputs": [
        {
          "output_type": "execute_result",
          "data": {
            "application/vnd.google.colaboratory.intrinsic+json": {
              "type": "string"
            },
            "text/plain": [
              "''"
            ]
          },
          "metadata": {},
          "execution_count": 3
        }
      ]
    },
    {
      "cell_type": "markdown",
      "source": [
        "組み込み型の値をプログラム内に書く記法を<br>\n",
        "リテラルという\n",
        "\n",
        "文字列リテラル、整数リテラル、浮動小数点数リテラル..."
      ],
      "metadata": {
        "id": "EHQjuepUYFC2"
      }
    },
    {
      "cell_type": "code",
      "source": [
        "#空のリストをクラス名で生成する\n",
        "list()"
      ],
      "metadata": {
        "id": "SADGOVQKYWen",
        "outputId": "f4d4f1fc-64e1-4a17-c6bf-c36e98af78e5",
        "colab": {
          "base_uri": "https://localhost:8080/"
        }
      },
      "execution_count": null,
      "outputs": [
        {
          "output_type": "execute_result",
          "data": {
            "text/plain": [
              "[]"
            ]
          },
          "metadata": {},
          "execution_count": 4
        }
      ]
    },
    {
      "cell_type": "code",
      "source": [
        "#空のリストを角括弧で生成する\n",
        "[]"
      ],
      "metadata": {
        "id": "hswOfPBqYcrf",
        "outputId": "3c6f4565-b166-400d-ef86-861d7cb39a17",
        "colab": {
          "base_uri": "https://localhost:8080/"
        }
      },
      "execution_count": null,
      "outputs": [
        {
          "output_type": "execute_result",
          "data": {
            "text/plain": [
              "[]"
            ]
          },
          "metadata": {},
          "execution_count": 5
        }
      ]
    },
    {
      "cell_type": "markdown",
      "source": [
        "角括弧を使う方法は<br>\n",
        "表示<br>\n",
        "と呼ばれる\n",
        "\n",
        "「波括弧を使って集合を生成する記法は集合表示」<br>\n",
        "{3}<br>\n",
        "{}は辞書だから注意！\n",
        "\n",
        "辞書を生成する記法は辞書表示と呼ばれる\n",
        "\n",
        "言葉の定義ばかりで面倒ですね"
      ],
      "metadata": {
        "id": "uxgzzo7QYoe9"
      }
    },
    {
      "cell_type": "markdown",
      "source": [
        "### メソッドを呼び出す\n",
        "\n",
        "オブジェクト.メソッド名(引数, ...)\n",
        "\n",
        "あるいは変数にオブジェクトを代入した場合には<br>\n",
        "変数.メソッド名(引数, ...)"
      ],
      "metadata": {
        "id": "qUmrY0yGZIyX"
      }
    },
    {
      "cell_type": "code",
      "source": [
        "#集合をset()クラスで生成し、変数xに代入し、addメソッドを3回呼び出す\n",
        "\n",
        "x = set()\n",
        "print(x)\n",
        "x.add(1)\n",
        "print(x)\n",
        "x.add(2)\n",
        "print(x)\n",
        "x.add(3)\n",
        "print(x)"
      ],
      "metadata": {
        "id": "icJCh7acZeK6",
        "outputId": "571de92c-2521-4a45-c3c4-3eab2e81d8cf",
        "colab": {
          "base_uri": "https://localhost:8080/"
        }
      },
      "execution_count": null,
      "outputs": [
        {
          "output_type": "stream",
          "name": "stdout",
          "text": [
            "set()\n",
            "{1}\n",
            "{1, 2}\n",
            "{1, 2, 3}\n"
          ]
        }
      ]
    },
    {
      "cell_type": "markdown",
      "source": [
        "## section2 独自のクラスを定義する\n",
        "\n",
        "既存のクラスを利用するだけでなく、独自にクラスを作ってみよう<br>\n",
        "\n",
        "・商品や顧客情報をオブジェクトにまとめる<br>\n",
        "・ゲームプログラミングで、キャラクターやアイテムというクラスを作り<br>\n",
        "それが新たなインスタンスとしてあちこちに現れたりする<br>\n",
        "\n",
        "色々な使い方がある<br>\n",
        "どんなクラスを作りどの局面で使うかは作者次第\n",
        "\n",
        "Cなどだと、メソッドが無くてデータ属性、あるいはメンバ変数だけの<br>\n",
        "構造体というものも作れたりする<br>\n",
        "これで理解してから更にクラスに進む方が多少分かり易いかも知れない"
      ],
      "metadata": {
        "id": "ogZttbnaJUqw"
      }
    },
    {
      "cell_type": "markdown",
      "source": [
        "### クラスを定義する\n",
        "class クラス名:<br>\n",
        "　　文...<br>\n",
        "\n",
        "データ属性もメソッドも無い、空のクラスを作る<br>\n",
        "class クラス名:<br>\n",
        "　　pass\n",
        "\n",
        "クラス名ではアンダースコアはあまり使わないらしい"
      ],
      "metadata": {
        "id": "XLpJqaBDKk2w"
      }
    },
    {
      "cell_type": "code",
      "source": [
        "#とりあえずFoodクラスを、passで良いから作る\n",
        "\n",
        "class Food:#クラスの定義\n",
        "  pass\n",
        "\n",
        "x = Food()#オブジェクトの生成\n",
        "print(x)\n",
        "y=id(x)\n",
        "print(\"%x\" % (y))\n",
        "#これがアドレスなのかどうか試した"
      ],
      "metadata": {
        "id": "ggfAFIvvLHvW",
        "outputId": "cd60fc53-e977-4336-920b-182ccc59cc37",
        "colab": {
          "base_uri": "https://localhost:8080/"
        }
      },
      "execution_count": null,
      "outputs": [
        {
          "output_type": "stream",
          "name": "stdout",
          "text": [
            "<__main__.Food object at 0x7f1e87eb3410>\n",
            "7f1e87eb3410\n"
          ]
        }
      ]
    },
    {
      "cell_type": "markdown",
      "source": [
        "__main__モジュールのFoodクラスのオブジェクトであるとの意味"
      ],
      "metadata": {
        "id": "fJJrmrQmLljH"
      }
    },
    {
      "cell_type": "markdown",
      "source": [
        "### データ属性を使ってオブジェクトに値を保存する\n",
        "データ属性:オブジェクトに値を保存する仕組み<br>\n",
        "データ属性を参照するなら<br>\n",
        "オブジェクト.データ属性名\n",
        "\n",
        "ARIM.松波\n",
        "\n",
        "オブジェクト指向で社会構造を捉えようとする人もいる\n",
        "\n",
        "データ属性の追加または値の変更<br>\n",
        "オブジェクト.データ属性名 = 値\n",
        "\n",
        "先ほどの空のクラスにデータ属性を追加しよう"
      ],
      "metadata": {
        "id": "__9iOFDyM2rX"
      }
    },
    {
      "cell_type": "code",
      "source": [
        "class Food:\n",
        "  pass\n",
        "\n",
        "x = Food()\n",
        "x.name = \"milk\"\n",
        "x.price = 150\n",
        "print(x.name, x.price)"
      ],
      "metadata": {
        "id": "Hv3cJ4bNN2_v",
        "outputId": "2a5a8c09-16f6-43bc-8ebd-275be2a6ea85",
        "colab": {
          "base_uri": "https://localhost:8080/"
        }
      },
      "execution_count": null,
      "outputs": [
        {
          "output_type": "stream",
          "name": "stdout",
          "text": [
            "milk 150\n"
          ]
        }
      ]
    },
    {
      "cell_type": "code",
      "source": [
        "#別のオブジェクトyを作りeggとその値段とする\n",
        "\n",
        "class Food:\n",
        "  pass\n",
        "\n",
        "x = Food()\n",
        "x.name = \"milk\"\n",
        "x.price = 150\n",
        "print(x.name, x.price)\n",
        "\n",
        "y = Food()\n",
        "y.name = \"egg\"\n",
        "y.price = 200\n",
        "print(y.name, y.price)"
      ],
      "metadata": {
        "id": "-1Y6-fDdOKtm",
        "outputId": "d5ded743-0de0-4346-ee61-4b5b40210b7d",
        "colab": {
          "base_uri": "https://localhost:8080/"
        }
      },
      "execution_count": null,
      "outputs": [
        {
          "output_type": "stream",
          "name": "stdout",
          "text": [
            "milk 150\n",
            "egg 200\n"
          ]
        }
      ]
    },
    {
      "cell_type": "markdown",
      "source": [
        "自分はこんな危なっかしいクラスの使い方をしたことが無いんだよなあ<br>\n",
        "データ属性なんかはクラス宣言内でしっかり固めるようにしている"
      ],
      "metadata": {
        "id": "3zyeO15OOeUO"
      }
    },
    {
      "cell_type": "markdown",
      "source": [
        "### __init__メソッドでオブジェクトを初期化する\n",
        "\n",
        "__init__()メソッドはオブジェクトを生成する時に自動的に呼び出されるメソッド\n",
        "\n",
        "C++やJavaなどだと「コンストラクタ」と呼ぶ\n",
        "\n",
        "__init__()メソッドが書いてあることで、データ属性が初期化される\n",
        "\n",
        "class クラス名:<br>\n",
        "　　def __init__(self, 引数, ...):<br>\n",
        "　　　　文...<br>\n",
        "\n",
        "initメソッドの最初の引数であるselfとは<br>\n",
        "「処理の対象になるオブジェクトが格納される」<br>\n",
        "「C++やJavaならthisと書くものだが、もっと頻繁に使われる」<br>\n",
        "\n",
        "というとそれらの経験があるなら何となく分かるのだが<br>\n",
        "分からない人に内輪話をして盛り上がってるだけになってしまう！！！\n",
        "\n",
        "まあ、クラスの中のデータ属性を決めてやるのにも、そのデータ属性の「出どころ」あるいは「所属」が必要なんです<br>\n",
        "でも、まだオブジェクトの中身も名前も決めていないタイミングでそんな話をしようとしても具体的な名前を出せない<br>\n",
        "\n",
        "しょうがないから「俺のナニのアレを決めてほしいんだ！」という曖昧なことを言う人(クラス)のために、「self」という予約語を決めて、selfと出てくるとどうやらそのクラスの中限定で使われる臨時のオブジェクトという事になり、その臨時オブジェクトの各データ属性やメソッドに色々と定義してやると、そのクラスにはこんなデータ属性やメソッドが入るぞ！という仕組みを作った、\n",
        "\n",
        "という位しか、自分には説明が難しい\n",
        "\n",
        "この辺をもっと詳しく調べようとすると、Pythonにおいてクラスってどうやって定義されているんだろう、という事を知らなければならないらしい\n",
        "\n",
        "self.データ属性名 = 値"
      ],
      "metadata": {
        "id": "P07aWPT1xmdj"
      }
    },
    {
      "cell_type": "code",
      "source": [
        "# Foodクラスに__init__メソッドを追加し、データ属性を初期化する\n",
        "\n",
        "class Food:\n",
        "  def __init__(self, name, price):\n",
        "    self.name = name\n",
        "    self.price = price\n",
        "\n",
        "dinner = Food(\"curry\", 550)\n",
        "\n",
        "print(dinner.name, dinner.price)"
      ],
      "metadata": {
        "id": "JHpkLJgs1koP",
        "outputId": "9e79607f-e11e-445b-a78d-6703b39b0351",
        "colab": {
          "base_uri": "https://localhost:8080/"
        }
      },
      "execution_count": null,
      "outputs": [
        {
          "output_type": "stream",
          "name": "stdout",
          "text": [
            "curry 550\n"
          ]
        }
      ]
    },
    {
      "cell_type": "code",
      "source": [
        "#実はクラス定義の__init__引数名とデータ属性名は一致してなくてもいい\n",
        "class Food:\n",
        "  def __init__(self, n, p):\n",
        "    self.name = n\n",
        "    self.price = p\n",
        "\n",
        "snack = Food(\"bagel\", 300)\n",
        "\n",
        "print(snack.name, snack.price)\n",
        "#でも分かりにくいから止めたほうが良い"
      ],
      "metadata": {
        "id": "mg22ou_322JK",
        "outputId": "9b3049c0-f06e-44a2-83d6-f350e953f6bc",
        "colab": {
          "base_uri": "https://localhost:8080/"
        }
      },
      "execution_count": null,
      "outputs": [
        {
          "output_type": "stream",
          "name": "stdout",
          "text": [
            "bagel 300\n"
          ]
        }
      ]
    },
    {
      "cell_type": "markdown",
      "source": [
        "__init__メソッドの引数と、オブジェクト生成時に指定する引数の関係<br>\n",
        "def __init__(self, 引数A, 引数B, ...):<br>\n",
        "クラス名(引数A, 引数B)"
      ],
      "metadata": {
        "id": "k8weQprr3qXQ"
      }
    },
    {
      "cell_type": "code",
      "source": [
        "class Food:\n",
        "  def __init__(self, name, price):\n",
        "    self.name = name\n",
        "    self.price = price\n",
        "\n",
        "x = Food(\"milk\", 150)\n",
        "print(x.name, x.price)\n",
        "\n",
        "y = Food(\"egg\", 200)\n",
        "print(y.name, y.price)"
      ],
      "metadata": {
        "id": "rlF3We394jAn",
        "outputId": "a181888c-940b-49e2-e139-76fda211a978",
        "colab": {
          "base_uri": "https://localhost:8080/"
        }
      },
      "execution_count": null,
      "outputs": [
        {
          "output_type": "stream",
          "name": "stdout",
          "text": [
            "milk 150\n",
            "egg 200\n"
          ]
        }
      ]
    },
    {
      "cell_type": "markdown",
      "source": [
        "上でC++などにはコンストラクタというものがあると書いたが<br>\n",
        "C++だとデストラクタというのもある<br>\n",
        "出来たオブジェクトが要らなくなるタイミングで消すようにすることで<br>\n",
        "メモリを節約できる<br>\n",
        "Pythonだとガーベッジコレクターが不要なメモリを消すため要らない"
      ],
      "metadata": {
        "id": "aWY1o2Nu49s3"
      }
    },
    {
      "cell_type": "markdown",
      "source": [
        "### メソッドを定義する\n",
        "\n",
        "class クラス名:<br>\n",
        "　　def メソッド名(self, 引数, ...):<br>\n",
        "　　　　文...<br>\n",
        "\n",
        "これは処理の対象になるオブジェクト(インスタンス)を指定して呼び出すメソッドなので、インスタンスメソッドと呼ばれる<br>\n",
        "\n",
        "インスタンスでなくクラスを指定して呼び出すメソッドは、静的メソッドとかクラスメソッドなどと呼ばれる<br>\n",
        "第一引数にselfでなく、clsというのを使うとの事\n",
        "\n",
        "メソッドを呼び出すときは<br>\n",
        "オブジェクト.メソッド名(引数, ...)\n",
        "\n",
        "またメソッドの定義と呼び出しにおける引数の対応関係は<br>\n",
        "\n",
        "def メソッド名(self, 引数A, 引数B, ...):<br>\n",
        "オブジェクト.メソッド名(引数A, 引数B)\n",
        "\n"
      ],
      "metadata": {
        "id": "-3wStxlq5T61"
      }
    },
    {
      "cell_type": "code",
      "source": [
        "class Food:\n",
        "  def __init__(self, name, price):\n",
        "    self.name = name\n",
        "    self.price = price\n",
        "\n",
        "  def show(self):\n",
        "    print(self.name, self.price)\n",
        "\n",
        "x = Food(\"milk\", 150)\n",
        "x.show()\n",
        "\n",
        "y = Food(\"egg\", 200)\n",
        "y.show()"
      ],
      "metadata": {
        "id": "kia0d3gy5Qol",
        "outputId": "cb6cf1e6-f3fe-4e67-837c-0ef570be30f7",
        "colab": {
          "base_uri": "https://localhost:8080/"
        }
      },
      "execution_count": null,
      "outputs": [
        {
          "output_type": "stream",
          "name": "stdout",
          "text": [
            "milk 150\n",
            "egg 200\n"
          ]
        }
      ]
    },
    {
      "cell_type": "markdown",
      "source": [
        "### マングリングで属性を外部から隠蔽する\n",
        "\n",
        "クラスのメンバを安易に[オブジェクト名].データ属性名 = 'abc'<br>\n",
        "などと変えられたくない場合がある<br>\n",
        "C++やJavaならpublic、protected、privateでその保護の程度を変えられた\n",
        "\n",
        "Pythonのオブジェクトの属性は基本的には外部に公開されている。Javaなら全てPublicになっているようなものである"
      ],
      "metadata": {
        "id": "j33DgD-5_nEj"
      }
    },
    {
      "cell_type": "code",
      "source": [
        "class Food:\n",
        "  def __init__(self, name, price):\n",
        "    self.name = name\n",
        "    self.price = price\n",
        "\n",
        "  def show(self):\n",
        "    print(self.name, self.price)\n",
        "\n",
        "x = Food(\"milk\", 150)\n",
        "x.price //= 2\n",
        "x.show()"
      ],
      "metadata": {
        "id": "OkYmRQpQAkpZ",
        "outputId": "659c6dfb-178c-4c8c-f197-b127971e9754",
        "colab": {
          "base_uri": "https://localhost:8080/"
        }
      },
      "execution_count": 2,
      "outputs": [
        {
          "output_type": "stream",
          "name": "stdout",
          "text": [
            "milk 75\n"
          ]
        }
      ]
    },
    {
      "cell_type": "markdown",
      "source": [
        "勝手に値段を書き換えられたら困る<br>\n",
        "これを防ぐために、アンダースコアを( _ )属性名の前に付けてみよう"
      ],
      "metadata": {
        "id": "vKqbR58zA-CS"
      }
    },
    {
      "cell_type": "code",
      "source": [
        "class Food:\n",
        "  def __init__(self, name, price):\n",
        "    self._name = name\n",
        "    self._price = price\n",
        "\n",
        "  def show(self):\n",
        "    print(self._name, self._price)\n",
        "\n",
        "x = Food(\"milk\", 150)\n",
        "x.price //= 2\n",
        "x.show()\n",
        "#実行するとエラー"
      ],
      "metadata": {
        "id": "Rf_8vIkuBTId",
        "outputId": "04505b88-a144-4a84-ad46-b48ec1997dc4",
        "colab": {
          "base_uri": "https://localhost:8080/",
          "height": 247
        }
      },
      "execution_count": 4,
      "outputs": [
        {
          "output_type": "error",
          "ename": "AttributeError",
          "evalue": "ignored",
          "traceback": [
            "\u001b[0;31m---------------------------------------------------------------------------\u001b[0m",
            "\u001b[0;31mAttributeError\u001b[0m                            Traceback (most recent call last)",
            "\u001b[0;32m<ipython-input-4-717e65c32d5c>\u001b[0m in \u001b[0;36m<module>\u001b[0;34m()\u001b[0m\n\u001b[1;32m      8\u001b[0m \u001b[0;34m\u001b[0m\u001b[0m\n\u001b[1;32m      9\u001b[0m \u001b[0mx\u001b[0m \u001b[0;34m=\u001b[0m \u001b[0mFood\u001b[0m\u001b[0;34m(\u001b[0m\u001b[0;34m\"milk\"\u001b[0m\u001b[0;34m,\u001b[0m \u001b[0;36m150\u001b[0m\u001b[0;34m)\u001b[0m\u001b[0;34m\u001b[0m\u001b[0;34m\u001b[0m\u001b[0m\n\u001b[0;32m---> 10\u001b[0;31m \u001b[0mx\u001b[0m\u001b[0;34m.\u001b[0m\u001b[0mprice\u001b[0m \u001b[0;34m//=\u001b[0m \u001b[0;36m2\u001b[0m\u001b[0;34m\u001b[0m\u001b[0;34m\u001b[0m\u001b[0m\n\u001b[0m\u001b[1;32m     11\u001b[0m \u001b[0mx\u001b[0m\u001b[0;34m.\u001b[0m\u001b[0mshow\u001b[0m\u001b[0;34m(\u001b[0m\u001b[0;34m)\u001b[0m\u001b[0;34m\u001b[0m\u001b[0;34m\u001b[0m\u001b[0m\n\u001b[1;32m     12\u001b[0m \u001b[0;31m#実行するとエラー\u001b[0m\u001b[0;34m\u001b[0m\u001b[0;34m\u001b[0m\u001b[0;34m\u001b[0m\u001b[0m\n",
            "\u001b[0;31mAttributeError\u001b[0m: 'Food' object has no attribute 'price'"
          ]
        }
      ]
    },
    {
      "cell_type": "code",
      "source": [
        "#しかしx._priceとするだけで簡単に突破される\n",
        "class Food:\n",
        "  def __init__(self, name, price):\n",
        "    self._name = name\n",
        "    self._price = price\n",
        "\n",
        "  def show(self):\n",
        "    print(self._name, self._price)\n",
        "\n",
        "x = Food(\"milk\", 150)\n",
        "x._price //= 2\n",
        "x.show()"
      ],
      "metadata": {
        "id": "CjdW1tcSBloT",
        "outputId": "a03a57ef-542f-40be-f6dc-19e8ca6b08cb",
        "colab": {
          "base_uri": "https://localhost:8080/"
        }
      },
      "execution_count": 5,
      "outputs": [
        {
          "output_type": "stream",
          "name": "stdout",
          "text": [
            "milk 75\n"
          ]
        }
      ]
    },
    {
      "cell_type": "markdown",
      "source": [
        "これはPythonで、変えてほしくない変数に慣例的に付けているだけ、との事である\n",
        "\n",
        "より念入りに属性への操作を制限するなら、アンダースコアを2つ付ける<br>\n",
        "このような属性名には、マングリングという機能が適用されて<br>\n",
        "自動的に「_クラス名__属性名」のような属性名に変換される"
      ],
      "metadata": {
        "id": "nC90hickB1WJ"
      }
    },
    {
      "cell_type": "code",
      "source": [
        "class Food:\n",
        "  def __init__(self, name, price):\n",
        "    self.__name = name\n",
        "    self.__price = price\n",
        "\n",
        "  def show(self):\n",
        "    print(self.__name, self.__price)\n",
        "\n",
        "x = Food(\"milk\", 150)\n",
        "x.__price //= 2\n",
        "x.show()#アンダースコア2つでもエラー発生"
      ],
      "metadata": {
        "id": "asxoB0dCCmOT",
        "outputId": "1148e97b-b339-4157-c012-fd081b88d59d",
        "colab": {
          "base_uri": "https://localhost:8080/",
          "height": 229
        }
      },
      "execution_count": 6,
      "outputs": [
        {
          "output_type": "error",
          "ename": "AttributeError",
          "evalue": "ignored",
          "traceback": [
            "\u001b[0;31m---------------------------------------------------------------------------\u001b[0m",
            "\u001b[0;31mAttributeError\u001b[0m                            Traceback (most recent call last)",
            "\u001b[0;32m<ipython-input-6-b716ac48a138>\u001b[0m in \u001b[0;36m<module>\u001b[0;34m()\u001b[0m\n\u001b[1;32m      8\u001b[0m \u001b[0;34m\u001b[0m\u001b[0m\n\u001b[1;32m      9\u001b[0m \u001b[0mx\u001b[0m \u001b[0;34m=\u001b[0m \u001b[0mFood\u001b[0m\u001b[0;34m(\u001b[0m\u001b[0;34m\"milk\"\u001b[0m\u001b[0;34m,\u001b[0m \u001b[0;36m150\u001b[0m\u001b[0;34m)\u001b[0m\u001b[0;34m\u001b[0m\u001b[0;34m\u001b[0m\u001b[0m\n\u001b[0;32m---> 10\u001b[0;31m \u001b[0mx\u001b[0m\u001b[0;34m.\u001b[0m\u001b[0m__price\u001b[0m \u001b[0;34m//=\u001b[0m \u001b[0;36m2\u001b[0m\u001b[0;34m\u001b[0m\u001b[0;34m\u001b[0m\u001b[0m\n\u001b[0m\u001b[1;32m     11\u001b[0m \u001b[0mx\u001b[0m\u001b[0;34m.\u001b[0m\u001b[0mshow\u001b[0m\u001b[0;34m(\u001b[0m\u001b[0;34m)\u001b[0m\u001b[0;31m#アンダースコア2つでもエラー発生\u001b[0m\u001b[0;34m\u001b[0m\u001b[0;34m\u001b[0m\u001b[0m\n",
            "\u001b[0;31mAttributeError\u001b[0m: 'Food' object has no attribute '__price'"
          ]
        }
      ]
    },
    {
      "cell_type": "code",
      "source": [
        "#上に自動的に「_クラス名__属性名」のような属性名に変換される\n",
        "#って書いてあるから、やってみよう\n",
        "class Food:\n",
        "  def __init__(self, name, price):\n",
        "    self.__name = name\n",
        "    self.__price = price\n",
        "\n",
        "  def show(self):\n",
        "    print(self.__name, self.__price)\n",
        "\n",
        "x = Food(\"milk\", 150)\n",
        "x._Food__price //= 2\n",
        "x.show()"
      ],
      "metadata": {
        "id": "YCTgfi58C3Co",
        "outputId": "8f35fcaf-1a25-4eeb-924a-2e54340d0213",
        "colab": {
          "base_uri": "https://localhost:8080/"
        }
      },
      "execution_count": 7,
      "outputs": [
        {
          "output_type": "stream",
          "name": "stdout",
          "text": [
            "milk 75\n"
          ]
        }
      ]
    },
    {
      "cell_type": "markdown",
      "source": [
        "なお、前後に__init__なんてアンダースコア2つの場合にはマングリングの対象にならない"
      ],
      "metadata": {
        "id": "Z9hov3QyDRqo"
      }
    },
    {
      "cell_type": "markdown",
      "source": [
        "### クラス属性を使ってクラスに値を保存\n",
        "\n",
        "データでなく、クラス本体に値を保存する方法が出来る。<br>\n",
        "これだと出来たオブジェクトに共通する値を保存できる\n",
        "\n",
        "class クラス名:<br>\n",
        "　　クラス属性名 = 値\n",
        "\n",
        "これを使うときは、<br>\n",
        "クラス名.クラス属性名<br>\n",
        "オブジェクト名.クラス属性名<br>\n",
        "のようにする\n",
        "\n",
        "クラスのオブジェクトで共有する情報を管理する時に便利\n",
        "\n",
        "生成したオブジェクトの個数を数えるとき、<br>\n",
        "1. クラスの内側かつメソッド外側で、クラス属性countに0代入<br>\n",
        "2. __init__メソッドでFood.countに1を加えて、生成したオブジェクトの個数を数える<br>\n",
        "3. showメソッドで、クラス属性のcount、データ属性のnameとpriceを表示する<br>"
      ],
      "metadata": {
        "id": "QMMBgle1Djm8"
      }
    },
    {
      "cell_type": "code",
      "source": [
        "class Food:\n",
        "  count = 0#ここがクラス属性\n",
        "\n",
        "  def __init__(self, name, price):\n",
        "    self.name = name\n",
        "    self.price = price\n",
        "    Food.count += 1\n",
        "\n",
        "  def show(self):\n",
        "    print(Food.count, self.name, self.price)\n",
        "\n",
        "x = Food(\"milk\", 150)\n",
        "x.show()\n",
        "\n",
        "y = Food(\"egg\", 200)\n",
        "y.show()"
      ],
      "metadata": {
        "id": "m93o6r4YFSOL",
        "outputId": "564bad49-0615-44e4-ae17-8ba4659d0557",
        "colab": {
          "base_uri": "https://localhost:8080/"
        }
      },
      "execution_count": 11,
      "outputs": [
        {
          "output_type": "stream",
          "name": "stdout",
          "text": [
            "1 milk 150\n",
            "2 egg 200\n"
          ]
        }
      ]
    },
    {
      "cell_type": "markdown",
      "source": [
        "ところで、self.countと書いてもエラーにはならないとか<br>\n",
        "メソッドもクラス属性の1つであるとか色々ある"
      ],
      "metadata": {
        "id": "YAncDVZSGhTK"
      }
    }
  ]
}