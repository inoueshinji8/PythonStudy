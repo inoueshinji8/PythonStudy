{
  "nbformat": 4,
  "nbformat_minor": 0,
  "metadata": {
    "colab": {
      "name": "PythonCompleteChap6_1-p254.ipynb",
      "provenance": [],
      "authorship_tag": "ABX9TyPOHppZ45S9VL6T0jdEz922",
      "include_colab_link": true
    },
    "kernelspec": {
      "name": "python3",
      "display_name": "Python 3"
    },
    "language_info": {
      "name": "python"
    }
  },
  "cells": [
    {
      "cell_type": "markdown",
      "metadata": {
        "id": "view-in-github",
        "colab_type": "text"
      },
      "source": [
        "<a href=\"https://colab.research.google.com/github/inoueshinji8/PythonStudy/blob/main/PythonCompleteChap6_1_p254.ipynb\" target=\"_parent\"><img src=\"https://colab.research.google.com/assets/colab-badge.svg\" alt=\"Open In Colab\"/></a>"
      ]
    },
    {
      "cell_type": "markdown",
      "source": [
        "# Chapter6 よく使う処理を関数にまとめる\n",
        "\n",
        "関数は出来てしまえば楽なんだが、作ってる時はまだちょっと怖い<br>\n",
        "\n",
        "C言語だと内部でせっかく作った変数をポインタ渡ししていなくて外に出せなかったりする<br>\n",
        "プログラムが関数内で完結するのがデフォのJavaScriptでも同じことが起こり、やむを得ずLocalStrageに全部蓄えておいて外で読みだすという暴挙をやった<br>\n",
        "\n",
        "章の扉にもスコープについて書いてある"
      ],
      "metadata": {
        "id": "VEXkLkwL677K"
      }
    },
    {
      "cell_type": "markdown",
      "source": [
        "## section01 関数は引数の使い方がポイント\n",
        "\n",
        "位置引数とキーワード引数がある\n",
        "\n",
        "print(\"Hello\",\"Python\", end=' ')\n",
        "\n",
        "\"Hello\"と\"Python\"が位置引数<br>\n",
        "end=' 'がキーワード引数"
      ],
      "metadata": {
        "id": "vF-0y0E87tBd"
      }
    },
    {
      "cell_type": "markdown",
      "source": [
        "### 独自の関数を定義するには\n",
        "\n",
        "def 関数名(引数, ・・・):<br>\n",
        "　　文・・・(関数の内側)<br>\n",
        "文・・・(関数の外側)<br>"
      ],
      "metadata": {
        "id": "kFPWq0vP8JWr"
      }
    },
    {
      "cell_type": "markdown",
      "source": [
        "関数の引数が無い場合<br>\n",
        "def 関数名():\n",
        "\n",
        "関数の引数が1つの場合<br>\n",
        "def 関数名(引数):\n",
        "\n",
        "関数の引数が複数の場合<br>\n",
        "def 関数名(引数, 引数,・・・):"
      ],
      "metadata": {
        "id": "aInV8Tzw8sUk"
      }
    },
    {
      "cell_type": "code",
      "execution_count": 1,
      "metadata": {
        "colab": {
          "base_uri": "https://localhost:8080/"
        },
        "id": "BGTz60jD6vF_",
        "outputId": "7f72fe60-984a-47a7-f018-e4c5c05a5f34"
      },
      "outputs": [
        {
          "output_type": "stream",
          "name": "stdout",
          "text": [
            "main:  steak\n",
            "side:  salad\n",
            "drink:  coffee\n"
          ]
        }
      ],
      "source": [
        "# レストランでメインディッシュとサイドディッシュとドリンクを表示する関数\n",
        "\n",
        "def order(main, side, drink):\n",
        "  print(\"main: \", main)\n",
        "  print(\"side: \", side)\n",
        "  print(\"drink: \", drink)\n",
        "\n",
        "order(\"steak\", \"salad\", \"coffee\")"
      ]
    },
    {
      "cell_type": "markdown",
      "source": [
        "関数の定義に記述する引数を仮引数\n",
        "\n",
        "関数に実際に渡す引数を実引数という\n",
        "\n",
        "仮引数はパラメーター<br>\n",
        "実引数はアーギュメント<br>\n",
        "\n",
        "般若心経の波羅蜜多とパラメーターの語源が同じらしい<br>\n",
        "argumentは学校英語だと議論だがここでは実引数"
      ],
      "metadata": {
        "id": "Fe_ZzVvI921l"
      }
    },
    {
      "cell_type": "code",
      "source": [
        ""
      ],
      "metadata": {
        "id": "LbLFkhnm-dAj"
      },
      "execution_count": null,
      "outputs": []
    }
  ]
}