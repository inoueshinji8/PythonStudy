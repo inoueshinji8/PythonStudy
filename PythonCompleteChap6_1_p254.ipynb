{
  "nbformat": 4,
  "nbformat_minor": 0,
  "metadata": {
    "colab": {
      "name": "PythonCompleteChap6_1-p254.ipynb",
      "provenance": [],
      "authorship_tag": "ABX9TyPI5IvQdg+vXM5IhotiYz/u",
      "include_colab_link": true
    },
    "kernelspec": {
      "name": "python3",
      "display_name": "Python 3"
    },
    "language_info": {
      "name": "python"
    }
  },
  "cells": [
    {
      "cell_type": "markdown",
      "metadata": {
        "id": "view-in-github",
        "colab_type": "text"
      },
      "source": [
        "<a href=\"https://colab.research.google.com/github/inoueshinji8/PythonStudy/blob/main/PythonCompleteChap6_1_p254.ipynb\" target=\"_parent\"><img src=\"https://colab.research.google.com/assets/colab-badge.svg\" alt=\"Open In Colab\"/></a>"
      ]
    },
    {
      "cell_type": "markdown",
      "source": [
        "# Chapter6 よく使う処理を関数にまとめる\n",
        "\n",
        "関数は出来てしまえば楽なんだが、作ってる時はまだちょっと怖い<br>\n",
        "\n",
        "C言語だと内部でせっかく作った変数をポインタ渡ししていなくて外に出せなかったりする<br>\n",
        "プログラムが関数内で完結するのがデフォのJavaScriptでも同じことが起こり、やむを得ずLocalStrageに全部蓄えておいて外で読みだすという暴挙をやった<br>\n",
        "\n",
        "章の扉にもスコープについて書いてある"
      ],
      "metadata": {
        "id": "VEXkLkwL677K"
      }
    },
    {
      "cell_type": "markdown",
      "source": [
        "## section01 関数は引数の使い方がポイント\n",
        "\n",
        "位置引数とキーワード引数がある\n",
        "\n",
        "print(\"Hello\",\"Python\", end=' ')\n",
        "\n",
        "\"Hello\"と\"Python\"が位置引数<br>\n",
        "end=' 'がキーワード引数"
      ],
      "metadata": {
        "id": "vF-0y0E87tBd"
      }
    },
    {
      "cell_type": "markdown",
      "source": [
        "### 独自の関数を定義するには\n",
        "\n",
        "def 関数名(引数, ・・・):<br>\n",
        "　　文・・・(関数の内側)<br>\n",
        "文・・・(関数の外側)<br>"
      ],
      "metadata": {
        "id": "kFPWq0vP8JWr"
      }
    },
    {
      "cell_type": "markdown",
      "source": [
        "関数の引数が無い場合<br>\n",
        "def 関数名():\n",
        "\n",
        "関数の引数が1つの場合<br>\n",
        "def 関数名(引数):\n",
        "\n",
        "関数の引数が複数の場合<br>\n",
        "def 関数名(引数, 引数,・・・):"
      ],
      "metadata": {
        "id": "aInV8Tzw8sUk"
      }
    },
    {
      "cell_type": "code",
      "execution_count": null,
      "metadata": {
        "colab": {
          "base_uri": "https://localhost:8080/"
        },
        "id": "BGTz60jD6vF_",
        "outputId": "7f72fe60-984a-47a7-f018-e4c5c05a5f34"
      },
      "outputs": [
        {
          "output_type": "stream",
          "name": "stdout",
          "text": [
            "main:  steak\n",
            "side:  salad\n",
            "drink:  coffee\n"
          ]
        }
      ],
      "source": [
        "# レストランでメインディッシュとサイドディッシュとドリンクを表示する関数\n",
        "\n",
        "def order(main, side, drink):\n",
        "  print(\"main: \", main)\n",
        "  print(\"side: \", side)\n",
        "  print(\"drink: \", drink)\n",
        "\n",
        "order(\"steak\", \"salad\", \"coffee\")"
      ]
    },
    {
      "cell_type": "markdown",
      "source": [
        "関数の定義に記述する引数を仮引数\n",
        "\n",
        "関数に実際に渡す引数を実引数という\n",
        "\n",
        "仮引数はパラメーター<br>\n",
        "実引数はアーギュメント<br>\n",
        "\n",
        "般若心経の波羅蜜多とパラメーターの語源が同じらしい<br>\n",
        "argumentは学校英語だと議論だがここでは実引数"
      ],
      "metadata": {
        "id": "Fe_ZzVvI921l"
      }
    },
    {
      "cell_type": "markdown",
      "source": [
        "### 戻り値を返すreturn文\n",
        "\n",
        "関数から戻り値を出したかったら、return文を使う\n",
        "\n",
        "return 式\n",
        "\n",
        "def 関数(引数, ...):\n",
        "　　文...\n",
        "　　return 式\n",
        "\n",
        "戻り値が無い関数もある<br>\n",
        "この時は戻り値はNoneになる<br>\n",
        "Cなどだと戻り値の型名をvoidとする<br>"
      ],
      "metadata": {
        "id": "0KltuMtbEkFO"
      }
    },
    {
      "cell_type": "code",
      "source": [
        "# 引数が奇数なら文字列oddを返し、引数が偶数なら文字列evenを返す関数\n",
        "\n",
        "def odd_even(n):\n",
        "  return 'odd' if n%2 else 'even'\n",
        "\n",
        "print(odd_even(8))\n",
        "print(odd_even(15))"
      ],
      "metadata": {
        "id": "LbLFkhnm-dAj",
        "outputId": "5dd9934d-39e8-4968-c0b5-5580e39e43f5",
        "colab": {
          "base_uri": "https://localhost:8080/"
        }
      },
      "execution_count": 3,
      "outputs": [
        {
          "output_type": "stream",
          "name": "stdout",
          "text": [
            "even\n",
            "odd\n"
          ]
        }
      ]
    },
    {
      "cell_type": "markdown",
      "source": [
        "上記では0以外の整数はtrue、0ならfalseになることを利用して書いてある\n",
        "\n",
        "return を必ずしも通らないで呼び出し元に戻る事も出来る関数を作ろう\n",
        "\n",
        "def 関数名(引数, ...):\n",
        "　　文...<br>\n",
        "　　if 式:<br>\n",
        "　　　　文...<br>\n",
        "　　　　return 式<br>\n",
        "　　文<br>\n",
        "\n",
        "では上の偶数奇数判定関数に、引数が整数以外ならerrorと表示する機能を加えよう"
      ],
      "metadata": {
        "id": "mtVLsBpNGbfl"
      }
    },
    {
      "cell_type": "code",
      "source": [
        "def odd_even(n):\n",
        "  if n != int(n):#int関数に入れて引数と戻り値が同じなら整数\n",
        "    return 'error'\n",
        "  return 'odd' if n%2 else 'even'\n",
        "\n",
        "print(odd_even(5))\n",
        "print(odd_even(6))\n",
        "print(odd_even(7.7))"
      ],
      "metadata": {
        "id": "gd0YUfY7HU3w",
        "outputId": "141aac84-7f3f-408b-ccee-5fed38d55de0",
        "colab": {
          "base_uri": "https://localhost:8080/"
        }
      },
      "execution_count": 4,
      "outputs": [
        {
          "output_type": "stream",
          "name": "stdout",
          "text": [
            "odd\n",
            "even\n",
            "error\n"
          ]
        }
      ]
    },
    {
      "cell_type": "markdown",
      "source": [
        "引数の順序が大事な位置引数\n",
        "\n",
        "def 関数名(引数A, 引数B, 引数C): ←関数の定義<br>\n",
        "　　文...\n",
        "\n",
        "関数名(引数A, 引数B, 引数C) 関数の呼び出し"
      ],
      "metadata": {
        "id": "x59ToRIRJG3e"
      }
    },
    {
      "cell_type": "code",
      "source": [
        "#ファミレスの注文関数を作ろう\n",
        "def order(main, sub, drink):\n",
        "  print('main:', main)\n",
        "  print('sub:', sub)\n",
        "  print('drink:', drink)\n",
        "\n",
        "order('pizza', 'soup', 'juice')"
      ],
      "metadata": {
        "id": "c3h9umtvJo3t",
        "outputId": "c576713e-3efa-4b9a-a43d-88504f2b101e",
        "colab": {
          "base_uri": "https://localhost:8080/"
        }
      },
      "execution_count": 5,
      "outputs": [
        {
          "output_type": "stream",
          "name": "stdout",
          "text": [
            "main: pizza\n",
            "sub: soup\n",
            "drink: juice\n"
          ]
        }
      ]
    },
    {
      "cell_type": "markdown",
      "source": [
        "#### アスタリスク(*)を使って、実引数に「*イテラブル」と記述すると\n",
        "#### イテラブルから要素を取り出し、各要素を別々の引数として\n",
        "#### 関数に渡すことができる\n",
        "#### これをイテラブルアンパッキングという"
      ],
      "metadata": {
        "id": "u-xEpzvLKLm0"
      }
    },
    {
      "cell_type": "code",
      "source": [
        "def order(main, sub, drink):\n",
        "  print('main:', main)\n",
        "  print('sub:', sub)\n",
        "  print('drink:', drink)\n",
        "\n",
        "snack = ['anpan', 'fruit', 'tea']\n",
        "#order(snack)これはエラー\n",
        "order(*snack)"
      ],
      "metadata": {
        "id": "XQKneQ25KlwL",
        "outputId": "178519a2-73a8-4589-8353-8bf1f744e536",
        "colab": {
          "base_uri": "https://localhost:8080/"
        }
      },
      "execution_count": 7,
      "outputs": [
        {
          "output_type": "stream",
          "name": "stdout",
          "text": [
            "main: anpan\n",
            "sub: fruit\n",
            "drink: tea\n"
          ]
        }
      ]
    },
    {
      "cell_type": "code",
      "source": [
        "#あえて全ての引数をイテラブルに入れずに代入する\n",
        "def order(main, sub, drink):\n",
        "  print('main:', main)\n",
        "  print('sub:', sub)\n",
        "  print('drink:', drink)\n",
        "\n",
        "snack = ['hotcake', 'fruit']\n",
        "\n",
        "order(*snack, 'tea')"
      ],
      "metadata": {
        "id": "8t9gI8q_K-TU",
        "outputId": "5bf90ca9-3cfd-4f94-f228-9e261ce1d195",
        "colab": {
          "base_uri": "https://localhost:8080/"
        }
      },
      "execution_count": 8,
      "outputs": [
        {
          "output_type": "stream",
          "name": "stdout",
          "text": [
            "main: hotcake\n",
            "sub: fruit\n",
            "drink: tea\n"
          ]
        }
      ]
    },
    {
      "cell_type": "markdown",
      "source": [
        "### 引数の順序が自由なキーワード引数\n",
        "\n",
        "def 関数名(引数A, 引数B, 引数C): ←関数の定義<br>\n",
        "　　文...\n",
        "\n",
        "関数名(引数A=値A, 引数B=値B, 引数C=値C)<br>\n",
        "関数名(引数A=値A, 引数C=値C, 引数B=値B)<br>\n",
        "関数名(引数B=値B, 引数A=値A, 引数C=値C)<br>\n",
        "関数名(引数B=値B, 引数C=値C, 引数A=値A)<br>\n",
        "関数名(引数C=値C, 引数A=値A, 引数B=値B)<br>\n",
        "関数名(引数C=値C, 引数B=値B, 引数A=値A)<br>\n",
        "\n",
        "どれも同じ出力結果になる"
      ],
      "metadata": {
        "id": "tSV7IpCOLR37"
      }
    },
    {
      "cell_type": "code",
      "source": [
        "def order(main, side, drink):\n",
        "  print('main:', main)\n",
        "  print('side:', side)\n",
        "  print('drink:', drink)\n",
        "  #return 1 #最後のNoneは戻り値\n",
        "\n",
        "print(order(main='steak', side='salad', drink='coffee'))\n",
        "print(order(main='steak', drink='coffee', side='salad'))\n",
        "print(order(side='salad', main='steak', drink='coffee'))\n",
        "print(order(side='salad', drink='coffee', main='steak'))\n",
        "print(order(drink='coffee', main='steak', side='salad'))\n",
        "print(order(drink='coffee', side='salad', main='steak'))"
      ],
      "metadata": {
        "id": "DaeiiQxTMFRu",
        "outputId": "cf9b5cb2-2794-4e0f-9587-e2ef2138094b",
        "colab": {
          "base_uri": "https://localhost:8080/"
        }
      },
      "execution_count": 12,
      "outputs": [
        {
          "output_type": "stream",
          "name": "stdout",
          "text": [
            "main: steak\n",
            "side: salad\n",
            "drink: coffee\n",
            "None\n",
            "main: steak\n",
            "side: salad\n",
            "drink: coffee\n",
            "None\n",
            "main: steak\n",
            "side: salad\n",
            "drink: coffee\n",
            "None\n",
            "main: steak\n",
            "side: salad\n",
            "drink: coffee\n",
            "None\n",
            "main: steak\n",
            "side: salad\n",
            "drink: coffee\n",
            "None\n",
            "main: steak\n",
            "side: salad\n",
            "drink: coffee\n",
            "None\n"
          ]
        }
      ]
    },
    {
      "cell_type": "markdown",
      "source": [
        "位置引数とキーワード引数を併用するときは、位置引数を左に、キーワード引数を右に書かないとエラーになる"
      ],
      "metadata": {
        "id": "UcqNUoPAN0-F"
      }
    },
    {
      "cell_type": "code",
      "source": [
        "def order(main, side, drink):\n",
        "  print('main:', main)\n",
        "  print('side:', side)\n",
        "  print('drink:', drink)\n",
        "\n",
        "order('steak', side='salad', drink='coffee')\n",
        "#order(drink='coffee', 'steak', side='salad')以下の4つはエラーになる\n",
        "#order(side='salad', 'steak', drink='coffee')\n",
        "#order(drink='coffee', side='salad', 'steak')\n",
        "#order(side='salad', drink='coffee', 'steak')"
      ],
      "metadata": {
        "id": "Y4bVMcQIN9YU",
        "outputId": "78bf6142-72e6-4cc8-8e9b-251a4b2fbdcf",
        "colab": {
          "base_uri": "https://localhost:8080/"
        }
      },
      "execution_count": 13,
      "outputs": [
        {
          "output_type": "stream",
          "name": "stdout",
          "text": [
            "main: steak\n",
            "side: salad\n",
            "drink: coffee\n"
          ]
        }
      ]
    },
    {
      "cell_type": "markdown",
      "source": [
        "#### アスタリスク(*)2個を使って、実引数に「**辞書」と書くと\n",
        "#### 辞書からキーと値を取り出してキー=辞書というキーワード引数として\n",
        "#### 関数に渡すことができる\n",
        "#### 辞書アンパッキングという\n",
        "\n"
      ],
      "metadata": {
        "id": "nJeBlTfePJ2N"
      }
    },
    {
      "cell_type": "code",
      "source": [
        "def order(main, side, drink):\n",
        "  print('main:', main)\n",
        "  print('side:', side)\n",
        "  print('drink:', drink)\n",
        "\n",
        "dessert = {'main':'parfait', 'side':'anpan', 'drink':'cocoa'}\n",
        "order(**dessert)"
      ],
      "metadata": {
        "id": "4rcmF51RPnRE",
        "outputId": "13ffd6df-c546-4367-a5c0-5f2a233e53b6",
        "colab": {
          "base_uri": "https://localhost:8080/"
        }
      },
      "execution_count": 14,
      "outputs": [
        {
          "output_type": "stream",
          "name": "stdout",
          "text": [
            "main: parfait\n",
            "side: anpan\n",
            "drink: cocoa\n"
          ]
        }
      ]
    },
    {
      "cell_type": "markdown",
      "source": [
        "イテラブルアンパッキングと辞書アンパッキングを混ぜて使うなら<br>\n",
        "イテラブルアンパッキングは左、辞書アンパッキングは右"
      ],
      "metadata": {
        "id": "SqvR-drbQFPz"
      }
    },
    {
      "cell_type": "code",
      "source": [
        "def order(main, side, drink):\n",
        "  print('main:', main)\n",
        "  print('side:', side)\n",
        "  print('drink:', drink)\n",
        "\n",
        "order('hotcake', *['fruit'], **{'drink': 'tea'})"
      ],
      "metadata": {
        "id": "NgbvXaE2QQuc",
        "outputId": "29929132-378d-4112-a92a-6af22318f6e6",
        "colab": {
          "base_uri": "https://localhost:8080/"
        }
      },
      "execution_count": 15,
      "outputs": [
        {
          "output_type": "stream",
          "name": "stdout",
          "text": [
            "main: hotcake\n",
            "side: fruit\n",
            "drink: tea\n"
          ]
        }
      ]
    },
    {
      "cell_type": "code",
      "source": [
        "#イテラブルアンパッキング、辞書アンパッキング、キーワード引数を合わせよう\n",
        "def order(main, side, drink):\n",
        "  print('main:', main)\n",
        "  print('side:', side)\n",
        "  print('drink:', drink)\n",
        "\n",
        "order(*['parfait'], **{'drink': 'cocoa'}, side='cookie')"
      ],
      "metadata": {
        "id": "S6KDTWsKQqjb",
        "outputId": "8f59ca57-c9e1-4519-df3c-fb35ef27d302",
        "colab": {
          "base_uri": "https://localhost:8080/"
        }
      },
      "execution_count": 18,
      "outputs": [
        {
          "output_type": "stream",
          "name": "stdout",
          "text": [
            "main: parfait\n",
            "side: cookie\n",
            "drink: cocoa\n"
          ]
        }
      ]
    },
    {
      "cell_type": "markdown",
      "source": [
        "### 引数にデフォルト値を設定できる\n",
        "関数呼び出しの時に実引数を省略しても、そのデフォルト値が代入されて戻り値ができる\n",
        "\n",
        "def 関数名(引数=デフォルト値, ...):\n",
        "\n",
        "あるいは一部の引数だけデフォルト値を設定できる\n",
        "\n",
        "def 関数名(引数, ... , 引数=デフォルト値, ...):"
      ],
      "metadata": {
        "id": "b1SPT81WRMHE"
      }
    },
    {
      "cell_type": "code",
      "source": [
        "def order(main='steak', side='salad', drink='coffee'):\n",
        "  print('main:', main)\n",
        "  print('side:', side)\n",
        "  print('drink:', drink)\n",
        "\n",
        "print(order())"
      ],
      "metadata": {
        "id": "6Q1T0vqNR0q2",
        "outputId": "8b6ca508-c002-418f-c035-cc30514081d5",
        "colab": {
          "base_uri": "https://localhost:8080/"
        }
      },
      "execution_count": 21,
      "outputs": [
        {
          "output_type": "stream",
          "name": "stdout",
          "text": [
            "main: steak\n",
            "side: salad\n",
            "drink: coffee\n",
            "None\n"
          ]
        }
      ]
    },
    {
      "cell_type": "code",
      "source": [
        "print(order('pizza'))\n",
        "print(order(side='soup'))"
      ],
      "metadata": {
        "id": "-XH6FV1qSDxE",
        "outputId": "d8d51571-71f0-4806-b020-17e3dafc5a9c",
        "colab": {
          "base_uri": "https://localhost:8080/"
        }
      },
      "execution_count": 22,
      "outputs": [
        {
          "output_type": "stream",
          "name": "stdout",
          "text": [
            "main: pizza\n",
            "side: salad\n",
            "drink: coffee\n",
            "None\n",
            "main: steak\n",
            "side: soup\n",
            "drink: coffee\n",
            "None\n"
          ]
        }
      ]
    },
    {
      "cell_type": "markdown",
      "source": [
        "まさにマクドナルドのセット方式！<br>\n",
        "フロントエンド側でうまく使いたい"
      ],
      "metadata": {
        "id": "onjp92iuSSUf"
      }
    },
    {
      "cell_type": "code",
      "source": [
        ""
      ],
      "metadata": {
        "id": "CDUFS4uhSgNs"
      },
      "execution_count": null,
      "outputs": []
    }
  ]
}