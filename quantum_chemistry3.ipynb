{
  "nbformat": 4,
  "nbformat_minor": 0,
  "metadata": {
    "colab": {
      "name": "quantum_chemistry3.ipynb",
      "provenance": [],
      "authorship_tag": "ABX9TyNbpXkA0/u5s5RHyiuRmmoN",
      "include_colab_link": true
    },
    "kernelspec": {
      "name": "python3",
      "display_name": "Python 3"
    },
    "language_info": {
      "name": "python"
    }
  },
  "cells": [
    {
      "cell_type": "markdown",
      "metadata": {
        "id": "view-in-github",
        "colab_type": "text"
      },
      "source": [
        "<a href=\"https://colab.research.google.com/github/inoueshinji8/PythonStudy/blob/main/quantum_chemistry3.ipynb\" target=\"_parent\"><img src=\"https://colab.research.google.com/assets/colab-badge.svg\" alt=\"Open In Colab\"/></a>"
      ]
    },
    {
      "cell_type": "markdown",
      "source": [
        "https://tsujimotter.hatenablog.com/entry/molecular-orbital-visualization\n",
        "を参考にする<br>\n",
        "これでPythonでガンガン動かすのは一応最後。ただし、その後の読み物も実に面白い"
      ],
      "metadata": {
        "id": "8E84ypL6UKGN"
      }
    },
    {
      "cell_type": "markdown",
      "source": [
        "分子軌道法の変分原理を使う\n",
        "\n",
        "まずは分かり易く水素分子から！でも、2つになったぞ\n",
        "\n",
        "2つの波動関数の重ね合わせでc1χ1 + c2χ2とか考える<br>\n",
        "E真≤E(c1,c2)\n",
        "\n",
        "これを考えると、c1χ1 + c2χ2のエネルギーが最小になれば良い<br>\n",
        "でもどうやって求める？\n",
        "\n",
        "時間に依存するシュレディンガー方程式、では\n",
        "c1χ1 + c2χ2はシュレディンガー方程式の解になる<br>\n",
        "ハミルトニアンの線形性のお陰である\n",
        "\n",
        "そしてエネルギーの期待値は？というと、ハミルトニアンなんだしEとか書いてあるじゃん！<br>\n",
        "そして確率分布。じゃあ、二乗、じゃなくて複素共役で挟むように掛けて空間積分だ！\n",
        "\n",
        "ここでハミルトニアンのエルミート演算子の固有値は直交するので違うものでは積はゼロ<br>\n",
        "一方で波動関数単独だと二乗して空間全体の積分なら規格化されてるから、1だ<br>\n",
        "これらを利用したら、何かc1およびc2の2乗の比で\n",
        "エネルギーが求められるぞ！\n",
        "\n",
        "これであとは直交性とかエルミート性でどんどん潰すというお馴染みのテクニックで\n",
        "\n",
        "最後に∂E/∂c1 = 0  ∂E/∂c2 = 0<br>\n",
        "となるc1とc2を求める\n",
        "そうなるとただの行列式の問題になり、そこで2次方程式を解いて解の大小でエネルギー順位も求まった！<br>\n",
        "\n",
        "2つの解が出て来るが、大きい方を描くと半結合性軌道、小さい方は結合性軌道"
      ],
      "metadata": {
        "id": "Ix7YFZQzUXW8"
      }
    },
    {
      "cell_type": "markdown",
      "source": [
        "次にエチレンの結合<br>\n",
        "この時はΠ結合を考える<br>\n",
        "\n",
        ">π結合とは、σ結合と異なり、結合方向と直角の方向を向いた原子軌道同士の結合のことです。\n",
        "\n",
        ">p軌道の方向を z 軸とすると、π結合を構成する原子軌道は原子核１の pz 軌道と、原子核２の pz 軌道ということになります。\n",
        "\n",
        "これも同様に調べる<br>\n",
        "ただし、一部は実験で調べる。あるいはヒュッケル法"
      ],
      "metadata": {
        "id": "6VhMoq5sYNM0"
      }
    },
    {
      "cell_type": "code",
      "source": [
        "# 記事の一番最後に完全版のプログラムを掲載します。\n",
        "# エチレン分子のπ_2p軌道\n",
        "def ethylene_molecule(x, y, z, id):\n",
        "    Z = 6        # 炭素原子を想定しているので Z = 6\n",
        "    Z_eff = Z - (0.35*3 + 0.85*2)  # 有効核電荷（スレータ―則により計算）\n",
        "    n = 2\n",
        "    l = 1\n",
        "    m = 0\n",
        "    distance = 133.9/52.9  # 水素原子のボーア半径 52.9 pm, エチレン分子の原子間距離 133.9 pm\n",
        "    if id == 0:\n",
        "        # π_2p軌道（結合性軌道）\n",
        "        return (f(x-distance/2, y, z, n, l, m, Z_eff)/np.sqrt(2.0)) + (f(x+distance/2, y, z, n, l, m, Z_eff)/np.sqrt(2.0)) \n",
        "    else:\n",
        "        # π_2p*軌道（反結合性軌道）\n",
        "        return (f(x-distance/2, y, z, n, l, m, Z_eff)/np.sqrt(2.0)) - (f(x+distance/2, y, z, n, l, m, Z_eff)/np.sqrt(2.0)) "
      ],
      "metadata": {
        "id": "tVl1Gj5CZFVE"
      },
      "execution_count": null,
      "outputs": []
    },
    {
      "cell_type": "markdown",
      "source": [
        ">水素分子のときと同じように、原子軌道（pz軌道）のエネルギーに対して、上下に２つの軌道が生まれます。エネルギーの低い方が結合性軌道で、高い方が反結合性軌道です。\n",
        "\n",
        ">また、S12=0と近似したことによって、エネルギーが E1=α+β,E2=α−β と対称的になったことが重要なポイントです。（α を中心に、±|β|だけ上下しています。）\n",
        "\n",
        ">エチレンの場合は、炭素原子の pz軌道電子が各1つずつ分子軌道に入るわけですが、2個なのでどちらも結合性軌道に入ります。どちらも結合性軌道に入るということで、安定した結合が形成されるようです。"
      ],
      "metadata": {
        "id": "XGBgC0KWZHyK"
      }
    },
    {
      "cell_type": "markdown",
      "source": [
        "ヒュッケル法とブタジエンのπ電子共役系\n",
        "\n",
        ">（ブタジエンのように）二重結合・単結合が交互に並んだ結合において、π電子が非局在化しているような系を一般に π電子共役系 といいます。\n",
        "\n",
        "今回も線形結合\n",
        "Ψ=c1χ1+c2χ2+c3χ3+c4χ4を考える\n",
        "\n",
        ">そこで思い切った近似が必要になります。ここで使えるのが ヒュッケル法 です。\n",
        "\n",
        ">まず、ヒュッケル法はブタジエンのような π電子共役系 で適用できる近似手法です。このような状況で、近似を行います：\n",
        "\n",
        "例によって同じ添え字の時に1、違うなら0とか<br>\n",
        "あるいはハミルトニアンを共役で挟んでるなら、同じ添え字ならα、違う添え字でもσ結合ならβ、どちらでも無いなら0\n",
        "\n",
        "永年方程式　って大事だな\n",
        "\n",
        "とにかくあまりにも離れてて無関係な行列間の要素は、0とみなす！という意味である\n",
        "\n"
      ],
      "metadata": {
        "id": "W1iK5jiFZppy"
      }
    },
    {
      "cell_type": "code",
      "source": [
        "# 記事の一番最後に完全版のプログラムを掲載します。\n",
        "# ブタジエンのπ電子共役系\n",
        "# http://www.nishino-labo.jp/pdf/enshu01_03_2012.pdf （原子間距離の参考）\n",
        "def butadiene_molecule(x, y, z, id):\n",
        "    Z = 6        # 炭素原子を想定しているので Z = 6\n",
        "    Z_eff = Z - (0.35*3 + 0.85*2)  # 有効核電荷（スレータ―則により計算）\n",
        "    n = 2\n",
        "    l = 1\n",
        "    m = 0\n",
        "    distance_1 = 147.0/52.9  # 水素原子のボーア半径 52.9 pm, C2-C3の原子間距離 147.0 pm\n",
        "    distance_2 = 134.0/52.9  # 水素原子のボーア半径 52.9 pm, C1-C2, C3-C4の原子間距離 134.0 pm\n",
        "    \n",
        "    # 各炭素原子の中心座標\n",
        "    center = [\n",
        "        [0.5 * distance_1 * np.cos(7.0*np.pi/6.0), 0.5 * distance_1 * np.sin(7.0*np.pi/6.0) - distance_2],\n",
        "        [0.5 * distance_1 * np.cos(7.0*np.pi/6.0), 0.5 * distance_1 * np.sin(7.0*np.pi/6.0)],\n",
        "        [0.5 * distance_1 * np.cos(np.pi/6.0), 0.5 * distance_1 * np.sin(np.pi/6.0)],\n",
        "        [0.5 * distance_1 * np.cos(np.pi/6.0), 0.5 * distance_1 * np.sin(np.pi/6.0) + distance_2],\n",
        "    ]\n",
        "    \n",
        "    # 係数\n",
        "    c = [\n",
        "        [0.372, 0.602, 0.602, 0.372],\n",
        "        [0.602, 0.372, -0.372, -0.602],\n",
        "        [0.602, -0.372, -0.372, 0.602],\n",
        "        [-0.372, 0.602, -0.602, 0.372],\n",
        "    ]\n",
        "    \n",
        "    res = 0.0\n",
        "    for i in range(4):\n",
        "        x0 = x - center[i][0]\n",
        "        y0 = y - center[i][1]\n",
        "        res += f(x0, y0, z, n, l, m, Z_eff) * c[id][i]\n",
        "\n",
        "#でもこれらを解く前の過程で、やっぱり二重結合の方が近いかな？とかのセンス必須"
      ],
      "metadata": {
        "id": "cPDmng1ebFmr"
      },
      "execution_count": null,
      "outputs": []
    },
    {
      "cell_type": "markdown",
      "source": [
        "エネルギー順位が4つできたが、\n",
        "\n",
        ">電子によって占有されている最もエネルギーが高い軌道のことを HOMO（Highest Occupied Molecular Orbital） といい、電子が空であるような最もエネルギーが低い軌道のことを LUMO（Lowest Unoccupied Molecular Orbital） といいます。\n",
        "\n",
        ">光の吸収 という観点でもHOMO-LUMOを考えるのは重要です。\n",
        "\n",
        ">日曜化学(1)の記事では、こんなことを書いていました。水素原子に振動数 ν\n",
        "の光が入ってきたとき、電子がより高いエネルギーの軌道（励起状態）に遷移することがあります。遷移する条件はエネルギー差が hνにちょうど一致することです。これは分子軌道でも同じことです。\n",
        "\n",
        ">すなわち、ちょうどエネルギー差が ΔE=E3−E2\n",
        "に一致する光が入射すると、HOMOの電子が光を吸収してLUMOに励起するというわけです。"
      ],
      "metadata": {
        "id": "jyB7JUL4bNTC"
      }
    },
    {
      "cell_type": "markdown",
      "source": [
        ">エチレン（二重結合１つ）とブタジエン（二重結合２つ）を考えましたが、同じ要領で二重結合／単結合のセットを増やしていくと、分子軌道の数が 2,4,6,8,… と増えていきます。\n",
        "\n",
        ">図の右に行けば行くほど、HOMOとLOMOの間のエネルギー差はどんどん小さくなっていきます。よりエネルギーの小さい（つまり、長い波長）の光を吸収するようになるということに他なりません。\n",
        "\n",
        ">こんな風に、分子軌道のエネルギーというのは、吸収する光の波長と大変関係が深い ということですね。吸収する光の波長が可視光であれば、物質の色にも影響を与えることになります。\n",
        "\n",
        ">たとえば、β-カロテン という物質を考えましょう。ニンジンの中に入っている橙色の色素成分です。これはβ-カロテンの分子が補色である青色の光を吸収するからなのですが、この青色を吸収する仕組みが分子軌道からわかるのです。\n",
        "\n",
        ">β-カロテンの分子は、以下のような構造をしています：\n",
        "\n",
        ">二重結合が全部で11個 あります。ブタジエンの議論の延長で、炭素22個によるπ電子共有系を考えると\n",
        "\n",
        ">エチレンのHOMO-LUMO間のエネルギー差の 1/7以下です。より低い振動数の（つまり長波長の）光を吸収できるようになるというわけですね。これによって可視光の波長を吸収することができるようになるわけです。\n",
        "\n",
        ">こんな風に分子軌道法によって、我々が見ているものの「色」を分子軌道から説明できる可能性があるのです。これは面白くてたまらないですね！"
      ],
      "metadata": {
        "id": "H7rMoJF3brIx"
      }
    },
    {
      "cell_type": "markdown",
      "source": [
        "ベンゼンのπ共有系\n",
        "\n",
        "Ψ=c1χ1+c2χ2+c3χ3+c4χ4+c5χ5+c6χ6\n",
        "で、ヒュッケル法を考えるがやっぱり最後は繋がっているので行列の端にも非ゼロ要素が来る\n",
        "\n",
        "Sagemath　というアプリで6×6行列式を計算する\n",
        "\n",
        "各固有値に対応する６つの分子軌道が次のように得られるが、完全に綺麗な対称性でも無いように見えるが、気にしない！"
      ],
      "metadata": {
        "id": "h9sVppgccDAU"
      }
    },
    {
      "cell_type": "code",
      "source": [
        "# 記事の一番最後に完全版のプログラムを掲載します。\n",
        "# ベンゼン分子のπ電子共役系\n",
        "def benzene_molecule(x, y, z, id):\n",
        "    Z = 6        # 炭素原子を想定しているので Z = 6\n",
        "    Z_eff = Z - (0.35*3 + 0.85*2)  # 有効核電荷（スレータ―則により計算）\n",
        "    n = 2\n",
        "    l = 1\n",
        "    m = 0\n",
        "    distance = 139/52.9  # 水素原子のボーア半径 52.9 pm, ベンゼン分子の炭素間距離 139 pm\n",
        "    \n",
        "    # 各炭素原子の中心座標\n",
        "    center = []\n",
        "    for i in range(6):\n",
        "        cx = distance * np.sin(2*i*np.pi/6)\n",
        "        cy = distance * np.cos(2*i*np.pi/6)\n",
        "        center.append([cx,cy])\n",
        "    \n",
        "    # 係数\n",
        "    c = [\n",
        "        [1/np.sqrt(6), 1/np.sqrt(6), 1/np.sqrt(6), 1/np.sqrt(6), 1/np.sqrt(6), 1/np.sqrt(6)],\n",
        "        [1/np.sqrt(3), 1/(2.0*np.sqrt(3)), -1/(2.0*np.sqrt(3)), -1/np.sqrt(3), -1/(2.0*np.sqrt(3)), 1/(2.0*np.sqrt(3))],\n",
        "        [0.0, 1/2.0, 1/2.0, 0.0, -1/2.0, -1/2.0],\n",
        "        [1/np.sqrt(3), -1/(2.0*np.sqrt(3)), -1/(2.0*np.sqrt(3)), 1/np.sqrt(3), -1/(2.0*np.sqrt(3)), -1/(2.0*np.sqrt(3))],\n",
        "        [0.0, 1/2.0, -1/2.0, 0.0, 1/2.0, -1/2.0],\n",
        "        [1/np.sqrt(6), -1/np.sqrt(6), 1/np.sqrt(6), -1/np.sqrt(6), 1/np.sqrt(6), -1/np.sqrt(6)],\n",
        "    ]\n",
        "    \n",
        "    res = 0.0\n",
        "    for i in range(6):\n",
        "        x0 = x - center[i][0]\n",
        "        y0 = y - center[i][1]\n",
        "        res += f(x0, y0, z, n, l, m, Z_eff) * c[id][i]\n",
        "    \n",
        "    return res"
      ],
      "metadata": {
        "id": "rgjB5bqVc20i"
      },
      "execution_count": null,
      "outputs": []
    },
    {
      "cell_type": "code",
      "source": [
        "# 「90%サンプリング」による分子軌道の可視化\n",
        "import numpy as np\n",
        "import matplotlib.pyplot as plt\n",
        "import mpl_toolkits.mplot3d.axes3d as axes3d\n",
        "\n",
        "import math"
      ],
      "metadata": {
        "id": "jraaRTPTc6U6"
      },
      "execution_count": 1,
      "outputs": []
    },
    {
      "cell_type": "code",
      "source": [
        "# 動径波動関数（ボーア半径を a_0 = 1 に正規化）\n",
        "def radial_wave_function(r, n, l, Z_eff):\n",
        "    rho = 2.0 * Z_eff * r / n\n",
        "    if n == 1 and l == 0:\n",
        "        return (Z_eff ** 1.5) * np.exp(-rho/2.0) * 2.0\n",
        "    elif n == 2 and l == 0:\n",
        "        return (Z_eff ** 1.5) * np.exp(-rho/2.0) * (2.0 - rho) / (2.0*np.sqrt(2.0))\n",
        "    elif n == 2 and l == 1:\n",
        "        return (Z_eff ** 1.5) * np.exp(-rho/2.0) * rho / (2.0*np.sqrt(6.0))\n",
        "    elif n == 3 and l == 0:\n",
        "        return (Z_eff ** 1.5) * np.exp(-rho/2.0) * (6.0 - 6.0*rho + rho**2) / (9.0*np.sqrt(3.0))\n",
        "    elif n == 3 and l == 1:\n",
        "        return (Z_eff ** 1.5) * np.exp(-rho/2.0) * (4.0 - rho) * rho / (9.0*np.sqrt(6.0))\n",
        "    elif n == 3 and l == 2:\n",
        "        return (Z_eff ** 1.5) * np.exp(-rho/2.0) * (rho**2) / (9.0*np.sqrt(30.0))"
      ],
      "metadata": {
        "id": "CVqAefApc8x8"
      },
      "execution_count": 2,
      "outputs": []
    },
    {
      "cell_type": "code",
      "source": [
        "# 球面調和関数（ただし、実関数表示したもの）\n",
        "def spherical_harmonics(theta, phi, l, m):\n",
        "    if l == 0:\n",
        "        if m == 0:\n",
        "            # l=0, m=0\n",
        "            return np.sqrt(1.0/(4*np.pi))\n",
        "    if l == 1:\n",
        "        if m == 0:\n",
        "            # l=1, m=0\n",
        "            return np.sqrt(3.0/(4.0*np.pi)) * np.cos(theta)\n",
        "        if m == 1:\n",
        "            # l=1, m=+1\n",
        "            return np.sqrt(3.0/(4.0*np.pi)) * np.sin(theta) * np.cos(phi)\n",
        "        if m == -1:\n",
        "            # l=1, m=+1\n",
        "            return np.sqrt(3.0/(4.0*np.pi)) * np.sin(theta) * np.sin(phi)\n",
        "    if l == 2:\n",
        "        if m == 0:\n",
        "            return np.sqrt(5.0/(16.0*np.pi)) * (3.0*(np.cos(theta)**2) - 1.0)\n",
        "        if m == 1:\n",
        "            return np.sqrt(15.0/(4.0*np.pi)) * np.cos(theta) * np.sin(theta) * np.cos(phi)\n",
        "        if m == -1:\n",
        "            return np.sqrt(15.0/(4.0*np.pi)) * np.cos(theta) * np.sin(theta) * np.sin(phi)\n",
        "        if m == 2:\n",
        "            return np.sqrt(15.0/(16.0*np.pi)) * (np.sin(theta)**2) * np.cos(2*phi)\n",
        "        if m == -2:\n",
        "            return np.sqrt(15.0/(16.0*np.pi)) * (np.sin(theta)**2) * np.sin(2*phi)"
      ],
      "metadata": {
        "id": "A3WJ2v51c_PR"
      },
      "execution_count": 3,
      "outputs": []
    },
    {
      "cell_type": "code",
      "source": [
        "# 水素原子の波動関数 Ψ_{n,l,m}(x, y, z)\n",
        "def f(x, y, z, n, l, m, Z_eff):\n",
        "    # 座標系を (x,y,z) -> (r,θ,φ) に変換\n",
        "    r = np.sqrt(x*x + y*y + z*z)\n",
        "    \n",
        "    theta = 0.0\n",
        "    phi = 0.0\n",
        "    if r > 0:\n",
        "        theta = np.arccos( z / r )\n",
        "    if y == 0:\n",
        "        if x < 0:\n",
        "            phi = np.pi\n",
        "    elif x*x+y*y > 0:\n",
        "        phi = np.sign(y) * np.arccos(x/np.sqrt(x*x+y*y))\n",
        "        \n",
        "    # 動径波動関数と球面調和関数の積を計算して出力\n",
        "    return (radial_wave_function(r, n, l, Z_eff) * spherical_harmonics(theta, phi, l, m))"
      ],
      "metadata": {
        "id": "O54GA3dmdDl6"
      },
      "execution_count": 4,
      "outputs": []
    },
    {
      "cell_type": "code",
      "source": [
        "# 水素分子のσ_1s軌道\n",
        "def hydrogen_molecule(x, y, z, id):\n",
        "    Z = 1        # 炭素原子を想定しているので Z = 1\n",
        "    n = 1\n",
        "    l = 0\n",
        "    m = 0\n",
        "    distance = 2.0  # 水素分子の原子核間距離\n",
        "    if id == 0:\n",
        "        # σ_1s軌道（結合性軌道）\n",
        "        return (f(x-distance/2, y, z, n, l, m, Z)/np.sqrt(3.2)) + (f(x+distance/2, y, z, n, l, m, Z)/np.sqrt(3.2))\n",
        "    else:\n",
        "        # σ_1s*軌道（反結合性軌道）\n",
        "        return (f(x-distance/2, y, z, n, l, m, Z)/np.sqrt(0.8)) - (f(x+distance/2, y, z, n, l, m, Z)/np.sqrt(0.8))"
      ],
      "metadata": {
        "id": "lntJLpnedHTS"
      },
      "execution_count": 5,
      "outputs": []
    },
    {
      "cell_type": "code",
      "source": [
        "# エチレン分子のπ_2p軌道\n",
        "def ethylene_molecule(x, y, z, id):\n",
        "    Z = 6        # 炭素原子を想定しているので Z = 6\n",
        "    Z_eff = Z - (0.35*3 + 0.85*2)  # 有効核電荷（スレータ―則により計算）\n",
        "    n = 2\n",
        "    l = 1\n",
        "    m = 0\n",
        "    distance = 133.9/52.9  # 水素原子のボーア半径 52.9 pm, エチレン分子の原子間距離 133.9 pm\n",
        "    if id == 0:\n",
        "        # π_2p軌道（結合性軌道）\n",
        "        return (f(x-distance/2, y, z, n, l, m, Z_eff)/np.sqrt(2.0)) + (f(x+distance/2, y, z, n, l, m, Z_eff)/np.sqrt(2.0)) \n",
        "    else:\n",
        "        # π_2p*軌道（反結合性軌道）\n",
        "        return (f(x-distance/2, y, z, n, l, m, Z_eff)/np.sqrt(2.0)) - (f(x+distance/2, y, z, n, l, m, Z_eff)/np.sqrt(2.0))"
      ],
      "metadata": {
        "id": "egdLlWmsdLpa"
      },
      "execution_count": 6,
      "outputs": []
    },
    {
      "cell_type": "code",
      "source": [
        "# ブタジエンのπ電子共役系\n",
        "# http://www.nishino-labo.jp/pdf/enshu01_03_2012.pdf （原子間距離の参考）\n",
        "def butadiene_molecule(x, y, z, id):\n",
        "    Z = 6        # 炭素原子を想定しているので Z = 6\n",
        "    Z_eff = Z - (0.35*3 + 0.85*2)  # 有効核電荷（スレータ―則により計算）\n",
        "    n = 2\n",
        "    l = 1\n",
        "    m = 0\n",
        "    distance_1 = 147.0/52.9  # 水素原子のボーア半径 52.9 pm, C2-C3の原子間距離 147.0 pm\n",
        "    distance_2 = 134.0/52.9  # 水素原子のボーア半径 52.9 pm, C1-C2, C3-C4の原子間距離 134.0 pm\n",
        "    \n",
        "    # 各炭素原子の中心座標\n",
        "    center = [\n",
        "        [0.5 * distance_1 * np.cos(7.0*np.pi/6.0), 0.5 * distance_1 * np.sin(7.0*np.pi/6.0) - distance_2],\n",
        "        [0.5 * distance_1 * np.cos(7.0*np.pi/6.0), 0.5 * distance_1 * np.sin(7.0*np.pi/6.0)],\n",
        "        [0.5 * distance_1 * np.cos(np.pi/6.0), 0.5 * distance_1 * np.sin(np.pi/6.0)],\n",
        "        [0.5 * distance_1 * np.cos(np.pi/6.0), 0.5 * distance_1 * np.sin(np.pi/6.0) + distance_2],\n",
        "    ]\n",
        "    \n",
        "    # 係数\n",
        "    c = [\n",
        "        [0.372, 0.602, 0.602, 0.372],\n",
        "        [0.602, 0.372, -0.372, -0.602],\n",
        "        [0.602, -0.372, -0.372, 0.602],\n",
        "        [-0.372, 0.602, -0.602, 0.372],\n",
        "    ]\n",
        "    \n",
        "    res = 0.0\n",
        "    for i in range(4):\n",
        "        x0 = x - center[i][0]\n",
        "        y0 = y - center[i][1]\n",
        "        res += f(x0, y0, z, n, l, m, Z_eff) * c[id][i]\n",
        "        \n",
        "    return res"
      ],
      "metadata": {
        "id": "GNYZqn7odO6h"
      },
      "execution_count": 7,
      "outputs": []
    },
    {
      "cell_type": "code",
      "source": [
        "# ベンゼン分子のπ電子共役系\n",
        "def benzene_molecule(x, y, z, id):\n",
        "    Z = 6        # 炭素原子を想定しているので Z = 6\n",
        "    Z_eff = Z - (0.35*3 + 0.85*2)  # 有効核電荷（スレータ―則により計算）\n",
        "    n = 2\n",
        "    l = 1\n",
        "    m = 0\n",
        "    distance = 139/52.9  # 水素原子のボーア半径 52.9 pm, ベンゼン分子の炭素間距離 139 pm\n",
        "    \n",
        "    # 各炭素原子の中心座標\n",
        "    center = []\n",
        "    for i in range(6):\n",
        "        cx = distance * np.sin(2*i*np.pi/6)\n",
        "        cy = distance * np.cos(2*i*np.pi/6)\n",
        "        center.append([cx,cy])\n",
        "    \n",
        "    # 係数\n",
        "    c = [\n",
        "        [1/np.sqrt(6), 1/np.sqrt(6), 1/np.sqrt(6), 1/np.sqrt(6), 1/np.sqrt(6), 1/np.sqrt(6)],\n",
        "        [1/np.sqrt(3), 1/(2.0*np.sqrt(3)), -1/(2.0*np.sqrt(3)), -1/np.sqrt(3), -1/(2.0*np.sqrt(3)), 1/(2.0*np.sqrt(3))],\n",
        "        [0.0, 1/2.0, 1/2.0, 0.0, -1/2.0, -1/2.0],\n",
        "        [1/np.sqrt(3), -1/(2.0*np.sqrt(3)), -1/(2.0*np.sqrt(3)), 1/np.sqrt(3), -1/(2.0*np.sqrt(3)), -1/(2.0*np.sqrt(3))],\n",
        "        [0.0, 1/2.0, -1/2.0, 0.0, 1/2.0, -1/2.0],\n",
        "        [1/np.sqrt(6), -1/np.sqrt(6), 1/np.sqrt(6), -1/np.sqrt(6), 1/np.sqrt(6), -1/np.sqrt(6)],\n",
        "    ]\n",
        "    \n",
        "    res = 0.0\n",
        "    for i in range(6):\n",
        "        x0 = x - center[i][0]\n",
        "        y0 = y - center[i][1]\n",
        "        res += f(x0, y0, z, n, l, m, Z_eff) * c[id][i]\n",
        "    \n",
        "    return res\n"
      ],
      "metadata": {
        "id": "8wr4bVffdSbJ"
      },
      "execution_count": 8,
      "outputs": []
    },
    {
      "cell_type": "code",
      "source": [
        "# サンプリングの設定\n",
        "N = 50                    # サンプリング個数\n",
        "x_range = 5               # 座標の範囲 (-x_range, x_range)\n",
        "delta = 2.0*x_range / N   # サンプリング間隔\n",
        "#print(delta)\n",
        "\n",
        "\n",
        "# 3次元空間を格子状にサンプリング（間隔 delta, N^3 個）\n",
        "data_list = []\n",
        "for i in range(N):\n",
        "    for j in range(N):\n",
        "        for k in range(N):\n",
        "            x = i*delta - x_range\n",
        "            y = j*delta - x_range\n",
        "            z = k*delta - x_range\n",
        "            \n",
        "            # 座標 (x,y,z) における波動関数 Ψ(x,y,z) を計算\n",
        "            # psi = hydrogen_molecule(x,y,z, 0)   # id = 0 or 1\n",
        "            # psi = ethylene_molecule(x,y,z, 1)   # id = 0 or 1\n",
        "            # psi = butadiene_molecule(x,y,z, 0)   # id = 0, 1, 2, 3\n",
        "            psi = benzene_molecule(x,y,z, 0)   # id = 0, 1, 2, 3, 4, 5\n",
        "\n",
        "            #プログラム内の次の箇所を変えると（コメントアウトを変更すると）、表示する分子軌道の種類を変えることができます。（デフォルトはベンゼンの Ψ1 軌道。）\n",
        "            \n",
        "            # 波動関数の2乗によって電子の確率密度関数 |Ψ(x,y,z)|^2 を計算\n",
        "            pdf = psi**2\n",
        "            \n",
        "            # 確率密度(|Ψ(x,y,z)|^2, p.d.f), x, y, z, 波動関数の生の値 Ψ(x,y,z) の順にデータを格納\n",
        "            data_list.append([pdf, x, y, z, psi])"
      ],
      "metadata": {
        "id": "O196-1V0dVLh"
      },
      "execution_count": 9,
      "outputs": []
    },
    {
      "cell_type": "code",
      "source": [
        "# 確率密度が高い順にサンプリングデータをソートする\n",
        "sorted_list = sorted(data_list, key=lambda data: data[0], reverse=True)  # 確率密度(p.d.f)でソート\n",
        "\n",
        "\n",
        "\n",
        "# 波動関数が正のデータを格納する変数\n",
        "x1_list = []\n",
        "y1_list = []\n",
        "z1_list = []\n",
        "\n",
        "# 波動関数が負のデータを格納する変数\n",
        "x2_list = []\n",
        "y2_list = []\n",
        "z2_list = []\n"
      ],
      "metadata": {
        "id": "T5QZXPxHdcVJ"
      },
      "execution_count": 10,
      "outputs": []
    },
    {
      "cell_type": "code",
      "source": [
        "# 現在考えている全体の空間（体積: (x_range)^3）における積分値を計算しておく（あとで使う）\n",
        "def integral_in_all_spaces():\n",
        "    integral = 0.0\n",
        "    i = 0\n",
        "    while i < len(sorted_list):\n",
        "        pdf = sorted_list[i][0]\n",
        "        psi = sorted_list[i][4]\n",
        "\n",
        "        # |Ψ(x,y,z)|^2 ΔV を加算\n",
        "        integral += (pdf * delta**3)\n",
        "        i += 1\n",
        "    print(\"グリッド数: {}, 全空間の積分: {}\".format(i, integral) )  \n",
        "    return integral"
      ],
      "metadata": {
        "id": "kAE1sIMfdfXx"
      },
      "execution_count": 11,
      "outputs": []
    },
    {
      "cell_type": "code",
      "source": [
        "all_integral = integral_in_all_spaces()"
      ],
      "metadata": {
        "colab": {
          "base_uri": "https://localhost:8080/"
        },
        "id": "AmpdCfhsdhPR",
        "outputId": "564390dc-2761-43bc-a888-2423b242075a"
      },
      "execution_count": 12,
      "outputs": [
        {
          "output_type": "stream",
          "name": "stdout",
          "text": [
            "グリッド数: 125000, 全空間の積分: 1.5794959747656376\n"
          ]
        }
      ]
    },
    {
      "cell_type": "code",
      "source": [
        "# |Ψ|^2 ΔV の総和( volume )が 0.9 を超えるまで足し合わせる（体積が0.9を超えたら終了）\n",
        "integral = 0.0\n",
        "i = 0\n",
        "while integral < 0.9 * all_integral: # 全空間の積分値に対して 90 % になる領域を描画するように変更\n",
        "    pdf = sorted_list[i][0]\n",
        "    x = sorted_list[i][1]\n",
        "    y = sorted_list[i][2]\n",
        "    z = sorted_list[i][3]\n",
        "    psi = sorted_list[i][4]\n",
        "    \n",
        "    # |Ψ(x,y,z)|^2 ΔV を加算\n",
        "    integral += (pdf * delta**3)\n",
        "    \n",
        "    if psi > 0:\n",
        "        x1_list.append(x)\n",
        "        y1_list.append(y)\n",
        "        z1_list.append(z)\n",
        "    else:\n",
        "        x2_list.append(x)\n",
        "        y2_list.append(y)\n",
        "        z2_list.append(z)   \n",
        "    i += 1\n"
      ],
      "metadata": {
        "id": "5wByX5EydjtR"
      },
      "execution_count": 13,
      "outputs": []
    },
    {
      "cell_type": "code",
      "source": [
        "# figureを生成する\n",
        "X1 = np.array(x1_list)\n",
        "Y1 = np.array(y1_list)\n",
        "Z1 = np.array(z1_list)\n",
        "\n",
        "X2 = np.array(x2_list)\n",
        "Y2 = np.array(y2_list)\n",
        "Z2 = np.array(z2_list)\n",
        "\n",
        "\n",
        "\n",
        "#'''\n",
        "# matplotlibによる可視化\n",
        "fig = plt.figure(figsize=(8.0, 8.0))\n",
        "ax = fig.add_subplot(1,1,1, projection='3d')\n",
        "\n",
        "ax.set_xlim3d(-x_range, x_range)\n",
        "ax.set_ylim3d(-x_range, x_range)\n",
        "ax.set_zlim3d(-x_range, x_range)\n",
        "\n",
        "# 軸の設定\n",
        "ax.set_xlabel(\"x\", size = 14)\n",
        "ax.set_ylabel(\"y\", size = 14)\n",
        "ax.set_zlabel(\"z\", size = 14)\n",
        "\n",
        "ax.plot(X2,Y2,Z2,color='b',marker=\"o\",linestyle='None')\n",
        "ax.plot(X1,Y1,Z1,color='r',marker=\"o\",linestyle='None')\n",
        "\n",
        "plt.show()"
      ],
      "metadata": {
        "colab": {
          "base_uri": "https://localhost:8080/",
          "height": 466
        },
        "id": "VMSlYiaGdmPB",
        "outputId": "8eaf248b-5e54-4736-c327-4fffe433b474"
      },
      "execution_count": 14,
      "outputs": [
        {
          "output_type": "display_data",
          "data": {
            "text/plain": [
              "<Figure size 576x576 with 1 Axes>"
            ],
            "image/png": "[encoded data removed]"
          },
          "metadata": {
            "needs_background": "light"
          }
        }
      ]
    }
  ]
}