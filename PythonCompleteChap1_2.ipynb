{
  "nbformat": 4,
  "nbformat_minor": 0,
  "metadata": {
    "colab": {
      "name": "PythonCompleteChap1-2.ipynb",
      "provenance": [],
      "authorship_tag": "ABX9TyNS6oEguHlrTDBdL8bOyET0",
      "include_colab_link": true
    },
    "kernelspec": {
      "name": "python3",
      "display_name": "Python 3"
    },
    "language_info": {
      "name": "python"
    }
  },
  "cells": [
    {
      "cell_type": "markdown",
      "metadata": {
        "id": "view-in-github",
        "colab_type": "text"
      },
      "source": [
        "<a href=\"https://colab.research.google.com/github/inoueshinji8/PythonStudy/blob/main/PythonCompleteChap1_2.ipynb\" target=\"_parent\"><img src=\"https://colab.research.google.com/assets/colab-badge.svg\" alt=\"Open In Colab\"/></a>"
      ]
    },
    {
      "cell_type": "markdown",
      "metadata": {
        "id": "w4Zq9Zoj1ygI"
      },
      "source": [
        "## Chap1\n",
        "個人的に納得いかない章<br>\n",
        "Windowsだと公式のPythonとAnacondaは同居できるって書いてある<br>\n",
        "実は前の職場でそれをやってたのだが、物凄く面倒な設定になっていた記憶がある<br>\n",
        "表からは公式からダウンロードしたPythonを動かす事すら出来ない仕様になっていた次第<br>\n",
        "<br>\n",
        "エディタとしてJupyterとVSCodeが挙げられているが、Anacondaを使っているならSpyderか、あるいはAnacondaを立ち上げてからAnaconda Command Promptでidle.exeとするのが一番マシかも知れん"
      ]
    },
    {
      "cell_type": "code",
      "metadata": {
        "id": "bnvKTqyh1rWu"
      },
      "source": [
        ""
      ],
      "execution_count": null,
      "outputs": []
    },
    {
      "cell_type": "markdown",
      "metadata": {
        "id": "mocN7usG28-T"
      },
      "source": [
        "## Chap2\n",
        "### Section1\n",
        "まずはコマンドプロンプトで>pythonと入力して対話モードで起動する方法<br>\n",
        "ちょっと計算するだけならいいんだがこれを延々とやっていると嫌になって来る<br>\n",
        "やっぱりちゃんとしたエディタに書いてからまとめて実行した方が総合的には楽だと思う<br>\n",
        "<br>\n",
        "閉じるときのquit()<br>\n",
        "この()を良く忘れちゃうね<br>\n",
        "<br>\n",
        "対話画面でfor文とかif文とかで2行目以降に...ってなるのを二次プロンプトというのか<br>\n",
        "知らなかった<br>\n",
        "<br>\n",
        "次にJupyter使いましょうと出て来る<br>\n",
        "Colaboratoryも似たようなもんだしやってみようよ"
      ]
    },
    {
      "cell_type": "code",
      "metadata": {
        "colab": {
          "base_uri": "https://localhost:8080/"
        },
        "id": "yAUwQj4W3WoQ",
        "outputId": "0c4376b1-c1db-4a7d-8231-730e18d2b6ea"
      },
      "source": [
        "print(1/2 -3)"
      ],
      "execution_count": null,
      "outputs": [
        {
          "output_type": "stream",
          "name": "stdout",
          "text": [
            "-2.5\n"
          ]
        }
      ]
    },
    {
      "cell_type": "markdown",
      "metadata": {
        "id": "R6chn2cR4ox6"
      },
      "source": [
        "上手く動いてほっとした。-1って出るかと思った。*/は+-より演算子の順位で上、とか決まりがあったな<br>\n",
        "次はfor文を動かす"
      ]
    },
    {
      "cell_type": "code",
      "metadata": {
        "colab": {
          "base_uri": "https://localhost:8080/"
        },
        "id": "RIY3mQNb44oY",
        "outputId": "5ad4cdd8-540c-41ce-b1be-a886b2bff55e"
      },
      "source": [
        "for i in range(10):#慣れないとコロン忘れちゃうんだよねえ\n",
        "#そう言えばrange(10)が0～9というのも慣れが要る\n",
        "  print(i*i)"
      ],
      "execution_count": null,
      "outputs": [
        {
          "output_type": "stream",
          "name": "stdout",
          "text": [
            "0\n",
            "1\n",
            "4\n",
            "9\n",
            "16\n",
            "25\n",
            "36\n",
            "49\n",
            "64\n",
            "81\n"
          ]
        }
      ]
    },
    {
      "cell_type": "markdown",
      "metadata": {
        "id": "5KgS3Wuc5VZT"
      },
      "source": [
        "次はプログラムの保存だな<br>\n",
        "でもColaboratoryで保存だと自分のGoogle Driveって事になるが<br>\n",
        "後でみんなが見やすいようにGitHubのリポジトリに保存しよう"
      ]
    },
    {
      "cell_type": "markdown",
      "metadata": {
        "id": "gD7vr8BR6Fs6"
      },
      "source": [
        "ところでColaboratoryのGitHubへの保存方法もメモした方が良いのかな<br>\n",
        "[ファイル]-[GitHubにコピーを保存]から、自分が関与しているリポジトリで分かり易い所を選んで保存する<br>\n",
        "これが万能"
      ]
    },
    {
      "cell_type": "markdown",
      "metadata": {
        "id": "7QOCs59T6nRK"
      },
      "source": [
        "次に、notepadにプログラムを書いて拡張子を.pyにして保存してコマンドプロンプトから実行する方法が書いてあるね<br>\n",
        "プログラムのあるディレクトリに移動し、>python hello.pyとかで実行<br>\n",
        "これはある意味基本だが、実行も出来るエディタを使えるようになると面倒だからなあ<br>\n",
        "<br>\n",
        "次に、デバッガの使い方が書いてある<br>\n",
        "丹念にエラーメッセージを和訳して書いてあるが、まあこの程度の英文は大抵読めるか、読めなくても丸ごと検索すると解決策がさっと出て来るのがメジャー言語の強み<br>\n",
        "<br>\n",
        "VSCodeの使い方も書いてある<br>\n",
        "入力補完機能とか、インタプリタとか<br>\n",
        "自分はインタプリタをAnaconda内の1環境に指定しているので躓きそうで不安だなあ<br>\n",
        "<br>\n",
        "ここらでVSCodeを開いて見せても良いのかもな。そちらの予習もしておく"
      ]
    },
    {
      "cell_type": "code",
      "metadata": {
        "id": "EXEOZ2Ab5nJa"
      },
      "source": [
        ""
      ],
      "execution_count": null,
      "outputs": []
    },
    {
      "cell_type": "markdown",
      "metadata": {
        "id": "bwHs4oleKXos"
      },
      "source": [
        "### Section2\n",
        "print(式)<br>\n",
        "「式」の中にあるものを「コンソール画面上」に表示する<br>\n",
        "代入された変数とか、計算式とか<br>\n",
        "文字列を入れる時は\"\"か''で括ろう(PythonではダブルクォーテーションでもシングルクォーテーションでもOK)<br>\n",
        "()の中に入る部分を「引数」と呼ぶ"
      ]
    },
    {
      "cell_type": "code",
      "metadata": {
        "colab": {
          "base_uri": "https://localhost:8080/"
        },
        "id": "SB4J4qrQLVw7",
        "outputId": "fdc018a5-9859-49ab-cb78-6e4c5f262f28"
      },
      "source": [
        "print(\"total\")\n",
        "print(\"100+120+150\")\n",
        "print(100+120+150)"
      ],
      "execution_count": null,
      "outputs": [
        {
          "output_type": "stream",
          "name": "stdout",
          "text": [
            "total\n",
            "100+120+150\n",
            "370\n"
          ]
        }
      ]
    },
    {
      "cell_type": "markdown",
      "metadata": {
        "id": "qvYGC46bLkv0"
      },
      "source": [
        "今回はJupyter NotebookタイプのColaboratoryだが、コンソール画面で動かすなら<br>\n",
        ">python ファイル名.py<br>\n",
        "となる<br>\n",
        "ディレクトリを移動するときは<br>\n",
        "cd ディレクトリ名<br>\n",
        "で、下の階層に移動する<br>\n",
        "cd ../だと1つ上<br>\n",
        "ところでcd ../b/c/d<br>\n",
        "だと、1つ上を超えてからそこから見えるbフォルダ、の下のcフォルダ、と<br>\n",
        "移動できるとの事<br>\n"
      ]
    },
    {
      "cell_type": "markdown",
      "metadata": {
        "id": "txG2t8fQMaYT"
      },
      "source": [
        "改行だけ出力<br>\n",
        "print()"
      ]
    },
    {
      "cell_type": "code",
      "metadata": {
        "colab": {
          "base_uri": "https://localhost:8080/"
        },
        "id": "4qkT0I74MjxM",
        "outputId": "296e1c57-4aa6-461b-f439-3253f107fe10"
      },
      "source": [
        "#改行だけ出力\n",
        "print(\"a\")\n",
        "print()\n",
        "print(\"b\")"
      ],
      "execution_count": null,
      "outputs": [
        {
          "output_type": "stream",
          "name": "stdout",
          "text": [
            "a\n",
            "\n",
            "b\n"
          ]
        }
      ]
    },
    {
      "cell_type": "code",
      "metadata": {
        "colab": {
          "base_uri": "https://localhost:8080/"
        },
        "id": "_tHrN46OMvjM",
        "outputId": "60706569-b4ec-4224-df7e-c9001fa01e5f"
      },
      "source": [
        "#文字列と式をprint文内で結合\n",
        "print(\"total\", 100+120+150)\n",
        "print('total'+ str(100+120+150))\n",
        "#下だと空白が出来ないね"
      ],
      "execution_count": null,
      "outputs": [
        {
          "output_type": "stream",
          "name": "stdout",
          "text": [
            "total 370\n",
            "total370\n"
          ]
        }
      ]
    },
    {
      "cell_type": "markdown",
      "metadata": {
        "id": "bPy8UMBUNJIM"
      },
      "source": [
        "Chapter5で習う内容だけど、for文を試してみよう<br>\n",
        "0から9までの数値を改行しながら表示"
      ]
    },
    {
      "cell_type": "code",
      "metadata": {
        "colab": {
          "base_uri": "https://localhost:8080/"
        },
        "id": "MxEAxd89NYiE",
        "outputId": "16def3db-e366-41cd-f56a-9ebbfb20ff07"
      },
      "source": [
        "for i in range(10):\n",
        "  print(i)"
      ],
      "execution_count": null,
      "outputs": [
        {
          "output_type": "stream",
          "name": "stdout",
          "text": [
            "0\n",
            "1\n",
            "2\n",
            "3\n",
            "4\n",
            "5\n",
            "6\n",
            "7\n",
            "8\n",
            "9\n"
          ]
        }
      ]
    },
    {
      "cell_type": "markdown",
      "metadata": {
        "id": "YSU4hq7nNgS8"
      },
      "source": [
        "print(引数, ・・・, end='文字列')<br>\n",
        "と書くと、改行せずに最後の文字列を入れて出力できる<br>\n",
        "例えばprint(i,end=' ')なら、上の表示で改行せずに半角スペースを入れて出力できる"
      ]
    },
    {
      "cell_type": "code",
      "metadata": {
        "colab": {
          "base_uri": "https://localhost:8080/"
        },
        "id": "f-DPNY7dN9LL",
        "outputId": "23411163-5abd-4598-cbf9-64f9f6e1d091"
      },
      "source": [
        "for i in range(10):\n",
        "  print(i, end = ' ')\n",
        "#横に並んだ。print文のend=って知らなかったのだ\n",
        "\n",
        "#値を矢印で区切る\n",
        "\n",
        "print('\\n')\n",
        "for i in range(10):\n",
        "  print(i, end = '-->')"
      ],
      "execution_count": 2,
      "outputs": [
        {
          "output_type": "stream",
          "name": "stdout",
          "text": [
            "0 1 2 3 4 5 6 7 8 9 \n",
            "\n",
            "0-->1-->2-->3-->4-->5-->6-->7-->8-->9-->"
          ]
        }
      ]
    },
    {
      "cell_type": "code",
      "source": [
        "#内包表記を使ってみる\n",
        "print('-->'.join([str(i) for i in range(10)]))"
      ],
      "metadata": {
        "id": "W-W4lKEzPae7",
        "outputId": "cba7998c-c8fe-45da-f0e4-55971c51698d",
        "colab": {
          "base_uri": "https://localhost:8080/"
        }
      },
      "execution_count": 3,
      "outputs": [
        {
          "output_type": "stream",
          "name": "stdout",
          "text": [
            "0-->1-->2-->3-->4-->5-->6-->7-->8-->9\n"
          ]
        }
      ]
    },
    {
      "cell_type": "markdown",
      "source": [
        "###関数の引数と戻り値\n",
        "\n",
        "関数に渡す値 引数 ()の中<br>\n",
        "関数が返す値 戻り値(返り値)<br>\n",
        "戻り値は関数からa=とかで取り出したりする<br>\n",
        "関数の中でreturnと書いてその後に書く<br>"
      ],
      "metadata": {
        "id": "XIqBQ_U3PqzQ"
      }
    },
    {
      "cell_type": "code",
      "source": [
        "#例えば文字列や配列の要素数を戻り値とするlen()関数\n",
        "len('python')\n",
        "#Colaboratoryが対話モードだから出力できる\n",
        "print(len('python'))\n",
        "#何故か2つ書いても出力1つだけ"
      ],
      "metadata": {
        "id": "BNuRhApRQK1B",
        "outputId": "a07091a0-b92b-4898-d109-b2ff6b9e49ef",
        "colab": {
          "base_uri": "https://localhost:8080/"
        }
      },
      "execution_count": 8,
      "outputs": [
        {
          "output_type": "stream",
          "name": "stdout",
          "text": [
            "6\n"
          ]
        }
      ]
    },
    {
      "cell_type": "code",
      "source": [
        "#戻り値同士で計算\n",
        "print(len('Python') + len('プログラミング'))"
      ],
      "metadata": {
        "id": "83tilTAqQyMT",
        "outputId": "735d6d30-6507-4a53-a7be-f6712ed3a289",
        "colab": {
          "base_uri": "https://localhost:8080/"
        }
      },
      "execution_count": 9,
      "outputs": [
        {
          "output_type": "stream",
          "name": "stdout",
          "text": [
            "13\n"
          ]
        }
      ]
    },
    {
      "cell_type": "code",
      "source": [
        "#print()関数に戻り値はない\n",
        "print(print(\"hello\"))\n",
        "print(print())\n",
        "#C言語とかなら戻り値voidってところ"
      ],
      "metadata": {
        "id": "_iZeZKJ1RAiZ",
        "outputId": "11efbbe9-9378-44a5-e187-689e0008b868",
        "colab": {
          "base_uri": "https://localhost:8080/"
        }
      },
      "execution_count": 13,
      "outputs": [
        {
          "output_type": "stream",
          "name": "stdout",
          "text": [
            "hello\n",
            "None\n",
            "\n",
            "None\n"
          ]
        }
      ]
    },
    {
      "cell_type": "markdown",
      "source": [
        "### キーワード引数\n",
        "引数名=値 のような形式の引数<br>"
      ],
      "metadata": {
        "id": "HHEZc4xNRnei"
      }
    },
    {
      "cell_type": "code",
      "source": [
        "print('Python', end='!')"
      ],
      "metadata": {
        "id": "ZXbQCd08R1jp",
        "outputId": "844b9791-0448-44e2-9a49-2b2f0f2a3dca",
        "colab": {
          "base_uri": "https://localhost:8080/"
        }
      },
      "execution_count": 14,
      "outputs": [
        {
          "output_type": "stream",
          "name": "stdout",
          "text": [
            "Python!"
          ]
        }
      ]
    },
    {
      "cell_type": "code",
      "source": [
        "#キーワード引数を前に持って来ると\n",
        "print(end='!','Python')\n",
        "#エラーになる"
      ],
      "metadata": {
        "id": "HWOimo9sR9aq",
        "outputId": "4cb43597-ad22-4dd0-b4b9-793becba44a3",
        "colab": {
          "base_uri": "https://localhost:8080/",
          "height": 135
        }
      },
      "execution_count": 15,
      "outputs": [
        {
          "output_type": "error",
          "ename": "SyntaxError",
          "evalue": "ignored",
          "traceback": [
            "\u001b[0;36m  File \u001b[0;32m\"<ipython-input-15-c9f4652e12ec>\"\u001b[0;36m, line \u001b[0;32m2\u001b[0m\n\u001b[0;31m    print(end='!','Python')\u001b[0m\n\u001b[0m                 ^\u001b[0m\n\u001b[0;31mSyntaxError\u001b[0m\u001b[0;31m:\u001b[0m positional argument follows keyword argument\n"
          ]
        }
      ]
    },
    {
      "cell_type": "markdown",
      "source": [
        "### プログラムは上から下に実行する"
      ],
      "metadata": {
        "id": "MUf82SfkSOAZ"
      }
    },
    {
      "cell_type": "code",
      "source": [
        "print(1)\n",
        "print(2)\n",
        "print(3)"
      ],
      "metadata": {
        "id": "yPaMQfIuSSVK",
        "outputId": "70d368a2-0a0d-44e6-b02c-dda58d6797f7",
        "colab": {
          "base_uri": "https://localhost:8080/"
        }
      },
      "execution_count": 16,
      "outputs": [
        {
          "output_type": "stream",
          "name": "stdout",
          "text": [
            "1\n",
            "2\n",
            "3\n"
          ]
        }
      ]
    },
    {
      "cell_type": "code",
      "source": [
        "#セミコロン;を使えば、複数行を1行で書ける。C言語っぽいか\n",
        "print(1);print(2);print(3);"
      ],
      "metadata": {
        "id": "ORrKcIUUSaFL",
        "outputId": "857825ad-9852-4223-9667-830a031ae02a",
        "colab": {
          "base_uri": "https://localhost:8080/"
        }
      },
      "execution_count": 17,
      "outputs": [
        {
          "output_type": "stream",
          "name": "stdout",
          "text": [
            "1\n",
            "2\n",
            "3\n"
          ]
        }
      ]
    },
    {
      "cell_type": "markdown",
      "source": [
        "### インデントで「ブロック」ができる\n",
        "他言語、C言語とかJavaとかだと{}でブロックを作るがPythonだとそれが無い。<br>\n",
        "代わりに、インデント、つまり字下げでブロックが出来る"
      ],
      "metadata": {
        "id": "CG56WJiFSpH6"
      }
    },
    {
      "cell_type": "code",
      "source": [
        "for i in range(3):\n",
        "  print('start')\n",
        "  print('stop')\n",
        "  #startとstopを1回ずつ書くのを3回繰り返す"
      ],
      "metadata": {
        "id": "Q4HkG3TkSnyC",
        "outputId": "7c983bb5-7251-4b6d-918d-67e74a0552dd",
        "colab": {
          "base_uri": "https://localhost:8080/"
        }
      },
      "execution_count": 18,
      "outputs": [
        {
          "output_type": "stream",
          "name": "stdout",
          "text": [
            "start\n",
            "stop\n",
            "start\n",
            "stop\n",
            "start\n",
            "stop\n"
          ]
        }
      ]
    },
    {
      "cell_type": "code",
      "source": [
        "for i in range(3):\n",
        "  print('start')\n",
        "print('stop')\n",
        "#startを3回書いてからstopと1回書く"
      ],
      "metadata": {
        "id": "ZojuSK5iTSXC",
        "outputId": "9a5125fd-9d48-4961-e98c-973cc628ac9e",
        "colab": {
          "base_uri": "https://localhost:8080/"
        }
      },
      "execution_count": 19,
      "outputs": [
        {
          "output_type": "stream",
          "name": "stdout",
          "text": [
            "start\n",
            "start\n",
            "start\n",
            "stop\n"
          ]
        }
      ]
    },
    {
      "cell_type": "markdown",
      "source": [
        "インデントの字下げは2文字なら2文字ずつ、4文字なら4文字ずつを守る<br>\n",
        "守らないとエラーになる"
      ],
      "metadata": {
        "id": "YPe9hP6BTn0C"
      }
    },
    {
      "cell_type": "code",
      "source": [
        "for i in range(3):\n",
        "  print('start')\n",
        "    print('stop')"
      ],
      "metadata": {
        "id": "RLak4T10TxEy",
        "outputId": "ca4b7307-4e86-4275-bb18-734f3bf6900a",
        "colab": {
          "base_uri": "https://localhost:8080/",
          "height": 135
        }
      },
      "execution_count": 20,
      "outputs": [
        {
          "output_type": "error",
          "ename": "IndentationError",
          "evalue": "ignored",
          "traceback": [
            "\u001b[0;36m  File \u001b[0;32m\"<ipython-input-20-e27f83412328>\"\u001b[0;36m, line \u001b[0;32m3\u001b[0m\n\u001b[0;31m    print('stop')\u001b[0m\n\u001b[0m    ^\u001b[0m\n\u001b[0;31mIndentationError\u001b[0m\u001b[0;31m:\u001b[0m unexpected indent\n"
          ]
        }
      ]
    },
    {
      "cell_type": "markdown",
      "source": [
        "### コメント\n",
        "1行丸ごとのコメントをブロックコメント<br>\n",
        "プログラムの後に書くのをインラインコメントなんて名前があったんだ<br>"
      ],
      "metadata": {
        "id": "BPsZqCRpT7wS"
      }
    },
    {
      "cell_type": "code",
      "source": [
        "#これはブロックコメント\n",
        "print(\"Hello\")#インラインコメント\n",
        "'''\n",
        "複数行コメント\n",
        "この中は書き放題\n",
        "でもSpyderでこの書き方をするとエラーになる事があったのは何故だろう\n",
        "'''"
      ],
      "metadata": {
        "id": "tgM6eiP8UQUi"
      },
      "execution_count": null,
      "outputs": []
    },
    {
      "cell_type": "markdown",
      "source": [
        "VSCodeでは、複数行を選択してから[ctrl][k]+[ctrl][c]とすると複数行コメントアウトされて<br>\n",
        "コメントアウトされている複数行を選択してから[ctrl][k]+[ctrl][U]とすると複数行コメントアウトが無くなるとのこと<br>"
      ],
      "metadata": {
        "id": "rVfDzfurUpDy"
      }
    },
    {
      "cell_type": "markdown",
      "source": [
        "### 標準コーディングスタイルPEP8"
      ],
      "metadata": {
        "id": "EO8UiBegVFza"
      }
    },
    {
      "cell_type": "code",
      "source": [
        ""
      ],
      "metadata": {
        "id": "swIDuRVkVLsK"
      },
      "execution_count": null,
      "outputs": []
    }
  ]
}