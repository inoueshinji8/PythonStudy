{
  "nbformat": 4,
  "nbformat_minor": 0,
  "metadata": {
    "colab": {
      "name": "PythonCompleteChap1-2.ipynb",
      "provenance": [],
      "authorship_tag": "ABX9TyOcoEM3sAopNEsLNVMprIoV",
      "include_colab_link": true
    },
    "kernelspec": {
      "name": "python3",
      "display_name": "Python 3"
    },
    "language_info": {
      "name": "python"
    }
  },
  "cells": [
    {
      "cell_type": "markdown",
      "metadata": {
        "id": "view-in-github",
        "colab_type": "text"
      },
      "source": [
        "<a href=\"https://colab.research.google.com/github/inoueshinji8/PythonStudy/blob/main/PythonCompleteChap1_2.ipynb\" target=\"_parent\"><img src=\"https://colab.research.google.com/assets/colab-badge.svg\" alt=\"Open In Colab\"/></a>"
      ]
    },
    {
      "cell_type": "markdown",
      "metadata": {
        "id": "w4Zq9Zoj1ygI"
      },
      "source": [
        "## Chap1\n",
        "個人的に納得いかない章<br>\n",
        "Windowsだと公式のPythonとAnacondaは同居できるって書いてある<br>\n",
        "実は前の職場でそれをやってたのだが、物凄く面倒な設定になっていた記憶がある<br>\n",
        "表からは公式からダウンロードしたPythonを動かす事すら出来ない仕様になっていた次第<br>\n",
        "<br>\n",
        "エディタとしてJupyterとVSCodeが挙げられているが、Anacondaを使っているならSpyderか、あるいはAnacondaを立ち上げてからAnaconda Command Promptでidle.exeとするのが一番マシかも知れん"
      ]
    },
    {
      "cell_type": "code",
      "metadata": {
        "id": "bnvKTqyh1rWu"
      },
      "source": [
        ""
      ],
      "execution_count": null,
      "outputs": []
    },
    {
      "cell_type": "markdown",
      "metadata": {
        "id": "mocN7usG28-T"
      },
      "source": [
        "## Chap2\n",
        "まずはコマンドプロンプトで>pythonと入力して対話モードで起動する方法<br>\n",
        "ちょっと計算するだけならいいんだがこれを延々とやっていると嫌になって来る<br>\n",
        "やっぱりちゃんとしたエディタに書いてからまとめて実行した方が総合的には楽だと思う<br>\n",
        "<br>\n",
        "閉じるときのquit()<br>\n",
        "この()を良く忘れちゃうね<br>\n",
        "<br>\n",
        "対話画面でfor文とかif文とかで2行目以降に...ってなるのを二次プロンプトというのか<br>\n",
        "知らなかった<br>\n",
        "<br>\n",
        "次にJupyter使いましょうと出て来る<br>\n",
        "Colaboratoryも似たようなもんだしやってみようよ"
      ]
    },
    {
      "cell_type": "code",
      "metadata": {
        "colab": {
          "base_uri": "https://localhost:8080/"
        },
        "id": "yAUwQj4W3WoQ",
        "outputId": "0c4376b1-c1db-4a7d-8231-730e18d2b6ea"
      },
      "source": [
        "print(1/2 -3)"
      ],
      "execution_count": 1,
      "outputs": [
        {
          "output_type": "stream",
          "name": "stdout",
          "text": [
            "-2.5\n"
          ]
        }
      ]
    },
    {
      "cell_type": "markdown",
      "metadata": {
        "id": "R6chn2cR4ox6"
      },
      "source": [
        "上手く動いてほっとした。-1って出るかと思った。*/は+-より演算子の順位で上、とか決まりがあったな<br>\n",
        "次はfor文を動かす"
      ]
    },
    {
      "cell_type": "code",
      "metadata": {
        "colab": {
          "base_uri": "https://localhost:8080/"
        },
        "id": "RIY3mQNb44oY",
        "outputId": "5ad4cdd8-540c-41ce-b1be-a886b2bff55e"
      },
      "source": [
        "for i in range(10):#慣れないとコロン忘れちゃうんだよねえ\n",
        "#そう言えばrange(10)が0～9というのも慣れが要る\n",
        "  print(i*i)"
      ],
      "execution_count": 2,
      "outputs": [
        {
          "output_type": "stream",
          "name": "stdout",
          "text": [
            "0\n",
            "1\n",
            "4\n",
            "9\n",
            "16\n",
            "25\n",
            "36\n",
            "49\n",
            "64\n",
            "81\n"
          ]
        }
      ]
    },
    {
      "cell_type": "markdown",
      "metadata": {
        "id": "5KgS3Wuc5VZT"
      },
      "source": [
        "次はプログラムの保存だな<br>\n",
        "でもColaboratoryで保存だと自分のGoogle Driveって事になるが<br>\n",
        "後でみんなが見やすいようにGitHubのリポジトリに保存しよう"
      ]
    },
    {
      "cell_type": "code",
      "metadata": {
        "id": "EXEOZ2Ab5nJa"
      },
      "source": [
        ""
      ],
      "execution_count": null,
      "outputs": []
    }
  ]
}